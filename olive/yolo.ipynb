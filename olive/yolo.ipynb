{
 "cells": [
  {
   "cell_type": "code",
   "execution_count": 2,
   "id": "e4e401ab-651d-4f17-b348-02f7c68597f9",
   "metadata": {},
   "outputs": [],
   "source": [
    "import pandas as pd \n",
    "basic_info = pd.read_csv('도서관정보.csv')\n",
    "basic_info_rep = pd.read_csv('대표도서관.csv')"
   ]
  },
  {
   "cell_type": "code",
   "execution_count": 5,
   "id": "ec9c788e-8b02-41c6-8fec-d36a9810425b",
   "metadata": {},
   "outputs": [
    {
     "data": {
      "text/plain": [
       "Unnamed: 0     0\n",
       "LBRRY_CD       0\n",
       "LBRRY_NM       0\n",
       "LBRRY_ADDR     0\n",
       "LBRRY_LA       0\n",
       "LBRRY_LO       0\n",
       "ONE_AREA_NM    0\n",
       "TWO_AREA_NM    0\n",
       "LBRRY_TY_CD    0\n",
       "LBRRY_TY_NM    0\n",
       "REPRSNT_YN     0\n",
       "dtype: int64"
      ]
     },
     "execution_count": 6,
     "metadata": {},
     "output_type": "execute_result"
    }
   ],
   "source": [
    "# null값 확인\n",
    "basic_info.isnull().sum()"
   ]
  },
  {
   "cell_type": "code",
   "execution_count": 7,
   "id": "d8865ac4-6023-42f8-a4df-6c7bcdca24bc",
   "metadata": {},
   "outputs": [
    {
     "data": {
      "text/plain": [
       "Unnamed: 0     0\n",
       "LBRRY_CD       0\n",
       "LBRRY_NM       0\n",
       "LBRRY_ADDR     0\n",
       "LBRRY_LA       0\n",
       "LBRRY_LO       0\n",
       "ONE_AREA_NM    0\n",
       "TWO_AREA_NM    0\n",
       "LBRRY_TY_CD    0\n",
       "LBRRY_TY_NM    0\n",
       "REPRSNT_YN     0\n",
       "dtype: int64"
      ]
     },
     "execution_count": 7,
     "metadata": {},
     "output_type": "execute_result"
    }
   ],
   "source": [
    "basic_info_rep.isnull().sum()"
   ]
  },
  {
   "cell_type": "code",
   "execution_count": 12,
   "id": "6645bfd3-c735-4946-8967-bd25213f9c40",
   "metadata": {},
   "outputs": [],
   "source": [
    "basic_info.drop(columns=\"Unnamed: 0\", axis=1, inplace=True)\n",
    "basic_info_rep.drop(columns=\"Unnamed: 0\", axis=1, inplace=True)"
   ]
  },
  {
   "cell_type": "code",
   "execution_count": 29,
   "id": "1cd5e333-d748-4a9b-b45d-fec8eaf39b65",
   "metadata": {},
   "outputs": [
    {
     "data": {
      "text/html": [
       "<div>\n",
       "<style scoped>\n",
       "    .dataframe tbody tr th:only-of-type {\n",
       "        vertical-align: middle;\n",
       "    }\n",
       "\n",
       "    .dataframe tbody tr th {\n",
       "        vertical-align: top;\n",
       "    }\n",
       "\n",
       "    .dataframe thead th {\n",
       "        text-align: right;\n",
       "    }\n",
       "</style>\n",
       "<table border=\"1\" class=\"dataframe\">\n",
       "  <thead>\n",
       "    <tr style=\"text-align: right;\">\n",
       "      <th></th>\n",
       "      <th>LBRRY_CD</th>\n",
       "      <th>LBRRY_NM</th>\n",
       "      <th>LBRRY_ADDR</th>\n",
       "      <th>LBRRY_LA</th>\n",
       "      <th>LBRRY_LO</th>\n",
       "      <th>ONE_AREA_NM</th>\n",
       "      <th>TWO_AREA_NM</th>\n",
       "      <th>LBRRY_TY_NM</th>\n",
       "    </tr>\n",
       "  </thead>\n",
       "  <tbody>\n",
       "    <tr>\n",
       "      <th>1199</th>\n",
       "      <td>30300</td>\n",
       "      <td>과천시정보과학도서관</td>\n",
       "      <td>경기도 과천시 중앙로24</td>\n",
       "      <td>37.418729</td>\n",
       "      <td>126.989709</td>\n",
       "      <td>경기도</td>\n",
       "      <td>과천시</td>\n",
       "      <td>공공</td>\n",
       "    </tr>\n",
       "  </tbody>\n",
       "</table>\n",
       "</div>"
      ],
      "text/plain": [
       "      LBRRY_CD    LBRRY_NM     LBRRY_ADDR   LBRRY_LA    LBRRY_LO ONE_AREA_NM  \\\n",
       "1199     30300  과천시정보과학도서관  경기도 과천시 중앙로24  37.418729  126.989709         경기도   \n",
       "\n",
       "     TWO_AREA_NM LBRRY_TY_NM  \n",
       "1199         과천시          공공  "
      ]
     },
     "execution_count": 29,
     "metadata": {},
     "output_type": "execute_result"
    }
   ],
   "source": [
    "basic_info[basic_info['LBRRY_CD']==30300\t\t]"
   ]
  },
  {
   "cell_type": "code",
   "execution_count": null,
   "id": "8697765c-ac4b-47e3-9a9d-e2fe61a1552f",
   "metadata": {},
   "outputs": [],
   "source": []
  }
 ],
 "metadata": {
  "kernelspec": {
   "display_name": "Python 3 (ipykernel)",
   "language": "python",
   "name": "python3"
  },
  "language_info": {
   "codemirror_mode": {
    "name": "ipython",
    "version": 3
   },
   "file_extension": ".py",
   "mimetype": "text/x-python",
   "name": "python",
   "nbconvert_exporter": "python",
   "pygments_lexer": "ipython3",
   "version": "3.9.12"
  }
 },
 "nbformat": 4,
 "nbformat_minor": 5
}

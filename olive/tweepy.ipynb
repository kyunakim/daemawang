{
 "cells": [
  {
   "cell_type": "code",
   "execution_count": 1,
   "id": "8d3fbf72-dd68-4944-b350-fbbb5824d9f4",
   "metadata": {},
   "outputs": [
    {
     "name": "stdout",
     "output_type": "stream",
     "text": [
      "Requirement already satisfied: tweepy in /Users/thing/opt/anaconda3/lib/python3.9/site-packages (4.10.0)\n",
      "Requirement already satisfied: requests<3,>=2.27.0 in /Users/thing/opt/anaconda3/lib/python3.9/site-packages (from tweepy) (2.28.1)\n",
      "Requirement already satisfied: oauthlib<4,>=3.2.0 in /Users/thing/opt/anaconda3/lib/python3.9/site-packages (from tweepy) (3.2.0)\n",
      "Requirement already satisfied: requests-oauthlib<2,>=1.2.0 in /Users/thing/opt/anaconda3/lib/python3.9/site-packages (from tweepy) (1.3.1)\n",
      "Requirement already satisfied: certifi>=2017.4.17 in /Users/thing/opt/anaconda3/lib/python3.9/site-packages (from requests<3,>=2.27.0->tweepy) (2022.6.15)\n",
      "Requirement already satisfied: charset-normalizer<3,>=2 in /Users/thing/opt/anaconda3/lib/python3.9/site-packages (from requests<3,>=2.27.0->tweepy) (2.0.4)\n",
      "Requirement already satisfied: urllib3<1.27,>=1.21.1 in /Users/thing/opt/anaconda3/lib/python3.9/site-packages (from requests<3,>=2.27.0->tweepy) (1.26.11)\n",
      "Requirement already satisfied: idna<4,>=2.5 in /Users/thing/opt/anaconda3/lib/python3.9/site-packages (from requests<3,>=2.27.0->tweepy) (3.3)\n",
      "Note: you may need to restart the kernel to use updated packages.\n"
     ]
    }
   ],
   "source": [
    "# 설치 \n",
    "pip install tweepy "
   ]
  },
  {
   "cell_type": "markdown",
   "id": "bebaa809-12b6-4bbd-9a45-1c9ba9796e32",
   "metadata": {
    "jp-MarkdownHeadingCollapsed": true,
    "tags": []
   },
   "source": [
    "```\n",
    "1. 트위터 가입 \n",
    "\n",
    "2. 디벨로퍼계정만들고 API요청 https://developer.twitter.com/en/portal/petition/essential/basic-info\n",
    "\n",
    "3. API key, secret, token 다른 곳에 저장해두기\n",
    "\n",
    "4. 다음 셀 코드로 인증하기\n",
    "```"
   ]
  },
  {
   "cell_type": "code",
   "execution_count": 2,
   "id": "a13ba48e-699d-4cf6-9599-26f54dec55e1",
   "metadata": {},
   "outputs": [
    {
     "ename": "Unauthorized",
     "evalue": "401 Unauthorized\nRead-only application cannot POST.",
     "output_type": "error",
     "traceback": [
      "\u001b[0;31m---------------------------------------------------------------------------\u001b[0m",
      "\u001b[0;31mUnauthorized\u001b[0m                              Traceback (most recent call last)",
      "Input \u001b[0;32mIn [2]\u001b[0m, in \u001b[0;36m<cell line: 18>\u001b[0;34m()\u001b[0m\n\u001b[1;32m     15\u001b[0m api \u001b[38;5;241m=\u001b[39m tweepy\u001b[38;5;241m.\u001b[39mAPI(auth)\n\u001b[1;32m     17\u001b[0m \u001b[38;5;66;03m# 4.퍼블릭 트윗 작성\u001b[39;00m\n\u001b[0;32m---> 18\u001b[0m \u001b[43mapi\u001b[49m\u001b[38;5;241;43m.\u001b[39;49m\u001b[43mupdate_status\u001b[49m\u001b[43m(\u001b[49m\u001b[38;5;124;43m\"\u001b[39;49m\u001b[38;5;124;43m트윗 작성\u001b[39;49m\u001b[38;5;124;43m\"\u001b[39;49m\u001b[43m)\u001b[49m\n",
      "File \u001b[0;32m~/opt/anaconda3/lib/python3.9/site-packages/tweepy/api.py:46\u001b[0m, in \u001b[0;36mpayload.<locals>.decorator.<locals>.wrapper\u001b[0;34m(*args, **kwargs)\u001b[0m\n\u001b[1;32m     44\u001b[0m kwargs[\u001b[38;5;124m'\u001b[39m\u001b[38;5;124mpayload_list\u001b[39m\u001b[38;5;124m'\u001b[39m] \u001b[38;5;241m=\u001b[39m payload_list\n\u001b[1;32m     45\u001b[0m kwargs[\u001b[38;5;124m'\u001b[39m\u001b[38;5;124mpayload_type\u001b[39m\u001b[38;5;124m'\u001b[39m] \u001b[38;5;241m=\u001b[39m payload_type\n\u001b[0;32m---> 46\u001b[0m \u001b[38;5;28;01mreturn\u001b[39;00m \u001b[43mmethod\u001b[49m\u001b[43m(\u001b[49m\u001b[38;5;241;43m*\u001b[39;49m\u001b[43margs\u001b[49m\u001b[43m,\u001b[49m\u001b[43m \u001b[49m\u001b[38;5;241;43m*\u001b[39;49m\u001b[38;5;241;43m*\u001b[39;49m\u001b[43mkwargs\u001b[49m\u001b[43m)\u001b[49m\n",
      "File \u001b[0;32m~/opt/anaconda3/lib/python3.9/site-packages/tweepy/api.py:1136\u001b[0m, in \u001b[0;36mAPI.update_status\u001b[0;34m(self, status, **kwargs)\u001b[0m\n\u001b[1;32m   1133\u001b[0m \u001b[38;5;28;01mif\u001b[39;00m \u001b[38;5;124m'\u001b[39m\u001b[38;5;124mmedia_ids\u001b[39m\u001b[38;5;124m'\u001b[39m \u001b[38;5;129;01min\u001b[39;00m kwargs:\n\u001b[1;32m   1134\u001b[0m     kwargs[\u001b[38;5;124m'\u001b[39m\u001b[38;5;124mmedia_ids\u001b[39m\u001b[38;5;124m'\u001b[39m] \u001b[38;5;241m=\u001b[39m list_to_csv(kwargs[\u001b[38;5;124m'\u001b[39m\u001b[38;5;124mmedia_ids\u001b[39m\u001b[38;5;124m'\u001b[39m])\n\u001b[0;32m-> 1136\u001b[0m \u001b[38;5;28;01mreturn\u001b[39;00m \u001b[38;5;28;43mself\u001b[39;49m\u001b[38;5;241;43m.\u001b[39;49m\u001b[43mrequest\u001b[49m\u001b[43m(\u001b[49m\n\u001b[1;32m   1137\u001b[0m \u001b[43m    \u001b[49m\u001b[38;5;124;43m'\u001b[39;49m\u001b[38;5;124;43mPOST\u001b[39;49m\u001b[38;5;124;43m'\u001b[39;49m\u001b[43m,\u001b[49m\u001b[43m \u001b[49m\u001b[38;5;124;43m'\u001b[39;49m\u001b[38;5;124;43mstatuses/update\u001b[39;49m\u001b[38;5;124;43m'\u001b[39;49m\u001b[43m,\u001b[49m\u001b[43m \u001b[49m\u001b[43mendpoint_parameters\u001b[49m\u001b[38;5;241;43m=\u001b[39;49m\u001b[43m(\u001b[49m\n\u001b[1;32m   1138\u001b[0m \u001b[43m        \u001b[49m\u001b[38;5;124;43m'\u001b[39;49m\u001b[38;5;124;43mstatus\u001b[39;49m\u001b[38;5;124;43m'\u001b[39;49m\u001b[43m,\u001b[49m\u001b[43m \u001b[49m\u001b[38;5;124;43m'\u001b[39;49m\u001b[38;5;124;43min_reply_to_status_id\u001b[39;49m\u001b[38;5;124;43m'\u001b[39;49m\u001b[43m,\u001b[49m\n\u001b[1;32m   1139\u001b[0m \u001b[43m        \u001b[49m\u001b[38;5;124;43m'\u001b[39;49m\u001b[38;5;124;43mauto_populate_reply_metadata\u001b[39;49m\u001b[38;5;124;43m'\u001b[39;49m\u001b[43m,\u001b[49m\u001b[43m \u001b[49m\u001b[38;5;124;43m'\u001b[39;49m\u001b[38;5;124;43mexclude_reply_user_ids\u001b[39;49m\u001b[38;5;124;43m'\u001b[39;49m\u001b[43m,\u001b[49m\n\u001b[1;32m   1140\u001b[0m \u001b[43m        \u001b[49m\u001b[38;5;124;43m'\u001b[39;49m\u001b[38;5;124;43mattachment_url\u001b[39;49m\u001b[38;5;124;43m'\u001b[39;49m\u001b[43m,\u001b[49m\u001b[43m \u001b[49m\u001b[38;5;124;43m'\u001b[39;49m\u001b[38;5;124;43mmedia_ids\u001b[39;49m\u001b[38;5;124;43m'\u001b[39;49m\u001b[43m,\u001b[49m\u001b[43m \u001b[49m\u001b[38;5;124;43m'\u001b[39;49m\u001b[38;5;124;43mpossibly_sensitive\u001b[39;49m\u001b[38;5;124;43m'\u001b[39;49m\u001b[43m,\u001b[49m\u001b[43m \u001b[49m\u001b[38;5;124;43m'\u001b[39;49m\u001b[38;5;124;43mlat\u001b[39;49m\u001b[38;5;124;43m'\u001b[39;49m\u001b[43m,\u001b[49m\n\u001b[1;32m   1141\u001b[0m \u001b[43m        \u001b[49m\u001b[38;5;124;43m'\u001b[39;49m\u001b[38;5;124;43mlong\u001b[39;49m\u001b[38;5;124;43m'\u001b[39;49m\u001b[43m,\u001b[49m\u001b[43m \u001b[49m\u001b[38;5;124;43m'\u001b[39;49m\u001b[38;5;124;43mplace_id\u001b[39;49m\u001b[38;5;124;43m'\u001b[39;49m\u001b[43m,\u001b[49m\u001b[43m \u001b[49m\u001b[38;5;124;43m'\u001b[39;49m\u001b[38;5;124;43mdisplay_coordinates\u001b[39;49m\u001b[38;5;124;43m'\u001b[39;49m\u001b[43m,\u001b[49m\u001b[43m \u001b[49m\u001b[38;5;124;43m'\u001b[39;49m\u001b[38;5;124;43mtrim_user\u001b[39;49m\u001b[38;5;124;43m'\u001b[39;49m\u001b[43m,\u001b[49m\n\u001b[1;32m   1142\u001b[0m \u001b[43m        \u001b[49m\u001b[38;5;124;43m'\u001b[39;49m\u001b[38;5;124;43mcard_uri\u001b[39;49m\u001b[38;5;124;43m'\u001b[39;49m\n\u001b[1;32m   1143\u001b[0m \u001b[43m    \u001b[49m\u001b[43m)\u001b[49m\u001b[43m,\u001b[49m\u001b[43m \u001b[49m\u001b[43mstatus\u001b[49m\u001b[38;5;241;43m=\u001b[39;49m\u001b[43mstatus\u001b[49m\u001b[43m,\u001b[49m\u001b[43m \u001b[49m\u001b[38;5;241;43m*\u001b[39;49m\u001b[38;5;241;43m*\u001b[39;49m\u001b[43mkwargs\u001b[49m\n\u001b[1;32m   1144\u001b[0m \u001b[43m\u001b[49m\u001b[43m)\u001b[49m\n",
      "File \u001b[0;32m~/opt/anaconda3/lib/python3.9/site-packages/tweepy/api.py:257\u001b[0m, in \u001b[0;36mAPI.request\u001b[0;34m(self, method, endpoint, endpoint_parameters, params, headers, json_payload, parser, payload_list, payload_type, post_data, files, require_auth, return_cursors, upload_api, use_cache, **kwargs)\u001b[0m\n\u001b[1;32m    255\u001b[0m     \u001b[38;5;28;01mraise\u001b[39;00m BadRequest(resp)\n\u001b[1;32m    256\u001b[0m \u001b[38;5;28;01mif\u001b[39;00m resp\u001b[38;5;241m.\u001b[39mstatus_code \u001b[38;5;241m==\u001b[39m \u001b[38;5;241m401\u001b[39m:\n\u001b[0;32m--> 257\u001b[0m     \u001b[38;5;28;01mraise\u001b[39;00m Unauthorized(resp)\n\u001b[1;32m    258\u001b[0m \u001b[38;5;28;01mif\u001b[39;00m resp\u001b[38;5;241m.\u001b[39mstatus_code \u001b[38;5;241m==\u001b[39m \u001b[38;5;241m403\u001b[39m:\n\u001b[1;32m    259\u001b[0m     \u001b[38;5;28;01mraise\u001b[39;00m Forbidden(resp)\n",
      "\u001b[0;31mUnauthorized\u001b[0m: 401 Unauthorized\nRead-only application cannot POST."
     ]
    }
   ],
   "source": [
    "import tweepy\n",
    "\n",
    "API_KEY = \"XG6gKjOfXDB9YZujppqbHirUV\"\n",
    "API_KEY_SECRET = \"wxEof9zEzzQgV7drQ9Q3IbEQDsq1nt6DiOp7e1Wx0PO2IqkQuK\"\n",
    "\n",
    "ACCESS_TOKEN = \"1560081363646431232-sGaSpKDwAQadRHs9vkF69zMZlPcxqc\"\n",
    "ACCESS_SECRET = \"VeB6lloensZS1oGXLWJYWXEUY6btOq7sVLkuZQFW1K5w4\"\n",
    "\n",
    "# 3. OAuth1\n",
    "# 3-1. OAuthHandler 인스턴스를 생성, 변수에 저장한 API 키를 집어넣고, 마지막 콜백함수 자리에 'oob'를 입력한다.\n",
    "auth = tweepy.OAuthHandler(API_KEY, API_KEY_SECRET, callback='oob') \n",
    "# 3-2. OAuthHandler 인스턴스에 ACCESS, ACCESS SECRET 토큰 세팅 \n",
    "auth.set_access_token(ACCESS_TOKEN, ACCESS_SECRET)\n",
    "# 3-3. Twitter API wrapper 생성\n",
    "api = tweepy.API(auth)\n",
    "\n",
    "# 4.퍼블릭 트윗 작성\n",
    "api.update_status(\"트윗 작성\")"
   ]
  },
  {
   "cell_type": "code",
   "execution_count": 4,
   "id": "fe49bee8-ae4b-432f-8d18-a4efc251718b",
   "metadata": {},
   "outputs": [],
   "source": [
    "import tweepy\n",
    "\n",
    "auth = tweepy.OAuth1UserHandler(\n",
    "    API_KEY, API_KEY_SECRET, ACCESS_TOKEN, ACCESS_SECRET\n",
    ")\n",
    "api = tweepy.API(auth)"
   ]
  },
  {
   "cell_type": "markdown",
   "id": "efa2c8e7-b676-4851-8c53-28ad431f8de4",
   "metadata": {},
   "source": [
    "### Timeline"
   ]
  },
  {
   "cell_type": "code",
   "execution_count": 5,
   "id": "45a439d1-a7ef-488c-babc-684d08f50d27",
   "metadata": {},
   "outputs": [
    {
     "name": "stdout",
     "output_type": "stream",
     "text": [
      "750g이던 이 고양이는 커서...(더보기) https://t.co/rRQp8qhhJd 출처 @YouTube https://t.co/7qb6dKTkeF\n",
      "(실례가안된다면츄르하나만사주십시오)\n",
      "          \\/ https://t.co/WT2rHcxDYY\n",
      "기분좋은표정 https://t.co/YCvlQPaABG\n",
      "세계야옹이의날🫶🐾 https://t.co/TMl2H9oOP1\n",
      "동글이 15시간 굶고 세모 될 뻔한 날 https://t.co/oc86r3YDdK 출처 @YouTube https://t.co/P00NNbuB5l\n",
      "싸나이 김동글 \n",
      "가짜 새들 따위한텐 관심 없음 https://t.co/UKk4pb5s3j\n",
      "동글이가 술래 https://t.co/Ae438l13iu\n",
      "https://t.co/aYogvGG7zS\n",
      "동글이@장난감한테 하악질함 ㅠㅠㅋㅋㅋ https://t.co/HvR9P9RRG9\n",
      "도파민 중독 고양이 https://t.co/pum2JGLqiS 출처 @YouTube https://t.co/UvRbaLCqHi\n",
      "https://t.co/qLajA8IagS\n",
      "아기 https://t.co/RSeHL3tDfS\n",
      "메롱메롱메롱메롱 https://t.co/WqnTN11UW3\n",
      "엘레강스 캣 https://t.co/T6DHIB75RE\n",
      "동글이의 새집 적응기\n",
      "https://t.co/jozTQ993dc https://t.co/gb2MPhwh31\n",
      "https://t.co/qN4mSeuVmc\n",
      "너무 기요워 😍 https://t.co/2mkASHjojW\n",
      "물멍 https://t.co/PNAiBzux91\n",
      "https://t.co/wanN3y7avM\n",
      "동글이 친구랑 뽀뽀하세요\n",
      "동글:시러잇 https://t.co/pcj1btTQfS\n"
     ]
    }
   ],
   "source": [
    "# 타임라인 트윗 가져오기 \n",
    "public_tweets = api.home_timeline()\n",
    "for tweet in public_tweets:\n",
    "    print(tweet.text)"
   ]
  },
  {
   "cell_type": "markdown",
   "id": "67a1f272-b854-4ce0-a8dd-f1386dd9c4fb",
   "metadata": {},
   "source": [
    "### Stream"
   ]
  },
  {
   "cell_type": "code",
   "execution_count": 10,
   "id": "115d1aee-847e-4477-a5b5-d389f4dfc39c",
   "metadata": {},
   "outputs": [],
   "source": [
    "import tweepy\n",
    "\n",
    "import tweepy\n",
    "\n",
    "stream = tweepy.Stream(\n",
    "   \"XG6gKjOfXDB9YZujppqbHirUV\", \"wxEof9zEzzQgV7drQ9Q3IbEQDsq1nt6DiOp7e1Wx0PO2IqkQuK\",\n",
    "   \"1560081363646431232-sGaSpKDwAQadRHs9vkF69zMZlPcxqc\", \"VeB6lloensZS1oGXLWJYWXEUY6btOq7sVLkuZQFW1K5w4\"\n",
    ")"
   ]
  },
  {
   "cell_type": "code",
   "execution_count": 7,
   "id": "08430cff-a1cf-4a7b-b692-7a1831c7123e",
   "metadata": {},
   "outputs": [
    {
     "name": "stderr",
     "output_type": "stream",
     "text": [
      "Stream encountered HTTP error: 401\n"
     ]
    },
    {
     "ename": "KeyboardInterrupt",
     "evalue": "",
     "output_type": "error",
     "traceback": [
      "\u001b[0;31m---------------------------------------------------------------------------\u001b[0m",
      "\u001b[0;31mKeyboardInterrupt\u001b[0m                         Traceback (most recent call last)",
      "Input \u001b[0;32mIn [9]\u001b[0m, in \u001b[0;36m<cell line: 1>\u001b[0;34m()\u001b[0m\n\u001b[0;32m----> 1\u001b[0m \u001b[43mstream\u001b[49m\u001b[38;5;241;43m.\u001b[39;49m\u001b[43mfilter\u001b[49m\u001b[43m(\u001b[49m\u001b[43mtrack\u001b[49m\u001b[38;5;241;43m=\u001b[39;49m\u001b[43m[\u001b[49m\u001b[38;5;124;43m\"\u001b[39;49m\u001b[38;5;124;43mTweepy\u001b[39;49m\u001b[38;5;124;43m\"\u001b[39;49m\u001b[43m]\u001b[49m\u001b[43m)\u001b[49m\n",
      "File \u001b[0;32m~/opt/anaconda3/lib/python3.9/site-packages/tweepy/streaming.py:365\u001b[0m, in \u001b[0;36mStream.filter\u001b[0;34m(self, follow, track, locations, filter_level, languages, stall_warnings, threaded)\u001b[0m\n\u001b[1;32m    362\u001b[0m     \u001b[38;5;28;01mreturn\u001b[39;00m \u001b[38;5;28mself\u001b[39m\u001b[38;5;241m.\u001b[39m_threaded_connect(method, endpoint, headers\u001b[38;5;241m=\u001b[39mheaders,\n\u001b[1;32m    363\u001b[0m                                   body\u001b[38;5;241m=\u001b[39mbody)\n\u001b[1;32m    364\u001b[0m \u001b[38;5;28;01melse\u001b[39;00m:\n\u001b[0;32m--> 365\u001b[0m     \u001b[38;5;28;43mself\u001b[39;49m\u001b[38;5;241;43m.\u001b[39;49m\u001b[43m_connect\u001b[49m\u001b[43m(\u001b[49m\u001b[43mmethod\u001b[49m\u001b[43m,\u001b[49m\u001b[43m \u001b[49m\u001b[43mendpoint\u001b[49m\u001b[43m,\u001b[49m\u001b[43m \u001b[49m\u001b[43mheaders\u001b[49m\u001b[38;5;241;43m=\u001b[39;49m\u001b[43mheaders\u001b[49m\u001b[43m,\u001b[49m\u001b[43m \u001b[49m\u001b[43mbody\u001b[49m\u001b[38;5;241;43m=\u001b[39;49m\u001b[43mbody\u001b[49m\u001b[43m)\u001b[49m\n",
      "File \u001b[0;32m~/opt/anaconda3/lib/python3.9/site-packages/tweepy/streaming.py:272\u001b[0m, in \u001b[0;36mStream._connect\u001b[0;34m(self, method, endpoint, **kwargs)\u001b[0m\n\u001b[1;32m    269\u001b[0m auth \u001b[38;5;241m=\u001b[39m OAuth1(\u001b[38;5;28mself\u001b[39m\u001b[38;5;241m.\u001b[39mconsumer_key, \u001b[38;5;28mself\u001b[39m\u001b[38;5;241m.\u001b[39mconsumer_secret,\n\u001b[1;32m    270\u001b[0m               \u001b[38;5;28mself\u001b[39m\u001b[38;5;241m.\u001b[39maccess_token, \u001b[38;5;28mself\u001b[39m\u001b[38;5;241m.\u001b[39maccess_token_secret)\n\u001b[1;32m    271\u001b[0m url \u001b[38;5;241m=\u001b[39m \u001b[38;5;124mf\u001b[39m\u001b[38;5;124m\"\u001b[39m\u001b[38;5;124mhttps://stream.twitter.com/1.1/\u001b[39m\u001b[38;5;132;01m{\u001b[39;00mendpoint\u001b[38;5;132;01m}\u001b[39;00m\u001b[38;5;124m.json\u001b[39m\u001b[38;5;124m\"\u001b[39m\n\u001b[0;32m--> 272\u001b[0m \u001b[38;5;28;43msuper\u001b[39;49m\u001b[43m(\u001b[49m\u001b[43m)\u001b[49m\u001b[38;5;241;43m.\u001b[39;49m\u001b[43m_connect\u001b[49m\u001b[43m(\u001b[49m\u001b[43mmethod\u001b[49m\u001b[43m,\u001b[49m\u001b[43m \u001b[49m\u001b[43murl\u001b[49m\u001b[43m,\u001b[49m\u001b[43m \u001b[49m\u001b[43mauth\u001b[49m\u001b[38;5;241;43m=\u001b[39;49m\u001b[43mauth\u001b[49m\u001b[43m,\u001b[49m\u001b[43m \u001b[49m\u001b[38;5;241;43m*\u001b[39;49m\u001b[38;5;241;43m*\u001b[39;49m\u001b[43mkwargs\u001b[49m\u001b[43m)\u001b[49m\n",
      "File \u001b[0;32m~/opt/anaconda3/lib/python3.9/site-packages/tweepy/streaming.py:110\u001b[0m, in \u001b[0;36mBaseStream._connect\u001b[0;34m(self, method, url, auth, params, headers, body)\u001b[0m\n\u001b[1;32m    107\u001b[0m     \u001b[38;5;28;01mif\u001b[39;00m http_error_wait \u001b[38;5;241m<\u001b[39m http_420_error_wait_start:\n\u001b[1;32m    108\u001b[0m         http_error_wait \u001b[38;5;241m=\u001b[39m http_420_error_wait_start\n\u001b[0;32m--> 110\u001b[0m \u001b[43msleep\u001b[49m\u001b[43m(\u001b[49m\u001b[43mhttp_error_wait\u001b[49m\u001b[43m)\u001b[49m\n\u001b[1;32m    112\u001b[0m http_error_wait \u001b[38;5;241m*\u001b[39m\u001b[38;5;241m=\u001b[39m \u001b[38;5;241m2\u001b[39m\n\u001b[1;32m    113\u001b[0m \u001b[38;5;28;01mif\u001b[39;00m http_error_wait \u001b[38;5;241m>\u001b[39m http_error_wait_max:\n",
      "\u001b[0;31mKeyboardInterrupt\u001b[0m: "
     ]
    }
   ],
   "source": [
    "stream.filter(track=[\"Tweepy\"])"
   ]
  },
  {
   "cell_type": "code",
   "execution_count": 15,
   "id": "825a83dc-eea3-4206-a566-66630300dca9",
   "metadata": {},
   "outputs": [],
   "source": [
    "###검색API획득"
   ]
  },
  {
   "cell_type": "code",
   "execution_count": 29,
   "id": "71134cec-ab80-483c-bb7f-faebc30930aa",
   "metadata": {},
   "outputs": [
    {
     "name": "stdout",
     "output_type": "stream",
     "text": [
      "Auth OK\n",
      "                tweetId                                     userName  \\\n",
      "0   1560166692952629249                      The Itsy Bitsy Bookshop   \n",
      "1   1560166675764326400                              FranklyMyDear22   \n",
      "2   1560166666843131907                                𝐎𝐤𝐞 𝐆𝐮𝐭𝐢𝐞𝐫𝐫𝐞𝐳   \n",
      "3   1560166662355156992                                    📖 Lapis ☕   \n",
      "4   1560166660245360641                       𝐊𝐈𝐂𝐂𝐇𝐀 𝐅𝐀𝐍'𝐒 (𝐑𝐚𝐢𝐜𝐡𝐮𝐫)   \n",
      "..                  ...                                          ...   \n",
      "95  1560165697388511232                                  Kool Breeze   \n",
      "96  1560165694775386112                            Magnus K. Stubman   \n",
      "97  1560165686353207296  Patricia Gallo🆘✍️ #HandMarkedPaperBallots✍️   \n",
      "98  1560165674500202498      FloridaKeysDems DemCastFL Lead ☮️ OVFL💔   \n",
      "99  1560165662810521600                               🚀 Captian Jo 🚀   \n",
      "\n",
      "                   createdAt  \\\n",
      "0  2022-08-18 07:28:20+00:00   \n",
      "1  2022-08-18 07:28:16+00:00   \n",
      "2  2022-08-18 07:28:14+00:00   \n",
      "3  2022-08-18 07:28:13+00:00   \n",
      "4  2022-08-18 07:28:12+00:00   \n",
      "..                       ...   \n",
      "95 2022-08-18 07:24:23+00:00   \n",
      "96 2022-08-18 07:24:22+00:00   \n",
      "97 2022-08-18 07:24:20+00:00   \n",
      "98 2022-08-18 07:24:17+00:00   \n",
      "99 2022-08-18 07:24:15+00:00   \n",
      "\n",
      "                                                 text  \n",
      "0   b'Love supporting my community! I donated thes...  \n",
      "1   b'RT @archeohistories: More than 600 years bef...  \n",
      "2   b'RT @ericjpringle: \\xc2\\xa1Mucha Lucha! aired...  \n",
      "3   b'RT @archeohistories: More than 600 years bef...  \n",
      "4   b'RT @AadiSudeepian_: I think in the history o...  \n",
      "..                                                ...  \n",
      "95  b'RT @archeohistories: More than 600 years bef...  \n",
      "96  b'RT @ORCA10K: released a stable library that ...  \n",
      "97  b'RT @deejaydee: OMG, I just picked up my sist...  \n",
      "98  b'RT @NBCOUT: Residents of a small town in wes...  \n",
      "99  b\"RT @MadRadhu: Any movie older than 30 years ...  \n",
      "\n",
      "[100 rows x 4 columns]\n"
     ]
    }
   ],
   "source": [
    "# tweepy 및 필요 라이브러리 임포트\n",
    "import tweepy\n",
    "import pandas as pd\n",
    "\n",
    "# 토큰키 정보 입력\n",
    "ConsumerKey = 'XG6gKjOfXDB9YZujppqbHirUV'\n",
    "ConsumerKeySecret = 'wxEof9zEzzQgV7drQ9Q3IbEQDsq1nt6DiOp7e1Wx0PO2IqkQuK'\n",
    "AccessToken = '1560081363646431232-sGaSpKDwAQadRHs9vkF69zMZlPcxqc'\n",
    "AccessTokenSecret = 'VeB6lloensZS1oGXLWJYWXEUY6btOq7sVLkuZQFW1K5w4'\n",
    "\n",
    "# 인증 정보\n",
    "auth = tweepy.OAuthHandler(ConsumerKey, ConsumerKeySecret)\n",
    "auth.set_access_token(AccessToken, AccessTokenSecret)\n",
    "api = tweepy.API(auth)\n",
    "\n",
    "# 인증 시도\n",
    "try:\n",
    "   api.verify_credentials()\n",
    "   print('Auth OK')\n",
    "except:\n",
    "   print('Auth Error')\n",
    "\n",
    "# 트윗 컬렉트\n",
    "query = 'library'\n",
    "tweets = api.search_tweets(q=query, count=100, lang='en')           # tweepy reference 참고해 더 많은 필터 넣을 수 있음\n",
    "\n",
    "# 데이터프레임에 넣기\n",
    "df_tweets = pd.DataFrame()\n",
    "df_tweets['tweetId'] = [tweet.id for tweet in tweets]\n",
    "df_tweets['userName'] = [tweet.user.name for tweet in tweets]\n",
    "df_tweets['createdAt'] = [tweet.created_at for tweet in tweets]\n",
    "df_tweets['text'] = [tweet.text.encode('utf-8') for tweet in tweets]\n",
    "\n",
    "print(df_tweets)"
   ]
  },
  {
   "cell_type": "code",
   "execution_count": 17,
   "id": "86fd4855-156b-4536-946a-d1ced796b01b",
   "metadata": {},
   "outputs": [
    {
     "ename": "NameError",
     "evalue": "name 'json' is not defined",
     "output_type": "error",
     "traceback": [
      "\u001b[0;31m---------------------------------------------------------------------------\u001b[0m",
      "\u001b[0;31mNameError\u001b[0m                                 Traceback (most recent call last)",
      "Input \u001b[0;32mIn [17]\u001b[0m, in \u001b[0;36m<cell line: 1>\u001b[0;34m()\u001b[0m\n\u001b[0;32m----> 1\u001b[0m tweets \u001b[38;5;241m=\u001b[39m \u001b[43mgetTwitterData\u001b[49m\u001b[43m(\u001b[49m\u001b[38;5;124;43m\"\u001b[39;49m\u001b[38;5;124;43m정신적 쾌락 절정\u001b[39;49m\u001b[38;5;124;43m\"\u001b[39;49m\u001b[43m,\u001b[49m\u001b[43m \u001b[49m\u001b[38;5;241;43m100\u001b[39;49m\u001b[43m)\u001b[49m\n",
      "Input \u001b[0;32mIn [16]\u001b[0m, in \u001b[0;36mgetTwitterData\u001b[0;34m(key_word, repeat)\u001b[0m\n\u001b[1;32m     26\u001b[0m         res \u001b[38;5;241m=\u001b[39m twitter\u001b[38;5;241m.\u001b[39mget(url, params \u001b[38;5;241m=\u001b[39m params)\n\u001b[1;32m     27\u001b[0m         \u001b[38;5;28;01mif\u001b[39;00m res\u001b[38;5;241m.\u001b[39mstatus_code \u001b[38;5;241m==\u001b[39m \u001b[38;5;241m200\u001b[39m:\n\u001b[0;32m---> 28\u001b[0m             sub_tweets \u001b[38;5;241m=\u001b[39m \u001b[43mjson\u001b[49m\u001b[38;5;241m.\u001b[39mloads(res\u001b[38;5;241m.\u001b[39mtext)[\u001b[38;5;124m'\u001b[39m\u001b[38;5;124mstatuses\u001b[39m\u001b[38;5;124m'\u001b[39m]\n\u001b[1;32m     29\u001b[0m             limit \u001b[38;5;241m=\u001b[39m res\u001b[38;5;241m.\u001b[39mheaders[\u001b[38;5;124m'\u001b[39m\u001b[38;5;124mx-rate-limit-remaining\u001b[39m\u001b[38;5;124m'\u001b[39m] \u001b[38;5;28;01mif\u001b[39;00m \u001b[38;5;124m'\u001b[39m\u001b[38;5;124mx-rate-limit-remaining\u001b[39m\u001b[38;5;124m'\u001b[39m \u001b[38;5;129;01min\u001b[39;00m res\u001b[38;5;241m.\u001b[39mheaders \u001b[38;5;28;01melse\u001b[39;00m \u001b[38;5;241m0\u001b[39m\n\u001b[1;32m     30\u001b[0m \u001b[38;5;66;03m#            print(\"API残接続可能回数：%s\" % len(limit))            \u001b[39;00m\n",
      "\u001b[0;31mNameError\u001b[0m: name 'json' is not defined"
     ]
    }
   ],
   "source": [
    "tweets = getTwitterData(\"정신적 쾌락 절정\", 100)"
   ]
  },
  {
   "cell_type": "code",
   "execution_count": 30,
   "id": "c7713b8d-43ca-46bb-902e-ac11454869d9",
   "metadata": {},
   "outputs": [
    {
     "name": "stdout",
     "output_type": "stream",
     "text": [
      "Collecting snscrape\n",
      "  Downloading snscrape-0.4.3.20220106-py3-none-any.whl (59 kB)\n",
      "\u001b[2K     \u001b[90m━━━━━━━━━━━━━━━━━━━━━━━━━━━━━━━━━━━━━━━━\u001b[0m \u001b[32m59.1/59.1 kB\u001b[0m \u001b[31m1.6 MB/s\u001b[0m eta \u001b[36m0:00:00\u001b[0m\n",
      "\u001b[?25hRequirement already satisfied: lxml in /Users/thing/opt/anaconda3/lib/python3.9/site-packages (from snscrape) (4.9.1)\n",
      "Requirement already satisfied: filelock in /Users/thing/opt/anaconda3/lib/python3.9/site-packages (from snscrape) (3.6.0)\n",
      "Requirement already satisfied: beautifulsoup4 in /Users/thing/opt/anaconda3/lib/python3.9/site-packages (from snscrape) (4.11.1)\n",
      "Requirement already satisfied: requests[socks] in /Users/thing/opt/anaconda3/lib/python3.9/site-packages (from snscrape) (2.28.1)\n",
      "Requirement already satisfied: soupsieve>1.2 in /Users/thing/opt/anaconda3/lib/python3.9/site-packages (from beautifulsoup4->snscrape) (2.3.1)\n",
      "Requirement already satisfied: urllib3<1.27,>=1.21.1 in /Users/thing/opt/anaconda3/lib/python3.9/site-packages (from requests[socks]->snscrape) (1.26.11)\n",
      "Requirement already satisfied: idna<4,>=2.5 in /Users/thing/opt/anaconda3/lib/python3.9/site-packages (from requests[socks]->snscrape) (3.3)\n",
      "Requirement already satisfied: certifi>=2017.4.17 in /Users/thing/opt/anaconda3/lib/python3.9/site-packages (from requests[socks]->snscrape) (2022.6.15)\n",
      "Requirement already satisfied: charset-normalizer<3,>=2 in /Users/thing/opt/anaconda3/lib/python3.9/site-packages (from requests[socks]->snscrape) (2.0.4)\n",
      "Requirement already satisfied: PySocks!=1.5.7,>=1.5.6 in /Users/thing/opt/anaconda3/lib/python3.9/site-packages (from requests[socks]->snscrape) (1.7.1)\n",
      "Installing collected packages: snscrape\n",
      "Successfully installed snscrape-0.4.3.20220106\n"
     ]
    }
   ],
   "source": [
    "!pip install snscrape"
   ]
  },
  {
   "cell_type": "code",
   "execution_count": 36,
   "id": "1dccbd45-2e92-4c4a-9696-cf10852204a9",
   "metadata": {},
   "outputs": [
    {
     "data": {
      "text/html": [
       "<div>\n",
       "<style scoped>\n",
       "    .dataframe tbody tr th:only-of-type {\n",
       "        vertical-align: middle;\n",
       "    }\n",
       "\n",
       "    .dataframe tbody tr th {\n",
       "        vertical-align: top;\n",
       "    }\n",
       "\n",
       "    .dataframe thead th {\n",
       "        text-align: right;\n",
       "    }\n",
       "</style>\n",
       "<table border=\"1\" class=\"dataframe\">\n",
       "  <thead>\n",
       "    <tr style=\"text-align: right;\">\n",
       "      <th></th>\n",
       "      <th>Datetime</th>\n",
       "      <th>Text</th>\n",
       "      <th>Like</th>\n",
       "    </tr>\n",
       "  </thead>\n",
       "  <tbody>\n",
       "    <tr>\n",
       "      <th>0</th>\n",
       "      <td>2022-08-17 23:46:35+00:00</td>\n",
       "      <td>🌸\\n홍대 도서관 이슬톡톡복숭아 인간 \\n👧</td>\n",
       "      <td>0</td>\n",
       "    </tr>\n",
       "    <tr>\n",
       "      <th>1</th>\n",
       "      <td>2022-08-17 15:48:44+00:00</td>\n",
       "      <td>활력녹용단\\n김제용역\\n무명천할머니\\n서울도서관\\n의왕시사우나\\n진천군노래방\\n장성...</td>\n",
       "      <td>0</td>\n",
       "    </tr>\n",
       "    <tr>\n",
       "      <th>2</th>\n",
       "      <td>2022-08-17 15:08:29+00:00</td>\n",
       "      <td>코엑스 별마당 도서관, 거대한 책탑 도서관 서울 코엑스 실내 놀거리 북캉스 무료 h...</td>\n",
       "      <td>0</td>\n",
       "    </tr>\n",
       "    <tr>\n",
       "      <th>3</th>\n",
       "      <td>2022-08-17 14:22:21+00:00</td>\n",
       "      <td>오늘은 비가 종일 내려서 표선도서관에서 황정은의 '백의 그림자'를 빌려 읽었다. 정...</td>\n",
       "      <td>4</td>\n",
       "    </tr>\n",
       "    <tr>\n",
       "      <th>4</th>\n",
       "      <td>2022-08-17 10:21:01+00:00</td>\n",
       "      <td>서울식물원 씨앗도서관에서 리아트리스랑 강낭콩 대여해왔다~~! https://t.co...</td>\n",
       "      <td>2</td>\n",
       "    </tr>\n",
       "    <tr>\n",
       "      <th>...</th>\n",
       "      <td>...</td>\n",
       "      <td>...</td>\n",
       "      <td>...</td>\n",
       "    </tr>\n",
       "    <tr>\n",
       "      <th>1265</th>\n",
       "      <td>2022-01-03 02:28:28+00:00</td>\n",
       "      <td>서울 구로구 ‘시끄러운 도서관’에서는 누구나 뛰어다니고, 소리 질러도 된다. 서서 ...</td>\n",
       "      <td>884</td>\n",
       "    </tr>\n",
       "    <tr>\n",
       "      <th>1266</th>\n",
       "      <td>2022-01-03 02:12:01+00:00</td>\n",
       "      <td>새해 첫 #월요일, 힘차게 출발!🙌\\n#다시뛰는서울 #2⃣0⃣2⃣2⃣\\n#새해복많이...</td>\n",
       "      <td>28</td>\n",
       "    </tr>\n",
       "    <tr>\n",
       "      <th>1267</th>\n",
       "      <td>2022-01-03 00:11:24+00:00</td>\n",
       "      <td>서울 한복판 용산, 도처에 오욕의 역사가 담겨 있는 민족 수난의 현장. 일제 식민지...</td>\n",
       "      <td>51</td>\n",
       "    </tr>\n",
       "    <tr>\n",
       "      <th>1268</th>\n",
       "      <td>2022-01-02 09:12:05+00:00</td>\n",
       "      <td>지금 닭도리탕 소스랑 닭곰탕하고 김치랑 밥 1 리터 분량 2 통 먹고는 나는 지금 ...</td>\n",
       "      <td>0</td>\n",
       "    </tr>\n",
       "    <tr>\n",
       "      <th>1269</th>\n",
       "      <td>2022-01-01 23:49:08+00:00</td>\n",
       "      <td>순천향대 서울병원, '찾아 가는 도서관' 서비스 진행</td>\n",
       "      <td>0</td>\n",
       "    </tr>\n",
       "  </tbody>\n",
       "</table>\n",
       "<p>1270 rows × 3 columns</p>\n",
       "</div>"
      ],
      "text/plain": [
       "                      Datetime  \\\n",
       "0    2022-08-17 23:46:35+00:00   \n",
       "1    2022-08-17 15:48:44+00:00   \n",
       "2    2022-08-17 15:08:29+00:00   \n",
       "3    2022-08-17 14:22:21+00:00   \n",
       "4    2022-08-17 10:21:01+00:00   \n",
       "...                        ...   \n",
       "1265 2022-01-03 02:28:28+00:00   \n",
       "1266 2022-01-03 02:12:01+00:00   \n",
       "1267 2022-01-03 00:11:24+00:00   \n",
       "1268 2022-01-02 09:12:05+00:00   \n",
       "1269 2022-01-01 23:49:08+00:00   \n",
       "\n",
       "                                                   Text  Like  \n",
       "0                              🌸\\n홍대 도서관 이슬톡톡복숭아 인간 \\n👧     0  \n",
       "1     활력녹용단\\n김제용역\\n무명천할머니\\n서울도서관\\n의왕시사우나\\n진천군노래방\\n장성...     0  \n",
       "2     코엑스 별마당 도서관, 거대한 책탑 도서관 서울 코엑스 실내 놀거리 북캉스 무료 h...     0  \n",
       "3     오늘은 비가 종일 내려서 표선도서관에서 황정은의 '백의 그림자'를 빌려 읽었다. 정...     4  \n",
       "4     서울식물원 씨앗도서관에서 리아트리스랑 강낭콩 대여해왔다~~! https://t.co...     2  \n",
       "...                                                 ...   ...  \n",
       "1265  서울 구로구 ‘시끄러운 도서관’에서는 누구나 뛰어다니고, 소리 질러도 된다. 서서 ...   884  \n",
       "1266  새해 첫 #월요일, 힘차게 출발!🙌\\n#다시뛰는서울 #2⃣0⃣2⃣2⃣\\n#새해복많이...    28  \n",
       "1267  서울 한복판 용산, 도처에 오욕의 역사가 담겨 있는 민족 수난의 현장. 일제 식민지...    51  \n",
       "1268  지금 닭도리탕 소스랑 닭곰탕하고 김치랑 밥 1 리터 분량 2 통 먹고는 나는 지금 ...     0  \n",
       "1269                      순천향대 서울병원, '찾아 가는 도서관' 서비스 진행     0  \n",
       "\n",
       "[1270 rows x 3 columns]"
      ]
     },
     "execution_count": 36,
     "metadata": {},
     "output_type": "execute_result"
    }
   ],
   "source": [
    "import snscrape.modules.twitter as sntwitter\n",
    "import pandas as pd\n",
    "\n",
    "# 트윗을 긁어와서 넣어놓을 리스트 생성\n",
    "tweets_list = []\n",
    "\n",
    "# TwitterSearchScraper를 이용하여 해당 트윗을 긁어와서 리스트에 넣기\n",
    "for i,tweet in enumerate(sntwitter.TwitterSearchScraper('서울 도서관 since:2022-01-01 until:2022-08-18').get_items()):\n",
    "    if i>5000:\n",
    "        break\n",
    "    tweets_list.append([tweet.date, tweet.content, tweet.likeCount])\n",
    "    \n",
    "# 다 긁어왔다면 데이터 프레임으로 저장시키기\n",
    "tweets_df = pd.DataFrame(tweets_list, columns=['Datetime', 'Text', 'Like'])\n",
    "tweets_df"
   ]
  },
  {
   "cell_type": "code",
   "execution_count": 20,
   "id": "c35dc3f9-730c-4ffc-b135-975c84f38922",
   "metadata": {},
   "outputs": [
    {
     "data": {
      "text/plain": [
       "Datetime    58\n",
       "Text        58\n",
       "Like        58\n",
       "dtype: int64"
      ]
     },
     "execution_count": 20,
     "metadata": {},
     "output_type": "execute_result"
    }
   ],
   "source": [
    "tweets_df.count()"
   ]
  },
  {
   "cell_type": "code",
   "execution_count": 35,
   "id": "f3f634a1-bc68-4bb2-acce-3d1e18d4dad1",
   "metadata": {},
   "outputs": [],
   "source": [
    "tweets_df.to_csv('공공도서관행사01010818')"
   ]
  },
  {
   "cell_type": "code",
   "execution_count": 34,
   "id": "17d497ad-9c3e-4738-a5f4-f5437cac5ca6",
   "metadata": {},
   "outputs": [
    {
     "data": {
      "text/html": [
       "<div>\n",
       "<style scoped>\n",
       "    .dataframe tbody tr th:only-of-type {\n",
       "        vertical-align: middle;\n",
       "    }\n",
       "\n",
       "    .dataframe tbody tr th {\n",
       "        vertical-align: top;\n",
       "    }\n",
       "\n",
       "    .dataframe thead th {\n",
       "        text-align: right;\n",
       "    }\n",
       "</style>\n",
       "<table border=\"1\" class=\"dataframe\">\n",
       "  <thead>\n",
       "    <tr style=\"text-align: right;\">\n",
       "      <th></th>\n",
       "      <th>Datetime</th>\n",
       "      <th>Text</th>\n",
       "      <th>Like</th>\n",
       "    </tr>\n",
       "  </thead>\n",
       "  <tbody>\n",
       "    <tr>\n",
       "      <th>5</th>\n",
       "      <td>2022-05-12 04:32:14+00:00</td>\n",
       "      <td>공공도서관이 주는 편안함이 있어.\\n아무도 배제당하지 않을거라는 안도감과\\n공공을 ...</td>\n",
       "      <td>28</td>\n",
       "    </tr>\n",
       "    <tr>\n",
       "      <th>9</th>\n",
       "      <td>2022-04-21 11:46:31+00:00</td>\n",
       "      <td>공공도서관이 유아기때부터 성인까지 모두 대상이라 평생교육기관으로 쓰임.\\n외국은 아...</td>\n",
       "      <td>6</td>\n",
       "    </tr>\n",
       "    <tr>\n",
       "      <th>10</th>\n",
       "      <td>2022-04-21 06:03:33+00:00</td>\n",
       "      <td>예전에 책 읽다가 미국의 공공도서관은 노숙자의 도서관 행사 참여를 반기고 심지어는 ...</td>\n",
       "      <td>4</td>\n",
       "    </tr>\n",
       "    <tr>\n",
       "      <th>12</th>\n",
       "      <td>2022-04-15 05:38:08+00:00</td>\n",
       "      <td>공공도서관은 책 대출 말고도 싼 가격에 여러 서비스를 이용할 수 있고 다양한 동아리...</td>\n",
       "      <td>4</td>\n",
       "    </tr>\n",
       "    <tr>\n",
       "      <th>3</th>\n",
       "      <td>2022-05-18 06:19:45+00:00</td>\n",
       "      <td>#인디서울2022 와 함께하는 [#무녀도] 공공상영 안내\\n[#도곡정보문화도서관]\\...</td>\n",
       "      <td>2</td>\n",
       "    </tr>\n",
       "    <tr>\n",
       "      <th>13</th>\n",
       "      <td>2022-04-07 22:09:05+00:00</td>\n",
       "      <td>서울 양천구가 미감도서관에서 비건(채식주의자)를 주제로 한 다양한 전시와 체험을 할...</td>\n",
       "      <td>1</td>\n",
       "    </tr>\n",
       "    <tr>\n",
       "      <th>0</th>\n",
       "      <td>2022-08-17 03:16:54+00:00</td>\n",
       "      <td>[newstomorrow] 담양공공도서관, 9월 독서의 달 행사 운영 https:/...</td>\n",
       "      <td>0</td>\n",
       "    </tr>\n",
       "    <tr>\n",
       "      <th>14</th>\n",
       "      <td>2022-04-06 06:30:19+00:00</td>\n",
       "      <td>장흥공공도서관 도서관주간 행사 참가자 모집 \\nhttps://t.co/eonwMhZ1fO</td>\n",
       "      <td>0</td>\n",
       "    </tr>\n",
       "    <tr>\n",
       "      <th>20</th>\n",
       "      <td>2022-03-23 08:41:23+00:00</td>\n",
       "      <td>[부여군] 부여 홍산공공도서관, 4월 도서주간행사 진행   / 보도뉴스  https...</td>\n",
       "      <td>0</td>\n",
       "    </tr>\n",
       "    <tr>\n",
       "      <th>19</th>\n",
       "      <td>2022-03-30 04:41:06+00:00</td>\n",
       "      <td>[인천교육청] 인천광역시교육청주안도서관, 공공도서관 100주년 기념 및 4월 도서관...</td>\n",
       "      <td>0</td>\n",
       "    </tr>\n",
       "    <tr>\n",
       "      <th>18</th>\n",
       "      <td>2022-03-30 12:21:46+00:00</td>\n",
       "      <td>벌교공공도서관, 제58회 도서관주간 맞아 다양한 행사 마련 \\nhttps://t.c...</td>\n",
       "      <td>0</td>\n",
       "    </tr>\n",
       "    <tr>\n",
       "      <th>17</th>\n",
       "      <td>2022-04-03 23:52:07+00:00</td>\n",
       "      <td>[newstomorrow] 예산군공공도서관, 제58회 도서관주간 및 세계 책의 날 ...</td>\n",
       "      <td>0</td>\n",
       "    </tr>\n",
       "    <tr>\n",
       "      <th>16</th>\n",
       "      <td>2022-04-04 00:12:43+00:00</td>\n",
       "      <td>[newstomorrow] 예산군공공도서관, 제58회 도서관주간 및 세계 책의 날 ...</td>\n",
       "      <td>0</td>\n",
       "    </tr>\n",
       "    <tr>\n",
       "      <th>15</th>\n",
       "      <td>2022-04-05 11:43:59+00:00</td>\n",
       "      <td>진도공공도서관, 도서관주간 4월중 다양한 행사 운영 \\nhttps://t.co/Il...</td>\n",
       "      <td>0</td>\n",
       "    </tr>\n",
       "    <tr>\n",
       "      <th>11</th>\n",
       "      <td>2022-04-15 13:09:26+00:00</td>\n",
       "      <td>공공도서관은 안그래도 할 일이 조오오오온나게 많은데 예산 잘리면 또 어케될지 자료구...</td>\n",
       "      <td>0</td>\n",
       "    </tr>\n",
       "    <tr>\n",
       "      <th>1</th>\n",
       "      <td>2022-08-17 02:03:18+00:00</td>\n",
       "      <td>[newstomorrow] 담양공공도서관, 9월 독서의 달 행사 운영 https:/...</td>\n",
       "      <td>0</td>\n",
       "    </tr>\n",
       "    <tr>\n",
       "      <th>8</th>\n",
       "      <td>2022-04-28 00:10:48+00:00</td>\n",
       "      <td>[newstomorrow] 예산군공공도서관, 제58회 도서관주간 및 세계 책의 날 ...</td>\n",
       "      <td>0</td>\n",
       "    </tr>\n",
       "    <tr>\n",
       "      <th>7</th>\n",
       "      <td>2022-04-28 02:19:51+00:00</td>\n",
       "      <td>[예산군]  예산군공공도서관, 제58회 도서관주간 및 세계 책의 날 행사 성료!  ...</td>\n",
       "      <td>0</td>\n",
       "    </tr>\n",
       "    <tr>\n",
       "      <th>6</th>\n",
       "      <td>2022-04-28 10:27:24+00:00</td>\n",
       "      <td>[newstomorrow] 예산군공공도서관, 제58회 도서관주간 및 세계 책의 날 ...</td>\n",
       "      <td>0</td>\n",
       "    </tr>\n",
       "    <tr>\n",
       "      <th>4</th>\n",
       "      <td>2022-05-16 04:47:13+00:00</td>\n",
       "      <td>공공도서관 가정의 달 기념행사 \\'봄봄 어린이 책 놀이터\\' 운영 안내https:/...</td>\n",
       "      <td>0</td>\n",
       "    </tr>\n",
       "    <tr>\n",
       "      <th>2</th>\n",
       "      <td>2022-08-16 06:21:28+00:00</td>\n",
       "      <td>벌교공공도서관, 9월 독서의 달을 맞아 다양한 행사 운영 https://t.co/e...</td>\n",
       "      <td>0</td>\n",
       "    </tr>\n",
       "    <tr>\n",
       "      <th>21</th>\n",
       "      <td>2022-03-06 11:02:10+00:00</td>\n",
       "      <td>목포공공도서관, 봄을 활짝 여는 독서문화행사 풍성 \\nhttps://t.co/Zzo...</td>\n",
       "      <td>0</td>\n",
       "    </tr>\n",
       "  </tbody>\n",
       "</table>\n",
       "</div>"
      ],
      "text/plain": [
       "                    Datetime  \\\n",
       "5  2022-05-12 04:32:14+00:00   \n",
       "9  2022-04-21 11:46:31+00:00   \n",
       "10 2022-04-21 06:03:33+00:00   \n",
       "12 2022-04-15 05:38:08+00:00   \n",
       "3  2022-05-18 06:19:45+00:00   \n",
       "13 2022-04-07 22:09:05+00:00   \n",
       "0  2022-08-17 03:16:54+00:00   \n",
       "14 2022-04-06 06:30:19+00:00   \n",
       "20 2022-03-23 08:41:23+00:00   \n",
       "19 2022-03-30 04:41:06+00:00   \n",
       "18 2022-03-30 12:21:46+00:00   \n",
       "17 2022-04-03 23:52:07+00:00   \n",
       "16 2022-04-04 00:12:43+00:00   \n",
       "15 2022-04-05 11:43:59+00:00   \n",
       "11 2022-04-15 13:09:26+00:00   \n",
       "1  2022-08-17 02:03:18+00:00   \n",
       "8  2022-04-28 00:10:48+00:00   \n",
       "7  2022-04-28 02:19:51+00:00   \n",
       "6  2022-04-28 10:27:24+00:00   \n",
       "4  2022-05-16 04:47:13+00:00   \n",
       "2  2022-08-16 06:21:28+00:00   \n",
       "21 2022-03-06 11:02:10+00:00   \n",
       "\n",
       "                                                 Text  Like  \n",
       "5   공공도서관이 주는 편안함이 있어.\\n아무도 배제당하지 않을거라는 안도감과\\n공공을 ...    28  \n",
       "9   공공도서관이 유아기때부터 성인까지 모두 대상이라 평생교육기관으로 쓰임.\\n외국은 아...     6  \n",
       "10  예전에 책 읽다가 미국의 공공도서관은 노숙자의 도서관 행사 참여를 반기고 심지어는 ...     4  \n",
       "12  공공도서관은 책 대출 말고도 싼 가격에 여러 서비스를 이용할 수 있고 다양한 동아리...     4  \n",
       "3   #인디서울2022 와 함께하는 [#무녀도] 공공상영 안내\\n[#도곡정보문화도서관]\\...     2  \n",
       "13  서울 양천구가 미감도서관에서 비건(채식주의자)를 주제로 한 다양한 전시와 체험을 할...     1  \n",
       "0   [newstomorrow] 담양공공도서관, 9월 독서의 달 행사 운영 https:/...     0  \n",
       "14  장흥공공도서관 도서관주간 행사 참가자 모집 \\nhttps://t.co/eonwMhZ1fO     0  \n",
       "20  [부여군] 부여 홍산공공도서관, 4월 도서주간행사 진행   / 보도뉴스  https...     0  \n",
       "19  [인천교육청] 인천광역시교육청주안도서관, 공공도서관 100주년 기념 및 4월 도서관...     0  \n",
       "18  벌교공공도서관, 제58회 도서관주간 맞아 다양한 행사 마련 \\nhttps://t.c...     0  \n",
       "17  [newstomorrow] 예산군공공도서관, 제58회 도서관주간 및 세계 책의 날 ...     0  \n",
       "16  [newstomorrow] 예산군공공도서관, 제58회 도서관주간 및 세계 책의 날 ...     0  \n",
       "15  진도공공도서관, 도서관주간 4월중 다양한 행사 운영 \\nhttps://t.co/Il...     0  \n",
       "11  공공도서관은 안그래도 할 일이 조오오오온나게 많은데 예산 잘리면 또 어케될지 자료구...     0  \n",
       "1   [newstomorrow] 담양공공도서관, 9월 독서의 달 행사 운영 https:/...     0  \n",
       "8   [newstomorrow] 예산군공공도서관, 제58회 도서관주간 및 세계 책의 날 ...     0  \n",
       "7   [예산군]  예산군공공도서관, 제58회 도서관주간 및 세계 책의 날 행사 성료!  ...     0  \n",
       "6   [newstomorrow] 예산군공공도서관, 제58회 도서관주간 및 세계 책의 날 ...     0  \n",
       "4   공공도서관 가정의 달 기념행사 \\'봄봄 어린이 책 놀이터\\' 운영 안내https:/...     0  \n",
       "2   벌교공공도서관, 9월 독서의 달을 맞아 다양한 행사 운영 https://t.co/e...     0  \n",
       "21  목포공공도서관, 봄을 활짝 여는 독서문화행사 풍성 \\nhttps://t.co/Zzo...     0  "
      ]
     },
     "execution_count": 34,
     "metadata": {},
     "output_type": "execute_result"
    }
   ],
   "source": [
    "tweets_df.sort_values(by = \"Like\", ascending=False)"
   ]
  },
  {
   "cell_type": "code",
   "execution_count": 32,
   "id": "6719468d-897a-48c1-bb68-fccb846d21a9",
   "metadata": {},
   "outputs": [],
   "source": [
    "tweets_df1 = tweets_df[tweets_df['Like']>0]"
   ]
  },
  {
   "cell_type": "code",
   "execution_count": 26,
   "id": "4c46e233-3a2d-4da1-8b56-a153e2d2d391",
   "metadata": {},
   "outputs": [
    {
     "data": {
      "text/plain": [
       "'암튼 서두에 그런 의견을 낸 이유가 뭐냐 단순히 자격증만 취득한 사람만 모이니까 이런 결과가 나오는거라 생각함 물론 그 외의 원인들도 존재하겠지만(프로그램에 과도하게 집중. 인력부족인 공공도서관 환경, 도서관을 챙기지 않는 지자체 등) 가장 근본적으로 그곳에서 일하는 사람들이'"
      ]
     },
     "execution_count": 26,
     "metadata": {},
     "output_type": "execute_result"
    }
   ],
   "source": [
    "tweets_df.iloc[57].Text"
   ]
  },
  {
   "cell_type": "code",
   "execution_count": null,
   "id": "deb47a5f-39c0-4092-ba40-403d6af5fde1",
   "metadata": {},
   "outputs": [],
   "source": [
    "살릴것: 57"
   ]
  }
 ],
 "metadata": {
  "kernelspec": {
   "display_name": "Python 3 (ipykernel)",
   "language": "python",
   "name": "python3"
  },
  "language_info": {
   "codemirror_mode": {
    "name": "ipython",
    "version": 3
   },
   "file_extension": ".py",
   "mimetype": "text/x-python",
   "name": "python",
   "nbconvert_exporter": "python",
   "pygments_lexer": "ipython3",
   "version": "3.9.12"
  }
 },
 "nbformat": 4,
 "nbformat_minor": 5
}

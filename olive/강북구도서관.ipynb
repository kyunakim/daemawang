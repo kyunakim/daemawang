{
 "cells": [
  {
   "cell_type": "markdown",
   "id": "8d68a80d-2869-4e1f-847c-20db11414bf5",
   "metadata": {
    "tags": []
   },
   "source": [
    "# 파이차트"
   ]
  },
  {
   "cell_type": "code",
   "execution_count": 6,
   "id": "e10573a0-a3fe-4462-9703-63c7d330de69",
   "metadata": {},
   "outputs": [
    {
     "data": {
      "text/html": [
       "<div>\n",
       "<style scoped>\n",
       "    .dataframe tbody tr th:only-of-type {\n",
       "        vertical-align: middle;\n",
       "    }\n",
       "\n",
       "    .dataframe tbody tr th {\n",
       "        vertical-align: top;\n",
       "    }\n",
       "\n",
       "    .dataframe thead th {\n",
       "        text-align: right;\n",
       "    }\n",
       "</style>\n",
       "<table border=\"1\" class=\"dataframe\">\n",
       "  <thead>\n",
       "    <tr style=\"text-align: right;\">\n",
       "      <th></th>\n",
       "      <th>제목</th>\n",
       "      <th>대상</th>\n",
       "      <th>도서관</th>\n",
       "    </tr>\n",
       "  </thead>\n",
       "  <tbody>\n",
       "    <tr>\n",
       "      <th>0</th>\n",
       "      <td>567한 문장 도서 긋즈_우드버닝과 모스 / 성인성인4층 상상공작소2021-12-1...</td>\n",
       "      <td>성인</td>\n",
       "      <td>강북문화정보도서관</td>\n",
       "    </tr>\n",
       "    <tr>\n",
       "      <th>1</th>\n",
       "      <td>566우드버닝과 페인팅 / 초등 4~6학년초등4~6학년4층 상상공작소2021-12-...</td>\n",
       "      <td>어린이</td>\n",
       "      <td>강북문화정보도서관</td>\n",
       "    </tr>\n",
       "    <tr>\n",
       "      <th>2</th>\n",
       "      <td>565업사이클링 우유팩 지갑 만들기_밀키프로젝트 /성인성인4층 상상공작소2021-1...</td>\n",
       "      <td>성인</td>\n",
       "      <td>강북문화정보도서관</td>\n",
       "    </tr>\n",
       "    <tr>\n",
       "      <th>3</th>\n",
       "      <td>564상상공작소 장비활용교육_3D프린터 / 중등~성인중등~성인4층 상상공작소2021...</td>\n",
       "      <td>어린이</td>\n",
       "      <td>강북문화정보도서관</td>\n",
       "    </tr>\n",
       "    <tr>\n",
       "      <th>4</th>\n",
       "      <td>563그림책 속 이야기 (3D펜) -12월 18일 (토) / 초등 3~6학년초등3~...</td>\n",
       "      <td>어린이</td>\n",
       "      <td>강북문화정보도서관</td>\n",
       "    </tr>\n",
       "    <tr>\n",
       "      <th>...</th>\n",
       "      <td>...</td>\n",
       "      <td>...</td>\n",
       "      <td>...</td>\n",
       "    </tr>\n",
       "    <tr>\n",
       "      <th>277</th>\n",
       "      <td>328[삼각산] 4.19특강 \"아직 끝나지 않은 혁명, 4.19\"(초등 3~4학년)...</td>\n",
       "      <td>어린이</td>\n",
       "      <td>삼각산어린이도서관</td>\n",
       "    </tr>\n",
       "    <tr>\n",
       "      <th>278</th>\n",
       "      <td>327[삼각산] 4.19특강 \"아직 끝나지 않은 혁명, 4.19\"(초등 5~6학년)...</td>\n",
       "      <td>어린이</td>\n",
       "      <td>삼각산어린이도서관</td>\n",
       "    </tr>\n",
       "    <tr>\n",
       "      <th>279</th>\n",
       "      <td>279[삼각산]2021년 겨울 독서교실(초등1~2학년)초등학생1~2...비대면(ZO...</td>\n",
       "      <td>어린이</td>\n",
       "      <td>삼각산어린이도서관</td>\n",
       "    </tr>\n",
       "    <tr>\n",
       "      <th>280</th>\n",
       "      <td>278[삼각산]2021년 겨울 독서교실(초등5~6학년)초등학생5~6...비대면(ZO...</td>\n",
       "      <td>어린이</td>\n",
       "      <td>삼각산어린이도서관</td>\n",
       "    </tr>\n",
       "    <tr>\n",
       "      <th>281</th>\n",
       "      <td>277[삼각산]2021년 겨울 독서교실(초등3~4학년)초등학생 3~...비대면(ZO...</td>\n",
       "      <td>어린이</td>\n",
       "      <td>삼각산어린이도서관</td>\n",
       "    </tr>\n",
       "  </tbody>\n",
       "</table>\n",
       "<p>282 rows × 3 columns</p>\n",
       "</div>"
      ],
      "text/plain": [
       "                                                    제목   대상        도서관\n",
       "0    567한 문장 도서 긋즈_우드버닝과 모스 / 성인성인4층 상상공작소2021-12-1...   성인  강북문화정보도서관\n",
       "1    566우드버닝과 페인팅 / 초등 4~6학년초등4~6학년4층 상상공작소2021-12-...  어린이  강북문화정보도서관\n",
       "2    565업사이클링 우유팩 지갑 만들기_밀키프로젝트 /성인성인4층 상상공작소2021-1...   성인  강북문화정보도서관\n",
       "3    564상상공작소 장비활용교육_3D프린터 / 중등~성인중등~성인4층 상상공작소2021...  어린이  강북문화정보도서관\n",
       "4    563그림책 속 이야기 (3D펜) -12월 18일 (토) / 초등 3~6학년초등3~...  어린이  강북문화정보도서관\n",
       "..                                                 ...  ...        ...\n",
       "277  328[삼각산] 4.19특강 \"아직 끝나지 않은 혁명, 4.19\"(초등 3~4학년)...  어린이  삼각산어린이도서관\n",
       "278  327[삼각산] 4.19특강 \"아직 끝나지 않은 혁명, 4.19\"(초등 5~6학년)...  어린이  삼각산어린이도서관\n",
       "279  279[삼각산]2021년 겨울 독서교실(초등1~2학년)초등학생1~2...비대면(ZO...  어린이  삼각산어린이도서관\n",
       "280  278[삼각산]2021년 겨울 독서교실(초등5~6학년)초등학생5~6...비대면(ZO...  어린이  삼각산어린이도서관\n",
       "281  277[삼각산]2021년 겨울 독서교실(초등3~4학년)초등학생 3~...비대면(ZO...  어린이  삼각산어린이도서관\n",
       "\n",
       "[282 rows x 3 columns]"
      ]
     },
     "execution_count": 6,
     "metadata": {},
     "output_type": "execute_result"
    }
   ],
   "source": [
    "import pandas as pd \n",
    "\n",
    "gangbuk = pd.read_excel('강북구 도서관.xlsx')\n",
    "gangbuk.drop(columns='비고', inplace=True)\n",
    "gangbuk"
   ]
  },
  {
   "cell_type": "code",
   "execution_count": 67,
   "id": "f8fe144c-6614-48e5-b630-2ff936be310e",
   "metadata": {},
   "outputs": [],
   "source": [
    "gangbuk_program_tally = gangbuk.groupby('대상').count()\n",
    "gangbuk_program_tally = gangbuk_program_tally.drop(columns='도서관')\n",
    "gangbuk_program_tally=gangbuk_program_tally.reindex(index=['중장년','성인','청소년','어린이','전연령'])\n",
    "#gangbuk_program_tally.index = ['청장년', '어린이', '전연령', '중노년', '청소년']"
   ]
  },
  {
   "cell_type": "code",
   "execution_count": 73,
   "id": "9df6f9ea-c9b1-440c-96a6-e4fa43d73568",
   "metadata": {},
   "outputs": [
    {
     "data": {
      "text/html": [
       "<div>\n",
       "<style scoped>\n",
       "    .dataframe tbody tr th:only-of-type {\n",
       "        vertical-align: middle;\n",
       "    }\n",
       "\n",
       "    .dataframe tbody tr th {\n",
       "        vertical-align: top;\n",
       "    }\n",
       "\n",
       "    .dataframe thead th {\n",
       "        text-align: right;\n",
       "    }\n",
       "</style>\n",
       "<table border=\"1\" class=\"dataframe\">\n",
       "  <thead>\n",
       "    <tr style=\"text-align: right;\">\n",
       "      <th></th>\n",
       "      <th>제목</th>\n",
       "    </tr>\n",
       "    <tr>\n",
       "      <th>대상</th>\n",
       "      <th></th>\n",
       "    </tr>\n",
       "  </thead>\n",
       "  <tbody>\n",
       "    <tr>\n",
       "      <th>중장년</th>\n",
       "      <td>4</td>\n",
       "    </tr>\n",
       "    <tr>\n",
       "      <th>성인</th>\n",
       "      <td>44</td>\n",
       "    </tr>\n",
       "    <tr>\n",
       "      <th>청소년</th>\n",
       "      <td>37</td>\n",
       "    </tr>\n",
       "    <tr>\n",
       "      <th>어린이</th>\n",
       "      <td>191</td>\n",
       "    </tr>\n",
       "    <tr>\n",
       "      <th>전연령</th>\n",
       "      <td>6</td>\n",
       "    </tr>\n",
       "  </tbody>\n",
       "</table>\n",
       "</div>"
      ],
      "text/plain": [
       "      제목\n",
       "대상      \n",
       "중장년    4\n",
       "성인    44\n",
       "청소년   37\n",
       "어린이  191\n",
       "전연령    6"
      ]
     },
     "execution_count": 73,
     "metadata": {},
     "output_type": "execute_result"
    }
   ],
   "source": [
    "gangbuk_program_tally"
   ]
  },
  {
   "cell_type": "code",
   "execution_count": 72,
   "id": "2e4a869d-2304-4132-86e2-cb299d9d8e55",
   "metadata": {},
   "outputs": [
    {
     "data": {
      "image/png": "[encoded data removed]",
      "text/plain": [
       "<Figure size 720x432 with 1 Axes>"
      ]
     },
     "metadata": {},
     "output_type": "display_data"
    }
   ],
   "source": [
    "import matplotlib.pyplot as plt\n",
    "import numpy as np\n",
    "import seaborn as sns\n",
    "\n",
    "from matplotlib import font_manager, rc\n",
    "rc('font', family='AppleGothic')\n",
    "plt.rcParams['axes.unicode_minus'] = False\n",
    "\n",
    "y = np.array(gangbuk_program_tally['제목'].tolist())\n",
    "labels = gangbuk_program_tally.index.tolist()\n",
    "\n",
    "colors = sns.color_palette('pastel')[0:9]\n",
    "\n",
    "plt.figure(figsize=(10, 6))\n",
    "plt.pie(y, labels=labels, colors = colors, autopct='%.0f%%')\n",
    "plt.show() "
   ]
  },
  {
   "cell_type": "markdown",
   "id": "4635b8bd-27ae-4126-a348-6fec5cf11fe8",
   "metadata": {},
   "source": [
    "# 워드클라우드"
   ]
  },
  {
   "cell_type": "code",
   "execution_count": null,
   "id": "e0d43d22-625c-4d6f-b8d0-068ed31638a1",
   "metadata": {},
   "outputs": [],
   "source": []
  }
 ],
 "metadata": {
  "kernelspec": {
   "display_name": "Python 3 (ipykernel)",
   "language": "python",
   "name": "python3"
  },
  "language_info": {
   "codemirror_mode": {
    "name": "ipython",
    "version": 3
   },
   "file_extension": ".py",
   "mimetype": "text/x-python",
   "name": "python",
   "nbconvert_exporter": "python",
   "pygments_lexer": "ipython3",
   "version": "3.9.12"
  }
 },
 "nbformat": 4,
 "nbformat_minor": 5
}

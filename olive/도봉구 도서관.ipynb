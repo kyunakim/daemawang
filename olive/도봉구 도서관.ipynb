{
 "cells": [
  {
   "cell_type": "markdown",
   "id": "cae9e1e5-69a7-4752-be05-eb6f49947afc",
   "metadata": {},
   "source": [
    "# 파이차트"
   ]
  },
  {
   "cell_type": "code",
   "execution_count": 29,
   "id": "3e2466e9-b19e-4fe0-9cd2-a6866fa228dd",
   "metadata": {},
   "outputs": [],
   "source": [
    "import pandas as pd \n",
    "\n",
    "dobong = pd.read_csv('culture_program_clean.csv')\n",
    "dobong.drop(columns=['Unnamed: 0.1', 'Unnamed: 0'], inplace=True)\n",
    "dobong = dobong[dobong['TWO_AREA_NM']=='도봉구']\n",
    "dobong.drop(1083, inplace=True)\n",
    "dobong = dobong[['title', 'target']]\n",
    "dobong.to_excel('도봉구도서관.xlsx')"
   ]
  },
  {
   "cell_type": "code",
   "execution_count": 23,
   "id": "2603f21f-310b-4c01-a82f-aca29708e373",
   "metadata": {},
   "outputs": [
    {
     "data": {
      "text/html": [
       "<div>\n",
       "<style scoped>\n",
       "    .dataframe tbody tr th:only-of-type {\n",
       "        vertical-align: middle;\n",
       "    }\n",
       "\n",
       "    .dataframe tbody tr th {\n",
       "        vertical-align: top;\n",
       "    }\n",
       "\n",
       "    .dataframe thead th {\n",
       "        text-align: right;\n",
       "    }\n",
       "</style>\n",
       "<table border=\"1\" class=\"dataframe\">\n",
       "  <thead>\n",
       "    <tr style=\"text-align: right;\">\n",
       "      <th></th>\n",
       "      <th>title</th>\n",
       "    </tr>\n",
       "    <tr>\n",
       "      <th>target</th>\n",
       "      <th></th>\n",
       "    </tr>\n",
       "  </thead>\n",
       "  <tbody>\n",
       "    <tr>\n",
       "      <th>성인</th>\n",
       "      <td>106</td>\n",
       "    </tr>\n",
       "    <tr>\n",
       "      <th>어린이</th>\n",
       "      <td>50</td>\n",
       "    </tr>\n",
       "  </tbody>\n",
       "</table>\n",
       "</div>"
      ],
      "text/plain": [
       "        title\n",
       "target       \n",
       "성인        106\n",
       "어린이        50"
      ]
     },
     "execution_count": 23,
     "metadata": {},
     "output_type": "execute_result"
    }
   ],
   "source": [
    "dobong_program_tally = dobong.groupby('target').count()\n",
    "dobong_program_tally"
   ]
  },
  {
   "cell_type": "code",
   "execution_count": 34,
   "id": "2e4a869d-2304-4132-86e2-cb299d9d8e55",
   "metadata": {},
   "outputs": [
    {
     "data": {
      "image/png": "[encoded data removed]",
      "text/plain": [
       "<Figure size 720x432 with 1 Axes>"
      ]
     },
     "metadata": {},
     "output_type": "display_data"
    }
   ],
   "source": [
    "import matplotlib.pyplot as plt\n",
    "import numpy as np\n",
    "import seaborn as sns\n",
    "\n",
    "from matplotlib import font_manager, rc\n",
    "rc('font', family='AppleGothic')\n",
    "plt.rcParams['axes.unicode_minus'] = False\n",
    "\n",
    "y = np.array(dobong_program_tally['title'].tolist())\n",
    "labels = dobong_program_tally.index.tolist()\n",
    "\n",
    "colors = sns.color_palette('pastel')[0:9]\n",
    "\n",
    "plt.figure(figsize=(10, 6))\n",
    "plt.pie(y, labels=labels, colors = colors, autopct='%.0f%%')\n",
    "plt.show() "
   ]
  },
  {
   "cell_type": "markdown",
   "id": "a6260023-e347-43a9-aa06-4312f83cfcd9",
   "metadata": {},
   "source": [
    "# 워드클라우드"
   ]
  },
  {
   "cell_type": "code",
   "execution_count": null,
   "id": "2bb08f84-52da-417c-a2cb-d65b34bdd09c",
   "metadata": {},
   "outputs": [],
   "source": []
  }
 ],
 "metadata": {
  "kernelspec": {
   "display_name": "Python 3 (ipykernel)",
   "language": "python",
   "name": "python3"
  },
  "language_info": {
   "codemirror_mode": {
    "name": "ipython",
    "version": 3
   },
   "file_extension": ".py",
   "mimetype": "text/x-python",
   "name": "python",
   "nbconvert_exporter": "python",
   "pygments_lexer": "ipython3",
   "version": "3.9.12"
  }
 },
 "nbformat": 4,
 "nbformat_minor": 5
}

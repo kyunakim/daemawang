{
 "cells": [
  {
   "cell_type": "markdown",
   "id": "cae9e1e5-69a7-4752-be05-eb6f49947afc",
   "metadata": {},
   "source": [
    "# 파이차트"
   ]
  },
  {
   "cell_type": "code",
   "execution_count": 29,
   "id": "3e2466e9-b19e-4fe0-9cd2-a6866fa228dd",
   "metadata": {},
   "outputs": [],
   "source": [
    "import pandas as pd \n",
    "\n",
    "dobong = pd.read_csv('culture_program_clean.csv')\n",
    "dobong.drop(columns=['Unnamed: 0.1', 'Unnamed: 0'], inplace=True)\n",
    "dobong = dobong[dobong['TWO_AREA_NM']=='도봉구']\n",
    "dobong.drop(1083, inplace=True)\n",
    "dobong = dobong[['title', 'target']]\n",
    "dobong.to_excel('도봉구도서관.xlsx')"
   ]
  },
  {
   "cell_type": "code",
   "execution_count": 23,
   "id": "2603f21f-310b-4c01-a82f-aca29708e373",
   "metadata": {},
   "outputs": [
    {
     "data": {
      "text/html": [
       "<div>\n",
       "<style scoped>\n",
       "    .dataframe tbody tr th:only-of-type {\n",
       "        vertical-align: middle;\n",
       "    }\n",
       "\n",
       "    .dataframe tbody tr th {\n",
       "        vertical-align: top;\n",
       "    }\n",
       "\n",
       "    .dataframe thead th {\n",
       "        text-align: right;\n",
       "    }\n",
       "</style>\n",
       "<table border=\"1\" class=\"dataframe\">\n",
       "  <thead>\n",
       "    <tr style=\"text-align: right;\">\n",
       "      <th></th>\n",
       "      <th>title</th>\n",
       "    </tr>\n",
       "    <tr>\n",
       "      <th>target</th>\n",
       "      <th></th>\n",
       "    </tr>\n",
       "  </thead>\n",
       "  <tbody>\n",
       "    <tr>\n",
       "      <th>성인</th>\n",
       "      <td>106</td>\n",
       "    </tr>\n",
       "    <tr>\n",
       "      <th>어린이</th>\n",
       "      <td>50</td>\n",
       "    </tr>\n",
       "  </tbody>\n",
       "</table>\n",
       "</div>"
      ],
      "text/plain": [
       "        title\n",
       "target       \n",
       "성인        106\n",
       "어린이        50"
      ]
     },
     "execution_count": 23,
     "metadata": {},
     "output_type": "execute_result"
    }
   ],
   "source": [
    "dobong_program_tally = dobong.groupby('target').count()\n",
    "dobong_program_tally"
   ]
  },
  {
   "cell_type": "code",
   "execution_count": 34,
   "id": "2e4a869d-2304-4132-86e2-cb299d9d8e55",
   "metadata": {},
   "outputs": [
    {
     "data": {
      "image/png": "[encoded data removed]",
      "text/plain": [
       "<Figure size 720x432 with 1 Axes>"
      ]
     },
     "metadata": {},
     "output_type": "display_data"
    }
   ],
   "source": [
    "import matplotlib.pyplot as plt\n",
    "import numpy as np\n",
    "import seaborn as sns\n",
    "\n",
    "from matplotlib import font_manager, rc\n",
    "rc('font', family='AppleGothic')\n",
    "plt.rcParams['axes.unicode_minus'] = False\n",
    "\n",
    "y = np.array(dobong_program_tally['title'].tolist())\n",
    "labels = dobong_program_tally.index.tolist()\n",
    "\n",
    "colors = sns.color_palette('pastel')[0:9]\n",
    "\n",
    "plt.figure(figsize=(10, 6))\n",
    "plt.pie(y, labels=labels, colors = colors, autopct='%.0f%%')\n",
    "plt.show() "
   ]
  },
  {
   "cell_type": "markdown",
   "id": "a6260023-e347-43a9-aa06-4312f83cfcd9",
   "metadata": {},
   "source": [
    "# 워드클라우드"
   ]
  },
  {
   "cell_type": "code",
   "execution_count": null,
   "id": "2bb08f84-52da-417c-a2cb-d65b34bdd09c",
   "metadata": {},
   "outputs": [],
   "source": []
  },
  {
   "cell_type": "code",
   "execution_count": 38,
   "id": "632c7bf7-32cd-47b8-900c-cdeb474a0f62",
   "metadata": {},
   "outputs": [],
   "source": [
    "import pandas as pd \n",
    "\n",
    "seodaemun = pd.read_csv('culture_program_clean.csv')\n",
    "seodaemun.drop(columns=['Unnamed: 0.1', 'Unnamed: 0'], inplace=True)\n",
    "seodaemun = seodaemun[seodaemun['TWO_AREA_NM']=='서대문구']\n",
    "# dobong.drop(1083, inplace=True)\n",
    "seodaemun = seodaemun[['title', 'target']]\n",
    "# dobong.to_excel('도봉구도서관.xlsx')"
   ]
  },
  {
   "cell_type": "code",
   "execution_count": 39,
   "id": "f5becaa0-d968-49ce-9b54-cb91d1a13cee",
   "metadata": {},
   "outputs": [
    {
     "data": {
      "text/html": [
       "<div>\n",
       "<style scoped>\n",
       "    .dataframe tbody tr th:only-of-type {\n",
       "        vertical-align: middle;\n",
       "    }\n",
       "\n",
       "    .dataframe tbody tr th {\n",
       "        vertical-align: top;\n",
       "    }\n",
       "\n",
       "    .dataframe thead th {\n",
       "        text-align: right;\n",
       "    }\n",
       "</style>\n",
       "<table border=\"1\" class=\"dataframe\">\n",
       "  <thead>\n",
       "    <tr style=\"text-align: right;\">\n",
       "      <th></th>\n",
       "      <th>title</th>\n",
       "      <th>target</th>\n",
       "    </tr>\n",
       "  </thead>\n",
       "  <tbody>\n",
       "    <tr>\n",
       "      <th>211</th>\n",
       "      <td>시소 함께 읽기</td>\n",
       "      <td>어린이</td>\n",
       "    </tr>\n",
       "    <tr>\n",
       "      <th>212</th>\n",
       "      <td>이야기 톡! 그림책 톡!</td>\n",
       "      <td>어린이</td>\n",
       "    </tr>\n",
       "    <tr>\n",
       "      <th>213</th>\n",
       "      <td>인증샷 이벤트 '빅북과 함께'</td>\n",
       "      <td>전연령</td>\n",
       "    </tr>\n",
       "    <tr>\n",
       "      <th>214</th>\n",
       "      <td>우리 아이 첫 독서학교 '인성반'</td>\n",
       "      <td>어린이</td>\n",
       "    </tr>\n",
       "    <tr>\n",
       "      <th>215</th>\n",
       "      <td>2021년 10월 독서퀴즈</td>\n",
       "      <td>어린이</td>\n",
       "    </tr>\n",
       "    <tr>\n",
       "      <th>216</th>\n",
       "      <td>1일 1환경 챌린지 저자 강연회</td>\n",
       "      <td>어린이</td>\n",
       "    </tr>\n",
       "    <tr>\n",
       "      <th>217</th>\n",
       "      <td>[청소년/온라인]아무도 들어오지 마시오 함께 읽기</td>\n",
       "      <td>청소년</td>\n",
       "    </tr>\n",
       "  </tbody>\n",
       "</table>\n",
       "</div>"
      ],
      "text/plain": [
       "                           title target\n",
       "211                     시소 함께 읽기    어린이\n",
       "212                이야기 톡! 그림책 톡!    어린이\n",
       "213             인증샷 이벤트 '빅북과 함께'    전연령\n",
       "214           우리 아이 첫 독서학교 '인성반'    어린이\n",
       "215               2021년 10월 독서퀴즈    어린이\n",
       "216            1일 1환경 챌린지 저자 강연회    어린이\n",
       "217  [청소년/온라인]아무도 들어오지 마시오 함께 읽기    청소년"
      ]
     },
     "execution_count": 39,
     "metadata": {},
     "output_type": "execute_result"
    }
   ],
   "source": [
    "seodaemun"
   ]
  },
  {
   "cell_type": "code",
   "execution_count": null,
   "id": "1e2f9fff-c535-438b-835a-40b45c930a17",
   "metadata": {},
   "outputs": [],
   "source": []
  },
  {
   "cell_type": "markdown",
   "id": "aa007a49-a22e-47c5-9bc4-b4afa410fa57",
   "metadata": {
    "tags": []
   },
   "source": [
    "# 중구"
   ]
  },
  {
   "cell_type": "markdown",
   "id": "a681069f-48b3-4024-a21a-f197eda59a65",
   "metadata": {},
   "source": [
    "## 파이차트"
   ]
  },
  {
   "cell_type": "code",
   "execution_count": 57,
   "id": "6585467a-7d11-4628-8de6-7aca8da27bd8",
   "metadata": {},
   "outputs": [
    {
     "data": {
      "text/html": [
       "<div>\n",
       "<style scoped>\n",
       "    .dataframe tbody tr th:only-of-type {\n",
       "        vertical-align: middle;\n",
       "    }\n",
       "\n",
       "    .dataframe tbody tr th {\n",
       "        vertical-align: top;\n",
       "    }\n",
       "\n",
       "    .dataframe thead th {\n",
       "        text-align: right;\n",
       "    }\n",
       "</style>\n",
       "<table border=\"1\" class=\"dataframe\">\n",
       "  <thead>\n",
       "    <tr style=\"text-align: right;\">\n",
       "      <th></th>\n",
       "      <th>title</th>\n",
       "    </tr>\n",
       "    <tr>\n",
       "      <th>target</th>\n",
       "      <th></th>\n",
       "    </tr>\n",
       "  </thead>\n",
       "  <tbody>\n",
       "    <tr>\n",
       "      <th>성인</th>\n",
       "      <td>9</td>\n",
       "    </tr>\n",
       "    <tr>\n",
       "      <th>전연령</th>\n",
       "      <td>2</td>\n",
       "    </tr>\n",
       "    <tr>\n",
       "      <th>청소년</th>\n",
       "      <td>4</td>\n",
       "    </tr>\n",
       "  </tbody>\n",
       "</table>\n",
       "</div>"
      ],
      "text/plain": [
       "        title\n",
       "target       \n",
       "성인          9\n",
       "전연령         2\n",
       "청소년         4"
      ]
     },
     "execution_count": 57,
     "metadata": {},
     "output_type": "execute_result"
    }
   ],
   "source": [
    "import pandas as pd \n",
    "\n",
    "junggu = pd.read_csv('culture_program_clean.csv')\n",
    "junggu.drop(columns=['Unnamed: 0.1', 'Unnamed: 0'], inplace=True)\n",
    "junggu = junggu[junggu['ONE_AREA_NM']=='서울특별시']\n",
    "junggu = junggu[junggu['TWO_AREA_NM']=='중구']\n",
    "# junggu.drop(1083, inplace=True)\n",
    "junggu = junggu[['title', 'target']]\n",
    "# junggu.to_csv('중구도서관.csv', headers=1, index=0)\n",
    "jung_program_tally = junggu.groupby('target').count()\n",
    "jung_program_tally"
   ]
  },
  {
   "cell_type": "code",
   "execution_count": 101,
   "id": "061d16fc-a387-49bb-bb0c-00de3391682f",
   "metadata": {
    "scrolled": true,
    "tags": []
   },
   "outputs": [
    {
     "data": {
      "image/png": "[encoded data removed]",
      "text/plain": [
       "<Figure size 720x432 with 1 Axes>"
      ]
     },
     "metadata": {},
     "output_type": "display_data"
    }
   ],
   "source": [
    "import matplotlib.pyplot as plt\n",
    "import numpy as np\n",
    "import seaborn as sns\n",
    "\n",
    "from matplotlib import font_manager, rc\n",
    "rc('font', family='AppleGothic')\n",
    "plt.rcParams['axes.unicode_minus'] = False\n",
    "\n",
    "y = np.array(jung_program_tally['title'].tolist())\n",
    "labels = jung_program_tally.index.tolist()\n",
    "\n",
    "colors = sns.color_palette('pastel')[0:9]\n",
    "\n",
    "plt.figure(figsize=(10, 6))\n",
    "plt.pie(y, labels=labels, colors = colors, autopct='%.0f%%')\n",
    "plt.show() "
   ]
  },
  {
   "cell_type": "markdown",
   "id": "b0f180e3-49e7-49d8-be06-656b72de58c3",
   "metadata": {},
   "source": [
    "# 용산구 "
   ]
  },
  {
   "cell_type": "code",
   "execution_count": 81,
   "id": "56fa5c3a-b46d-4d1a-8096-6e339942b95d",
   "metadata": {},
   "outputs": [
    {
     "data": {
      "text/html": [
       "<div>\n",
       "<style scoped>\n",
       "    .dataframe tbody tr th:only-of-type {\n",
       "        vertical-align: middle;\n",
       "    }\n",
       "\n",
       "    .dataframe tbody tr th {\n",
       "        vertical-align: top;\n",
       "    }\n",
       "\n",
       "    .dataframe thead th {\n",
       "        text-align: right;\n",
       "    }\n",
       "</style>\n",
       "<table border=\"1\" class=\"dataframe\">\n",
       "  <thead>\n",
       "    <tr style=\"text-align: right;\">\n",
       "      <th></th>\n",
       "      <th>title</th>\n",
       "    </tr>\n",
       "    <tr>\n",
       "      <th>target</th>\n",
       "      <th></th>\n",
       "    </tr>\n",
       "  </thead>\n",
       "  <tbody>\n",
       "    <tr>\n",
       "      <th>성인</th>\n",
       "      <td>6</td>\n",
       "    </tr>\n",
       "    <tr>\n",
       "      <th>어린이</th>\n",
       "      <td>23</td>\n",
       "    </tr>\n",
       "    <tr>\n",
       "      <th>전연령</th>\n",
       "      <td>7</td>\n",
       "    </tr>\n",
       "    <tr>\n",
       "      <th>중장년</th>\n",
       "      <td>1</td>\n",
       "    </tr>\n",
       "    <tr>\n",
       "      <th>청소년</th>\n",
       "      <td>1</td>\n",
       "    </tr>\n",
       "  </tbody>\n",
       "</table>\n",
       "</div>"
      ],
      "text/plain": [
       "        title\n",
       "target       \n",
       "성인          6\n",
       "어린이        23\n",
       "전연령         7\n",
       "중장년         1\n",
       "청소년         1"
      ]
     },
     "execution_count": 81,
     "metadata": {},
     "output_type": "execute_result"
    }
   ],
   "source": [
    "import pandas as pd \n",
    "\n",
    "yongsan = pd.read_csv('culture_program_clean.csv')\n",
    "yongsan.drop(columns=['Unnamed: 0.1', 'Unnamed: 0'], inplace=True)\n",
    "yongsan = yongsan[yongsan['ONE_AREA_NM']=='서울특별시']\n",
    "yongsan = yongsan[yongsan['TWO_AREA_NM']=='용산구']\n",
    "yongsan = yongsan[['title', 'target']]\n",
    "# junggu.to_csv('중구도서관.csv', headers=1, index=0)\n",
    "yongsan_program_tally = yongsan.groupby('target').count()\n",
    "yongsan_program_tally"
   ]
  },
  {
   "cell_type": "code",
   "execution_count": 98,
   "id": "8003dc41-0106-4b42-bf8c-dec16dce1915",
   "metadata": {},
   "outputs": [
    {
     "data": {
      "image/png": "[encoded data removed]",
      "text/plain": [
       "<Figure size 720x432 with 1 Axes>"
      ]
     },
     "metadata": {},
     "output_type": "display_data"
    }
   ],
   "source": [
    "#이주민 :비 이주민 = 1:37\n",
    "\n",
    "import matplotlib.pyplot as plt\n",
    "import numpy as np\n",
    "import seaborn as sns\n",
    "\n",
    "from matplotlib import font_manager, rc\n",
    "rc('font', family='AppleGothic')\n",
    "plt.rcParams['axes.unicode_minus'] = False\n",
    "\n",
    "y = np.array([37, 1])\n",
    "labels = ['비이주민', '이주민']\n",
    "\n",
    "colors = sns.color_palette('pastel')[0:9]\n",
    "\n",
    "plt.figure(figsize=(10, 6))\n",
    "plt.pie(y, labels=labels, colors = colors, autopct='%.0f%%')\n",
    "plt.show() "
   ]
  },
  {
   "cell_type": "markdown",
   "id": "0a442ecf-6128-447f-a48c-4bb04ff4ac67",
   "metadata": {},
   "source": [
    "# 서울 전체 "
   ]
  },
  {
   "cell_type": "code",
   "execution_count": 74,
   "id": "f09f94fb-1d9b-4fb1-ac98-4ab155d1cd47",
   "metadata": {},
   "outputs": [
    {
     "data": {
      "text/html": [
       "<div>\n",
       "<style scoped>\n",
       "    .dataframe tbody tr th:only-of-type {\n",
       "        vertical-align: middle;\n",
       "    }\n",
       "\n",
       "    .dataframe tbody tr th {\n",
       "        vertical-align: top;\n",
       "    }\n",
       "\n",
       "    .dataframe thead th {\n",
       "        text-align: right;\n",
       "    }\n",
       "</style>\n",
       "<table border=\"1\" class=\"dataframe\">\n",
       "  <thead>\n",
       "    <tr style=\"text-align: right;\">\n",
       "      <th></th>\n",
       "      <th>title</th>\n",
       "      <th>target</th>\n",
       "    </tr>\n",
       "  </thead>\n",
       "  <tbody>\n",
       "    <tr>\n",
       "      <th>0</th>\n",
       "      <td>[전국책읽는도시협의회]'낭만 in 도서관' - 낭만 영화관</td>\n",
       "      <td>성인</td>\n",
       "    </tr>\n",
       "    <tr>\n",
       "      <th>1</th>\n",
       "      <td>[2021 독서의 달]그림책과 뉴스로 배우는 미디어 탐구생활</td>\n",
       "      <td>어린이</td>\n",
       "    </tr>\n",
       "    <tr>\n",
       "      <th>2</th>\n",
       "      <td>[2021 독서의 달]학부모를 위한 미디어 리터러시</td>\n",
       "      <td>성인</td>\n",
       "    </tr>\n",
       "    <tr>\n",
       "      <th>3</th>\n",
       "      <td>[2021 독서의 달]체험행사 &lt;반짝반짝 빛나는&gt; '아이편'</td>\n",
       "      <td>어린이</td>\n",
       "    </tr>\n",
       "    <tr>\n",
       "      <th>4</th>\n",
       "      <td>[2021 독서의 달]체험행사 &lt;반짝반짝 빛나는&gt; '어른편'</td>\n",
       "      <td>청소년</td>\n",
       "    </tr>\n",
       "    <tr>\n",
       "      <th>...</th>\n",
       "      <td>...</td>\n",
       "      <td>...</td>\n",
       "    </tr>\n",
       "    <tr>\n",
       "      <th>5400</th>\n",
       "      <td>한경도서관 '책을 그리는 비주얼 씽킹' 참가자 모집(초등 3~6학년)..</td>\n",
       "      <td>어린이</td>\n",
       "    </tr>\n",
       "    <tr>\n",
       "      <th>5401</th>\n",
       "      <td>한경도서관 '창의력 향상 어린이 독서토론' 참가자 모집(초등 4~6학년)..</td>\n",
       "      <td>어린이</td>\n",
       "    </tr>\n",
       "    <tr>\n",
       "      <th>5402</th>\n",
       "      <td>한경도서관 '자녀를 위한 독서 지도법' 운영</td>\n",
       "      <td>성인</td>\n",
       "    </tr>\n",
       "    <tr>\n",
       "      <th>5403</th>\n",
       "      <td>한경도서관 어린이 겨울방학특강 '집에서 떠나는 세계문화 여행' 참가자 모..</td>\n",
       "      <td>어린이</td>\n",
       "    </tr>\n",
       "    <tr>\n",
       "      <th>5404</th>\n",
       "      <td>2021 한경도서관 겨울독서교실 참가자 모집</td>\n",
       "      <td>어린이</td>\n",
       "    </tr>\n",
       "  </tbody>\n",
       "</table>\n",
       "<p>5404 rows × 2 columns</p>\n",
       "</div>"
      ],
      "text/plain": [
       "                                           title target\n",
       "0               [전국책읽는도시협의회]'낭만 in 도서관' - 낭만 영화관     성인\n",
       "1              [2021 독서의 달]그림책과 뉴스로 배우는 미디어 탐구생활    어린이\n",
       "2                   [2021 독서의 달]학부모를 위한 미디어 리터러시     성인\n",
       "3              [2021 독서의 달]체험행사 <반짝반짝 빛나는> '아이편'    어린이\n",
       "4              [2021 독서의 달]체험행사 <반짝반짝 빛나는> '어른편'    청소년\n",
       "...                                          ...    ...\n",
       "5400    한경도서관 '책을 그리는 비주얼 씽킹' 참가자 모집(초등 3~6학년)..    어린이\n",
       "5401  한경도서관 '창의력 향상 어린이 독서토론' 참가자 모집(초등 4~6학년)..    어린이\n",
       "5402                    한경도서관 '자녀를 위한 독서 지도법' 운영     성인\n",
       "5403  한경도서관 어린이 겨울방학특강 '집에서 떠나는 세계문화 여행' 참가자 모..    어린이\n",
       "5404                    2021 한경도서관 겨울독서교실 참가자 모집    어린이\n",
       "\n",
       "[5404 rows x 2 columns]"
      ]
     },
     "execution_count": 74,
     "metadata": {},
     "output_type": "execute_result"
    }
   ],
   "source": [
    "import pandas as pd \n",
    "\n",
    "seoul = pd.read_csv('culture_program_clean.csv')\n",
    "seoul.drop(columns=['Unnamed: 0.1', 'Unnamed: 0'], inplace=True)\n",
    "seoul.drop(1083, inplace=True)\n",
    "seoul = seoul[['title', 'target']]\n",
    "# dobong.to_excel('도봉구도서관.xlsx')\n",
    "seoul"
   ]
  },
  {
   "cell_type": "code",
   "execution_count": null,
   "id": "a3490021-9b84-458e-804e-a859014d5b61",
   "metadata": {},
   "outputs": [],
   "source": []
  },
  {
   "cell_type": "code",
   "execution_count": 79,
   "id": "9fb9fa33-2180-440e-8f3d-6dbf3d89d0ac",
   "metadata": {},
   "outputs": [
    {
     "data": {
      "text/html": [
       "<div>\n",
       "<style scoped>\n",
       "    .dataframe tbody tr th:only-of-type {\n",
       "        vertical-align: middle;\n",
       "    }\n",
       "\n",
       "    .dataframe tbody tr th {\n",
       "        vertical-align: top;\n",
       "    }\n",
       "\n",
       "    .dataframe thead th {\n",
       "        text-align: right;\n",
       "    }\n",
       "</style>\n",
       "<table border=\"1\" class=\"dataframe\">\n",
       "  <thead>\n",
       "    <tr style=\"text-align: right;\">\n",
       "      <th></th>\n",
       "      <th>title</th>\n",
       "    </tr>\n",
       "    <tr>\n",
       "      <th>target</th>\n",
       "      <th></th>\n",
       "    </tr>\n",
       "  </thead>\n",
       "  <tbody>\n",
       "    <tr>\n",
       "      <th>성인</th>\n",
       "      <td>1694</td>\n",
       "    </tr>\n",
       "    <tr>\n",
       "      <th>어린이</th>\n",
       "      <td>2519</td>\n",
       "    </tr>\n",
       "    <tr>\n",
       "      <th>전연령</th>\n",
       "      <td>949</td>\n",
       "    </tr>\n",
       "    <tr>\n",
       "      <th>중장년</th>\n",
       "      <td>55</td>\n",
       "    </tr>\n",
       "    <tr>\n",
       "      <th>청소년</th>\n",
       "      <td>180</td>\n",
       "    </tr>\n",
       "  </tbody>\n",
       "</table>\n",
       "</div>"
      ],
      "text/plain": [
       "        title\n",
       "target       \n",
       "성인       1694\n",
       "어린이      2519\n",
       "전연령       949\n",
       "중장년        55\n",
       "청소년       180"
      ]
     },
     "execution_count": 79,
     "metadata": {},
     "output_type": "execute_result"
    }
   ],
   "source": [
    "seoul_tally = seoul.groupby('target').count()\n",
    "seoul_tally.drop('기타', inplace=True)\n",
    "seoul_tally"
   ]
  },
  {
   "cell_type": "code",
   "execution_count": 80,
   "id": "73d5dc1b-0d3d-42fe-8b8e-0c25a2599f19",
   "metadata": {},
   "outputs": [
    {
     "data": {
      "image/png": "[encoded data removed]",
      "text/plain": [
       "<Figure size 720x432 with 1 Axes>"
      ]
     },
     "metadata": {},
     "output_type": "display_data"
    }
   ],
   "source": [
    "import matplotlib.pyplot as plt\n",
    "import numpy as np\n",
    "import seaborn as sns\n",
    "\n",
    "from matplotlib import font_manager, rc\n",
    "rc('font', family='AppleGothic')\n",
    "plt.rcParams['axes.unicode_minus'] = False\n",
    "\n",
    "y = np.array(seoul_tally['title'].tolist())\n",
    "labels = seoul_tally.index.tolist()\n",
    "\n",
    "colors = sns.color_palette('pastel')[0:9]\n",
    "\n",
    "plt.figure(figsize=(10, 6))\n",
    "plt.pie(y, labels=labels, colors = colors, autopct='%.0f%%')\n",
    "plt.show() "
   ]
  },
  {
   "cell_type": "markdown",
   "id": "856fec31-86ac-48df-aeb9-c69f2de7fc82",
   "metadata": {},
   "source": [
    "# 종로구 "
   ]
  },
  {
   "cell_type": "code",
   "execution_count": 91,
   "id": "88374071-8308-4530-a5fe-fb3c8a7e2b16",
   "metadata": {},
   "outputs": [
    {
     "data": {
      "text/html": [
       "<div>\n",
       "<style scoped>\n",
       "    .dataframe tbody tr th:only-of-type {\n",
       "        vertical-align: middle;\n",
       "    }\n",
       "\n",
       "    .dataframe tbody tr th {\n",
       "        vertical-align: top;\n",
       "    }\n",
       "\n",
       "    .dataframe thead th {\n",
       "        text-align: right;\n",
       "    }\n",
       "</style>\n",
       "<table border=\"1\" class=\"dataframe\">\n",
       "  <thead>\n",
       "    <tr style=\"text-align: right;\">\n",
       "      <th></th>\n",
       "      <th>강좌명</th>\n",
       "      <th>대상</th>\n",
       "    </tr>\n",
       "  </thead>\n",
       "  <tbody>\n",
       "    <tr>\n",
       "      <th>0</th>\n",
       "      <td>그림책 팝업북 만들기           ...</td>\n",
       "      <td>전연령</td>\n",
       "    </tr>\n",
       "    <tr>\n",
       "      <th>1</th>\n",
       "      <td>감각을 일 깨우는 톡톡 책놀이      ...</td>\n",
       "      <td>어린이</td>\n",
       "    </tr>\n",
       "    <tr>\n",
       "      <th>2</th>\n",
       "      <td>사고력과 표현력을 쑥쑥 키우는 책놀이  ...</td>\n",
       "      <td>어린이</td>\n",
       "    </tr>\n",
       "    <tr>\n",
       "      <th>3</th>\n",
       "      <td>독서의 달 행사 &lt;곽재식 작가와의 만남 ...</td>\n",
       "      <td>성인</td>\n",
       "    </tr>\n",
       "    <tr>\n",
       "      <th>4</th>\n",
       "      <td>독서의 달 행사 &lt;동화로 만나는 클레이&gt;...</td>\n",
       "      <td>전연령</td>\n",
       "    </tr>\n",
       "    <tr>\n",
       "      <th>...</th>\n",
       "      <td>...</td>\n",
       "      <td>...</td>\n",
       "    </tr>\n",
       "    <tr>\n",
       "      <th>108</th>\n",
       "      <td>동화 만들기               ...</td>\n",
       "      <td>어린이</td>\n",
       "    </tr>\n",
       "    <tr>\n",
       "      <th>109</th>\n",
       "      <td>나와 내가 만나는 시간 그림책      ...</td>\n",
       "      <td>어린이</td>\n",
       "    </tr>\n",
       "    <tr>\n",
       "      <th>110</th>\n",
       "      <td>다산처럼 읽고 연암처럼 써라      ...</td>\n",
       "      <td>전연령</td>\n",
       "    </tr>\n",
       "    <tr>\n",
       "      <th>111</th>\n",
       "      <td>우리가 모르는 북한, 그들이 모르는 남...</td>\n",
       "      <td>전연령</td>\n",
       "    </tr>\n",
       "    <tr>\n",
       "      <th>112</th>\n",
       "      <td>종로구 한책선정단 모집         ...</td>\n",
       "      <td>전연령</td>\n",
       "    </tr>\n",
       "  </tbody>\n",
       "</table>\n",
       "<p>113 rows × 2 columns</p>\n",
       "</div>"
      ],
      "text/plain": [
       "                                                   강좌명   대상\n",
       "0                            그림책 팝업북 만들기           ...  전연령\n",
       "1                            감각을 일 깨우는 톡톡 책놀이      ...  어린이\n",
       "2                            사고력과 표현력을 쑥쑥 키우는 책놀이  ...  어린이\n",
       "3                            독서의 달 행사 <곽재식 작가와의 만남 ...   성인\n",
       "4                            독서의 달 행사 <동화로 만나는 클레이>...  전연령\n",
       "..                                                 ...  ...\n",
       "108                           동화 만들기               ...  어린이\n",
       "109                          나와 내가 만나는 시간 그림책      ...  어린이\n",
       "110                           다산처럼 읽고 연암처럼 써라      ...  전연령\n",
       "111                           우리가 모르는 북한, 그들이 모르는 남...  전연령\n",
       "112                           종로구 한책선정단 모집         ...  전연령\n",
       "\n",
       "[113 rows x 2 columns]"
      ]
     },
     "execution_count": 91,
     "metadata": {},
     "output_type": "execute_result"
    }
   ],
   "source": [
    "import pandas as pd \n",
    "\n",
    "jongno =pd.read_csv('종로구도서관.csv')\n",
    "jongno\n",
    "\n",
    "jongno.drop(columns=['분관명', '강좌기간', '강좌장소'], inplace=True)\n",
    "jongno = jongno[['강좌명', '대상']]\n",
    "# dobong.to_excel('도봉구도서관.xlsx')\n",
    "jongno"
   ]
  },
  {
   "cell_type": "code",
   "execution_count": 92,
   "id": "a1eeac93-fbb8-44df-86a9-f417152c7265",
   "metadata": {},
   "outputs": [],
   "source": [
    "jongno.loc[jongno['대상'].str.contains(r\"다문화|외국인|이민\"),'target'] = '국내이주민'\n",
    "jongno.loc[jongno['대상'].str.contains(r\"다문화|이민\"),'target'] = '국내이주민'"
   ]
  },
  {
   "cell_type": "code",
   "execution_count": 93,
   "id": "2570bdd9-fb8b-49bd-8162-bb43a8384fcc",
   "metadata": {},
   "outputs": [
    {
     "data": {
      "text/plain": [
       "array(['전연령', '어린이', '성인', '청소년'], dtype=object)"
      ]
     },
     "execution_count": 93,
     "metadata": {},
     "output_type": "execute_result"
    }
   ],
   "source": [
    "jongno['대상'].unique()\n",
    "#국내이주민대상 없음 "
   ]
  },
  {
   "cell_type": "code",
   "execution_count": 95,
   "id": "e7748db0-f5ce-438b-b4b5-3f23d962024a",
   "metadata": {},
   "outputs": [
    {
     "data": {
      "text/html": [
       "<div>\n",
       "<style scoped>\n",
       "    .dataframe tbody tr th:only-of-type {\n",
       "        vertical-align: middle;\n",
       "    }\n",
       "\n",
       "    .dataframe tbody tr th {\n",
       "        vertical-align: top;\n",
       "    }\n",
       "\n",
       "    .dataframe thead th {\n",
       "        text-align: right;\n",
       "    }\n",
       "</style>\n",
       "<table border=\"1\" class=\"dataframe\">\n",
       "  <thead>\n",
       "    <tr style=\"text-align: right;\">\n",
       "      <th></th>\n",
       "      <th>강좌명</th>\n",
       "    </tr>\n",
       "    <tr>\n",
       "      <th>대상</th>\n",
       "      <th></th>\n",
       "    </tr>\n",
       "  </thead>\n",
       "  <tbody>\n",
       "    <tr>\n",
       "      <th>성인</th>\n",
       "      <td>14</td>\n",
       "    </tr>\n",
       "    <tr>\n",
       "      <th>어린이</th>\n",
       "      <td>57</td>\n",
       "    </tr>\n",
       "    <tr>\n",
       "      <th>전연령</th>\n",
       "      <td>39</td>\n",
       "    </tr>\n",
       "    <tr>\n",
       "      <th>청소년</th>\n",
       "      <td>3</td>\n",
       "    </tr>\n",
       "  </tbody>\n",
       "</table>\n",
       "</div>"
      ],
      "text/plain": [
       "     강좌명\n",
       "대상      \n",
       "성인    14\n",
       "어린이   57\n",
       "전연령   39\n",
       "청소년    3"
      ]
     },
     "execution_count": 95,
     "metadata": {},
     "output_type": "execute_result"
    }
   ],
   "source": [
    "jongno_tally = jongno.groupby('대상').count()\n",
    "jongno_tally"
   ]
  },
  {
   "cell_type": "code",
   "execution_count": 97,
   "id": "83133ce7-a7c7-4ca8-a925-4cc2c2d52c14",
   "metadata": {},
   "outputs": [
    {
     "data": {
      "image/png": "[encoded data removed]",
      "text/plain": [
       "<Figure size 720x432 with 1 Axes>"
      ]
     },
     "metadata": {},
     "output_type": "display_data"
    }
   ],
   "source": [
    "import matplotlib.pyplot as plt\n",
    "import numpy as np\n",
    "import seaborn as sns\n",
    "\n",
    "from matplotlib import font_manager, rc\n",
    "rc('font', family='AppleGothic')\n",
    "plt.rcParams['axes.unicode_minus'] = False\n",
    "\n",
    "y = np.array(jongno_tally['강좌명'].tolist())\n",
    "labels = jongno_tally.index.tolist()\n",
    "\n",
    "colors = sns.color_palette('pastel')[0:9]\n",
    "\n",
    "plt.figure(figsize=(10, 6))\n",
    "plt.pie(y, labels=labels, colors = colors, autopct='%.0f%%')\n",
    "plt.show() "
   ]
  },
  {
   "cell_type": "code",
   "execution_count": 99,
   "id": "c2d6d9f5-0480-434a-b1bb-41c611f5befc",
   "metadata": {},
   "outputs": [],
   "source": [
    "# '다문화'키워드로 프로그램을 운영하는 곳은 어디? "
   ]
  },
  {
   "cell_type": "code",
   "execution_count": 127,
   "id": "22b2c970-fae4-411f-ba1e-eb94fd61b7ae",
   "metadata": {},
   "outputs": [],
   "source": [
    "immigrant_program = pd.read_csv('immigrant_program.csv')\n",
    "area = pd.read_csv('도서관정보.csv')\n",
    "area.drop(columns='Unnamed: 0', axis=1, inplace=True)\n",
    "area = area[['LBRRY_CD', 'LBRRY_NM', 'ONE_AREA_NM', 'TWO_AREA_NM']]\n",
    "area.rename(columns={'LBRRY_CD':'lib_code'}, inplace=True)\n",
    "immigrant_program = pd.merge(area, immigrant_program, on='lib_code', how='inner')\n",
    "immigrant_program = immigrant_program[immigrant_program['target'] == '국내이주민']\n",
    "immigrant_program[['title', 'target']].to_csv('immigrant_program2.csv')"
   ]
  },
  {
   "cell_type": "code",
   "execution_count": 104,
   "id": "77edaa65-b0cc-4c43-9781-14fa6794d6e1",
   "metadata": {},
   "outputs": [],
   "source": [
    "immigrant_program = immigrant_program[immigrant_program['target'] == '국내이주민']\n",
    "immigrant_program = immigrant_program[immigrant_program['ONE_AREA_NM'] == '서울특별시']"
   ]
  },
  {
   "cell_type": "code",
   "execution_count": 120,
   "id": "e3f7555d-2183-4f4b-b51c-f77aaddfbe3a",
   "metadata": {},
   "outputs": [
    {
     "data": {
      "text/html": [
       "<div>\n",
       "<style scoped>\n",
       "    .dataframe tbody tr th:only-of-type {\n",
       "        vertical-align: middle;\n",
       "    }\n",
       "\n",
       "    .dataframe tbody tr th {\n",
       "        vertical-align: top;\n",
       "    }\n",
       "\n",
       "    .dataframe thead th {\n",
       "        text-align: right;\n",
       "    }\n",
       "</style>\n",
       "<table border=\"1\" class=\"dataframe\">\n",
       "  <thead>\n",
       "    <tr style=\"text-align: right;\">\n",
       "      <th></th>\n",
       "      <th>target</th>\n",
       "    </tr>\n",
       "    <tr>\n",
       "      <th>TWO_AREA_NM</th>\n",
       "      <th></th>\n",
       "    </tr>\n",
       "  </thead>\n",
       "  <tbody>\n",
       "    <tr>\n",
       "      <th>강남구</th>\n",
       "      <td>6</td>\n",
       "    </tr>\n",
       "    <tr>\n",
       "      <th>동대문구</th>\n",
       "      <td>1</td>\n",
       "    </tr>\n",
       "    <tr>\n",
       "      <th>영등포구</th>\n",
       "      <td>4</td>\n",
       "    </tr>\n",
       "    <tr>\n",
       "      <th>용산구</th>\n",
       "      <td>1</td>\n",
       "    </tr>\n",
       "  </tbody>\n",
       "</table>\n",
       "</div>"
      ],
      "text/plain": [
       "             target\n",
       "TWO_AREA_NM        \n",
       "강남구               6\n",
       "동대문구              1\n",
       "영등포구              4\n",
       "용산구               1"
      ]
     },
     "execution_count": 120,
     "metadata": {},
     "output_type": "execute_result"
    }
   ],
   "source": [
    "immigrant_tally = immigrant_program[['TWO_AREA_NM','target']].groupby('TWO_AREA_NM').count()\n",
    "immigrant_tally"
   ]
  },
  {
   "cell_type": "code",
   "execution_count": null,
   "id": "8f84cf87-18eb-466b-a160-c08e6dbd45d0",
   "metadata": {},
   "outputs": [],
   "source": [
    "import matplotlib.pyplot as plt\n",
    "import numpy as np\n",
    "import seaborn as sns\n",
    "\n",
    "from matplotlib import font_manager, rc\n",
    "rc('font', family='AppleGothic')\n",
    "plt.rcParams['axes.unicode_minus'] = False\n",
    "\n",
    "y = np.array(jongno_tally['강좌명'].tolist())\n",
    "labels = jongno_tally.index.tolist()\n",
    "\n",
    "colors = sns.color_palette('pastel')[0:9]\n",
    "\n",
    "plt.figure(figsize=(10, 6))\n",
    "plt.pie(y, labels=labels, colors = colors, autopct='%.0f%%')\n",
    "plt.show() "
   ]
  },
  {
   "cell_type": "markdown",
   "id": "671dd257-007f-4273-9813-d7ff91b8bfc6",
   "metadata": {},
   "source": [
    "# 파이 굽습니다 "
   ]
  },
  {
   "cell_type": "code",
   "execution_count": 160,
   "id": "984ce0e9-f250-49a7-893d-a2b6bb6ac1ed",
   "metadata": {},
   "outputs": [],
   "source": [
    "import pandas as pd\n",
    "\n",
    "#불러오기\n",
    "seongbuk=pd.read_excel('성북구도서관.xlsx')\n",
    "nowon=pd.read_csv('nowon.csv')\n",
    "gangbuk=pd.read_csv('gangbuk.csv')\n",
    "dobong = pd.read_excel('도봉구도서관.xlsx')\n",
    "jungnang = pd.read_excel('Book3.xlsx')\n",
    "\n",
    "#행사명과 대상만 칼럼으로 한 데이터프레임\n",
    "seongbuk = seongbuk[['제목', '대상']]\n",
    "nowon = nowon[['행사명', '대상']]\n",
    "gangbuk = gangbuk[['행사명', '대상']]\n",
    "dobong = dobong[['title','target']]\n",
    "jungnang = jungnang[['제목', '대상']]\n",
    "\n",
    "#대상별 갯수 세기\n",
    "seongbuk_tally = seongbuk.groupby('대상').count()\n",
    "nowon_tally = nowon.groupby('대상').count()\n",
    "gangbuk_tally = gangbuk.groupby('대상').count()\n",
    "dobong_tally = dobong.groupby('target').count()\n",
    "jungnang_tally = jungnang.groupby('대상').count()"
   ]
  },
  {
   "cell_type": "markdown",
   "id": "7745883c-630a-4c15-9b71-d7fb3ce3d067",
   "metadata": {},
   "source": [
    "##### 성북"
   ]
  },
  {
   "cell_type": "code",
   "execution_count": 148,
   "id": "8bd74f6b-a4ca-4b61-bb8d-09606de8e8ad",
   "metadata": {},
   "outputs": [
    {
     "data": {
      "image/png": "[encoded data removed]",
      "text/plain": [
       "<Figure size 720x432 with 1 Axes>"
      ]
     },
     "metadata": {},
     "output_type": "display_data"
    }
   ],
   "source": [
    "import matplotlib.pyplot as plt\n",
    "import numpy as np\n",
    "import seaborn as sns\n",
    "\n",
    "#한글폰트 설정\n",
    "from matplotlib import font_manager, rc\n",
    "rc('font', family='AppleGothic')\n",
    "plt.rcParams['axes.unicode_minus'] = False\n",
    "\n",
    "#파이굽기 \n",
    "#성북\n",
    "y = np.array(seongbuk_tally['제목'].tolist())\n",
    "labels = seongbuk_tally.index.tolist()\n",
    "\n",
    "colors = sns.color_palette('pastel')[0:9]\n",
    "\n",
    "plt.figure(figsize=(10, 6))\n",
    "plt.pie(y, labels=labels, colors = colors, autopct='%.0f%%')\n",
    "plt.show() "
   ]
  },
  {
   "cell_type": "markdown",
   "id": "a36fb3f0-33e5-4545-a92e-7adef1a732e4",
   "metadata": {},
   "source": [
    "##### 노원"
   ]
  },
  {
   "cell_type": "code",
   "execution_count": 152,
   "id": "0965d910-9518-40b4-9e1f-a43b29570a0f",
   "metadata": {},
   "outputs": [
    {
     "data": {
      "image/png": "[encoded data removed]",
      "text/plain": [
       "<Figure size 720x432 with 1 Axes>"
      ]
     },
     "metadata": {},
     "output_type": "display_data"
    }
   ],
   "source": [
    "import matplotlib.pyplot as plt\n",
    "import numpy as np\n",
    "import seaborn as sns\n",
    "\n",
    "#한글폰트 설정\n",
    "from matplotlib import font_manager, rc\n",
    "rc('font', family='AppleGothic')\n",
    "plt.rcParams['axes.unicode_minus'] = False\n",
    "\n",
    "#파이굽기 \n",
    "#노원\n",
    "y = np.array(nowon_tally['행사명'].tolist())\n",
    "labels = nowon_tally.index.tolist()\n",
    "\n",
    "colors = sns.color_palette('pastel')[0:9]\n",
    "\n",
    "plt.figure(figsize=(10, 6))\n",
    "plt.pie(y, labels=labels, colors = colors, autopct='%.0f%%')\n",
    "plt.show() "
   ]
  },
  {
   "cell_type": "markdown",
   "id": "f30644ee-959d-45d0-acf6-4d79db4f75bb",
   "metadata": {},
   "source": [
    "##### 강북"
   ]
  },
  {
   "cell_type": "code",
   "execution_count": 153,
   "id": "61da1fae-fe9d-4e89-a5c2-3db0e0de9684",
   "metadata": {},
   "outputs": [
    {
     "data": {
      "image/png": "[encoded data removed]",
      "text/plain": [
       "<Figure size 720x432 with 1 Axes>"
      ]
     },
     "metadata": {},
     "output_type": "display_data"
    }
   ],
   "source": [
    "import matplotlib.pyplot as plt\n",
    "import numpy as np\n",
    "import seaborn as sns\n",
    "\n",
    "#한글폰트 설정\n",
    "from matplotlib import font_manager, rc\n",
    "rc('font', family='AppleGothic')\n",
    "plt.rcParams['axes.unicode_minus'] = False\n",
    "\n",
    "#파이굽기 \n",
    "#강북\n",
    "y = np.array(gangbuk_tally['행사명'].tolist())\n",
    "labels = gangbuk_tally.index.tolist()\n",
    "\n",
    "colors = sns.color_palette('pastel')[0:9]\n",
    "\n",
    "plt.figure(figsize=(10, 6))\n",
    "plt.pie(y, labels=labels, colors = colors, autopct='%.0f%%')\n",
    "plt.show() "
   ]
  },
  {
   "cell_type": "markdown",
   "id": "0028726b-3ad2-4a5d-97bc-401b44cb8bbc",
   "metadata": {},
   "source": [
    "##### 도봉"
   ]
  },
  {
   "cell_type": "code",
   "execution_count": null,
   "id": "fdc6892b-ad13-4d93-a8e8-45e9e9ae8f2b",
   "metadata": {},
   "outputs": [],
   "source": []
  }
 ],
 "metadata": {
  "kernelspec": {
   "display_name": "Python 3 (ipykernel)",
   "language": "python",
   "name": "python3"
  },
  "language_info": {
   "codemirror_mode": {
    "name": "ipython",
    "version": 3
   },
   "file_extension": ".py",
   "mimetype": "text/x-python",
   "name": "python",
   "nbconvert_exporter": "python",
   "pygments_lexer": "ipython3",
   "version": "3.9.12"
  }
 },
 "nbformat": 4,
 "nbformat_minor": 5
}

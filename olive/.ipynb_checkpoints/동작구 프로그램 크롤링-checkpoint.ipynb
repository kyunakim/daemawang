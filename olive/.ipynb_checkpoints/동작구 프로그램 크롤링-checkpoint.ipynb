{
 "cells": [
  {
   "cell_type": "code",
   "execution_count": null,
   "id": "17482c6c-8dca-4a6e-83f2-6892a3574f32",
   "metadata": {},
   "outputs": [],
   "source": [
    "서울특별시 공공도서관 (199)"
   ]
  },
  {
   "cell_type": "code",
   "execution_count": null,
   "id": "de0d7ac5-cfbe-4829-8805-671f1e120423",
   "metadata": {
    "tags": []
   },
   "outputs": [],
   "source": [
    "강북구 gangbuk https://www.gblib.or.kr/gangbuk/event/list.do\n",
    "관악구 gwanak https://lib.gwanak.go.kr/galib/menu/10028/program/30006/lectureList.do\n",
    "광진구 gwangjin https://www.gwangjinlib.seoul.kr/intro.do / 프로그램 신청(준비중)...\n",
    "구로구 guro https://grlib.sen.go.kr/grlib/module/teach/index.do?menu_idx=15&searchCate1=16\n",
    "금천구 geumcheon https://geumcheonlib.seoul.kr/cop/bbs/selectBoardList.do?bbsId=BBSMSTR_000000000002&menuId=MNU_0000000000000018\n",
    "노원구 nowon https://connect.nowonlib.kr/function_list\n",
    "동작구 dongjak https://lib.dongjak.go.kr/dj/module/teach/index.do?menu_idx=32&searchCate1=16\n",
    "마포구 mapo https://mplib.mapo.go.kr/mcl/MENU1069/PGM3021/lectureList.do\n",
    "성동구 sd https://www.sdlib.or.kr/SD/edusat/list.do\n",
    "성북구 sb https://www.sblib.seoul.kr/library/menu/10038/bbs/20001/bbsArticleList.do?currentPageNo=1&bbsArticleIdx=0\n",
    "종로구 jongno https://lib.jongno.go.kr/bbs/board.php?bo_table=ReadingPgm\n",
    "중랑구 jungnang https://www.jungnanglib.seoul.kr/library/index.php?g_page=community&m_page=community01"
   ]
  },
  {
   "cell_type": "code",
   "execution_count": null,
   "id": "35f5b62b",
   "metadata": {
    "tags": []
   },
   "outputs": [
    {
     "data": {
      "text/html": [
       "<div>\n",
       "<style scoped>\n",
       "    .dataframe tbody tr th:only-of-type {\n",
       "        vertical-align: middle;\n",
       "    }\n",
       "\n",
       "    .dataframe tbody tr th {\n",
       "        vertical-align: top;\n",
       "    }\n",
       "\n",
       "    .dataframe thead th {\n",
       "        text-align: right;\n",
       "    }\n",
       "</style>\n",
       "<table border=\"1\" class=\"dataframe\">\n",
       "  <thead>\n",
       "    <tr style=\"text-align: right;\">\n",
       "      <th></th>\n",
       "      <th>lib</th>\n",
       "      <th>title</th>\n",
       "      <th>target</th>\n",
       "    </tr>\n",
       "  </thead>\n",
       "  <tbody>\n",
       "  </tbody>\n",
       "</table>\n",
       "</div>"
      ],
      "text/plain": [
       "Empty DataFrame\n",
       "Columns: [lib, title, target]\n",
       "Index: []"
      ]
     },
     "execution_count": 1,
     "metadata": {},
     "output_type": "execute_result"
    }
   ],
   "source": [
    "import pandas as pd\n",
    "dongjak_df = pd.DataFrame(columns = ['lib','title','target'])\n",
    "dongjak_df"
   ]
  },
  {
   "cell_type": "code",
   "execution_count": 32,
   "id": "6c699692-ea92-408d-9b75-d7659050a679",
   "metadata": {},
   "outputs": [],
   "source": [
    "from bs4 import BeautifulSoup\n",
    "import requests"
   ]
  },
  {
   "cell_type": "code",
   "execution_count": 45,
   "id": "57f269d3-28e3-4550-b3eb-1c772eff757e",
   "metadata": {},
   "outputs": [],
   "source": [
    "bs.select_one('#contentArea > div > div.op_wrap > div > table > tbody > tr.first > td.title.td3 > dl > dd:nth-child(2)')"
   ]
  },
  {
   "cell_type": "code",
   "execution_count": 25,
   "id": "198351a4-4d79-4bce-929f-c5b07a9ef83b",
   "metadata": {
    "tags": []
   },
   "outputs": [
    {
     "name": "stdout",
     "output_type": "stream",
     "text": [
      "None\n",
      "None\n",
      "None\n",
      "None\n",
      "None\n",
      "None\n",
      "None\n",
      "None\n",
      "None\n",
      "None\n",
      "None\n",
      "None\n",
      "None\n",
      "None\n",
      "None\n",
      "None\n",
      "None\n",
      "None\n",
      "None\n",
      "None\n",
      "None\n",
      "None\n",
      "None\n",
      "None\n",
      "None\n",
      "None\n",
      "None\n",
      "None\n",
      "None\n",
      "None\n",
      "None\n",
      "None\n",
      "None\n",
      "None\n",
      "None\n",
      "None\n",
      "None\n",
      "None\n",
      "None\n",
      "None\n",
      "None\n",
      "None\n",
      "None\n",
      "None\n",
      "None\n",
      "None\n",
      "None\n",
      "None\n",
      "None\n",
      "None\n",
      "None\n",
      "None\n",
      "None\n",
      "None\n",
      "None\n",
      "None\n",
      "None\n",
      "None\n",
      "None\n",
      "None\n"
     ]
    },
    {
     "data": {
      "text/html": [
       "<div>\n",
       "<style scoped>\n",
       "    .dataframe tbody tr th:only-of-type {\n",
       "        vertical-align: middle;\n",
       "    }\n",
       "\n",
       "    .dataframe tbody tr th {\n",
       "        vertical-align: top;\n",
       "    }\n",
       "\n",
       "    .dataframe thead th {\n",
       "        text-align: right;\n",
       "    }\n",
       "</style>\n",
       "<table border=\"1\" class=\"dataframe\">\n",
       "  <thead>\n",
       "    <tr style=\"text-align: right;\">\n",
       "      <th></th>\n",
       "      <th>lib</th>\n",
       "      <th>title</th>\n",
       "      <th>target</th>\n",
       "    </tr>\n",
       "  </thead>\n",
       "  <tbody>\n",
       "  </tbody>\n",
       "</table>\n",
       "</div>"
      ],
      "text/plain": [
       "Empty DataFrame\n",
       "Columns: [lib, title, target]\n",
       "Index: []"
      ]
     },
     "execution_count": 25,
     "metadata": {},
     "output_type": "execute_result"
    }
   ],
   "source": [
    "from bs4 import BeautifulSoup\n",
    "import requests\n",
    "\n",
    "\n",
    "url = 'https://lib.dongjak.go.kr/dj/module/teach/index.do?menu_idx=32&searchCate1=16'\n",
    "headers = {\"User-Agent\":\"Mozilla/5.0 (Windows NT 10.0; Win64; x64) AppleWebKit/537.36 (KHTML, like Gecko) Chrome/96.0.4664.45 Safari/537.36\"}\n",
    "dongjak = requests.get(url, headers = headers)\n",
    "bs = BeautifulSoup(dongjak.text, 'html.parser')\n",
    "\n",
    "\n",
    "ind=0\n",
    "for j in range(1,61):\n",
    "    try:\n",
    "        lib = bs.select_one('#contentArea > div > div.op_wrap > div > table > tbody > tr:nth-child('+str(j) +') > td.list_cate.center.first.td1 > span.codeName.phlib0004').text\n",
    "        title = bs.select_one('#contentArea > div > div.op_wrap > div > table > tbody > tr:nth-child('+str(j) +') > td.title.td3 > dl > dt > a').text\n",
    "        target = bs.select_one('#contentArea > div > div.op_wrap > div > table > tbody > tr:nth-child('+str(j) +') > td.title.td3 > dl > dd:nth-child(2)').text\n",
    "        dongjak_df.loc[ind] = [lib, title, target]\n",
    "        ind += 1\n",
    "    except:\n",
    "        print(None)\n",
    "\n",
    "dongjak_df"
   ]
  },
  {
   "cell_type": "code",
   "execution_count": null,
   "id": "27004dfc-84b4-43e8-bb63-a81ac2eb1734",
   "metadata": {},
   "outputs": [],
   "source": [
    "dongjak_df.target.unique().tolist()"
   ]
  },
  {
   "cell_type": "code",
   "execution_count": null,
   "id": "d8986618-392d-4343-80f6-a7dcc2d01328",
   "metadata": {},
   "outputs": [],
   "source": [
    "dongjak_df.target.value_counts()"
   ]
  },
  {
   "cell_type": "code",
   "execution_count": null,
   "id": "56a432e9-beed-4049-b769-bda616d69029",
   "metadata": {},
   "outputs": [],
   "source": [
    "dongjak_df.to_csv('dongjak.csv')"
   ]
  },
  {
   "cell_type": "code",
   "execution_count": null,
   "id": "e353af08-07ea-434b-b84e-555c4602d26a",
   "metadata": {},
   "outputs": [],
   "source": [
    "dongjak_df"
   ]
  },
  {
   "cell_type": "code",
   "execution_count": 48,
   "id": "e5ca4477-ef63-41b7-baca-44c5c853612d",
   "metadata": {},
   "outputs": [],
   "source": [
    "dj = pd.read_excel('Book2.xlsx')"
   ]
  },
  {
   "cell_type": "code",
   "execution_count": 52,
   "id": "fd363d04-5a19-4478-8185-372d2f2373b1",
   "metadata": {},
   "outputs": [
    {
     "data": {
      "text/html": [
       "<div>\n",
       "<style scoped>\n",
       "    .dataframe tbody tr th:only-of-type {\n",
       "        vertical-align: middle;\n",
       "    }\n",
       "\n",
       "    .dataframe tbody tr th {\n",
       "        vertical-align: top;\n",
       "    }\n",
       "\n",
       "    .dataframe thead th {\n",
       "        text-align: right;\n",
       "    }\n",
       "</style>\n",
       "<table border=\"1\" class=\"dataframe\">\n",
       "  <thead>\n",
       "    <tr style=\"text-align: right;\">\n",
       "      <th></th>\n",
       "      <th>도서관명</th>\n",
       "      <th>제목</th>\n",
       "      <th>Unnamed: 2</th>\n",
       "      <th>Unnamed: 3</th>\n",
       "    </tr>\n",
       "  </thead>\n",
       "  <tbody>\n",
       "    <tr>\n",
       "      <th>0</th>\n",
       "      <td>사당솔밭</td>\n",
       "      <td>[솔밭공작소]도자기 공예 1차 페인팅</td>\n",
       "      <td>어린이</td>\n",
       "      <td>NaN</td>\n",
       "    </tr>\n",
       "    <tr>\n",
       "      <th>1</th>\n",
       "      <td>NaN</td>\n",
       "      <td>대상 : 6-7세 어린이를 포함한 가족 10팀 10명</td>\n",
       "      <td>NaN</td>\n",
       "      <td>NaN</td>\n",
       "    </tr>\n",
       "    <tr>\n",
       "      <th>2</th>\n",
       "      <td>NaN</td>\n",
       "      <td>장소 : 3층 문화교실</td>\n",
       "      <td>NaN</td>\n",
       "      <td>NaN</td>\n",
       "    </tr>\n",
       "    <tr>\n",
       "      <th>3</th>\n",
       "      <td>대방어린이</td>\n",
       "      <td>그림책 탐험대(초등)</td>\n",
       "      <td>어린이</td>\n",
       "      <td>NaN</td>\n",
       "    </tr>\n",
       "    <tr>\n",
       "      <th>4</th>\n",
       "      <td>NaN</td>\n",
       "      <td>대상 : 초등1~2학년 10명</td>\n",
       "      <td>NaN</td>\n",
       "      <td>NaN</td>\n",
       "    </tr>\n",
       "    <tr>\n",
       "      <th>...</th>\n",
       "      <td>...</td>\n",
       "      <td>...</td>\n",
       "      <td>...</td>\n",
       "      <td>...</td>\n",
       "    </tr>\n",
       "    <tr>\n",
       "      <th>175</th>\n",
       "      <td>NaN</td>\n",
       "      <td>대상 : 초등4~6학년 8명</td>\n",
       "      <td>NaN</td>\n",
       "      <td>NaN</td>\n",
       "    </tr>\n",
       "    <tr>\n",
       "      <th>176</th>\n",
       "      <td>NaN</td>\n",
       "      <td>장소 : 온라인(zoom)</td>\n",
       "      <td>NaN</td>\n",
       "      <td>NaN</td>\n",
       "    </tr>\n",
       "    <tr>\n",
       "      <th>177</th>\n",
       "      <td>대방어린이</td>\n",
       "      <td>청소년 독서동아리(북씨앗) 모집</td>\n",
       "      <td>청소년</td>\n",
       "      <td>NaN</td>\n",
       "    </tr>\n",
       "    <tr>\n",
       "      <th>178</th>\n",
       "      <td>NaN</td>\n",
       "      <td>대상 : 중학생 1~3학년 5명</td>\n",
       "      <td>NaN</td>\n",
       "      <td>NaN</td>\n",
       "    </tr>\n",
       "    <tr>\n",
       "      <th>179</th>\n",
       "      <td>NaN</td>\n",
       "      <td>장소 : 온라인(zoom)</td>\n",
       "      <td>NaN</td>\n",
       "      <td>NaN</td>\n",
       "    </tr>\n",
       "  </tbody>\n",
       "</table>\n",
       "<p>180 rows × 4 columns</p>\n",
       "</div>"
      ],
      "text/plain": [
       "      도서관명                             제목 Unnamed: 2 Unnamed: 3\n",
       "0     사당솔밭           [솔밭공작소]도자기 공예 1차 페인팅        어린이        NaN\n",
       "1      NaN  대상 : 6-7세 어린이를 포함한 가족 10팀 10명        NaN        NaN\n",
       "2      NaN                   장소 : 3층 문화교실        NaN        NaN\n",
       "3    대방어린이                    그림책 탐험대(초등)        어린이        NaN\n",
       "4      NaN               대상 : 초등1~2학년 10명        NaN        NaN\n",
       "..     ...                            ...        ...        ...\n",
       "175    NaN                대상 : 초등4~6학년 8명        NaN        NaN\n",
       "176    NaN                 장소 : 온라인(zoom)        NaN        NaN\n",
       "177  대방어린이              청소년 독서동아리(북씨앗) 모집        청소년        NaN\n",
       "178    NaN              대상 : 중학생 1~3학년 5명        NaN        NaN\n",
       "179    NaN                 장소 : 온라인(zoom)        NaN        NaN\n",
       "\n",
       "[180 rows x 4 columns]"
      ]
     },
     "execution_count": 52,
     "metadata": {},
     "output_type": "execute_result"
    }
   ],
   "source": [
    "dj"
   ]
  },
  {
   "cell_type": "code",
   "execution_count": null,
   "id": "5890a2eb-12c9-4def-86a8-b86df2cf68cb",
   "metadata": {},
   "outputs": [],
   "source": []
  }
 ],
 "metadata": {
  "kernelspec": {
   "display_name": "Python 3 (ipykernel)",
   "language": "python",
   "name": "python3"
  },
  "language_info": {
   "codemirror_mode": {
    "name": "ipython",
    "version": 3
   },
   "file_extension": ".py",
   "mimetype": "text/x-python",
   "name": "python",
   "nbconvert_exporter": "python",
   "pygments_lexer": "ipython3",
   "version": "3.9.12"
  },
  "toc": {
   "base_numbering": 1,
   "nav_menu": {},
   "number_sections": true,
   "sideBar": true,
   "skip_h1_title": false,
   "title_cell": "Table of Contents",
   "title_sidebar": "Contents",
   "toc_cell": false,
   "toc_position": {},
   "toc_section_display": true,
   "toc_window_display": false
  }
 },
 "nbformat": 4,
 "nbformat_minor": 5
}

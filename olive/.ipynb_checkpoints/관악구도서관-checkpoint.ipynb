{
 "cells": [
  {
   "cell_type": "markdown",
   "id": "8d68a80d-2869-4e1f-847c-20db11414bf5",
   "metadata": {
    "tags": []
   },
   "source": [
    "## 파이차트"
   ]
  },
  {
   "cell_type": "code",
   "execution_count": 3,
   "id": "e10573a0-a3fe-4462-9703-63c7d330de69",
   "metadata": {},
   "outputs": [
    {
     "data": {
      "text/html": [
       "<div>\n",
       "<style scoped>\n",
       "    .dataframe tbody tr th:only-of-type {\n",
       "        vertical-align: middle;\n",
       "    }\n",
       "\n",
       "    .dataframe tbody tr th {\n",
       "        vertical-align: top;\n",
       "    }\n",
       "\n",
       "    .dataframe thead th {\n",
       "        text-align: right;\n",
       "    }\n",
       "</style>\n",
       "<table border=\"1\" class=\"dataframe\">\n",
       "  <thead>\n",
       "    <tr style=\"text-align: right;\">\n",
       "      <th></th>\n",
       "      <th>title</th>\n",
       "      <th>target</th>\n",
       "    </tr>\n",
       "  </thead>\n",
       "  <tbody>\n",
       "    <tr>\n",
       "      <th>0</th>\n",
       "      <td>사서와 함께 하는 별별 그림책 탐독 시간</td>\n",
       "      <td>어린이</td>\n",
       "    </tr>\n",
       "    <tr>\n",
       "      <th>1</th>\n",
       "      <td>&lt;종말의 아이들&gt; 출간 기념 북토크</td>\n",
       "      <td>전연령</td>\n",
       "    </tr>\n",
       "    <tr>\n",
       "      <th>2</th>\n",
       "      <td>[봉현 X 피치마켓] 찾아가는 시니어 디지털 금융교육 (1기 , 2기 접수)</td>\n",
       "      <td>성인</td>\n",
       "    </tr>\n",
       "    <tr>\n",
       "      <th>3</th>\n",
       "      <td>(Zoom)아주 아주 느슨한 그림책 독서모임 2기</td>\n",
       "      <td>성인</td>\n",
       "    </tr>\n",
       "    <tr>\n",
       "      <th>4</th>\n",
       "      <td>(Zoom)우리아이 문해력을 키우는 그림책 북큐레이션</td>\n",
       "      <td>성인</td>\n",
       "    </tr>\n",
       "    <tr>\n",
       "      <th>5</th>\n",
       "      <td>독서아카데미 '일상의 쉼표, 여행' 김요한의 &lt;MBTI, 나와 너를 이어주는 다리&gt;</td>\n",
       "      <td>전연령</td>\n",
       "    </tr>\n",
       "    <tr>\n",
       "      <th>6</th>\n",
       "      <td>2022 도서관다문화서비스 지원사업 – 작가와의 만남 : 우리는 모두 달라요</td>\n",
       "      <td>어린이</td>\n",
       "    </tr>\n",
       "    <tr>\n",
       "      <th>7</th>\n",
       "      <td>북아트로 고려를 알아보자go~</td>\n",
       "      <td>어린이</td>\n",
       "    </tr>\n",
       "    <tr>\n",
       "      <th>8</th>\n",
       "      <td>[현재 접수중입니다] 소소(小笑) 인문살롱 2. _ 책이는당나귀</td>\n",
       "      <td>성인</td>\n",
       "    </tr>\n",
       "    <tr>\n",
       "      <th>9</th>\n",
       "      <td>[현재 접수중입니다] 소소(小笑) 인문살롱 1. _자상한시간</td>\n",
       "      <td>성인</td>\n",
       "    </tr>\n",
       "    <tr>\n",
       "      <th>10</th>\n",
       "      <td>[현재 접수중입니다] 소소(小笑) 인문살롱 3. _ 밝은책방</td>\n",
       "      <td>성인</td>\n",
       "    </tr>\n",
       "    <tr>\n",
       "      <th>11</th>\n",
       "      <td>[현재 접수중입니다] 소소(小笑) 인문살롱 4. _ 이나영책방</td>\n",
       "      <td>전연령</td>\n",
       "    </tr>\n",
       "    <tr>\n",
       "      <th>12</th>\n",
       "      <td>정명섭 작가와 함께하는 \"도서관 1열\"</td>\n",
       "      <td>청소년</td>\n",
       "    </tr>\n",
       "    <tr>\n",
       "      <th>13</th>\n",
       "      <td>초등학생을 위한 \"여름방학 독서클라쓰(고학년)\" 추가 모집</td>\n",
       "      <td>어린이</td>\n",
       "    </tr>\n",
       "    <tr>\n",
       "      <th>14</th>\n",
       "      <td>독서와 함께하는 여름밤의 DJ</td>\n",
       "      <td>전연령</td>\n",
       "    </tr>\n",
       "    <tr>\n",
       "      <th>15</th>\n",
       "      <td>초등과학 프로그램 '도서관에서 우주와 놀자!'</td>\n",
       "      <td>어린이</td>\n",
       "    </tr>\n",
       "    <tr>\n",
       "      <th>16</th>\n",
       "      <td>광복절 맞이 필사행사 『하늘과바람과별과시』</td>\n",
       "      <td>전연령</td>\n",
       "    </tr>\n",
       "    <tr>\n",
       "      <th>17</th>\n",
       "      <td>[2022 한 주제로 함께 읽기] 내 멋대로 따라 그리기! (현장참여)</td>\n",
       "      <td>어린이</td>\n",
       "    </tr>\n",
       "    <tr>\n",
       "      <th>18</th>\n",
       "      <td>[푸른숲작은도서관] 추석, 마음을 담은 선물포장수업</td>\n",
       "      <td>성인</td>\n",
       "    </tr>\n",
       "  </tbody>\n",
       "</table>\n",
       "</div>"
      ],
      "text/plain": [
       "                                             title target\n",
       "0                           사서와 함께 하는 별별 그림책 탐독 시간    어린이\n",
       "1                              <종말의 아이들> 출간 기념 북토크    전연령\n",
       "2       [봉현 X 피치마켓] 찾아가는 시니어 디지털 금융교육 (1기 , 2기 접수)     성인\n",
       "3                      (Zoom)아주 아주 느슨한 그림책 독서모임 2기     성인\n",
       "4                    (Zoom)우리아이 문해력을 키우는 그림책 북큐레이션     성인\n",
       "5   독서아카데미 '일상의 쉼표, 여행' 김요한의 <MBTI, 나와 너를 이어주는 다리>    전연령\n",
       "6       2022 도서관다문화서비스 지원사업 – 작가와의 만남 : 우리는 모두 달라요    어린이\n",
       "7                                 북아트로 고려를 알아보자go~    어린이\n",
       "8              [현재 접수중입니다] 소소(小笑) 인문살롱 2. _ 책이는당나귀     성인\n",
       "9                [현재 접수중입니다] 소소(小笑) 인문살롱 1. _자상한시간     성인\n",
       "10               [현재 접수중입니다] 소소(小笑) 인문살롱 3. _ 밝은책방     성인\n",
       "11              [현재 접수중입니다] 소소(小笑) 인문살롱 4. _ 이나영책방    전연령\n",
       "12                           정명섭 작가와 함께하는 \"도서관 1열\"    청소년\n",
       "13                초등학생을 위한 \"여름방학 독서클라쓰(고학년)\" 추가 모집    어린이\n",
       "14                                독서와 함께하는 여름밤의 DJ    전연령\n",
       "15                       초등과학 프로그램 '도서관에서 우주와 놀자!'    어린이\n",
       "16                         광복절 맞이 필사행사 『하늘과바람과별과시』    전연령\n",
       "17         [2022 한 주제로 함께 읽기] 내 멋대로 따라 그리기! (현장참여)    어린이\n",
       "18                    [푸른숲작은도서관] 추석, 마음을 담은 선물포장수업     성인"
      ]
     },
     "execution_count": 3,
     "metadata": {},
     "output_type": "execute_result"
    }
   ],
   "source": [
    "import pandas as pd \n",
    "\n",
    "gwanak = pd.read_csv('gwanak.csv')\n",
    "gwanak.drop(columns=['Unnamed: 0', '대상'], inplace=True)\n",
    "gwanak"
   ]
  },
  {
   "cell_type": "code",
   "execution_count": 11,
   "id": "f8fe144c-6614-48e5-b630-2ff936be310e",
   "metadata": {},
   "outputs": [],
   "source": [
    "gwanak_program_tally = gwanak.groupby('target').count()\n",
    "gwanak_program_tally\n",
    "# gwanak_program_tally=gwanak_program_tally.reindex(index=['중장년','성인','청소년','어린이','전연령'])\n",
    "gwanak_program_tally.index = ['성인','청소년','어린이','전연령']"
   ]
  },
  {
   "cell_type": "code",
   "execution_count": 12,
   "id": "2e4a869d-2304-4132-86e2-cb299d9d8e55",
   "metadata": {},
   "outputs": [
    {
     "data": {
      "image/png": "[encoded data removed]",
      "text/plain": [
       "<Figure size 720x432 with 1 Axes>"
      ]
     },
     "metadata": {},
     "output_type": "display_data"
    }
   ],
   "source": [
    "import matplotlib.pyplot as plt\n",
    "import numpy as np\n",
    "import seaborn as sns\n",
    "\n",
    "from matplotlib import font_manager, rc\n",
    "rc('font', family='AppleGothic')\n",
    "plt.rcParams['axes.unicode_minus'] = False\n",
    "\n",
    "y = np.array(gwanak_program_tally['title'].tolist())\n",
    "labels = gwanak_program_tally.index.tolist()\n",
    "\n",
    "colors = sns.color_palette('pastel')[0:9]\n",
    "\n",
    "plt.figure(figsize=(10, 6))\n",
    "plt.pie(y, labels=labels, colors = colors, autopct='%.0f%%')\n",
    "plt.show() "
   ]
  },
  {
   "cell_type": "markdown",
   "id": "4635b8bd-27ae-4126-a348-6fec5cf11fe8",
   "metadata": {},
   "source": [
    "# 워드클라우드"
   ]
  },
  {
   "cell_type": "markdown",
   "id": "01f9935a-4614-4536-8159-fdc58f3f3628",
   "metadata": {
    "tags": []
   },
   "source": [
    "# 서대문구"
   ]
  },
  {
   "cell_type": "code",
   "execution_count": 31,
   "id": "d864176e-e51a-4e0c-8b96-8a3d3ec152a8",
   "metadata": {},
   "outputs": [],
   "source": [
    "import pandas as pd\n",
    "\n",
    "idx = ['성인', '청소년', '어린이', '중장년', '전연령']\n",
    "count = [19, 8, 32, 0, 10]"
   ]
  },
  {
   "cell_type": "code",
   "execution_count": 38,
   "id": "fee5ec79-ad01-4e3e-bd7d-54a934876561",
   "metadata": {},
   "outputs": [
    {
     "data": {
      "text/html": [
       "<div>\n",
       "<style scoped>\n",
       "    .dataframe tbody tr th:only-of-type {\n",
       "        vertical-align: middle;\n",
       "    }\n",
       "\n",
       "    .dataframe tbody tr th {\n",
       "        vertical-align: top;\n",
       "    }\n",
       "\n",
       "    .dataframe thead th {\n",
       "        text-align: right;\n",
       "    }\n",
       "</style>\n",
       "<table border=\"1\" class=\"dataframe\">\n",
       "  <thead>\n",
       "    <tr style=\"text-align: right;\">\n",
       "      <th></th>\n",
       "      <th>갯수</th>\n",
       "    </tr>\n",
       "  </thead>\n",
       "  <tbody>\n",
       "    <tr>\n",
       "      <th>성인</th>\n",
       "      <td>19</td>\n",
       "    </tr>\n",
       "    <tr>\n",
       "      <th>청소년</th>\n",
       "      <td>8</td>\n",
       "    </tr>\n",
       "    <tr>\n",
       "      <th>어린이</th>\n",
       "      <td>32</td>\n",
       "    </tr>\n",
       "    <tr>\n",
       "      <th>중장년</th>\n",
       "      <td>0</td>\n",
       "    </tr>\n",
       "    <tr>\n",
       "      <th>전연령</th>\n",
       "      <td>10</td>\n",
       "    </tr>\n",
       "  </tbody>\n",
       "</table>\n",
       "</div>"
      ],
      "text/plain": [
       "     갯수\n",
       "성인   19\n",
       "청소년   8\n",
       "어린이  32\n",
       "중장년   0\n",
       "전연령  10"
      ]
     },
     "execution_count": 38,
     "metadata": {},
     "output_type": "execute_result"
    }
   ],
   "source": [
    "seodaemun = pd.DataFrame(index=idx,columns=['갯수'])\n",
    "seodaemun['갯수']=count\n",
    "seodaemun"
   ]
  },
  {
   "cell_type": "code",
   "execution_count": 39,
   "id": "9e0301fb-16d0-4bf2-9b48-c9e489bcafa8",
   "metadata": {},
   "outputs": [
    {
     "data": {
      "image/png": "[encoded data removed]",
      "text/plain": [
       "<Figure size 720x432 with 1 Axes>"
      ]
     },
     "metadata": {},
     "output_type": "display_data"
    }
   ],
   "source": [
    "import matplotlib.pyplot as plt\n",
    "import numpy as np\n",
    "import seaborn as sns\n",
    "\n",
    "from matplotlib import font_manager, rc\n",
    "rc('font', family='AppleGothic')\n",
    "plt.rcParams['axes.unicode_minus'] = False\n",
    "\n",
    "y = np.array(seodaemun['갯수'].tolist())\n",
    "labels = seodaemun.index.tolist()\n",
    "\n",
    "colors = sns.color_palette('pastel')[0:9]\n",
    "\n",
    "plt.figure(figsize=(10, 6))\n",
    "plt.pie(y, labels=labels, colors = colors, autopct='%.0f%%')\n",
    "plt.show() "
   ]
  },
  {
   "cell_type": "markdown",
   "id": "192ebb2e-6556-42cb-8f84-465f59d5945d",
   "metadata": {},
   "source": [
    "# 마포구"
   ]
  },
  {
   "cell_type": "code",
   "execution_count": 53,
   "id": "2ed1518b-81e6-4014-bbec-9b30582e3327",
   "metadata": {},
   "outputs": [
    {
     "data": {
      "text/html": [
       "<div>\n",
       "<style scoped>\n",
       "    .dataframe tbody tr th:only-of-type {\n",
       "        vertical-align: middle;\n",
       "    }\n",
       "\n",
       "    .dataframe tbody tr th {\n",
       "        vertical-align: top;\n",
       "    }\n",
       "\n",
       "    .dataframe thead th {\n",
       "        text-align: right;\n",
       "    }\n",
       "</style>\n",
       "<table border=\"1\" class=\"dataframe\">\n",
       "  <thead>\n",
       "    <tr style=\"text-align: right;\">\n",
       "      <th></th>\n",
       "      <th>title</th>\n",
       "      <th>대상</th>\n",
       "    </tr>\n",
       "  </thead>\n",
       "  <tbody>\n",
       "    <tr>\n",
       "      <th>0</th>\n",
       "      <td>마포중앙도서관 어린이 북튜버 모집(심화과정)</td>\n",
       "      <td>어린이</td>\n",
       "    </tr>\n",
       "    <tr>\n",
       "      <th>1</th>\n",
       "      <td>[북스타트] 8월 스토리텔링이 있는 북스타트 데이</td>\n",
       "      <td>중장년</td>\n",
       "    </tr>\n",
       "    <tr>\n",
       "      <th>2</th>\n",
       "      <td>[제12회 책축제] 공간의 격차, 빈부의 격차 그리고 미래의 격차</td>\n",
       "      <td>성인</td>\n",
       "    </tr>\n",
       "    <tr>\n",
       "      <th>3</th>\n",
       "      <td>[제12회 책축제] 우리 아이들이 살아갈 세상 이야기 '메타버스와 버츄얼 휴먼'</td>\n",
       "      <td>성인</td>\n",
       "    </tr>\n",
       "    <tr>\n",
       "      <th>4</th>\n",
       "      <td>[제12회 책축제] 누리호 개발 및 향후계획</td>\n",
       "      <td>성인</td>\n",
       "    </tr>\n",
       "    <tr>\n",
       "      <th>...</th>\n",
       "      <td>...</td>\n",
       "      <td>...</td>\n",
       "    </tr>\n",
       "    <tr>\n",
       "      <th>121</th>\n",
       "      <td>마중도  어린이 북큐레이터 (초5,6)</td>\n",
       "      <td>어린이</td>\n",
       "    </tr>\n",
       "    <tr>\n",
       "      <th>122</th>\n",
       "      <td>[어린이 다문화 상호이해 프로그램] 음악으로 만나는 다문화세상</td>\n",
       "      <td>어린이</td>\n",
       "    </tr>\n",
       "    <tr>\n",
       "      <th>123</th>\n",
       "      <td>★ 추가모집 - 〈동서양 역사 속의 질병과 의학 이야기〉 백신의 글로벌 확산과 두창...</td>\n",
       "      <td>성인</td>\n",
       "    </tr>\n",
       "    <tr>\n",
       "      <th>124</th>\n",
       "      <td>'아티스트웨이' 프로그램</td>\n",
       "      <td>중장년</td>\n",
       "    </tr>\n",
       "    <tr>\n",
       "      <th>125</th>\n",
       "      <td>〈동서양 역사 속의 질병과 의학 이야기〉 두창과 인류 최초의 백신 (1회차)</td>\n",
       "      <td>성인</td>\n",
       "    </tr>\n",
       "  </tbody>\n",
       "</table>\n",
       "<p>126 rows × 2 columns</p>\n",
       "</div>"
      ],
      "text/plain": [
       "                                                 title   대상\n",
       "0                             마포중앙도서관 어린이 북튜버 모집(심화과정)  어린이\n",
       "1                          [북스타트] 8월 스토리텔링이 있는 북스타트 데이  중장년\n",
       "2                 [제12회 책축제] 공간의 격차, 빈부의 격차 그리고 미래의 격차   성인\n",
       "3         [제12회 책축제] 우리 아이들이 살아갈 세상 이야기 '메타버스와 버츄얼 휴먼'   성인\n",
       "4                             [제12회 책축제] 누리호 개발 및 향후계획   성인\n",
       "..                                                 ...  ...\n",
       "121                              마중도  어린이 북큐레이터 (초5,6)  어린이\n",
       "122                 [어린이 다문화 상호이해 프로그램] 음악으로 만나는 다문화세상  어린이\n",
       "123  ★ 추가모집 - 〈동서양 역사 속의 질병과 의학 이야기〉 백신의 글로벌 확산과 두창...   성인\n",
       "124                                      '아티스트웨이' 프로그램  중장년\n",
       "125         〈동서양 역사 속의 질병과 의학 이야기〉 두창과 인류 최초의 백신 (1회차)   성인\n",
       "\n",
       "[126 rows x 2 columns]"
      ]
     },
     "execution_count": 53,
     "metadata": {},
     "output_type": "execute_result"
    }
   ],
   "source": [
    "import pandas as pd \n",
    "\n",
    "mapo = pd.read_csv('mapo (1).csv')\n",
    "mapo.drop(columns=['Unnamed: 0', '행사일시', '참가료', '장소', '번호'], inplace=True)\n",
    "mapo"
   ]
  },
  {
   "cell_type": "code",
   "execution_count": 57,
   "id": "5b146080-9dc3-44c0-891c-574a03ab15cd",
   "metadata": {},
   "outputs": [],
   "source": [
    "mapo_program_tally = mapo.groupby('대상').count()\n",
    "mapo_program_tally=mapo_program_tally.reindex(index=['중장년','성인','청소년','어린이','전연령'])\n",
    "#gangbuk_program_tally.index = ['청장년', '어린이', '전연령', '중노년', '청소년']"
   ]
  },
  {
   "cell_type": "code",
   "execution_count": 55,
   "id": "5da9b264-f202-4fa3-a2ab-1642644c907e",
   "metadata": {},
   "outputs": [
    {
     "data": {
      "text/html": [
       "<div>\n",
       "<style scoped>\n",
       "    .dataframe tbody tr th:only-of-type {\n",
       "        vertical-align: middle;\n",
       "    }\n",
       "\n",
       "    .dataframe tbody tr th {\n",
       "        vertical-align: top;\n",
       "    }\n",
       "\n",
       "    .dataframe thead th {\n",
       "        text-align: right;\n",
       "    }\n",
       "</style>\n",
       "<table border=\"1\" class=\"dataframe\">\n",
       "  <thead>\n",
       "    <tr style=\"text-align: right;\">\n",
       "      <th></th>\n",
       "      <th>title</th>\n",
       "    </tr>\n",
       "    <tr>\n",
       "      <th>대상</th>\n",
       "      <th></th>\n",
       "    </tr>\n",
       "  </thead>\n",
       "  <tbody>\n",
       "    <tr>\n",
       "      <th>성인</th>\n",
       "      <td>50</td>\n",
       "    </tr>\n",
       "    <tr>\n",
       "      <th>어린이</th>\n",
       "      <td>40</td>\n",
       "    </tr>\n",
       "    <tr>\n",
       "      <th>전연령</th>\n",
       "      <td>12</td>\n",
       "    </tr>\n",
       "    <tr>\n",
       "      <th>중장년</th>\n",
       "      <td>23</td>\n",
       "    </tr>\n",
       "    <tr>\n",
       "      <th>청소년</th>\n",
       "      <td>1</td>\n",
       "    </tr>\n",
       "  </tbody>\n",
       "</table>\n",
       "</div>"
      ],
      "text/plain": [
       "     title\n",
       "대상        \n",
       "성인      50\n",
       "어린이     40\n",
       "전연령     12\n",
       "중장년     23\n",
       "청소년      1"
      ]
     },
     "execution_count": 55,
     "metadata": {},
     "output_type": "execute_result"
    }
   ],
   "source": [
    "mapo_program_tally"
   ]
  },
  {
   "cell_type": "code",
   "execution_count": 58,
   "id": "f74e5cbd-8ed6-428a-818f-6862aa03a3bf",
   "metadata": {},
   "outputs": [
    {
     "data": {
      "image/png": "[encoded data removed]",
      "text/plain": [
       "<Figure size 720x432 with 1 Axes>"
      ]
     },
     "metadata": {},
     "output_type": "display_data"
    }
   ],
   "source": [
    "import matplotlib.pyplot as plt\n",
    "import numpy as np\n",
    "import seaborn as sns\n",
    "\n",
    "from matplotlib import font_manager, rc\n",
    "rc('font', family='AppleGothic')\n",
    "plt.rcParams['axes.unicode_minus'] = False\n",
    "\n",
    "y = np.array(mapo_program_tally['title'].tolist())\n",
    "labels = mapo_program_tally.index.tolist()\n",
    "\n",
    "colors = sns.color_palette('pastel')[0:5]\n",
    "\n",
    "plt.figure(figsize=(10, 6))\n",
    "plt.pie(y, labels=labels, colors = colors, autopct='%.0f%%')\n",
    "plt.show() "
   ]
  },
  {
   "cell_type": "code",
   "execution_count": null,
   "id": "a3c9c5fb-c78b-43f7-b60f-1845b6a8c73b",
   "metadata": {},
   "outputs": [],
   "source": []
  }
 ],
 "metadata": {
  "kernelspec": {
   "display_name": "Python 3 (ipykernel)",
   "language": "python",
   "name": "python3"
  },
  "language_info": {
   "codemirror_mode": {
    "name": "ipython",
    "version": 3
   },
   "file_extension": ".py",
   "mimetype": "text/x-python",
   "name": "python",
   "nbconvert_exporter": "python",
   "pygments_lexer": "ipython3",
   "version": "3.9.12"
  }
 },
 "nbformat": 4,
 "nbformat_minor": 5
}

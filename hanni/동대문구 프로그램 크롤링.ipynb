{
 "cells": [
  {
   "cell_type": "code",
   "execution_count": null,
   "id": "de0d7ac5-cfbe-4829-8805-671f1e120423",
   "metadata": {
    "tags": []
   },
   "outputs": [],
   "source": [
    "강동구 \n",
    "강서구 \n",
    "서초구\n",
    "송파구\n",
    "양천구\n",
    "은평구\n",
    "중구"
   ]
  },
  {
   "cell_type": "code",
   "execution_count": 2,
   "id": "35f5b62b",
   "metadata": {
    "tags": []
   },
   "outputs": [
    {
     "data": {
      "text/html": [
       "<div>\n",
       "<style scoped>\n",
       "    .dataframe tbody tr th:only-of-type {\n",
       "        vertical-align: middle;\n",
       "    }\n",
       "\n",
       "    .dataframe tbody tr th {\n",
       "        vertical-align: top;\n",
       "    }\n",
       "\n",
       "    .dataframe thead th {\n",
       "        text-align: right;\n",
       "    }\n",
       "</style>\n",
       "<table border=\"1\" class=\"dataframe\">\n",
       "  <thead>\n",
       "    <tr style=\"text-align: right;\">\n",
       "      <th></th>\n",
       "      <th>title</th>\n",
       "      <th>target</th>\n",
       "    </tr>\n",
       "  </thead>\n",
       "  <tbody>\n",
       "  </tbody>\n",
       "</table>\n",
       "</div>"
      ],
      "text/plain": [
       "Empty DataFrame\n",
       "Columns: [title, target]\n",
       "Index: []"
      ]
     },
     "execution_count": 2,
     "metadata": {},
     "output_type": "execute_result"
    }
   ],
   "source": [
    "import pandas as pd\n",
    "ddm_df = pd.DataFrame(columns = ['title','target'])\n",
    "ddm_df"
   ]
  },
  {
   "cell_type": "code",
   "execution_count": 3,
   "id": "56602dde-3cbf-4679-a094-50eb82aac04a",
   "metadata": {},
   "outputs": [
    {
     "data": {
      "text/html": [
       "<div>\n",
       "<style scoped>\n",
       "    .dataframe tbody tr th:only-of-type {\n",
       "        vertical-align: middle;\n",
       "    }\n",
       "\n",
       "    .dataframe tbody tr th {\n",
       "        vertical-align: top;\n",
       "    }\n",
       "\n",
       "    .dataframe thead th {\n",
       "        text-align: right;\n",
       "    }\n",
       "</style>\n",
       "<table border=\"1\" class=\"dataframe\">\n",
       "  <thead>\n",
       "    <tr style=\"text-align: right;\">\n",
       "      <th></th>\n",
       "      <th>title</th>\n",
       "      <th>target</th>\n",
       "    </tr>\n",
       "  </thead>\n",
       "  <tbody>\n",
       "  </tbody>\n",
       "</table>\n",
       "</div>"
      ],
      "text/plain": [
       "Empty DataFrame\n",
       "Columns: [title, target]\n",
       "Index: []"
      ]
     },
     "execution_count": 3,
     "metadata": {},
     "output_type": "execute_result"
    }
   ],
   "source": [
    "from bs4 import BeautifulSoup\n",
    "import requests\n",
    "\n",
    "\n",
    "#main_content > div > ul > li > dl > dt > a\n",
    "\n",
    "\n",
    "ind = 0 #행번호\n",
    "\n",
    "for i in range(1,11): #range안에는 페이지수, 넉넉하게 넣기 #여기는 15페이지까지 가겠네  \n",
    "    url = 'https://ddmlib.sen.go.kr/ddmlib/module/teach/index.do?menu_idx=15&searchCate1=16'\n",
    "    headers = {\"User-Agent\":\"Mozilla/5.0 (Windows NT 10.0; Win64; x64) AppleWebKit/537.36 (KHTML, like Gecko) Chrome/96.0.4664.45 Safari/537.36\"}\n",
    "    ddm = requests.get(url, headers = headers)\n",
    "    bs = BeautifulSoup(ddm.text, 'html.parser')\n",
    "    \n",
    "    for j in range(1,13):\n",
    "        try:\n",
    "            title = bs.select_one('#teach > ul > a:nth-child('+str(j)+') > li > div.list_area > div > b').text\n",
    "            target = bs.select_one('#teach > ul > a:nth-child('+str(j)+') > li > div.list_area > ul > li:nth-child(3)').text\n",
    "            ddm_df.loc[ind] = [lib, title, target]\n",
    "            ind += 1\n",
    "        except:\n",
    "            pass\n",
    "\n",
    "\n",
    "ddm_df"
   ]
  },
  {
   "cell_type": "code",
   "execution_count": 51,
   "id": "4fdf498b-9a2e-483c-9f48-dda1d47dc758",
   "metadata": {},
   "outputs": [
    {
     "data": {
      "text/html": [
       "<div>\n",
       "<style scoped>\n",
       "    .dataframe tbody tr th:only-of-type {\n",
       "        vertical-align: middle;\n",
       "    }\n",
       "\n",
       "    .dataframe tbody tr th {\n",
       "        vertical-align: top;\n",
       "    }\n",
       "\n",
       "    .dataframe thead th {\n",
       "        text-align: right;\n",
       "    }\n",
       "</style>\n",
       "<table border=\"1\" class=\"dataframe\">\n",
       "  <thead>\n",
       "    <tr style=\"text-align: right;\">\n",
       "      <th></th>\n",
       "      <th>lib</th>\n",
       "      <th>title</th>\n",
       "      <th>target</th>\n",
       "    </tr>\n",
       "  </thead>\n",
       "  <tbody>\n",
       "    <tr>\n",
       "      <th>0</th>\n",
       "      <td>공통</td>\n",
       "      <td>[2022 강동북페스티벌] 이동진 김중혁의 덕후라이프</td>\n",
       "      <td>14세이상</td>\n",
       "    </tr>\n",
       "    <tr>\n",
       "      <th>1</th>\n",
       "      <td>해공</td>\n",
       "      <td>[신중년 특화 프로그램] 9월 신중년 1:1 취업 상담</td>\n",
       "      <td>신중년(50+)</td>\n",
       "    </tr>\n",
       "    <tr>\n",
       "      <th>2</th>\n",
       "      <td>암사</td>\n",
       "      <td>[암사도서관 커뮤니티] 책꼬지</td>\n",
       "      <td>그림책을 좋아하는 자녀가 있는 엄마</td>\n",
       "    </tr>\n",
       "    <tr>\n",
       "      <th>3</th>\n",
       "      <td>천호</td>\n",
       "      <td>[모집] 천호도서관 다문화 이해 전통놀이 체험 프로그램 「함께 이해하는 온마을i」</td>\n",
       "      <td>7~9세 아동 10명</td>\n",
       "    </tr>\n",
       "    <tr>\n",
       "      <th>4</th>\n",
       "      <td>해공</td>\n",
       "      <td>[디지털배움터] 나도 사진 작가 되기</td>\n",
       "      <td>신중년(50+)</td>\n",
       "    </tr>\n",
       "    <tr>\n",
       "      <th>...</th>\n",
       "      <td>...</td>\n",
       "      <td>...</td>\n",
       "      <td>...</td>\n",
       "    </tr>\n",
       "    <tr>\n",
       "      <th>475</th>\n",
       "      <td>해공</td>\n",
       "      <td>[디지털배움터] 구글 세계에 빠져보기</td>\n",
       "      <td>신중년(50+)</td>\n",
       "    </tr>\n",
       "    <tr>\n",
       "      <th>476</th>\n",
       "      <td>성내</td>\n",
       "      <td>성내 창업성공멘토특강 [9월]</td>\n",
       "      <td>성인</td>\n",
       "    </tr>\n",
       "    <tr>\n",
       "      <th>477</th>\n",
       "      <td>둔촌</td>\n",
       "      <td>[모집] 힐링 독서 교실 &lt;메타버스 북-트레일러&gt;</td>\n",
       "      <td>초등 4~6학년</td>\n",
       "    </tr>\n",
       "    <tr>\n",
       "      <th>478</th>\n",
       "      <td>강일</td>\n",
       "      <td>[모집] 「엄마 심리 수업」 윤우상 작가 강연</td>\n",
       "      <td>성인</td>\n",
       "    </tr>\n",
       "    <tr>\n",
       "      <th>479</th>\n",
       "      <td>해공</td>\n",
       "      <td>[모집] &lt;미물일기&gt; 진고로호 작가 북토크 &amp; 미물 드로잉</td>\n",
       "      <td>청소년이상 20명</td>\n",
       "    </tr>\n",
       "  </tbody>\n",
       "</table>\n",
       "<p>480 rows × 3 columns</p>\n",
       "</div>"
      ],
      "text/plain": [
       "    lib                                          title                target\n",
       "0    공통                  [2022 강동북페스티벌] 이동진 김중혁의 덕후라이프                14세이상 \n",
       "1    해공                [신중년 특화 프로그램] 9월 신중년 1:1 취업 상담               신중년(50+)\n",
       "2    암사                               [암사도서관 커뮤니티] 책꼬지   그림책을 좋아하는 자녀가 있는 엄마\n",
       "3    천호  [모집] 천호도서관 다문화 이해 전통놀이 체험 프로그램 「함께 이해하는 온마을i」           7~9세 아동 10명\n",
       "4    해공                           [디지털배움터] 나도 사진 작가 되기              신중년(50+)\n",
       "..   ..                                            ...                   ...\n",
       "475  해공                          [디지털배움터] 구글 세계에 빠져보기               신중년(50+)\n",
       "476  성내                               성내 창업성공멘토특강 [9월]                    성인\n",
       "477  둔촌                    [모집] 힐링 독서 교실 <메타버스 북-트레일러>              초등 4~6학년\n",
       "478  강일                      [모집] 「엄마 심리 수업」 윤우상 작가 강연                   성인 \n",
       "479  해공               [모집] <미물일기> 진고로호 작가 북토크 & 미물 드로잉             청소년이상 20명\n",
       "\n",
       "[480 rows x 3 columns]"
      ]
     },
     "execution_count": 51,
     "metadata": {},
     "output_type": "execute_result"
    }
   ],
   "source": [
    "kd_df['target'] = kd_df['target'].str.replace('대상 :','')\n",
    "kd_df"
   ]
  },
  {
   "cell_type": "code",
   "execution_count": 52,
   "id": "27004dfc-84b4-43e8-bb63-a81ac2eb1734",
   "metadata": {},
   "outputs": [
    {
     "data": {
      "text/plain": [
       "[' 14세이상 ',\n",
       " ' 신중년(50+)',\n",
       " ' 그림책을 좋아하는 자녀가 있는 엄마',\n",
       " ' 7~9세 아동 10명',\n",
       " ' 성인',\n",
       " ' 초등 4~6학년',\n",
       " ' 성인 ',\n",
       " ' 청소년이상 20명']"
      ]
     },
     "execution_count": 52,
     "metadata": {},
     "output_type": "execute_result"
    }
   ],
   "source": [
    "kd_df.target.unique().tolist()"
   ]
  },
  {
   "cell_type": "code",
   "execution_count": 53,
   "id": "3cdee73d-9c68-4ae6-8c16-9138b6ed0159",
   "metadata": {},
   "outputs": [],
   "source": [
    "kd = kd_df.copy()"
   ]
  },
  {
   "cell_type": "code",
   "execution_count": 54,
   "id": "72ca3bff-7fbb-4547-959c-4d83c729eb40",
   "metadata": {},
   "outputs": [],
   "source": [
    "kd.loc[kd['target'].str.contains(r\" 초등 4~6학년\"),'target'] = '어린이'"
   ]
  },
  {
   "cell_type": "code",
   "execution_count": 55,
   "id": "bbe5277b-a675-4a19-9be2-961777e6d212",
   "metadata": {},
   "outputs": [],
   "source": [
    "kd.loc[kd['target'].str.contains(r\" 7~9세 아동 10명\"),'target'] = '어린이'"
   ]
  },
  {
   "cell_type": "code",
   "execution_count": 56,
   "id": "065811ef-e966-47fd-b4f5-9d0025908b12",
   "metadata": {},
   "outputs": [],
   "source": [
    "kd.loc[kd['target'].str.contains(r\" 14세이상 \"),'target'] = '청소년'"
   ]
  },
  {
   "cell_type": "code",
   "execution_count": 57,
   "id": "6cd9c1ce-8e2e-4f5b-b61a-69025ee0ca70",
   "metadata": {},
   "outputs": [],
   "source": [
    "kd.loc[kd['target'].str.contains(r\" 성인\"),'target'] = '성인'"
   ]
  },
  {
   "cell_type": "code",
   "execution_count": 58,
   "id": "e52fc70c-be3f-44c6-b2d0-c2478c94b5b7",
   "metadata": {},
   "outputs": [],
   "source": [
    "kd.loc[kd['target'].str.contains(r\" 성인 \"),'target'] = '성인'"
   ]
  },
  {
   "cell_type": "code",
   "execution_count": 59,
   "id": "fa58d67c-d15a-4f27-be30-c249c5a086ec",
   "metadata": {},
   "outputs": [],
   "source": [
    "kd.loc[kd['target'].str.contains(r\" 청소년이상 20명\"),'target'] = '전연령'"
   ]
  },
  {
   "cell_type": "code",
   "execution_count": 60,
   "id": "b3815497-b6ab-4faf-ae9f-3e49b8c3257c",
   "metadata": {},
   "outputs": [],
   "source": [
    "kd.loc[kd['target'].str.contains(r\" 그림책을 좋아하는 자녀가 있는 엄마\"),'target'] = '성인'"
   ]
  },
  {
   "cell_type": "code",
   "execution_count": 61,
   "id": "1573a41d-1e4e-4e2b-afd6-c6c66a7e3ff3",
   "metadata": {},
   "outputs": [],
   "source": [
    "kd = kd.replace(' 신중년(50+)', '중장년')"
   ]
  },
  {
   "cell_type": "code",
   "execution_count": 62,
   "id": "c70ac9dc-94c5-45aa-9c16-16fb6893bf53",
   "metadata": {},
   "outputs": [
    {
     "data": {
      "text/plain": [
       "['청소년', '중장년', '성인', '어린이', '전연령']"
      ]
     },
     "execution_count": 62,
     "metadata": {},
     "output_type": "execute_result"
    }
   ],
   "source": [
    "kd.target.unique().tolist()"
   ]
  },
  {
   "cell_type": "code",
   "execution_count": 63,
   "id": "d8986618-392d-4343-80f6-a7dcc2d01328",
   "metadata": {},
   "outputs": [
    {
     "data": {
      "text/plain": [
       "중장년    144\n",
       "성인     144\n",
       "어린이     96\n",
       "청소년     48\n",
       "전연령     48\n",
       "Name: target, dtype: int64"
      ]
     },
     "execution_count": 63,
     "metadata": {},
     "output_type": "execute_result"
    }
   ],
   "source": [
    "kd.target.value_counts()"
   ]
  },
  {
   "cell_type": "code",
   "execution_count": 64,
   "id": "56a432e9-beed-4049-b769-bda616d69029",
   "metadata": {},
   "outputs": [],
   "source": [
    "kd.to_csv('kd_all.csv',encoding=\"utf-8-sig\", index=False)"
   ]
  },
  {
   "cell_type": "code",
   "execution_count": null,
   "id": "e5ca4477-ef63-41b7-baca-44c5c853612d",
   "metadata": {},
   "outputs": [],
   "source": []
  }
 ],
 "metadata": {
  "kernelspec": {
   "display_name": "Python 3 (ipykernel)",
   "language": "python",
   "name": "python3"
  },
  "language_info": {
   "codemirror_mode": {
    "name": "ipython",
    "version": 3
   },
   "file_extension": ".py",
   "mimetype": "text/x-python",
   "name": "python",
   "nbconvert_exporter": "python",
   "pygments_lexer": "ipython3",
   "version": "3.9.12"
  },
  "toc": {
   "base_numbering": 1,
   "nav_menu": {},
   "number_sections": true,
   "sideBar": true,
   "skip_h1_title": false,
   "title_cell": "Table of Contents",
   "title_sidebar": "Contents",
   "toc_cell": false,
   "toc_position": {},
   "toc_section_display": true,
   "toc_window_display": false
  }
 },
 "nbformat": 4,
 "nbformat_minor": 5
}

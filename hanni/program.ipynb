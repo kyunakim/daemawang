{
 "cells": [
  {
   "cell_type": "code",
   "execution_count": 1,
   "id": "aa90e0f6-a7ac-4eb1-ac43-991c6082ebbb",
   "metadata": {},
   "outputs": [],
   "source": [
    "import pandas as pd"
   ]
  },
  {
   "cell_type": "code",
   "execution_count": 2,
   "id": "fa28e612-c32d-4c83-8e32-eedc49f073f4",
   "metadata": {},
   "outputs": [],
   "source": [
    "# jan = pd.read_csv('/Users/thing/Desktop/dddd/NL_CUL_PROGRAM_202101.csv')\n",
    "# feb = pd.read_csv('/Users/thing/Desktop/dddd/NL_CUL_PROGRAM_202102.csv')\n",
    "# mar = pd.read_csv('/Users/thing/Desktop/dddd/NL_CUL_PROGRAM_202103.csv')\n",
    "# apr = pd.read_csv('/Users/thing/Desktop/dddd/NL_CUL_PROGRAM_202104.csv')\n",
    "# may = pd.read_csv('/Users/thing/Desktop/dddd/NL_CUL_PROGRAM_202105.csv')\n",
    "# jun = pd.read_csv('/Users/thing/Desktop/dddd/NL_CUL_PROGRAM_202106.csv')\n",
    "# jul = pd.read_csv('/Users/thing/Desktop/dddd/NL_CUL_PROGRAM_202107.csv')\n",
    "# aug = pd.read_csv('/Users/thing/Desktop/dddd/NL_CUL_PROGRAM_202108.csv')\n",
    "# sep = pd.read_csv('/Users/thing/Desktop/dddd/NL_CUL_PROGRAM_202109.csv')\n",
    "# octo = pd.read_csv('/Users/thing/Desktop/dddd/NL_CUL_PROGRAM_202110.csv')\n",
    "# nov = pd.read_csv('/Users/thing/Desktop/dddd/NL_CUL_PROGRAM_202111.csv')\n",
    "# dec = pd.read_csv('/Users/thing/Desktop/dddd/NL_CUL_PROGRAM_202112.csv') "
   ]
  },
  {
   "cell_type": "markdown",
   "id": "12e783d7-f71b-430e-a46a-74d9d060fa57",
   "metadata": {
    "tags": []
   },
   "source": [
    "### program 프로그램 정보"
   ]
  },
  {
   "cell_type": "code",
   "execution_count": 3,
   "id": "173f435c-dc08-4f7c-8227-0feeea1a8ef9",
   "metadata": {},
   "outputs": [
    {
     "ename": "FileNotFoundError",
     "evalue": "[Errno 2] No such file or directory: 'lib_culture_program.csv'",
     "output_type": "error",
     "traceback": [
      "\u001b[0;31m---------------------------------------------------------------------------\u001b[0m",
      "\u001b[0;31mFileNotFoundError\u001b[0m                         Traceback (most recent call last)",
      "Input \u001b[0;32mIn [3]\u001b[0m, in \u001b[0;36m<cell line: 2>\u001b[0;34m()\u001b[0m\n\u001b[1;32m      1\u001b[0m \u001b[38;5;66;03m#불필요 컬럼 삭제\u001b[39;00m\n\u001b[0;32m----> 2\u001b[0m program \u001b[38;5;241m=\u001b[39m \u001b[43mpd\u001b[49m\u001b[38;5;241;43m.\u001b[39;49m\u001b[43mread_csv\u001b[49m\u001b[43m(\u001b[49m\u001b[38;5;124;43m'\u001b[39;49m\u001b[38;5;124;43mlib_culture_program.csv\u001b[39;49m\u001b[38;5;124;43m'\u001b[39;49m\u001b[43m)\u001b[49m\n\u001b[1;32m      3\u001b[0m program\u001b[38;5;241m.\u001b[39mdrop(columns\u001b[38;5;241m=\u001b[39m[\u001b[38;5;124m'\u001b[39m\u001b[38;5;124mUnnamed: 0\u001b[39m\u001b[38;5;124m'\u001b[39m, \u001b[38;5;124m'\u001b[39m\u001b[38;5;124mno\u001b[39m\u001b[38;5;124m'\u001b[39m], axis\u001b[38;5;241m=\u001b[39m\u001b[38;5;241m1\u001b[39m, inplace\u001b[38;5;241m=\u001b[39m\u001b[38;5;28;01mTrue\u001b[39;00m)\n",
      "File \u001b[0;32m~/opt/anaconda3/lib/python3.9/site-packages/pandas/util/_decorators.py:311\u001b[0m, in \u001b[0;36mdeprecate_nonkeyword_arguments.<locals>.decorate.<locals>.wrapper\u001b[0;34m(*args, **kwargs)\u001b[0m\n\u001b[1;32m    305\u001b[0m \u001b[38;5;28;01mif\u001b[39;00m \u001b[38;5;28mlen\u001b[39m(args) \u001b[38;5;241m>\u001b[39m num_allow_args:\n\u001b[1;32m    306\u001b[0m     warnings\u001b[38;5;241m.\u001b[39mwarn(\n\u001b[1;32m    307\u001b[0m         msg\u001b[38;5;241m.\u001b[39mformat(arguments\u001b[38;5;241m=\u001b[39marguments),\n\u001b[1;32m    308\u001b[0m         \u001b[38;5;167;01mFutureWarning\u001b[39;00m,\n\u001b[1;32m    309\u001b[0m         stacklevel\u001b[38;5;241m=\u001b[39mstacklevel,\n\u001b[1;32m    310\u001b[0m     )\n\u001b[0;32m--> 311\u001b[0m \u001b[38;5;28;01mreturn\u001b[39;00m \u001b[43mfunc\u001b[49m\u001b[43m(\u001b[49m\u001b[38;5;241;43m*\u001b[39;49m\u001b[43margs\u001b[49m\u001b[43m,\u001b[49m\u001b[43m \u001b[49m\u001b[38;5;241;43m*\u001b[39;49m\u001b[38;5;241;43m*\u001b[39;49m\u001b[43mkwargs\u001b[49m\u001b[43m)\u001b[49m\n",
      "File \u001b[0;32m~/opt/anaconda3/lib/python3.9/site-packages/pandas/io/parsers/readers.py:680\u001b[0m, in \u001b[0;36mread_csv\u001b[0;34m(filepath_or_buffer, sep, delimiter, header, names, index_col, usecols, squeeze, prefix, mangle_dupe_cols, dtype, engine, converters, true_values, false_values, skipinitialspace, skiprows, skipfooter, nrows, na_values, keep_default_na, na_filter, verbose, skip_blank_lines, parse_dates, infer_datetime_format, keep_date_col, date_parser, dayfirst, cache_dates, iterator, chunksize, compression, thousands, decimal, lineterminator, quotechar, quoting, doublequote, escapechar, comment, encoding, encoding_errors, dialect, error_bad_lines, warn_bad_lines, on_bad_lines, delim_whitespace, low_memory, memory_map, float_precision, storage_options)\u001b[0m\n\u001b[1;32m    665\u001b[0m kwds_defaults \u001b[38;5;241m=\u001b[39m _refine_defaults_read(\n\u001b[1;32m    666\u001b[0m     dialect,\n\u001b[1;32m    667\u001b[0m     delimiter,\n\u001b[0;32m   (...)\u001b[0m\n\u001b[1;32m    676\u001b[0m     defaults\u001b[38;5;241m=\u001b[39m{\u001b[38;5;124m\"\u001b[39m\u001b[38;5;124mdelimiter\u001b[39m\u001b[38;5;124m\"\u001b[39m: \u001b[38;5;124m\"\u001b[39m\u001b[38;5;124m,\u001b[39m\u001b[38;5;124m\"\u001b[39m},\n\u001b[1;32m    677\u001b[0m )\n\u001b[1;32m    678\u001b[0m kwds\u001b[38;5;241m.\u001b[39mupdate(kwds_defaults)\n\u001b[0;32m--> 680\u001b[0m \u001b[38;5;28;01mreturn\u001b[39;00m \u001b[43m_read\u001b[49m\u001b[43m(\u001b[49m\u001b[43mfilepath_or_buffer\u001b[49m\u001b[43m,\u001b[49m\u001b[43m \u001b[49m\u001b[43mkwds\u001b[49m\u001b[43m)\u001b[49m\n",
      "File \u001b[0;32m~/opt/anaconda3/lib/python3.9/site-packages/pandas/io/parsers/readers.py:575\u001b[0m, in \u001b[0;36m_read\u001b[0;34m(filepath_or_buffer, kwds)\u001b[0m\n\u001b[1;32m    572\u001b[0m _validate_names(kwds\u001b[38;5;241m.\u001b[39mget(\u001b[38;5;124m\"\u001b[39m\u001b[38;5;124mnames\u001b[39m\u001b[38;5;124m\"\u001b[39m, \u001b[38;5;28;01mNone\u001b[39;00m))\n\u001b[1;32m    574\u001b[0m \u001b[38;5;66;03m# Create the parser.\u001b[39;00m\n\u001b[0;32m--> 575\u001b[0m parser \u001b[38;5;241m=\u001b[39m \u001b[43mTextFileReader\u001b[49m\u001b[43m(\u001b[49m\u001b[43mfilepath_or_buffer\u001b[49m\u001b[43m,\u001b[49m\u001b[43m \u001b[49m\u001b[38;5;241;43m*\u001b[39;49m\u001b[38;5;241;43m*\u001b[39;49m\u001b[43mkwds\u001b[49m\u001b[43m)\u001b[49m\n\u001b[1;32m    577\u001b[0m \u001b[38;5;28;01mif\u001b[39;00m chunksize \u001b[38;5;129;01mor\u001b[39;00m iterator:\n\u001b[1;32m    578\u001b[0m     \u001b[38;5;28;01mreturn\u001b[39;00m parser\n",
      "File \u001b[0;32m~/opt/anaconda3/lib/python3.9/site-packages/pandas/io/parsers/readers.py:933\u001b[0m, in \u001b[0;36mTextFileReader.__init__\u001b[0;34m(self, f, engine, **kwds)\u001b[0m\n\u001b[1;32m    930\u001b[0m     \u001b[38;5;28mself\u001b[39m\u001b[38;5;241m.\u001b[39moptions[\u001b[38;5;124m\"\u001b[39m\u001b[38;5;124mhas_index_names\u001b[39m\u001b[38;5;124m\"\u001b[39m] \u001b[38;5;241m=\u001b[39m kwds[\u001b[38;5;124m\"\u001b[39m\u001b[38;5;124mhas_index_names\u001b[39m\u001b[38;5;124m\"\u001b[39m]\n\u001b[1;32m    932\u001b[0m \u001b[38;5;28mself\u001b[39m\u001b[38;5;241m.\u001b[39mhandles: IOHandles \u001b[38;5;241m|\u001b[39m \u001b[38;5;28;01mNone\u001b[39;00m \u001b[38;5;241m=\u001b[39m \u001b[38;5;28;01mNone\u001b[39;00m\n\u001b[0;32m--> 933\u001b[0m \u001b[38;5;28mself\u001b[39m\u001b[38;5;241m.\u001b[39m_engine \u001b[38;5;241m=\u001b[39m \u001b[38;5;28;43mself\u001b[39;49m\u001b[38;5;241;43m.\u001b[39;49m\u001b[43m_make_engine\u001b[49m\u001b[43m(\u001b[49m\u001b[43mf\u001b[49m\u001b[43m,\u001b[49m\u001b[43m \u001b[49m\u001b[38;5;28;43mself\u001b[39;49m\u001b[38;5;241;43m.\u001b[39;49m\u001b[43mengine\u001b[49m\u001b[43m)\u001b[49m\n",
      "File \u001b[0;32m~/opt/anaconda3/lib/python3.9/site-packages/pandas/io/parsers/readers.py:1217\u001b[0m, in \u001b[0;36mTextFileReader._make_engine\u001b[0;34m(self, f, engine)\u001b[0m\n\u001b[1;32m   1213\u001b[0m     mode \u001b[38;5;241m=\u001b[39m \u001b[38;5;124m\"\u001b[39m\u001b[38;5;124mrb\u001b[39m\u001b[38;5;124m\"\u001b[39m\n\u001b[1;32m   1214\u001b[0m \u001b[38;5;66;03m# error: No overload variant of \"get_handle\" matches argument types\u001b[39;00m\n\u001b[1;32m   1215\u001b[0m \u001b[38;5;66;03m# \"Union[str, PathLike[str], ReadCsvBuffer[bytes], ReadCsvBuffer[str]]\"\u001b[39;00m\n\u001b[1;32m   1216\u001b[0m \u001b[38;5;66;03m# , \"str\", \"bool\", \"Any\", \"Any\", \"Any\", \"Any\", \"Any\"\u001b[39;00m\n\u001b[0;32m-> 1217\u001b[0m \u001b[38;5;28mself\u001b[39m\u001b[38;5;241m.\u001b[39mhandles \u001b[38;5;241m=\u001b[39m \u001b[43mget_handle\u001b[49m\u001b[43m(\u001b[49m\u001b[43m  \u001b[49m\u001b[38;5;66;43;03m# type: ignore[call-overload]\u001b[39;49;00m\n\u001b[1;32m   1218\u001b[0m \u001b[43m    \u001b[49m\u001b[43mf\u001b[49m\u001b[43m,\u001b[49m\n\u001b[1;32m   1219\u001b[0m \u001b[43m    \u001b[49m\u001b[43mmode\u001b[49m\u001b[43m,\u001b[49m\n\u001b[1;32m   1220\u001b[0m \u001b[43m    \u001b[49m\u001b[43mencoding\u001b[49m\u001b[38;5;241;43m=\u001b[39;49m\u001b[38;5;28;43mself\u001b[39;49m\u001b[38;5;241;43m.\u001b[39;49m\u001b[43moptions\u001b[49m\u001b[38;5;241;43m.\u001b[39;49m\u001b[43mget\u001b[49m\u001b[43m(\u001b[49m\u001b[38;5;124;43m\"\u001b[39;49m\u001b[38;5;124;43mencoding\u001b[39;49m\u001b[38;5;124;43m\"\u001b[39;49m\u001b[43m,\u001b[49m\u001b[43m \u001b[49m\u001b[38;5;28;43;01mNone\u001b[39;49;00m\u001b[43m)\u001b[49m\u001b[43m,\u001b[49m\n\u001b[1;32m   1221\u001b[0m \u001b[43m    \u001b[49m\u001b[43mcompression\u001b[49m\u001b[38;5;241;43m=\u001b[39;49m\u001b[38;5;28;43mself\u001b[39;49m\u001b[38;5;241;43m.\u001b[39;49m\u001b[43moptions\u001b[49m\u001b[38;5;241;43m.\u001b[39;49m\u001b[43mget\u001b[49m\u001b[43m(\u001b[49m\u001b[38;5;124;43m\"\u001b[39;49m\u001b[38;5;124;43mcompression\u001b[39;49m\u001b[38;5;124;43m\"\u001b[39;49m\u001b[43m,\u001b[49m\u001b[43m \u001b[49m\u001b[38;5;28;43;01mNone\u001b[39;49;00m\u001b[43m)\u001b[49m\u001b[43m,\u001b[49m\n\u001b[1;32m   1222\u001b[0m \u001b[43m    \u001b[49m\u001b[43mmemory_map\u001b[49m\u001b[38;5;241;43m=\u001b[39;49m\u001b[38;5;28;43mself\u001b[39;49m\u001b[38;5;241;43m.\u001b[39;49m\u001b[43moptions\u001b[49m\u001b[38;5;241;43m.\u001b[39;49m\u001b[43mget\u001b[49m\u001b[43m(\u001b[49m\u001b[38;5;124;43m\"\u001b[39;49m\u001b[38;5;124;43mmemory_map\u001b[39;49m\u001b[38;5;124;43m\"\u001b[39;49m\u001b[43m,\u001b[49m\u001b[43m \u001b[49m\u001b[38;5;28;43;01mFalse\u001b[39;49;00m\u001b[43m)\u001b[49m\u001b[43m,\u001b[49m\n\u001b[1;32m   1223\u001b[0m \u001b[43m    \u001b[49m\u001b[43mis_text\u001b[49m\u001b[38;5;241;43m=\u001b[39;49m\u001b[43mis_text\u001b[49m\u001b[43m,\u001b[49m\n\u001b[1;32m   1224\u001b[0m \u001b[43m    \u001b[49m\u001b[43merrors\u001b[49m\u001b[38;5;241;43m=\u001b[39;49m\u001b[38;5;28;43mself\u001b[39;49m\u001b[38;5;241;43m.\u001b[39;49m\u001b[43moptions\u001b[49m\u001b[38;5;241;43m.\u001b[39;49m\u001b[43mget\u001b[49m\u001b[43m(\u001b[49m\u001b[38;5;124;43m\"\u001b[39;49m\u001b[38;5;124;43mencoding_errors\u001b[39;49m\u001b[38;5;124;43m\"\u001b[39;49m\u001b[43m,\u001b[49m\u001b[43m \u001b[49m\u001b[38;5;124;43m\"\u001b[39;49m\u001b[38;5;124;43mstrict\u001b[39;49m\u001b[38;5;124;43m\"\u001b[39;49m\u001b[43m)\u001b[49m\u001b[43m,\u001b[49m\n\u001b[1;32m   1225\u001b[0m \u001b[43m    \u001b[49m\u001b[43mstorage_options\u001b[49m\u001b[38;5;241;43m=\u001b[39;49m\u001b[38;5;28;43mself\u001b[39;49m\u001b[38;5;241;43m.\u001b[39;49m\u001b[43moptions\u001b[49m\u001b[38;5;241;43m.\u001b[39;49m\u001b[43mget\u001b[49m\u001b[43m(\u001b[49m\u001b[38;5;124;43m\"\u001b[39;49m\u001b[38;5;124;43mstorage_options\u001b[39;49m\u001b[38;5;124;43m\"\u001b[39;49m\u001b[43m,\u001b[49m\u001b[43m \u001b[49m\u001b[38;5;28;43;01mNone\u001b[39;49;00m\u001b[43m)\u001b[49m\u001b[43m,\u001b[49m\n\u001b[1;32m   1226\u001b[0m \u001b[43m\u001b[49m\u001b[43m)\u001b[49m\n\u001b[1;32m   1227\u001b[0m \u001b[38;5;28;01massert\u001b[39;00m \u001b[38;5;28mself\u001b[39m\u001b[38;5;241m.\u001b[39mhandles \u001b[38;5;129;01mis\u001b[39;00m \u001b[38;5;129;01mnot\u001b[39;00m \u001b[38;5;28;01mNone\u001b[39;00m\n\u001b[1;32m   1228\u001b[0m f \u001b[38;5;241m=\u001b[39m \u001b[38;5;28mself\u001b[39m\u001b[38;5;241m.\u001b[39mhandles\u001b[38;5;241m.\u001b[39mhandle\n",
      "File \u001b[0;32m~/opt/anaconda3/lib/python3.9/site-packages/pandas/io/common.py:789\u001b[0m, in \u001b[0;36mget_handle\u001b[0;34m(path_or_buf, mode, encoding, compression, memory_map, is_text, errors, storage_options)\u001b[0m\n\u001b[1;32m    784\u001b[0m \u001b[38;5;28;01melif\u001b[39;00m \u001b[38;5;28misinstance\u001b[39m(handle, \u001b[38;5;28mstr\u001b[39m):\n\u001b[1;32m    785\u001b[0m     \u001b[38;5;66;03m# Check whether the filename is to be opened in binary mode.\u001b[39;00m\n\u001b[1;32m    786\u001b[0m     \u001b[38;5;66;03m# Binary mode does not support 'encoding' and 'newline'.\u001b[39;00m\n\u001b[1;32m    787\u001b[0m     \u001b[38;5;28;01mif\u001b[39;00m ioargs\u001b[38;5;241m.\u001b[39mencoding \u001b[38;5;129;01mand\u001b[39;00m \u001b[38;5;124m\"\u001b[39m\u001b[38;5;124mb\u001b[39m\u001b[38;5;124m\"\u001b[39m \u001b[38;5;129;01mnot\u001b[39;00m \u001b[38;5;129;01min\u001b[39;00m ioargs\u001b[38;5;241m.\u001b[39mmode:\n\u001b[1;32m    788\u001b[0m         \u001b[38;5;66;03m# Encoding\u001b[39;00m\n\u001b[0;32m--> 789\u001b[0m         handle \u001b[38;5;241m=\u001b[39m \u001b[38;5;28;43mopen\u001b[39;49m\u001b[43m(\u001b[49m\n\u001b[1;32m    790\u001b[0m \u001b[43m            \u001b[49m\u001b[43mhandle\u001b[49m\u001b[43m,\u001b[49m\n\u001b[1;32m    791\u001b[0m \u001b[43m            \u001b[49m\u001b[43mioargs\u001b[49m\u001b[38;5;241;43m.\u001b[39;49m\u001b[43mmode\u001b[49m\u001b[43m,\u001b[49m\n\u001b[1;32m    792\u001b[0m \u001b[43m            \u001b[49m\u001b[43mencoding\u001b[49m\u001b[38;5;241;43m=\u001b[39;49m\u001b[43mioargs\u001b[49m\u001b[38;5;241;43m.\u001b[39;49m\u001b[43mencoding\u001b[49m\u001b[43m,\u001b[49m\n\u001b[1;32m    793\u001b[0m \u001b[43m            \u001b[49m\u001b[43merrors\u001b[49m\u001b[38;5;241;43m=\u001b[39;49m\u001b[43merrors\u001b[49m\u001b[43m,\u001b[49m\n\u001b[1;32m    794\u001b[0m \u001b[43m            \u001b[49m\u001b[43mnewline\u001b[49m\u001b[38;5;241;43m=\u001b[39;49m\u001b[38;5;124;43m\"\u001b[39;49m\u001b[38;5;124;43m\"\u001b[39;49m\u001b[43m,\u001b[49m\n\u001b[1;32m    795\u001b[0m \u001b[43m        \u001b[49m\u001b[43m)\u001b[49m\n\u001b[1;32m    796\u001b[0m     \u001b[38;5;28;01melse\u001b[39;00m:\n\u001b[1;32m    797\u001b[0m         \u001b[38;5;66;03m# Binary mode\u001b[39;00m\n\u001b[1;32m    798\u001b[0m         handle \u001b[38;5;241m=\u001b[39m \u001b[38;5;28mopen\u001b[39m(handle, ioargs\u001b[38;5;241m.\u001b[39mmode)\n",
      "\u001b[0;31mFileNotFoundError\u001b[0m: [Errno 2] No such file or directory: 'lib_culture_program.csv'"
     ]
    }
   ],
   "source": [
    "#불필요 컬럼 삭제\n",
    "program = pd.read_csv('lib_culture_program.csv')\n",
    "program.drop(columns=['Unnamed: 0', 'no'], axis=1, inplace=True)"
   ]
  },
  {
   "cell_type": "code",
   "execution_count": null,
   "id": "3d19f4e7-b909-41bb-8e2b-33aac1d1717b",
   "metadata": {},
   "outputs": [],
   "source": [
    "program.lib_code"
   ]
  },
  {
   "cell_type": "code",
   "execution_count": null,
   "id": "1de23e48-f5ab-4e56-8353-2a3fb5265e33",
   "metadata": {
    "tags": []
   },
   "outputs": [],
   "source": [
    "program.isnull().sum()"
   ]
  },
  {
   "cell_type": "code",
   "execution_count": null,
   "id": "c07515ef-3276-438c-9366-4e9affbe38aa",
   "metadata": {
    "tags": []
   },
   "outputs": [],
   "source": [
    "#중복 행 확인 후 삭제  \n",
    "program.duplicated().sum()\n",
    "program.drop_duplicates(inplace=True)\n",
    "#결과: 976행삭제"
   ]
  },
  {
   "cell_type": "code",
   "execution_count": null,
   "id": "8e7f45ac-991e-4c44-8f6a-f8d0e83a6393",
   "metadata": {
    "tags": []
   },
   "outputs": [],
   "source": [
    "program[program.target.isnull()]"
   ]
  },
  {
   "cell_type": "code",
   "execution_count": null,
   "id": "3f04ba15-a46b-4f04-a64a-9c6e55f78d44",
   "metadata": {},
   "outputs": [],
   "source": [
    "#찾아서채우기... \n",
    "program.loc[(6771, 8096, 6910), 'target'] = '전체'\n",
    "program.loc[(6755), 'target'] = '성인'"
   ]
  },
  {
   "cell_type": "code",
   "execution_count": null,
   "id": "5444fb45-e680-4f4b-b75e-eebddfce59c1",
   "metadata": {
    "tags": []
   },
   "outputs": [],
   "source": [
    "#진짜이상한거, 찾을 수 없는 것 행삭제\n",
    "program.dropna(subset='target', inplace=True)"
   ]
  },
  {
   "cell_type": "code",
   "execution_count": null,
   "id": "c4ac411f-e51d-4e4d-95f0-eafbe9105001",
   "metadata": {},
   "outputs": [],
   "source": [
    "#null값 처리 잘 됐는지 확인\n",
    "program[program.target.isnull()]"
   ]
  },
  {
   "cell_type": "code",
   "execution_count": null,
   "id": "928e3906-e411-4113-af53-ac651fc6dce4",
   "metadata": {},
   "outputs": [],
   "source": [
    "#불필요 컬럼 삭제\n",
    "program.drop(columns=[\"from_date\", \"to_date\", \"teacher_code\", \"place\"], axis=1, inplace=True)"
   ]
  },
  {
   "cell_type": "code",
   "execution_count": null,
   "id": "13950da3-1333-4e78-b0a7-26988ed1faa7",
   "metadata": {},
   "outputs": [],
   "source": [
    "#df.loc[df['sport'].str.contains('ball'), 'sport'] = 'ball sport'\n",
    "#df"
   ]
  },
  {
   "cell_type": "markdown",
   "id": "55c28713-cdcd-4f39-8100-1694227251be",
   "metadata": {
    "tags": []
   },
   "source": [
    "```\n",
    "#삭제할 행들..\n",
    "program[program['target']=='ㅇㅇ']\n",
    "program[program['target']=='테스트']\n",
    "program[program['target']=='정보나루 API 연동 테스트입니다.(신청하지 마세요)']\n",
    "program[program['target']=='0']\n",
    "program[program['target']=='태ㅔ스트']\n",
    "program[program['target']=='없음']\n",
    "program[program['target']=='-']\n",
    "test\n",
    ".\n",
    "11\n",
    "4\n",
    "test1\n",
    "```"
   ]
  },
  {
   "cell_type": "code",
   "execution_count": null,
   "id": "8ae0ceb3-6b27-4e62-a731-b377e863b617",
   "metadata": {
    "tags": []
   },
   "outputs": [],
   "source": [
    "#삭제할 내용이 있는 행의 인덱스 추출\n",
    "delete = program[(program.target == 'ㅇ')|(program.target == 'ㅇㅇ')|(program.target == '테스트')|(program.target == '정보나루 API 연동 테스트입니다.(신청하지 마세요)')|(program.target == '0')|(program.target == '.')|(program.target == '-')|(program.target == '없음')|(program.target == '태ㅔ스트')|(program.target == '11')|(program.target == '4')|(program.target == 'test')|(program.target == 'test1')].index"
   ]
  },
  {
   "cell_type": "code",
   "execution_count": null,
   "id": "13febd28-485d-4208-a115-4ab400745101",
   "metadata": {},
   "outputs": [],
   "source": [
    "delete"
   ]
  },
  {
   "cell_type": "code",
   "execution_count": null,
   "id": "b8b69446-8ecf-4604-8a22-8c0b6f3ffe69",
   "metadata": {},
   "outputs": [],
   "source": [
    "#drop\n",
    "program.drop(delete, inplace=True)"
   ]
  },
  {
   "cell_type": "code",
   "execution_count": null,
   "id": "9fa7a8da-df7e-4e50-a574-1e9f10d02344",
   "metadata": {},
   "outputs": [],
   "source": [
    "# target 분류하기.. by 'target' & 'title'\n",
    "# program.loc[program['target'].str.contains(r\"다문화|외국인|이민\"),'target'] = '국내이주민'"
   ]
  },
  {
   "cell_type": "code",
   "execution_count": null,
   "id": "072c1b1d-daf2-4595-99a9-8b0a11548b96",
   "metadata": {},
   "outputs": [],
   "source": [
    "program.lib_code.unique()"
   ]
  },
  {
   "cell_type": "code",
   "execution_count": null,
   "id": "08accec4-62a3-4709-9e41-d5cec604a1fa",
   "metadata": {},
   "outputs": [],
   "source": []
  },
  {
   "cell_type": "code",
   "execution_count": null,
   "id": "0a0d4de9-4966-4987-a0d6-74a77c29e464",
   "metadata": {
    "tags": []
   },
   "outputs": [],
   "source": [
    "#21년것만 추출\n",
    "program = program[program['from_work_date'].str.contains('2021')]\n",
    "program"
   ]
  },
  {
   "cell_type": "code",
   "execution_count": null,
   "id": "337f3a93-0ffa-4de5-b7ef-a6867381ae8f",
   "metadata": {
    "tags": []
   },
   "outputs": [],
   "source": [
    "program.target.unique().tolist()"
   ]
  },
  {
   "cell_type": "code",
   "execution_count": null,
   "id": "34e95a73-4ff9-4177-81d7-ab18b44789d6",
   "metadata": {
    "tags": []
   },
   "outputs": [],
   "source": [
    "#program[program['target']== '']\n",
    "program[program['target'].str.contains('강북구민')]"
   ]
  },
  {
   "cell_type": "code",
   "execution_count": null,
   "id": "a464dc46-b8e6-434e-b7a2-10bdb1bf70f8",
   "metadata": {
    "tags": []
   },
   "outputs": [],
   "source": [
    "program[program['target'].str.contains('기타')].title"
   ]
  },
  {
   "cell_type": "code",
   "execution_count": null,
   "id": "f0b46bdb-8730-4f0b-9990-2b6ccd2da7a5",
   "metadata": {
    "tags": []
   },
   "outputs": [],
   "source": [
    "#특수한 집단 먼저 정제\n",
    "program.loc[program['target'].str.contains(r\"취약계층\"),'target'] = '정보취약계층'\n",
    "program.loc[program['target'].str.contains(r\"다문화|외국인|이민\"),'target'] = '국내이주민'\n",
    "program.loc[program['title'].str.contains(r\"다문화|이민\"),'target'] = '국내이주민'\n",
    "program.loc[program['target'].str.contains(r\"서울정애학교|장애\"),'target'] = '장애인'\n",
    "program.loc[program['target'].str.contains(r\"장병|군인\"),'target'] = '군인'\n",
    "program.loc[program['target'].str.contains(r\"작은도서관 운영자 및 자원활동가|독서치료이수자|비즈니스|교수법자원봉사자|교사|관계자|관련 자격 갖춘 자원봉사자|교직원|평생교육강사 및 관계자\"),'target'] = '직무관련'\n",
    "program.loc[program['target'].str.contains(r\"부모|예비엄마|예비맘|임신\"), 'target'] = '양육관련'\n",
    "program.loc[program['target'].str.contains(r\"관련 교육과정 이수 및 관련 유경험자|취업/자격증\"),'target'] = '취업/자격증'\n",
    "program.loc[program['target'].str.contains(r\"청년\"),'target'] = '취업/자격증'"
   ]
  },
  {
   "cell_type": "code",
   "execution_count": null,
   "id": "f5136b25-4f40-4976-893c-afe81ec772af",
   "metadata": {},
   "outputs": [],
   "source": [
    "#장애인, 이주민 따로뽑아놓기\n",
    "immigrants = program[program['target'].str.contains('국내이주민')]\n",
    "disordered = program.loc[program['target'].str.contains(r\"서울정애학교|장애\"),'target'] = '장애인'"
   ]
  },
  {
   "cell_type": "code",
   "execution_count": null,
   "id": "68f3ca58-bcec-40f1-b25c-635aa7d0b627",
   "metadata": {
    "tags": []
   },
   "outputs": [],
   "source": [
    "program.loc[program['title'].str.contains(r\"지혜꿈발전소|포트폴리오\"),'target'] = '청소년'\n",
    "program.loc[program['title'].str.contains(r\"김영숙 저자|서형원\"),'target'] = '성인'\n",
    "\n",
    "program.loc[program['target'].str.contains(r\"생활/건강|체험|특성화|1도서관1특성화|자원봉사자|모두|경남도민|누구나|모든연령|주민|성님시민|대출회원|남해군민|전 연령|사업장|정회원|남녀노소|지역주민|제한없음|전체|이용자\"),'target'] = '전연령'\n",
    "program.loc[program['target'].str.contains(r\"공연|토요프로그램|책놀이|원데이|생애주기 독서운동|2021년 하반기 메이커 프로그램|메이커특강|독서활동|강의실2|비대면 온라인 수업|선착순|2014|2015|2016|2017|VR교육|방학프로그램|유치부| 비대면 온라인 수업|6~7|월생|년생|학년|유치원|월 생|1세|2세|3세|4세|5세|6세|7세|8세|9세|10세|초|개월|자녀|초등|유아|아기|아동|어린이|아이|가족\"),'target'] = '어린이'\n",
    "program.loc[program['target'].str.contains(r\"중1|독서교실|방학|메이커교육|독서체험|자유학기|세 이상|수능준비생|진로|수험생|자유학기제|고3|청소년|중등|중학|고등|학생\"),'target'] = '청소년'\n",
    "program.loc[program['target'].str.contains(r\"주말|장애인|군인|인문학강연|도서관 속 인문학|언어/외국어|포천시 독서동아리|평생교육|독서회 3개 회원|별밤|일반 및 독서동아리 회원|이모티콘|길 위의 인문학|평생학습|교양/취미|문화/예술|일반 15명|일반 120명|사람책|서인|강남 1인가구 커뮤니티센터 회원|직무관련|양육관련|취업/자격증|시민|50명|10명|30명|일반인|주부|40세|임산부|성인|청장년\"),'target'] = '성인'\n",
    "program.loc[program['target'].str.contains(r\"중년|장년|정보취약계층|비문해자|노년|60대|50대|노인|50세|60세|조부모|어르신|어르신 |시니어\"),'target'] = '중장년'\n",
    "program.loc[program['target'].str.contains(r\"유\"),'target'] = '어린이'\n",
    "program.loc[program['target'].str.contains(r\"자체분류\"),'target'] = '기타'\n",
    "\n",
    "program.loc[program['target'].str.contains(r\"교양\"),'target'] = '성인'\n",
    "program.loc[program['target'].str.contains(r\"일반|강연|독서|인문학|공모사업|정보미디어|문화행사|독서행사\"),'target'] = '기타'\n",
    "\n",
    "program.loc[program['title'].str.contains(r\"엄마|학부모|가족|부모교육|자녀|열두달 인문학당|배웠어|글밭|한마음|책수다|리더교육|소나기|넝쿨|생활법률|세금|힐링인문학\"),'target'] = '성인'\n",
    "program.loc[program['title'].str.contains(r\"풍선쇼|놀이터|샌드아트|팽이|아이좋아|개월|초[1-6]|저학년|고학년|가족연극|어린이|책놀이|책동산|유아|어린이|유치부|갈로아|가족체험|놀자|어린이철학교실|탐험대|동화|레고|10세|초등|인형극|따독이|도롱뇽\"),'target'] = '어린이'\n",
    "program.loc[program['title'].str.contains(r\"신중년|은퇴|5060|어르신|섬돌|라떼는|마흔|오팔세대|별밤|인생락서\"),'target'] = '중장년'\n",
    "program.loc[program['title'].str.contains(r\"중학생|10월의 하늘|고3|중등|청소년|고등\"),'target'] = '청소년'\n",
    "program.loc[program['title'].str.contains(r\"이금이|반려견\"),'target'] = '전연령'"
   ]
  },
  {
   "cell_type": "code",
   "execution_count": null,
   "id": "2a2364d8-db40-4c7e-96c3-81be8b08d32e",
   "metadata": {
    "tags": []
   },
   "outputs": [],
   "source": [
    "#타겟 표준화... -> 연령대별 타겟으로 변경 어린이, 청소년, 성인, 노인으로 구분... \n",
    "program.target.unique()"
   ]
  },
  {
   "cell_type": "code",
   "execution_count": null,
   "id": "ab30a7ff-413e-471f-aada-9bdfffffcd0c",
   "metadata": {
    "tags": []
   },
   "outputs": [],
   "source": [
    "culture_program[culture_program['target']== '']"
   ]
  },
  {
   "cell_type": "code",
   "execution_count": null,
   "id": "36c52b93-5996-4aea-a56c-f082d4ff3e83",
   "metadata": {
    "tags": []
   },
   "outputs": [],
   "source": [
    "#program[program['target'].str.contains(r\"그림책\")]\n",
    "program[program['title'].str.contains(r\"누구나\")]"
   ]
  },
  {
   "cell_type": "markdown",
   "id": "f066cdb5-99cb-49e0-a40b-e970dd73db2b",
   "metadata": {
    "tags": []
   },
   "source": [
    "0284 선생님 면담\n",
    "(배경)\n",
    "sns에서 본 바 프로그램에 관해서는 국내 대중에게 논의가 안되고있다\n",
    "다른나라도서관프로그램참조..?\n",
    "- 독일 \n",
    "- 미국\n",
    "- 일본\n",
    "공통적으로 제공하고있는것? \n",
    "\n",
    "지역별현황.................................\n",
    "\n",
    "..............\n",
    "...............\n",
    "문제를보여주기\n",
    "\n",
    "\n",
    "군집/그룹에있어서 특징을뽑아주기.. 다른나라벤치마킹했을 떄 필요로하는것을 적용해서 \n",
    "이 군집의특징이이렇기때문에 어린이프로그램 이외의 프로그램이 필요하다... \n",
    ".. \n",
    "..\n",
    " ..\n",
    "    ..\n",
    "    ....\n",
    "    ........\n",
    "    ...\n",
    "    ..........\n",
    "    .................................\n",
    "    ..................\n",
    "\n",
    "군집/그룹 .. 의 특징을 기술해주는것.. 이 중요.. \n",
    "특징에 맞는프로그램을 매칭시켜줘야됨.. \n",
    "필요로하는프로그램/시설이 무엇인지를 얘기할 수 있어야... \n",
    "\n",
    "1\n",
    "군집잘해주기.. 특징을잘잡아주고 상업지역, 비즈니스관련 관심많은사람들이있는지역에 어린이프로그램만 하면 언밸런스,, 이런걸 시각화해서 보여주기.. .. 비즈니스를하는사람들에대한 정보제공프로그램이필요한데 .. \n",
    "트위터에서는 구체적인내용이 안나오기 때문에 해외사례 등에서.. 찾아서 결합\n",
    "2 수요자가 나오는데... 수요자들이 피룡하는것들을 크로링으로 찾고, 구체적 프로그램은 외부사례 레퍼런스... "
   ]
  },
  {
   "cell_type": "code",
   "execution_count": null,
   "id": "dede2a66-243c-4c58-b0e1-eb0b22580a1f",
   "metadata": {},
   "outputs": [],
   "source": [
    "#따로 크롤링해 온 제주도 프로그램정보 합치기 \n",
    "\n",
    "jeju= pd.read_csv('제주도서관.csv')\n",
    "#merge 위해 컬럼명 변경 (도서관 -> LBRRY_NCM_NM)\n",
    "jeju.rename(columns={'도서관':'LBRRY_NCM_NM'}, inplace=True)\n",
    "area_jeju = pd.read_csv('제주.csv')"
   ]
  },
  {
   "cell_type": "code",
   "execution_count": null,
   "id": "11b3f0e2-2675-4682-b79c-3800024f8798",
   "metadata": {},
   "outputs": [],
   "source": [
    "area_jeju = area_jeju[area_jeju['ONE_AREA_NM'] == '제주특별자치도']"
   ]
  },
  {
   "cell_type": "code",
   "execution_count": null,
   "id": "df8a63d5-8bbb-4808-acdf-624e140ee3db",
   "metadata": {},
   "outputs": [],
   "source": [
    "# 데이터프레임 culture_program과 컬럼명일치시키기\n",
    "culture_program.columns"
   ]
  },
  {
   "cell_type": "code",
   "execution_count": null,
   "id": "0c513e15-355f-4c9e-8e2e-620ff0c01922",
   "metadata": {},
   "outputs": [],
   "source": [
    "jeju_program = pd.merge(area_jeju, jeju, on='LBRRY_NCM_NM', how='inner')\n",
    "jeju_program.drop(columns = ['Unnamed: 0', '장소','접수기간'], axis=1, inplace=True)\n",
    "jeju_program.rename(columns={'LBRRY_CD':'lib_code', '신청/정원':'user_limit', '교육기간':'from_work_date', '수강료':'price',\n",
    "                            '대상':'target'}, inplace=True)\n",
    "jeju_program"
   ]
  },
  {
   "cell_type": "code",
   "execution_count": null,
   "id": "5431d6d4-6550-4d0e-8674-c74bf220b147",
   "metadata": {},
   "outputs": [],
   "source": [
    "from pandas import DataFrame\n",
    "jeju_program.drop(columns=['LBRRY_ADDR', 'LBRRY_LA', 'LBRRY_LO', 'LBRRY_NCM_NM', 'LBRRY_TY_NM'],  inplace=True)"
   ]
  },
  {
   "cell_type": "code",
   "execution_count": null,
   "id": "1da9c9ad-ac01-4413-983a-fbaa78a28afb",
   "metadata": {},
   "outputs": [],
   "source": [
    "#target정리\n",
    "jeju_program.target.unique()"
   ]
  },
  {
   "cell_type": "code",
   "execution_count": null,
   "id": "7d2d7798-2410-4785-a256-63391011a54c",
   "metadata": {},
   "outputs": [],
   "source": [
    "jeju_program.loc[jeju_program['target'].str.contains(r\"성인\"),'target'] = '성인'\n",
    "jeju_program.loc[jeju_program['target'].str.contains(r\"기타|도민\"),'target'] = '전연령'\n",
    "jeju_program.loc[jeju_program['target'].str.contains(r\"초등|유아\"),'target'] = '어린이'\n",
    "jeju_program.loc[jeju_program['target'].str.contains(r\"중고등\"),'target'] = '청소년'\n",
    "jeju_program.loc[jeju_program['target'].str.contains(r\"실버\"),'target'] = '중장년'"
   ]
  },
  {
   "cell_type": "markdown",
   "id": "4b6927c5-8161-4dee-908a-4ff82e57fc5a",
   "metadata": {
    "tags": []
   },
   "source": [
    "### area 지역 도서관 정보"
   ]
  },
  {
   "cell_type": "code",
   "execution_count": null,
   "id": "c4febaa6-6374-4a82-911d-bddb0efecd8a",
   "metadata": {
    "tags": []
   },
   "outputs": [],
   "source": [
    "area = pd.read_csv('도서관정보.csv')\n",
    "area.drop(columns='Unnamed: 0', axis=1, inplace=True)\n",
    "area"
   ]
  },
  {
   "cell_type": "code",
   "execution_count": null,
   "id": "ca46d826-463e-4c29-b5af-6220aa086c56",
   "metadata": {},
   "outputs": [],
   "source": [
    "area = area[['LBRRY_CD', 'LBRRY_NM', 'ONE_AREA_NM', 'TWO_AREA_NM']]\n",
    "area"
   ]
  },
  {
   "cell_type": "code",
   "execution_count": null,
   "id": "9695fa79-ef8c-4298-8b97-db6732b54d20",
   "metadata": {},
   "outputs": [],
   "source": [
    "area.rename(columns={'LBRRY_CD':'lib_code'}, inplace=True)\n",
    "area"
   ]
  },
  {
   "cell_type": "markdown",
   "id": "51f4c96d-53f2-438d-804b-1d958b3ea1f2",
   "metadata": {},
   "source": [
    "### culture_program = area + program 도서관정보랑 프로그램정보 합침"
   ]
  },
  {
   "cell_type": "code",
   "execution_count": null,
   "id": "ec8551af-d074-4a84-8374-f3b33bb7887e",
   "metadata": {
    "tags": []
   },
   "outputs": [],
   "source": [
    "culture_program = pd.merge(area, program, on='lib_code', how='inner')\n",
    "culture_program[culture_program['target']=='기타']"
   ]
  },
  {
   "cell_type": "code",
   "execution_count": null,
   "id": "8a128e78-6888-43dc-ab3b-2b8f94575ea6",
   "metadata": {},
   "outputs": [],
   "source": [
    "#제주프로그램 합치기 \n",
    "culture_program = pd.concat([culture_program, jeju_program])\n",
    "culture_program"
   ]
  },
  {
   "cell_type": "code",
   "execution_count": null,
   "id": "b3e65a62-e4cb-478a-8403-8c65b315a0fb",
   "metadata": {
    "tags": []
   },
   "outputs": [],
   "source": [
    "culture_program[culture_program.target == '기타'].title.tolist()"
   ]
  },
  {
   "cell_type": "markdown",
   "id": "f30791cb-3ec8-4aac-90fd-67771d36d703",
   "metadata": {},
   "source": [
    "### 이것저것 해본 연습장"
   ]
  },
  {
   "cell_type": "code",
   "execution_count": null,
   "id": "b3a657a0-0d16-4135-9e1a-49440c5da970",
   "metadata": {},
   "outputs": [],
   "source": [
    "culture_program.to_csv('culture_program.csv')"
   ]
  },
  {
   "cell_type": "code",
   "execution_count": null,
   "id": "612dd35a-f0c4-4a20-8aae-b8d1c9bec3be",
   "metadata": {},
   "outputs": [],
   "source": [
    "culture_program.isnull().sum()"
   ]
  },
  {
   "cell_type": "code",
   "execution_count": null,
   "id": "f057ecd9-4be0-4695-a5ee-4909255d7ef7",
   "metadata": {},
   "outputs": [],
   "source": []
  },
  {
   "cell_type": "code",
   "execution_count": null,
   "id": "dc5afe0e-b29f-4d81-ba6a-10c29fc60c4a",
   "metadata": {},
   "outputs": [],
   "source": [
    "culture_program.drop(labels=['no', 'price','teacher_code','remark', 'work_time', 'content','user_limit','from_date', 'to_date', 'from_work_date','to_work_date'], axis=1, inplace=True)"
   ]
  },
  {
   "cell_type": "code",
   "execution_count": null,
   "id": "d58da473-f5f9-4aac-80ad-6567b51c19de",
   "metadata": {},
   "outputs": [],
   "source": [
    "culture_program['ONE_AREA_NM'].unique()\n",
    "#culture_program.to_csv('culture_program.csv')"
   ]
  },
  {
   "cell_type": "code",
   "execution_count": null,
   "id": "84d441d4-1b15-484e-b7c5-0d23aaa4f1f0",
   "metadata": {},
   "outputs": [],
   "source": [
    "program_area= culture_program[culture_program['ONE_AREA_NM']=='전라남도']"
   ]
  },
  {
   "cell_type": "code",
   "execution_count": null,
   "id": "1f570db6-fa17-4e01-b5e7-fa15a22ed8b8",
   "metadata": {
    "tags": []
   },
   "outputs": [],
   "source": [
    "program_area"
   ]
  },
  {
   "cell_type": "code",
   "execution_count": null,
   "id": "6bc9bde9-fdd0-46fe-b7bf-4ff0d70cbe9b",
   "metadata": {},
   "outputs": [],
   "source": [
    "# program_ggd['TWO_AREA_NM'].unique()"
   ]
  },
  {
   "cell_type": "code",
   "execution_count": null,
   "id": "542d5379-f444-4393-97f6-ecd5909a1bf8",
   "metadata": {},
   "outputs": [],
   "source": [
    "# program_ggd_north = program_area[program_ggd['TWO_AREA_NM']==('포천시'or '고양시 일산동구' or '고양시 덕양구' or'고양시 일산서구'or'양주시'or'동두천시'or'김포시'or'의정부시')]\n",
    "# program_ggd_north"
   ]
  },
  {
   "cell_type": "code",
   "execution_count": null,
   "id": "d2a25c86-e22d-4783-893b-17fc77719f98",
   "metadata": {},
   "outputs": [],
   "source": [
    "# program_ggd_south = program_ggd[program_ggd['TWO_AREA_NM']==('부천시'or '안성시'or'화성시'or'성남시 분당구'or '성남시 수정구'or '성남시 중원구'or '시흥시'or '과천시')]\n",
    "# program_ggd_south"
   ]
  },
  {
   "cell_type": "code",
   "execution_count": null,
   "id": "5d013175-6ae3-433e-993a-9b4481cf29de",
   "metadata": {},
   "outputs": [],
   "source": [
    "program_area['title'].describe()"
   ]
  },
  {
   "cell_type": "code",
   "execution_count": null,
   "id": "f18716c9-afa5-4d45-80ee-a1687e9dc880",
   "metadata": {},
   "outputs": [],
   "source": [
    "clean_data = program_area['title'].str.replace('[^ㄱ-ㅎㅏ-ㅣ가-힣]',' ',regex=True)"
   ]
  },
  {
   "cell_type": "code",
   "execution_count": null,
   "id": "e3428463-630c-46bb-8769-5c4d8542116b",
   "metadata": {},
   "outputs": [],
   "source": [
    "import numpy as np \n",
    "\n",
    "clean_data = clean_data.replace({'': np.nan})\n",
    "clean_data = clean_data.replace(r'^\\s*$', None, regex=True)"
   ]
  },
  {
   "cell_type": "code",
   "execution_count": null,
   "id": "14a275de-0d0c-472f-a70b-8594518342ee",
   "metadata": {},
   "outputs": [],
   "source": [
    "clean_data.dropna(how='any', inplace=True)"
   ]
  },
  {
   "cell_type": "code",
   "execution_count": null,
   "id": "8f1ca098-0ab5-4492-8bf5-87ee4a1973f7",
   "metadata": {},
   "outputs": [],
   "source": [
    "clean_data = clean_data.reset_index (drop = True)"
   ]
  },
  {
   "cell_type": "code",
   "execution_count": null,
   "id": "ffbf604a-7e16-4a99-b49d-cdd497fdf6dc",
   "metadata": {},
   "outputs": [],
   "source": [
    "clean_data"
   ]
  },
  {
   "cell_type": "code",
   "execution_count": null,
   "id": "5ca46c73-52d5-457e-88cd-11b91e0786cb",
   "metadata": {},
   "outputs": [],
   "source": [
    "import konlpy"
   ]
  },
  {
   "cell_type": "code",
   "execution_count": null,
   "id": "43ab57d5-c52f-4317-8b4e-d06c52cf19d9",
   "metadata": {},
   "outputs": [],
   "source": [
    "from konlpy.tag import Okt"
   ]
  },
  {
   "cell_type": "code",
   "execution_count": null,
   "id": "2f8a9734-2b4d-4629-8acd-bfb23ace84f9",
   "metadata": {
    "tags": []
   },
   "outputs": [],
   "source": [
    "text = \"\".join(clean_data)\n",
    "text"
   ]
  },
  {
   "cell_type": "code",
   "execution_count": null,
   "id": "a7c156e9-2e15-4384-b7e4-bf2f02c359fd",
   "metadata": {},
   "outputs": [],
   "source": [
    "# file = open(\"text.txt\", \"w\") \n",
    "# file.write(text)\n",
    "# file.close()\n",
    "#다시 켤 떄 저장된 파일로 하기 \n",
    "# file = open(\"text.txt\", \"r\") \n",
    "# text = file.read()"
   ]
  },
  {
   "cell_type": "code",
   "execution_count": null,
   "id": "1cd705b4-bc97-48d2-8910-0f99abf2cb86",
   "metadata": {
    "tags": []
   },
   "outputs": [],
   "source": [
    "#konlpy(코엔엘파이) = 형태소 분석\n",
    "from konlpy.tag import Okt\n",
    "from collections import Counter\n",
    "okt = Okt() #객체형성\n",
    "\n",
    "morph = okt.pos(text) #형태소로 변환 #word= 단어 / tag=품사\n",
    "morph\n",
    "\n",
    "noun_list =[]\n",
    "stop_word=['과정','상반기','메이커','포천시','정진호','이종철','문화','체험','행사','전국책','추가','시작','강좌','비대','면', '도서관', '프로그램', '강의', '모집', '교실', '작가' ,'접수', '화상', '대면','부천','특강','독서','하반기']\n",
    "for word, tag in morph: #word= 단어 / tag=품사\n",
    "    if(tag=='Noun') & (len(word)>1): #noun이고 단어가 1글자 이상인것(1글자는 보통 조사이기때문)\n",
    "        if word not in stop_word:\n",
    "            noun_list.append(word)\n",
    "        \n",
    "\n",
    "count = Counter(noun_list) #단어별 숫자세주기\n",
    "\n",
    "\n",
    "#most_common() > 데이터의 개수가 많은 순으로 정렬된 배열을 리턴하는 메서드\n",
    "#인자로 숫자 n을 넘기면 그 숫자 만큼만 리턴하기 때문에, 가장 개수가 많은 n개의 데이터를 얻을 수도 있습니다.\n",
    "#(글자, 나온 횟수)를 요소로 가진 리스트를 반환함\n",
    "data =dict(count.most_common()) #빈도수 정리 내림차\n",
    "series = pd.Series(data)\n",
    "df = pd.DataFrame(series, columns=['cnt'])\n",
    "\n",
    "df = df.reset_index()\n",
    "df.head(50)\n",
    "\n",
    "#data10 = df[:10]\n",
    "#data10"
   ]
  },
  {
   "cell_type": "code",
   "execution_count": null,
   "id": "aa47c351-b7fe-4348-8c23-a966e34bcb16",
   "metadata": {},
   "outputs": [],
   "source": [
    "from wordcloud import WordCloud\n",
    "from matplotlib import rc\n",
    "import matplotlib.pyplot as plt\n",
    "import seaborn as sns\n",
    "\n",
    "#generate_from_frequencies 미리 정의된 단어의 빈도수 dict를 이용하여 워드 클라우드를 그림\n",
    "#  워드 클라우드를 generate할 때 마다 스타일이 미세하게 다르게 형성되는데,random_state 인자를 지정해주면 생성할 때마다 완전히 동일한 결과\n",
    "wordcloud = WordCloud(font_path='GmarketSansTTFBold.ttf', width= 4000, \n",
    "                      height = 3000, random_state=1, background_color='white', \n",
    "                      colormap='Dark2', max_words=161).generate_from_frequencies(data)\n",
    "plt.figure(figsize = (11, 11))\n",
    "plt.imshow(wordcloud) #이미지 표시\n",
    "plt.axis('off') #축 지우기"
   ]
  },
  {
   "cell_type": "code",
   "execution_count": null,
   "id": "75ec5fd1-06ce-4dee-8335-660179a648cb",
   "metadata": {
    "tags": []
   },
   "outputs": [],
   "source": [
    "#태블로용으로 정리 ... TWO_AREA_NM 기준으로 title count \n",
    "\n",
    "culture_program = pd.read_csv('culture_program.csv')\n",
    "culture_program"
   ]
  },
  {
   "cell_type": "code",
   "execution_count": null,
   "id": "15af0c00-4dcd-44f1-bf1d-c54452d6122e",
   "metadata": {},
   "outputs": [],
   "source": [
    "program_count = culture_program.groupby(['ONE_AREA_NM', 'TWO_AREA_NM']).count().title\n",
    "program_count = pd.DataFrame(program_count)\n",
    "program_count['country'] = '대한민국'"
   ]
  },
  {
   "cell_type": "code",
   "execution_count": null,
   "id": "0d305c46-bb5d-4782-94e7-70c6ebd5e5da",
   "metadata": {},
   "outputs": [],
   "source": [
    "program_count.to_csv('program_count.csv')"
   ]
  },
  {
   "cell_type": "code",
   "execution_count": null,
   "id": "3133856b-db9a-46ae-9b9f-e91c6e355412",
   "metadata": {},
   "outputs": [],
   "source": [
    "program_count = pd.read_csv('program_count.csv')"
   ]
  },
  {
   "cell_type": "code",
   "execution_count": null,
   "id": "82dcbcea-64b0-463f-90e0-9914cc08781f",
   "metadata": {},
   "outputs": [],
   "source": [
    "program.loc[program['title'].str.contains(r\"지혜꿈발전소|포트폴리오\"),'target'] = '청소년'\n",
    "program.loc[program['title'].str.contains(r\"김영숙 저자|서형원\"),'target'] = '성인'\n",
    "\n",
    "program.loc[program['target'].str.contains(r\"생활/건강|체험|특성화|1도서관1특성화|자원봉사자|모두|경남도민|누구나|모든연령|주민|성님시민|대출회원|남해군민|전 연령|사업장|정회원|남녀노소|지역주민|제한없음|전체|이용자\"),'target'] = '전연령'\n",
    "program.loc[program['target'].str.contains(r\"공연|토요프로그램|책놀이|원데이|생애주기 독서운동|2021년 하반기 메이커 프로그램|메이커특강|독서활동|강의실2|비대면 온라인 수업|선착순|2014|2015|2016|2017|VR교육|방학프로그램|유치부| 비대면 온라인 수업|6~7|월생|년생|학년|유치원|월 생|1세|2세|3세|4세|5세|6세|7세|8세|9세|10세|초|개월|자녀|초등|유아|아기|아동|어린이|아이|가족\"),'target'] = '어린이'\n",
    "program.loc[program['target'].str.contains(r\"중1|독서교실|방학|메이커교육|독서체험|자유학기|세 이상|수능준비생|진로|수험생|자유학기제|고3|청소년|중등|중학|고등|학생\"),'target'] = '청소년'\n",
    "program.loc[program['target'].str.contains(r\"주말|장애인|군인|인문학강연|도서관 속 인문학|언어/외국어|포천시 독서동아리|평생교육|독서회 3개 회원|별밤|일반 및 독서동아리 회원|이모티콘|길 위의 인문학|평생학습|교양/취미|문화/예술|일반 15명|일반 120명|사람책|서인|강남 1인가구 커뮤니티센터 회원|직무관련|양육관련|취업/자격증|시민|50명|10명|30명|일반인|주부|40세|임산부|성인|청장년\"),'target'] = '성인'\n",
    "program.loc[program['target'].str.contains(r\"중년|장년|정보취약계층|비문해자|노년|60대|50대|노인|50세|60세|조부모|어르신|어르신 |시니어\"),'target'] = '중장년'\n",
    "program.loc[program['target'].str.contains(r\"유\"),'target'] = '어린이'\n",
    "program.loc[program['target'].str.contains(r\"자체분류\"),'target'] = '기타'\n",
    "\n",
    "program.loc[program['target'].str.contains(r\"교양\"),'target'] = '성인'\n",
    "program.loc[program['target'].str.contains(r\"일반|강연|독서|인문학|공모사업|정보미디어|문화행사|독서행사\"),'target'] = '기타'\n",
    "\n",
    "program.loc[program['title'].str.contains(r\"엄마|학부모|가족|부모교육|자녀|열두달 인문학당|배웠어|글밭|한마음|책수다|리더교육|소나기|넝쿨|생활법률|세금|힐링인문학\"),'target'] = '성인'\n",
    "program.loc[program['title'].str.contains(r\"풍선쇼|놀이터|샌드아트|팽이|아이좋아|개월|초[1-6]|저학년|고학년|가족연극|어린이|책놀이|책동산|유아|어린이|유치부|갈로아|가족체험|놀자|어린이철학교실|탐험대|동화|레고|10세|초등|인형극|따독이|도롱뇽\"),'target'] = '어린이'\n",
    "program.loc[program['title'].str.contains(r\"신중년|은퇴|5060|어르신|섬돌|라떼는|마흔|오팔세대|별밤|인생락서\"),'target'] = '중장년'\n",
    "program.loc[program['title'].str.contains(r\"중학생|10월의 하늘|고3|중등|청소년|고등\"),'target'] = '청소년'\n",
    "program.loc[program['title'].str.contains(r\"이금이|반려견\"),'target'] = '전연령'"
   ]
  },
  {
   "cell_type": "code",
   "execution_count": null,
   "id": "49416b1d-ef8e-4092-bfab-b5642c6c8cfb",
   "metadata": {},
   "outputs": [],
   "source": [
    "culture_program.loc[culture_program['title'].str.contains(r'창업특강|자원활동가|교수법|오후의 글쓰기|내 마음을 부탁해|김동현|또, 다시|파리 미술관|김태형|통합독서교육|달밤인문학|도서관주간|패트런|오선지 위|만나는 인생이야기|김응교|강원국|정재승|미래를|임경선|거품 없는|김광석 작가|플랜트 바스켓|플라워 클래스|테라리움 만들기|메리진|이웃들과|삶을 가꾸는|유목민의 삶|어영수|윤병열|조경규|경남을 만나다|구원받는가|새와 인간|경남을 만나다|바인더 기법|새들에게|태교|여행과 힐링|영화로 보는 인문학|작가가 될|파우치만들기'),'target']='성인'\n",
    "culture_program.loc[culture_program['title'].str.contains(r'나도 캐릭터|삶에 고전이|에코공작소|강창래|집콕홈트|만화DAY|만화그리기를|에코공작소|만화DAY|청년농부|있는 코딩'),'target']='청소년'\n",
    "culture_program.loc[culture_program['title'].str.contains(r'탱탱볼|맛있는 도서관|도서관 여행 B|탱탱볼 풍선|창의코딩|할아버지와|경남의 스토리텔링|경남을 만나다|행복해요!|야생 오리와|경남의 스토리텔링|지구를 지켜줘|토마토 그림책|2021년 겨울 독서교실'),'target']='어린이'\n",
    "culture_program.loc[culture_program['title'].str.contains(r'유대인|김종원|한상덕|산약초'),'target']='중장년'\n",
    "culture_program.loc[culture_program['title'].str.contains(r'김동식|미술, 인문학을|행복한 독서|글 잘 쓰는|인문학-영화편|키원드|도서관-자동차|아트컬렉팅이|두배로 즐기기|소담|두배로 즐기기|신미식|이소영|영화 속 클래식|문요한|이탈리아 중세|윤신영|낭만 음악회|이정모|박건호|마스크걸이|힐링요가|이유리|신병주|안광복|책꾸러미|보태니컬|마스크걸이|펀치니들|정명섭|책꾸러미|펀치 니들|ECO 인문학|노중훈|밤마실 달빛|박건호|이용 꿀팁|가야의|영국 여행 이야기|양산 통도사|한 도서관 한 책 읽기'),'target']='전연령'"
   ]
  },
  {
   "cell_type": "code",
   "execution_count": null,
   "id": "9a59816e-8493-468b-a0b4-34a9d42c5b82",
   "metadata": {},
   "outputs": [],
   "source": [
    "culture_program.to_csv('culture_program_clean.csv')"
   ]
  },
  {
   "cell_type": "code",
   "execution_count": null,
   "id": "3f578898-2a9f-4f43-a11a-8e1016b52be8",
   "metadata": {},
   "outputs": [],
   "source": [
    "import pandas as pd\n",
    "seoul = pd.read_csv('culture_program_clean.csv')\n",
    "seoul = seoul[seoul['ONE_AREA_NM']=='서울특별시']"
   ]
  },
  {
   "cell_type": "code",
   "execution_count": null,
   "id": "ef82f2de-cfb2-4cba-9443-f8486d094749",
   "metadata": {},
   "outputs": [],
   "source": [
    "seoul['TWO_AREA_NM'].unique()"
   ]
  },
  {
   "cell_type": "code",
   "execution_count": null,
   "id": "58163f18-098e-42f8-b8c1-ca9c51c6577a",
   "metadata": {},
   "outputs": [],
   "source": []
  }
 ],
 "metadata": {
  "kernelspec": {
   "display_name": "Python 3 (ipykernel)",
   "language": "python",
   "name": "python3"
  },
  "language_info": {
   "codemirror_mode": {
    "name": "ipython",
    "version": 3
   },
   "file_extension": ".py",
   "mimetype": "text/x-python",
   "name": "python",
   "nbconvert_exporter": "python",
   "pygments_lexer": "ipython3",
   "version": "3.9.12"
  }
 },
 "nbformat": 4,
 "nbformat_minor": 5
}

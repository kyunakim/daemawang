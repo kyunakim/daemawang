{
 "cells": [
  {
   "cell_type": "code",
   "execution_count": 15,
   "id": "29cf86e4-9298-46a5-9a4f-e2457aa1cf96",
   "metadata": {},
   "outputs": [],
   "source": [
    "import pandas as pd\n",
    "df = pd.read_csv('0923_성인전연령.csv', encoding=\"utf-8-sig\", index_col = 0)"
   ]
  },
  {
   "cell_type": "code",
   "execution_count": 16,
   "id": "42cdc021-46d2-4d86-baaa-6643b42ad339",
   "metadata": {},
   "outputs": [],
   "source": [
    "import pandas as pd\n",
    "df1 = pd.read_csv('0933연령대별구분_전연령_청소년_어린이_성인.csv', encoding=\"utf-8-sig\", index_col = 0)"
   ]
  },
  {
   "cell_type": "code",
   "execution_count": 17,
   "id": "3ccc8e24-64ec-4aca-b1d6-5a99cafde215",
   "metadata": {},
   "outputs": [],
   "source": [
    "df.to_csv('0923_성인전연(encoding).csv',encoding=\"utf-8-sig\", index=False)"
   ]
  },
  {
   "cell_type": "code",
   "execution_count": 18,
   "id": "75771b75-1629-4212-b4f5-927ff43e896d",
   "metadata": {},
   "outputs": [],
   "source": [
    "df1.to_csv('0933연령대별구분_전연령_청소년_어린이_성인(encoding).csv',encoding=\"utf-8-sig\", index=False)"
   ]
  },
  {
   "cell_type": "code",
   "execution_count": 9,
   "id": "7469b90c-2a3a-4a7e-8a46-88be17f8523b",
   "metadata": {},
   "outputs": [
    {
     "data": {
      "text/html": [
       "<div>\n",
       "<style scoped>\n",
       "    .dataframe tbody tr th:only-of-type {\n",
       "        vertical-align: middle;\n",
       "    }\n",
       "\n",
       "    .dataframe tbody tr th {\n",
       "        vertical-align: top;\n",
       "    }\n",
       "\n",
       "    .dataframe thead th {\n",
       "        text-align: right;\n",
       "    }\n",
       "</style>\n",
       "<table border=\"1\" class=\"dataframe\">\n",
       "  <thead>\n",
       "    <tr style=\"text-align: right;\">\n",
       "      <th></th>\n",
       "      <th>지역</th>\n",
       "      <th>title</th>\n",
       "      <th>target</th>\n",
       "    </tr>\n",
       "  </thead>\n",
       "  <tbody>\n",
       "    <tr>\n",
       "      <th>0</th>\n",
       "      <td>금천구</td>\n",
       "      <td>[시흥]도서관지혜학교:전통시기 중국문인의 시,서,화에서 얻은 지혜 행사 안내</td>\n",
       "      <td>전연령</td>\n",
       "    </tr>\n",
       "    <tr>\n",
       "      <th>2</th>\n",
       "      <td>금천구</td>\n",
       "      <td>[독산] 대숲소리 북콘서트Ⅳ : 여름밤 영화음악회 안내</td>\n",
       "      <td>전연령</td>\n",
       "    </tr>\n",
       "    <tr>\n",
       "      <th>3</th>\n",
       "      <td>금천구</td>\n",
       "      <td>[독산] 7월 문화가 있는날- 김해원 깊이읽기 3</td>\n",
       "      <td>성인</td>\n",
       "    </tr>\n",
       "    <tr>\n",
       "      <th>4</th>\n",
       "      <td>금천구</td>\n",
       "      <td>[금나래]길 위의 인문학 \"차이 '안'나는 클라스 진행</td>\n",
       "      <td>성인</td>\n",
       "    </tr>\n",
       "    <tr>\n",
       "      <th>5</th>\n",
       "      <td>금천구</td>\n",
       "      <td>[독산] 대숲소리 북콘서트Ⅲ 안내</td>\n",
       "      <td>전연령</td>\n",
       "    </tr>\n",
       "    <tr>\n",
       "      <th>...</th>\n",
       "      <td>...</td>\n",
       "      <td>...</td>\n",
       "      <td>...</td>\n",
       "    </tr>\n",
       "    <tr>\n",
       "      <th>257</th>\n",
       "      <td>강북구</td>\n",
       "      <td>[삼각산] 부모특강 &lt;우리 아이 첫 돈공부&gt;</td>\n",
       "      <td>성인</td>\n",
       "    </tr>\n",
       "    <tr>\n",
       "      <th>262</th>\n",
       "      <td>강북구</td>\n",
       "      <td>[삼각산] 그림책큐브 온라인 워크숍(가족)_1기</td>\n",
       "      <td>성인</td>\n",
       "    </tr>\n",
       "    <tr>\n",
       "      <th>263</th>\n",
       "      <td>강북구</td>\n",
       "      <td>[삼각산] 그림책큐브 온라인 워크숍(가족)_2기 추가모집</td>\n",
       "      <td>성인</td>\n",
       "    </tr>\n",
       "    <tr>\n",
       "      <th>264</th>\n",
       "      <td>강북구</td>\n",
       "      <td>[삼각산] 그림책큐브 온라인 워크숍(성인)_1기</td>\n",
       "      <td>성인</td>\n",
       "    </tr>\n",
       "    <tr>\n",
       "      <th>265</th>\n",
       "      <td>강북구</td>\n",
       "      <td>[삼각산] 그림책큐브 온라인 워크숍(성인)_2기 추가모집</td>\n",
       "      <td>성인</td>\n",
       "    </tr>\n",
       "  </tbody>\n",
       "</table>\n",
       "<p>2828 rows × 3 columns</p>\n",
       "</div>"
      ],
      "text/plain": [
       "      지역                                       title target\n",
       "0    금천구  [시흥]도서관지혜학교:전통시기 중국문인의 시,서,화에서 얻은 지혜 행사 안내    전연령\n",
       "2    금천구              [독산] 대숲소리 북콘서트Ⅳ : 여름밤 영화음악회 안내    전연령\n",
       "3    금천구                 [독산] 7월 문화가 있는날- 김해원 깊이읽기 3     성인\n",
       "4    금천구              [금나래]길 위의 인문학 \"차이 '안'나는 클라스 진행     성인\n",
       "5    금천구                          [독산] 대숲소리 북콘서트Ⅲ 안내    전연령\n",
       "..   ...                                         ...    ...\n",
       "257  강북구                    [삼각산] 부모특강 <우리 아이 첫 돈공부>     성인\n",
       "262  강북구                  [삼각산] 그림책큐브 온라인 워크숍(가족)_1기     성인\n",
       "263  강북구             [삼각산] 그림책큐브 온라인 워크숍(가족)_2기 추가모집     성인\n",
       "264  강북구                  [삼각산] 그림책큐브 온라인 워크숍(성인)_1기     성인\n",
       "265  강북구             [삼각산] 그림책큐브 온라인 워크숍(성인)_2기 추가모집     성인\n",
       "\n",
       "[2828 rows x 3 columns]"
      ]
     },
     "execution_count": 9,
     "metadata": {},
     "output_type": "execute_result"
    }
   ],
   "source": [
    "df"
   ]
  },
  {
   "cell_type": "code",
   "execution_count": 10,
   "id": "4eb29f4c-2eb6-48cf-aca3-68e5f4c6b155",
   "metadata": {},
   "outputs": [
    {
     "data": {
      "text/plain": [
       "성인     1689\n",
       "전연령    1139\n",
       "Name: target, dtype: int64"
      ]
     },
     "execution_count": 10,
     "metadata": {},
     "output_type": "execute_result"
    }
   ],
   "source": [
    "df.target.value_counts()"
   ]
  },
  {
   "cell_type": "code",
   "execution_count": 7,
   "id": "7ed7702a-b7bd-47f0-b485-8c0d8a611ca2",
   "metadata": {},
   "outputs": [
    {
     "data": {
      "text/html": [
       "<div>\n",
       "<style scoped>\n",
       "    .dataframe tbody tr th:only-of-type {\n",
       "        vertical-align: middle;\n",
       "    }\n",
       "\n",
       "    .dataframe tbody tr th {\n",
       "        vertical-align: top;\n",
       "    }\n",
       "\n",
       "    .dataframe thead th {\n",
       "        text-align: right;\n",
       "    }\n",
       "</style>\n",
       "<table border=\"1\" class=\"dataframe\">\n",
       "  <thead>\n",
       "    <tr style=\"text-align: right;\">\n",
       "      <th></th>\n",
       "      <th>지역</th>\n",
       "      <th>title</th>\n",
       "      <th>target</th>\n",
       "    </tr>\n",
       "  </thead>\n",
       "  <tbody>\n",
       "    <tr>\n",
       "      <th>0</th>\n",
       "      <td>금천구</td>\n",
       "      <td>[시흥]도서관지혜학교:전통시기 중국문인의 시,서,화에서 얻은 지혜 행사 안내</td>\n",
       "      <td>전연령</td>\n",
       "    </tr>\n",
       "    <tr>\n",
       "      <th>1</th>\n",
       "      <td>금천구</td>\n",
       "      <td>[독산] 8월 문화가 있는날- 김해원 깊이읽기 4</td>\n",
       "      <td>어린이</td>\n",
       "    </tr>\n",
       "    <tr>\n",
       "      <th>2</th>\n",
       "      <td>금천구</td>\n",
       "      <td>[독산] 대숲소리 북콘서트Ⅳ : 여름밤 영화음악회 안내</td>\n",
       "      <td>전연령</td>\n",
       "    </tr>\n",
       "    <tr>\n",
       "      <th>3</th>\n",
       "      <td>금천구</td>\n",
       "      <td>[독산] 7월 문화가 있는날- 김해원 깊이읽기 3</td>\n",
       "      <td>성인</td>\n",
       "    </tr>\n",
       "    <tr>\n",
       "      <th>4</th>\n",
       "      <td>금천구</td>\n",
       "      <td>[금나래]길 위의 인문학 \"차이 '안'나는 클라스 진행</td>\n",
       "      <td>성인</td>\n",
       "    </tr>\n",
       "    <tr>\n",
       "      <th>...</th>\n",
       "      <td>...</td>\n",
       "      <td>...</td>\n",
       "      <td>...</td>\n",
       "    </tr>\n",
       "    <tr>\n",
       "      <th>280</th>\n",
       "      <td>강북구</td>\n",
       "      <td>[삼각산] 4.19특강 \"아직 끝나지 않은 혁명, 4.19\"(초등 3~4학년)</td>\n",
       "      <td>어린이</td>\n",
       "    </tr>\n",
       "    <tr>\n",
       "      <th>281</th>\n",
       "      <td>강북구</td>\n",
       "      <td>[삼각산] 4.19특강 \"아직 끝나지 않은 혁명, 4.19\"(초등 5~6학년)</td>\n",
       "      <td>어린이</td>\n",
       "    </tr>\n",
       "    <tr>\n",
       "      <th>282</th>\n",
       "      <td>강북구</td>\n",
       "      <td>[삼각산]2021년 겨울 독서교실(초등1~2학년)</td>\n",
       "      <td>어린이</td>\n",
       "    </tr>\n",
       "    <tr>\n",
       "      <th>283</th>\n",
       "      <td>강북구</td>\n",
       "      <td>[삼각산]2021년 겨울 독서교실(초등5~6학년)</td>\n",
       "      <td>어린이</td>\n",
       "    </tr>\n",
       "    <tr>\n",
       "      <th>284</th>\n",
       "      <td>강북구</td>\n",
       "      <td>[삼각산]2021년 겨울 독서교실(초등3~4학년)</td>\n",
       "      <td>어린이</td>\n",
       "    </tr>\n",
       "  </tbody>\n",
       "</table>\n",
       "<p>5993 rows × 3 columns</p>\n",
       "</div>"
      ],
      "text/plain": [
       "      지역                                        title target\n",
       "0    금천구   [시흥]도서관지혜학교:전통시기 중국문인의 시,서,화에서 얻은 지혜 행사 안내    전연령\n",
       "1    금천구                  [독산] 8월 문화가 있는날- 김해원 깊이읽기 4    어린이\n",
       "2    금천구               [독산] 대숲소리 북콘서트Ⅳ : 여름밤 영화음악회 안내    전연령\n",
       "3    금천구                  [독산] 7월 문화가 있는날- 김해원 깊이읽기 3     성인\n",
       "4    금천구               [금나래]길 위의 인문학 \"차이 '안'나는 클라스 진행     성인\n",
       "..   ...                                          ...    ...\n",
       "280  강북구  [삼각산] 4.19특강 \"아직 끝나지 않은 혁명, 4.19\"(초등 3~4학년)    어린이\n",
       "281  강북구  [삼각산] 4.19특강 \"아직 끝나지 않은 혁명, 4.19\"(초등 5~6학년)    어린이\n",
       "282  강북구                  [삼각산]2021년 겨울 독서교실(초등1~2학년)    어린이\n",
       "283  강북구                  [삼각산]2021년 겨울 독서교실(초등5~6학년)    어린이\n",
       "284  강북구                  [삼각산]2021년 겨울 독서교실(초등3~4학년)    어린이\n",
       "\n",
       "[5993 rows x 3 columns]"
      ]
     },
     "execution_count": 7,
     "metadata": {},
     "output_type": "execute_result"
    }
   ],
   "source": [
    "df1"
   ]
  },
  {
   "cell_type": "code",
   "execution_count": 11,
   "id": "fa419852-f834-4bbb-85c3-8253aecc9e2e",
   "metadata": {},
   "outputs": [
    {
     "data": {
      "text/plain": [
       "어린이    2770\n",
       "성인     1689\n",
       "전연령    1139\n",
       "청소년     395\n",
       "Name: target, dtype: int64"
      ]
     },
     "execution_count": 11,
     "metadata": {},
     "output_type": "execute_result"
    }
   ],
   "source": [
    "df1.target.value_counts()"
   ]
  },
  {
   "cell_type": "code",
   "execution_count": 13,
   "id": "ac9e9eff-6a81-4517-a36f-9b915c41151c",
   "metadata": {},
   "outputs": [],
   "source": [
    "# 한글폰트 적용\n",
    "import matplotlib.pyplot as plt\n",
    "plt.rc(\"font\",family=\"AppleGothic\")\n",
    "\n",
    "#마이너스 기호 깨짐 방지\n",
    "plt.rcParams['axes.unicode_minus']=False\n",
    "\n",
    "import warnings\n",
    "warnings.filterwarnings(\"ignore\")"
   ]
  },
  {
   "cell_type": "code",
   "execution_count": 14,
   "id": "deaa7625-60df-4189-82ea-51127cfa14e7",
   "metadata": {},
   "outputs": [
    {
     "data": {
      "image/png": "[encoded data removed]",
      "text/plain": [
       "<Figure size 432x288 with 1 Axes>"
      ]
     },
     "metadata": {},
     "output_type": "display_data"
    }
   ],
   "source": [
    "import matplotlib.pyplot as plt\n",
    "import seaborn as sns\n",
    "\n",
    "#define Seaborn color palette to use\n",
    "colors = sns.color_palette('pastel')[0:5]\n",
    "\n",
    "#create pie chart\n",
    "data = df1.target.value_counts()\n",
    "data.plot.pie(autopct='%.2f%%')\n",
    "plt.show()"
   ]
  },
  {
   "cell_type": "code",
   "execution_count": 3,
   "id": "a686a330-96b9-45df-b341-b540c5fff0a2",
   "metadata": {},
   "outputs": [
    {
     "data": {
      "text/plain": [
       "array(['금천구', '마포구', '구로구', '성동구', '동대문구', '영등포구', '강서구', '양천구', '서대문구',\n",
       "       '강남구', '도봉구', '은평구', '용산구', '서초구', '종로구', '동작구', '관악구', '중랑구',\n",
       "       '송파구', '강동구', '중구', '노원구', '광진구', '성북구', '강북구'], dtype=object)"
      ]
     },
     "execution_count": 3,
     "metadata": {},
     "output_type": "execute_result"
    }
   ],
   "source": [
    "df['지역'].unique()"
   ]
  },
  {
   "cell_type": "markdown",
   "id": "51461fd0-605d-48e7-b887-219bc28bfeb9",
   "metadata": {},
   "source": [
    "# 금천구"
   ]
  },
  {
   "cell_type": "code",
   "execution_count": 6,
   "id": "02961d2b-cc77-4ab7-a08e-84d94af89b35",
   "metadata": {
    "tags": []
   },
   "outputs": [
    {
     "data": {
      "text/html": [
       "<div>\n",
       "<style scoped>\n",
       "    .dataframe tbody tr th:only-of-type {\n",
       "        vertical-align: middle;\n",
       "    }\n",
       "\n",
       "    .dataframe tbody tr th {\n",
       "        vertical-align: top;\n",
       "    }\n",
       "\n",
       "    .dataframe thead th {\n",
       "        text-align: right;\n",
       "    }\n",
       "</style>\n",
       "<table border=\"1\" class=\"dataframe\">\n",
       "  <thead>\n",
       "    <tr style=\"text-align: right;\">\n",
       "      <th></th>\n",
       "      <th>지역</th>\n",
       "      <th>title</th>\n",
       "      <th>target</th>\n",
       "    </tr>\n",
       "  </thead>\n",
       "  <tbody>\n",
       "    <tr>\n",
       "      <th>0</th>\n",
       "      <td>금천구</td>\n",
       "      <td>[시흥]도서관지혜학교:전통시기 중국문인의 시,서,화에서 얻은 지혜 행사 안내</td>\n",
       "      <td>전연령</td>\n",
       "    </tr>\n",
       "    <tr>\n",
       "      <th>1</th>\n",
       "      <td>금천구</td>\n",
       "      <td>[독산] 8월 문화가 있는날- 김해원 깊이읽기 4</td>\n",
       "      <td>어린이</td>\n",
       "    </tr>\n",
       "    <tr>\n",
       "      <th>2</th>\n",
       "      <td>금천구</td>\n",
       "      <td>[독산] 대숲소리 북콘서트Ⅳ : 여름밤 영화음악회 안내</td>\n",
       "      <td>전연령</td>\n",
       "    </tr>\n",
       "    <tr>\n",
       "      <th>3</th>\n",
       "      <td>금천구</td>\n",
       "      <td>[독산] 7월 문화가 있는날- 김해원 깊이읽기 3</td>\n",
       "      <td>성인</td>\n",
       "    </tr>\n",
       "    <tr>\n",
       "      <th>4</th>\n",
       "      <td>금천구</td>\n",
       "      <td>[금나래]길 위의 인문학 \"차이 '안'나는 클라스 진행</td>\n",
       "      <td>성인</td>\n",
       "    </tr>\n",
       "    <tr>\n",
       "      <th>5</th>\n",
       "      <td>금천구</td>\n",
       "      <td>[독산] 대숲소리 북콘서트Ⅲ 안내</td>\n",
       "      <td>전연령</td>\n",
       "    </tr>\n",
       "    <tr>\n",
       "      <th>6</th>\n",
       "      <td>금천구</td>\n",
       "      <td>[독산]린드그렌이 말을 걸어 온다「이렇게 살아 보면 어때?」참여자 모집 안내</td>\n",
       "      <td>성인</td>\n",
       "    </tr>\n",
       "    <tr>\n",
       "      <th>7</th>\n",
       "      <td>금천구</td>\n",
       "      <td>[금나래] 2022 도서관 서포터즈 '나래 미디어 팩토리' 참여자 모집 안내</td>\n",
       "      <td>성인</td>\n",
       "    </tr>\n",
       "    <tr>\n",
       "      <th>8</th>\n",
       "      <td>금천구</td>\n",
       "      <td>[독산] 6월 문화가 있는날- 김해원 깊이읽기 2</td>\n",
       "      <td>어린이</td>\n",
       "    </tr>\n",
       "    <tr>\n",
       "      <th>9</th>\n",
       "      <td>금천구</td>\n",
       "      <td>[독산] 대숲소리 북콘서트Ⅱ 안내</td>\n",
       "      <td>전연령</td>\n",
       "    </tr>\n",
       "    <tr>\n",
       "      <th>10</th>\n",
       "      <td>금천구</td>\n",
       "      <td>[금나래] 가정의 달 기념 인형극 공연 안내</td>\n",
       "      <td>어린이</td>\n",
       "    </tr>\n",
       "    <tr>\n",
       "      <th>11</th>\n",
       "      <td>금천구</td>\n",
       "      <td>[독산] 길 위의 인문학 「나를 돌보는 읽기와 쓰기」참여자 모집 안내</td>\n",
       "      <td>성인</td>\n",
       "    </tr>\n",
       "    <tr>\n",
       "      <th>12</th>\n",
       "      <td>금천구</td>\n",
       "      <td>[독산] 5월 문화가 있는날- 김해원 깊이읽기 1</td>\n",
       "      <td>어린이</td>\n",
       "    </tr>\n",
       "    <tr>\n",
       "      <th>13</th>\n",
       "      <td>금천구</td>\n",
       "      <td>[독산] 대숲소리 북콘서트Ⅰ 안내</td>\n",
       "      <td>전연령</td>\n",
       "    </tr>\n",
       "    <tr>\n",
       "      <th>14</th>\n",
       "      <td>금천구</td>\n",
       "      <td>[금나래 다문화]세계를 두드리고, 어울려보자꾸나!</td>\n",
       "      <td>전연령</td>\n",
       "    </tr>\n",
       "    <tr>\n",
       "      <th>15</th>\n",
       "      <td>금천구</td>\n",
       "      <td>[독산] 4월 문화가 있는날- 엄혜숙 깊이읽기 4</td>\n",
       "      <td>성인</td>\n",
       "    </tr>\n",
       "    <tr>\n",
       "      <th>16</th>\n",
       "      <td>금천구</td>\n",
       "      <td>2022 금나래도서관 책꾸러미사업 안내</td>\n",
       "      <td>어린이</td>\n",
       "    </tr>\n",
       "    <tr>\n",
       "      <th>17</th>\n",
       "      <td>금천구</td>\n",
       "      <td>[독산] 도서관주간 행사 안내</td>\n",
       "      <td>어린이</td>\n",
       "    </tr>\n",
       "    <tr>\n",
       "      <th>18</th>\n",
       "      <td>금천구</td>\n",
       "      <td>[특화사업] 2022년 \"나래 북 팩토리\" 참가 모집</td>\n",
       "      <td>어린이</td>\n",
       "    </tr>\n",
       "    <tr>\n",
       "      <th>19</th>\n",
       "      <td>금천구</td>\n",
       "      <td>[시흥] 저자와의 만남-&lt;저자, 일단 만났습니다&gt;</td>\n",
       "      <td>성인</td>\n",
       "    </tr>\n",
       "    <tr>\n",
       "      <th>20</th>\n",
       "      <td>금천구</td>\n",
       "      <td>[금나래] 2월 문화가 있는 날 &lt;책과 함께하는 미니어처&gt;</td>\n",
       "      <td>어린이</td>\n",
       "    </tr>\n",
       "    <tr>\n",
       "      <th>21</th>\n",
       "      <td>금천구</td>\n",
       "      <td>2021년 북콘서트 \"해피 버스데이 우리 동네\"</td>\n",
       "      <td>전연령</td>\n",
       "    </tr>\n",
       "    <tr>\n",
       "      <th>22</th>\n",
       "      <td>금천구</td>\n",
       "      <td>힐링독서놀이(2학년) 10월 프로그램 안내</td>\n",
       "      <td>어린이</td>\n",
       "    </tr>\n",
       "    <tr>\n",
       "      <th>23</th>\n",
       "      <td>금천구</td>\n",
       "      <td>상주작가 X 초청작가 작은도서관 북토크</td>\n",
       "      <td>성인</td>\n",
       "    </tr>\n",
       "    <tr>\n",
       "      <th>24</th>\n",
       "      <td>금천구</td>\n",
       "      <td>제11회 &lt;2021 금천구 도서관 북페스티벌&gt; 행사 5일차 일정 안내(6월 5일, 토)</td>\n",
       "      <td>전연령</td>\n",
       "    </tr>\n",
       "    <tr>\n",
       "      <th>25</th>\n",
       "      <td>금천구</td>\n",
       "      <td>제11회 &lt;2021 금천구 도서관 북페스티벌&gt; 행사 4일차 일정 안내(6월 4일, 금)</td>\n",
       "      <td>전연령</td>\n",
       "    </tr>\n",
       "    <tr>\n",
       "      <th>26</th>\n",
       "      <td>금천구</td>\n",
       "      <td>제11회 &lt;2021 금천구 도서관 북페스티벌&gt; 3일차 행사 안내(6월 3일, 목)</td>\n",
       "      <td>전연령</td>\n",
       "    </tr>\n",
       "    <tr>\n",
       "      <th>27</th>\n",
       "      <td>금천구</td>\n",
       "      <td>제11회 &lt;2021 금천구 도서관 북페스티벌&gt; 2일차 행사 안내(6월 2일,수)</td>\n",
       "      <td>전연령</td>\n",
       "    </tr>\n",
       "    <tr>\n",
       "      <th>28</th>\n",
       "      <td>금천구</td>\n",
       "      <td>힐링독서놀이 6월 프로그램 참가자 모집</td>\n",
       "      <td>어린이</td>\n",
       "    </tr>\n",
       "    <tr>\n",
       "      <th>29</th>\n",
       "      <td>금천구</td>\n",
       "      <td>[금나래] 5월 문화가 있는 날 &lt;동물보호를 위한 언택트 2시간&gt; - 김바다 작가와...</td>\n",
       "      <td>어린이</td>\n",
       "    </tr>\n",
       "    <tr>\n",
       "      <th>30</th>\n",
       "      <td>금천구</td>\n",
       "      <td>힐링독서놀이 5월 프로그램 참가자 모집</td>\n",
       "      <td>어린이</td>\n",
       "    </tr>\n",
       "    <tr>\n",
       "      <th>31</th>\n",
       "      <td>금천구</td>\n",
       "      <td>[금나래] 나래 미디어 팩토리 모집 안내</td>\n",
       "      <td>청소년</td>\n",
       "    </tr>\n",
       "    <tr>\n",
       "      <th>32</th>\n",
       "      <td>금천구</td>\n",
       "      <td>[금나래] 4월 문화가 있는 날 &lt;동물보호를 위한 언택트 2시간&gt; - 이서우 작가와...</td>\n",
       "      <td>어린이</td>\n",
       "    </tr>\n",
       "    <tr>\n",
       "      <th>33</th>\n",
       "      <td>금천구</td>\n",
       "      <td>[금나래] 세계건축문화스토리 저학년 모집 안내</td>\n",
       "      <td>어린이</td>\n",
       "    </tr>\n",
       "    <tr>\n",
       "      <th>34</th>\n",
       "      <td>금천구</td>\n",
       "      <td>[금나래] 나래 북 팩토리 - 환경 그림책 만들기</td>\n",
       "      <td>어린이</td>\n",
       "    </tr>\n",
       "    <tr>\n",
       "      <th>35</th>\n",
       "      <td>금천구</td>\n",
       "      <td>세계 건축문화 스토리 Ⅰ</td>\n",
       "      <td>어린이</td>\n",
       "    </tr>\n",
       "    <tr>\n",
       "      <th>36</th>\n",
       "      <td>금천구</td>\n",
       "      <td>세계 건축문화 스토리 Ⅱ</td>\n",
       "      <td>어린이</td>\n",
       "    </tr>\n",
       "    <tr>\n",
       "      <th>37</th>\n",
       "      <td>금천구</td>\n",
       "      <td>쉽게 친해지는 코딩</td>\n",
       "      <td>어린이</td>\n",
       "    </tr>\n",
       "    <tr>\n",
       "      <th>38</th>\n",
       "      <td>금천구</td>\n",
       "      <td>나의 손 글씨</td>\n",
       "      <td>성인</td>\n",
       "    </tr>\n",
       "    <tr>\n",
       "      <th>39</th>\n",
       "      <td>금천구</td>\n",
       "      <td>영화, 그림책과 리딩하다</td>\n",
       "      <td>성인</td>\n",
       "    </tr>\n",
       "    <tr>\n",
       "      <th>40</th>\n",
       "      <td>금천구</td>\n",
       "      <td>그림책 깊이 읽기</td>\n",
       "      <td>성인</td>\n",
       "    </tr>\n",
       "    <tr>\n",
       "      <th>41</th>\n",
       "      <td>금천구</td>\n",
       "      <td>처음 읽어보는 영어그림책</td>\n",
       "      <td>성인</td>\n",
       "    </tr>\n",
       "  </tbody>\n",
       "</table>\n",
       "</div>"
      ],
      "text/plain": [
       "     지역                                              title target\n",
       "0   금천구         [시흥]도서관지혜학교:전통시기 중국문인의 시,서,화에서 얻은 지혜 행사 안내    전연령\n",
       "1   금천구                        [독산] 8월 문화가 있는날- 김해원 깊이읽기 4    어린이\n",
       "2   금천구                     [독산] 대숲소리 북콘서트Ⅳ : 여름밤 영화음악회 안내    전연령\n",
       "3   금천구                        [독산] 7월 문화가 있는날- 김해원 깊이읽기 3     성인\n",
       "4   금천구                     [금나래]길 위의 인문학 \"차이 '안'나는 클라스 진행     성인\n",
       "5   금천구                                 [독산] 대숲소리 북콘서트Ⅲ 안내    전연령\n",
       "6   금천구         [독산]린드그렌이 말을 걸어 온다「이렇게 살아 보면 어때?」참여자 모집 안내     성인\n",
       "7   금천구         [금나래] 2022 도서관 서포터즈 '나래 미디어 팩토리' 참여자 모집 안내     성인\n",
       "8   금천구                        [독산] 6월 문화가 있는날- 김해원 깊이읽기 2    어린이\n",
       "9   금천구                                 [독산] 대숲소리 북콘서트Ⅱ 안내    전연령\n",
       "10  금천구                           [금나래] 가정의 달 기념 인형극 공연 안내    어린이\n",
       "11  금천구             [독산] 길 위의 인문학 「나를 돌보는 읽기와 쓰기」참여자 모집 안내     성인\n",
       "12  금천구                        [독산] 5월 문화가 있는날- 김해원 깊이읽기 1    어린이\n",
       "13  금천구                                 [독산] 대숲소리 북콘서트Ⅰ 안내    전연령\n",
       "14  금천구                        [금나래 다문화]세계를 두드리고, 어울려보자꾸나!    전연령\n",
       "15  금천구                        [독산] 4월 문화가 있는날- 엄혜숙 깊이읽기 4     성인\n",
       "16  금천구                              2022 금나래도서관 책꾸러미사업 안내    어린이\n",
       "17  금천구                                   [독산] 도서관주간 행사 안내    어린이\n",
       "18  금천구                      [특화사업] 2022년 \"나래 북 팩토리\" 참가 모집    어린이\n",
       "19  금천구                        [시흥] 저자와의 만남-<저자, 일단 만났습니다>     성인\n",
       "20  금천구                   [금나래] 2월 문화가 있는 날 <책과 함께하는 미니어처>    어린이\n",
       "21  금천구                         2021년 북콘서트 \"해피 버스데이 우리 동네\"    전연령\n",
       "22  금천구                            힐링독서놀이(2학년) 10월 프로그램 안내    어린이\n",
       "23  금천구                              상주작가 X 초청작가 작은도서관 북토크     성인\n",
       "24  금천구   제11회 <2021 금천구 도서관 북페스티벌> 행사 5일차 일정 안내(6월 5일, 토)    전연령\n",
       "25  금천구   제11회 <2021 금천구 도서관 북페스티벌> 행사 4일차 일정 안내(6월 4일, 금)    전연령\n",
       "26  금천구      제11회 <2021 금천구 도서관 북페스티벌> 3일차 행사 안내(6월 3일, 목)    전연령\n",
       "27  금천구       제11회 <2021 금천구 도서관 북페스티벌> 2일차 행사 안내(6월 2일,수)    전연령\n",
       "28  금천구                              힐링독서놀이 6월 프로그램 참가자 모집    어린이\n",
       "29  금천구  [금나래] 5월 문화가 있는 날 <동물보호를 위한 언택트 2시간> - 김바다 작가와...    어린이\n",
       "30  금천구                              힐링독서놀이 5월 프로그램 참가자 모집    어린이\n",
       "31  금천구                             [금나래] 나래 미디어 팩토리 모집 안내    청소년\n",
       "32  금천구  [금나래] 4월 문화가 있는 날 <동물보호를 위한 언택트 2시간> - 이서우 작가와...    어린이\n",
       "33  금천구                          [금나래] 세계건축문화스토리 저학년 모집 안내    어린이\n",
       "34  금천구                        [금나래] 나래 북 팩토리 - 환경 그림책 만들기    어린이\n",
       "35  금천구                                      세계 건축문화 스토리 Ⅰ    어린이\n",
       "36  금천구                                      세계 건축문화 스토리 Ⅱ    어린이\n",
       "37  금천구                                         쉽게 친해지는 코딩    어린이\n",
       "38  금천구                                            나의 손 글씨     성인\n",
       "39  금천구                                      영화, 그림책과 리딩하다     성인\n",
       "40  금천구                                          그림책 깊이 읽기     성인\n",
       "41  금천구                                      처음 읽어보는 영어그림책     성인"
      ]
     },
     "execution_count": 6,
     "metadata": {},
     "output_type": "execute_result"
    }
   ],
   "source": [
    "kc = df.loc[df['지역']=='금천구']"
   ]
  },
  {
   "cell_type": "code",
   "execution_count": null,
   "id": "5e69aef1-7a95-4810-9afd-3ca0f7cc7b1a",
   "metadata": {},
   "outputs": [],
   "source": [
    "kc.loc[df['지역']=='금천구']"
   ]
  },
  {
   "cell_type": "markdown",
   "id": "576c8cd3-9a64-4b36-99a8-56a39990fba3",
   "metadata": {},
   "source": [
    "# 마포구"
   ]
  },
  {
   "cell_type": "code",
   "execution_count": null,
   "id": "d12f0694-fa13-4036-83e2-9b84367a1754",
   "metadata": {},
   "outputs": [],
   "source": [
    "df.loc[df['지역']=='마포구']"
   ]
  },
  {
   "cell_type": "markdown",
   "id": "f3f8b87c-e8d1-40e0-b782-89d71e55e75c",
   "metadata": {},
   "source": [
    "# 광진구"
   ]
  },
  {
   "cell_type": "code",
   "execution_count": null,
   "id": "da2ee931-70ea-44c2-9db3-35b313ca4fd0",
   "metadata": {},
   "outputs": [],
   "source": [
    "df.loc[df['지역']=='광진구']"
   ]
  },
  {
   "cell_type": "markdown",
   "id": "111baac3-a047-4468-8529-7c485fc140e7",
   "metadata": {},
   "source": [
    "# 구로구"
   ]
  },
  {
   "cell_type": "code",
   "execution_count": null,
   "id": "0971f3ec-2cc7-4a0a-a530-e87adbc57662",
   "metadata": {},
   "outputs": [],
   "source": [
    "df.loc[df['지역']=='구로구']"
   ]
  },
  {
   "cell_type": "markdown",
   "id": "8f77cfbb-abc2-4368-9059-c036103d958a",
   "metadata": {},
   "source": [
    "# 성동구"
   ]
  },
  {
   "cell_type": "code",
   "execution_count": null,
   "id": "6ae993d1-8a09-4948-abb5-f396b6f962e1",
   "metadata": {},
   "outputs": [],
   "source": [
    "df.loc[df['지역']=='성동구']"
   ]
  },
  {
   "cell_type": "markdown",
   "id": "c629ee0a-165b-4580-8759-1eb4b1217bd8",
   "metadata": {},
   "source": [
    "# 성북구"
   ]
  },
  {
   "cell_type": "code",
   "execution_count": null,
   "id": "4fd59df8-eebf-4ba8-ad3b-b16206b6adb4",
   "metadata": {},
   "outputs": [],
   "source": [
    "df.loc[df['지역']=='성북구']"
   ]
  },
  {
   "cell_type": "markdown",
   "id": "258ae516-8e9a-404b-880b-0d0b825fdc06",
   "metadata": {},
   "source": [
    "# 동대문구"
   ]
  },
  {
   "cell_type": "code",
   "execution_count": null,
   "id": "d45a719b-64b1-4210-980a-51eb70f8d321",
   "metadata": {},
   "outputs": [],
   "source": [
    "df.loc[df['지역']=='동대문구']"
   ]
  },
  {
   "cell_type": "markdown",
   "id": "28cf20e1-9e8e-4659-90d9-4dae6f79be0f",
   "metadata": {},
   "source": [
    "# 영등포구"
   ]
  },
  {
   "cell_type": "code",
   "execution_count": null,
   "id": "c9e3483a-53f0-4160-a30a-d994499789a5",
   "metadata": {},
   "outputs": [],
   "source": [
    "df.loc[df['지역']=='영등포구']"
   ]
  },
  {
   "cell_type": "markdown",
   "id": "19e08cd7-a083-4eac-8c38-463f56d111a3",
   "metadata": {},
   "source": [
    "# 중구"
   ]
  },
  {
   "cell_type": "code",
   "execution_count": null,
   "id": "9bd12f7e-710c-4f67-86fa-3c6cc28eee3f",
   "metadata": {},
   "outputs": [],
   "source": [
    "df.loc[df['지역']=='중구']"
   ]
  },
  {
   "cell_type": "markdown",
   "id": "fa99e03d-bd2c-4d9b-9a15-f0054d173315",
   "metadata": {},
   "source": [
    "# 강서구"
   ]
  },
  {
   "cell_type": "code",
   "execution_count": null,
   "id": "12c73ffd-8045-46dd-b408-cd800985917d",
   "metadata": {},
   "outputs": [],
   "source": [
    "df.loc[df['지역']=='강서구']"
   ]
  },
  {
   "cell_type": "markdown",
   "id": "3488766b-b55b-4467-bd23-466a85af51ae",
   "metadata": {},
   "source": [
    "# 양천구"
   ]
  },
  {
   "cell_type": "code",
   "execution_count": null,
   "id": "f62e2fba-c9ae-41b2-a17e-9c9b6ae97a39",
   "metadata": {},
   "outputs": [],
   "source": [
    "df.loc[df['지역']=='양천구']"
   ]
  },
  {
   "cell_type": "markdown",
   "id": "7b5205d3-81c7-4361-9b5d-962507b0ecc2",
   "metadata": {},
   "source": [
    "# 서대문구"
   ]
  },
  {
   "cell_type": "code",
   "execution_count": null,
   "id": "a2da7d51-0f68-46fa-9347-ed200f869b2e",
   "metadata": {},
   "outputs": [],
   "source": [
    "df.loc[df['지역']=='서대문구']"
   ]
  },
  {
   "cell_type": "markdown",
   "id": "aa018a85-d007-4b7a-bd3a-046a75c65d0d",
   "metadata": {},
   "source": [
    "# 송파구"
   ]
  },
  {
   "cell_type": "code",
   "execution_count": null,
   "id": "57e6e3d9-0d02-4f59-b2b1-fba964275bec",
   "metadata": {},
   "outputs": [],
   "source": [
    "df.loc[df['지역']=='송파구']"
   ]
  },
  {
   "cell_type": "markdown",
   "id": "042872a2-c303-407f-8b84-7ada523d6e2d",
   "metadata": {},
   "source": [
    "# 강남구"
   ]
  },
  {
   "cell_type": "code",
   "execution_count": null,
   "id": "003649d0-19c1-4423-8831-f34062f212ec",
   "metadata": {},
   "outputs": [],
   "source": [
    "df.loc[df['지역']=='강남구']"
   ]
  },
  {
   "cell_type": "markdown",
   "id": "fa24ceef-aa9a-4115-820d-489c4155b903",
   "metadata": {},
   "source": [
    "# 도봉구"
   ]
  },
  {
   "cell_type": "code",
   "execution_count": null,
   "id": "bf8cdfea-1a6b-4f67-867f-244f9c9dffa0",
   "metadata": {},
   "outputs": [],
   "source": [
    "df.loc[df['지역']=='도봉구']"
   ]
  },
  {
   "cell_type": "markdown",
   "id": "5b8bbbe4-48e9-4fa1-a150-c8345472c23a",
   "metadata": {},
   "source": [
    "# 은평구"
   ]
  },
  {
   "cell_type": "code",
   "execution_count": null,
   "id": "52cc86f2-4aae-4877-9466-2db654709787",
   "metadata": {},
   "outputs": [],
   "source": [
    "df.loc[df['지역']=='은평구']"
   ]
  },
  {
   "cell_type": "markdown",
   "id": "79d71152-2769-42c5-a6dc-77f818ac4324",
   "metadata": {},
   "source": [
    "# 용산구"
   ]
  },
  {
   "cell_type": "code",
   "execution_count": null,
   "id": "8b709730-c8ee-43d8-b359-b614886dbe16",
   "metadata": {},
   "outputs": [],
   "source": [
    "df.loc[df['지역']=='용산구']"
   ]
  },
  {
   "cell_type": "markdown",
   "id": "77f7afdc-9d8d-41dc-9477-bbeb3fcc829d",
   "metadata": {},
   "source": [
    "# 강동구"
   ]
  },
  {
   "cell_type": "code",
   "execution_count": null,
   "id": "2719b3b6-5291-4024-9ec2-810ea8161d1f",
   "metadata": {},
   "outputs": [],
   "source": [
    "df.loc[df['지역']=='강동구']"
   ]
  },
  {
   "cell_type": "markdown",
   "id": "b13c9504-6984-4ce2-adeb-a503902361cc",
   "metadata": {},
   "source": [
    "# 서초구"
   ]
  },
  {
   "cell_type": "code",
   "execution_count": null,
   "id": "f76e575c-1350-4ab5-a1d7-404a7397bf6f",
   "metadata": {},
   "outputs": [],
   "source": [
    "df.loc[df['지역']=='서초구']"
   ]
  },
  {
   "cell_type": "markdown",
   "id": "6464129e-f441-471f-b454-9ab1aa244012",
   "metadata": {},
   "source": [
    "# 노원구"
   ]
  },
  {
   "cell_type": "code",
   "execution_count": null,
   "id": "26119a91-d665-40f6-86a7-286fef77412c",
   "metadata": {},
   "outputs": [],
   "source": [
    "df.loc[df['지역']=='노원구']"
   ]
  },
  {
   "cell_type": "markdown",
   "id": "70922d68-8959-4447-b056-cf4306ca886e",
   "metadata": {},
   "source": [
    "# 종로구"
   ]
  },
  {
   "cell_type": "code",
   "execution_count": null,
   "id": "15d1edfb-65cc-4b74-85a0-1ff74d65d0ef",
   "metadata": {},
   "outputs": [],
   "source": [
    "df.loc[df['지역']=='종로구']"
   ]
  },
  {
   "cell_type": "markdown",
   "id": "6535c04d-fb78-4ae0-aeaa-5478aa5c3b4d",
   "metadata": {},
   "source": [
    "# 동작구"
   ]
  },
  {
   "cell_type": "code",
   "execution_count": null,
   "id": "68eaad0a-25e7-4f14-afd8-8a4a44de5fd5",
   "metadata": {},
   "outputs": [],
   "source": [
    "df.loc[df['지역']=='동작구']"
   ]
  },
  {
   "cell_type": "markdown",
   "id": "aa0f6f88-cecc-4d0c-959c-d22a7ac81ccf",
   "metadata": {},
   "source": [
    "# 관악구"
   ]
  },
  {
   "cell_type": "code",
   "execution_count": null,
   "id": "bd1d8c92-0d60-4eac-928c-6f7db4e64859",
   "metadata": {},
   "outputs": [],
   "source": [
    "df.loc[df['지역']=='관악구']"
   ]
  },
  {
   "cell_type": "markdown",
   "id": "b9bd9fe2-101d-416b-bd4c-66bf15ef4fb2",
   "metadata": {},
   "source": [
    "# 중랑구"
   ]
  },
  {
   "cell_type": "code",
   "execution_count": null,
   "id": "c2d0d6dc-958d-4d54-8e8c-a6cd2a1e427c",
   "metadata": {},
   "outputs": [],
   "source": [
    "df.loc[df['지역']=='중랑구']"
   ]
  },
  {
   "cell_type": "markdown",
   "id": "1196014c-1ee9-4340-9770-c4acc798fd6f",
   "metadata": {},
   "source": [
    "# 강북구"
   ]
  },
  {
   "cell_type": "code",
   "execution_count": null,
   "id": "705e7bb3-7347-46d6-a2a7-88b819646b50",
   "metadata": {},
   "outputs": [],
   "source": [
    "df.loc[df['지역']=='강북구']"
   ]
  },
  {
   "cell_type": "code",
   "execution_count": null,
   "id": "f3e851fe-e6ae-4e3a-b7f6-ac2ef7ca6c9e",
   "metadata": {},
   "outputs": [],
   "source": []
  },
  {
   "cell_type": "code",
   "execution_count": null,
   "id": "0816ef0d-0e7f-43a7-9908-873fff4adc3e",
   "metadata": {},
   "outputs": [],
   "source": []
  },
  {
   "cell_type": "code",
   "execution_count": null,
   "id": "36ecc3c6-b08a-427c-9143-65159413f78c",
   "metadata": {},
   "outputs": [],
   "source": []
  },
  {
   "cell_type": "code",
   "execution_count": 7,
   "id": "18c3a471-a282-4b8b-bf57-cb7c6939e304",
   "metadata": {},
   "outputs": [
    {
     "data": {
      "text/html": [
       "<div>\n",
       "<style scoped>\n",
       "    .dataframe tbody tr th:only-of-type {\n",
       "        vertical-align: middle;\n",
       "    }\n",
       "\n",
       "    .dataframe tbody tr th {\n",
       "        vertical-align: top;\n",
       "    }\n",
       "\n",
       "    .dataframe thead th {\n",
       "        text-align: right;\n",
       "    }\n",
       "</style>\n",
       "<table border=\"1\" class=\"dataframe\">\n",
       "  <thead>\n",
       "    <tr style=\"text-align: right;\">\n",
       "      <th></th>\n",
       "      <th>지역</th>\n",
       "      <th>title</th>\n",
       "      <th>target</th>\n",
       "    </tr>\n",
       "  </thead>\n",
       "  <tbody>\n",
       "    <tr>\n",
       "      <th>0</th>\n",
       "      <td>금천구</td>\n",
       "      <td>[시흥]도서관지혜학교:전통시기 중국문인의 시,서,화에서 얻은 지혜 행사 안내</td>\n",
       "      <td>전연령</td>\n",
       "    </tr>\n",
       "    <tr>\n",
       "      <th>1</th>\n",
       "      <td>금천구</td>\n",
       "      <td>[독산] 8월 문화가 있는날- 김해원 깊이읽기 4</td>\n",
       "      <td>어린이</td>\n",
       "    </tr>\n",
       "    <tr>\n",
       "      <th>2</th>\n",
       "      <td>금천구</td>\n",
       "      <td>[독산] 대숲소리 북콘서트Ⅳ : 여름밤 영화음악회 안내</td>\n",
       "      <td>전연령</td>\n",
       "    </tr>\n",
       "    <tr>\n",
       "      <th>3</th>\n",
       "      <td>금천구</td>\n",
       "      <td>[독산] 7월 문화가 있는날- 김해원 깊이읽기 3</td>\n",
       "      <td>성인</td>\n",
       "    </tr>\n",
       "    <tr>\n",
       "      <th>4</th>\n",
       "      <td>금천구</td>\n",
       "      <td>[금나래]길 위의 인문학 \"차이 '안'나는 클라스 진행</td>\n",
       "      <td>성인</td>\n",
       "    </tr>\n",
       "    <tr>\n",
       "      <th>...</th>\n",
       "      <td>...</td>\n",
       "      <td>...</td>\n",
       "      <td>...</td>\n",
       "    </tr>\n",
       "    <tr>\n",
       "      <th>186</th>\n",
       "      <td>동대문구</td>\n",
       "      <td>[평생학습교실] [비대면zoom] 만들고 체험하는 우리역사 (초등2~3)</td>\n",
       "      <td>어린이</td>\n",
       "    </tr>\n",
       "    <tr>\n",
       "      <th>187</th>\n",
       "      <td>동대문구</td>\n",
       "      <td>[평생학습교실] [비대면zoom] 우리역사 탐험대(초등4~6)</td>\n",
       "      <td>어린이</td>\n",
       "    </tr>\n",
       "    <tr>\n",
       "      <th>188</th>\n",
       "      <td>동대문구</td>\n",
       "      <td>[평생학습교실] 고전철학 (대면) /개강 7.5.(화)</td>\n",
       "      <td>어린이</td>\n",
       "    </tr>\n",
       "    <tr>\n",
       "      <th>189</th>\n",
       "      <td>동대문구</td>\n",
       "      <td>[평생학습교실] 생활영어 기초회화(어르신 영어) (대면) /개강 7.7.(목)</td>\n",
       "      <td>시니어</td>\n",
       "    </tr>\n",
       "    <tr>\n",
       "      <th>190</th>\n",
       "      <td>동대문구</td>\n",
       "      <td>[평생학습교실] 연필인물화 (대면)/개강 7.1.(금)</td>\n",
       "      <td>어린이</td>\n",
       "    </tr>\n",
       "  </tbody>\n",
       "</table>\n",
       "<p>5889 rows × 3 columns</p>\n",
       "</div>"
      ],
      "text/plain": [
       "       지역                                        title target\n",
       "0     금천구   [시흥]도서관지혜학교:전통시기 중국문인의 시,서,화에서 얻은 지혜 행사 안내    전연령\n",
       "1     금천구                  [독산] 8월 문화가 있는날- 김해원 깊이읽기 4    어린이\n",
       "2     금천구               [독산] 대숲소리 북콘서트Ⅳ : 여름밤 영화음악회 안내    전연령\n",
       "3     금천구                  [독산] 7월 문화가 있는날- 김해원 깊이읽기 3     성인\n",
       "4     금천구               [금나래]길 위의 인문학 \"차이 '안'나는 클라스 진행     성인\n",
       "..    ...                                          ...    ...\n",
       "186  동대문구     [평생학습교실] [비대면zoom] 만들고 체험하는 우리역사 (초등2~3)    어린이\n",
       "187  동대문구           [평생학습교실] [비대면zoom] 우리역사 탐험대(초등4~6)    어린이\n",
       "188  동대문구               [평생학습교실] 고전철학 (대면) /개강 7.5.(화)    어린이\n",
       "189  동대문구  [평생학습교실] 생활영어 기초회화(어르신 영어) (대면) /개강 7.7.(목)    시니어\n",
       "190  동대문구               [평생학습교실] 연필인물화 (대면)/개강 7.1.(금)    어린이\n",
       "\n",
       "[5889 rows x 3 columns]"
      ]
     },
     "execution_count": 7,
     "metadata": {},
     "output_type": "execute_result"
    }
   ],
   "source": [
    "df"
   ]
  },
  {
   "cell_type": "code",
   "execution_count": 16,
   "id": "78623b89-9749-47f6-bcc8-cf7fa539c528",
   "metadata": {},
   "outputs": [
    {
     "data": {
      "text/plain": [
       "어린이    2434\n",
       "성인     1658\n",
       "전연령    1172\n",
       "청소년     355\n",
       "시니어     270\n",
       "Name: target, dtype: int64"
      ]
     },
     "execution_count": 16,
     "metadata": {},
     "output_type": "execute_result"
    }
   ],
   "source": [
    "df['target'].value_counts()"
   ]
  },
  {
   "cell_type": "code",
   "execution_count": 14,
   "id": "d262378c-de87-48b4-b19e-92b90383bfac",
   "metadata": {},
   "outputs": [
    {
     "data": {
      "text/html": [
       "<div>\n",
       "<style scoped>\n",
       "    .dataframe tbody tr th:only-of-type {\n",
       "        vertical-align: middle;\n",
       "    }\n",
       "\n",
       "    .dataframe tbody tr th {\n",
       "        vertical-align: top;\n",
       "    }\n",
       "\n",
       "    .dataframe thead th {\n",
       "        text-align: right;\n",
       "    }\n",
       "</style>\n",
       "<table border=\"1\" class=\"dataframe\">\n",
       "  <thead>\n",
       "    <tr style=\"text-align: right;\">\n",
       "      <th></th>\n",
       "      <th>지역</th>\n",
       "      <th>title</th>\n",
       "      <th>target</th>\n",
       "    </tr>\n",
       "  </thead>\n",
       "  <tbody>\n",
       "    <tr>\n",
       "      <th>704</th>\n",
       "      <td>동대문구</td>\n",
       "      <td>디지털 세상과 소통하기</td>\n",
       "      <td>시니어</td>\n",
       "    </tr>\n",
       "    <tr>\n",
       "      <th>97</th>\n",
       "      <td>동대문구</td>\n",
       "      <td>[시니어 디지털 문해교육] 똑똑한 시니어의 모바일 활용(기초</td>\n",
       "      <td>시니어</td>\n",
       "    </tr>\n",
       "    <tr>\n",
       "      <th>104</th>\n",
       "      <td>동대문구</td>\n",
       "      <td>[한국언론진흥재단 미디어교육 평생교실] 미디어로 함께하는 세</td>\n",
       "      <td>시니어</td>\n",
       "    </tr>\n",
       "    <tr>\n",
       "      <th>117</th>\n",
       "      <td>동대문구</td>\n",
       "      <td>수필이 좋습니다: 내 삶이 글이 되는 순간</td>\n",
       "      <td>시니어</td>\n",
       "    </tr>\n",
       "    <tr>\n",
       "      <th>118</th>\n",
       "      <td>동대문구</td>\n",
       "      <td>그림책과 공예로 만나는 독서테라피</td>\n",
       "      <td>시니어</td>\n",
       "    </tr>\n",
       "    <tr>\n",
       "      <th>120</th>\n",
       "      <td>동대문구</td>\n",
       "      <td>[도서관 지혜학교] 제국의 역사에서 배우는 삶의 지혜</td>\n",
       "      <td>시니어</td>\n",
       "    </tr>\n",
       "    <tr>\n",
       "      <th>121</th>\n",
       "      <td>동대문구</td>\n",
       "      <td>(뇌기능 자가점검을 통한) 뇌마음 라이프코칭</td>\n",
       "      <td>시니어</td>\n",
       "    </tr>\n",
       "    <tr>\n",
       "      <th>122</th>\n",
       "      <td>동대문구</td>\n",
       "      <td>[DDM인문아카데미]AI시대 건강인문학</td>\n",
       "      <td>시니어</td>\n",
       "    </tr>\n",
       "    <tr>\n",
       "      <th>123</th>\n",
       "      <td>동대문구</td>\n",
       "      <td>창의복합프로그램- 스마트시니어를 위한 멀티미디어 책읽기</td>\n",
       "      <td>시니어</td>\n",
       "    </tr>\n",
       "    <tr>\n",
       "      <th>124</th>\n",
       "      <td>동대문구</td>\n",
       "      <td>제1기 DDM(동대문)인문아카데미 : 음악 인문학</td>\n",
       "      <td>시니어</td>\n",
       "    </tr>\n",
       "    <tr>\n",
       "      <th>125</th>\n",
       "      <td>동대문구</td>\n",
       "      <td>제2기 DDM(동대문)인문 아카데미: 철학VS문학</td>\n",
       "      <td>시니어</td>\n",
       "    </tr>\n",
       "    <tr>\n",
       "      <th>126</th>\n",
       "      <td>동대문구</td>\n",
       "      <td>[개관50주년기념행사] 문학수다방 한 줄 감상평쓰기</td>\n",
       "      <td>시니어</td>\n",
       "    </tr>\n",
       "    <tr>\n",
       "      <th>189</th>\n",
       "      <td>동대문구</td>\n",
       "      <td>[평생학습교실] 생활영어 기초회화(어르신 영어) (대면) /개강 7.7.(목)</td>\n",
       "      <td>시니어</td>\n",
       "    </tr>\n",
       "  </tbody>\n",
       "</table>\n",
       "</div>"
      ],
      "text/plain": [
       "       지역                                        title target\n",
       "704  동대문구                                 디지털 세상과 소통하기    시니어\n",
       "97   동대문구            [시니어 디지털 문해교육] 똑똑한 시니어의 모바일 활용(기초    시니어\n",
       "104  동대문구            [한국언론진흥재단 미디어교육 평생교실] 미디어로 함께하는 세    시니어\n",
       "117  동대문구                      수필이 좋습니다: 내 삶이 글이 되는 순간    시니어\n",
       "118  동대문구                           그림책과 공예로 만나는 독서테라피    시니어\n",
       "120  동대문구                [도서관 지혜학교] 제국의 역사에서 배우는 삶의 지혜    시니어\n",
       "121  동대문구                     (뇌기능 자가점검을 통한) 뇌마음 라이프코칭    시니어\n",
       "122  동대문구                        [DDM인문아카데미]AI시대 건강인문학    시니어\n",
       "123  동대문구               창의복합프로그램- 스마트시니어를 위한 멀티미디어 책읽기    시니어\n",
       "124  동대문구                  제1기 DDM(동대문)인문아카데미 : 음악 인문학    시니어\n",
       "125  동대문구                  제2기 DDM(동대문)인문 아카데미: 철학VS문학    시니어\n",
       "126  동대문구                 [개관50주년기념행사] 문학수다방 한 줄 감상평쓰기    시니어\n",
       "189  동대문구  [평생학습교실] 생활영어 기초회화(어르신 영어) (대면) /개강 7.7.(목)    시니어"
      ]
     },
     "execution_count": 14,
     "metadata": {},
     "output_type": "execute_result"
    }
   ],
   "source": [
    "df.loc[(df['target']=='시니어')&(df['지역']=='동대문구')]"
   ]
  },
  {
   "cell_type": "code",
   "execution_count": null,
   "id": "6ebc7a44-bdfc-4a26-b0e7-57d35f1e8639",
   "metadata": {},
   "outputs": [],
   "source": []
  }
 ],
 "metadata": {
  "kernelspec": {
   "display_name": "Python 3 (ipykernel)",
   "language": "python",
   "name": "python3"
  },
  "language_info": {
   "codemirror_mode": {
    "name": "ipython",
    "version": 3
   },
   "file_extension": ".py",
   "mimetype": "text/x-python",
   "name": "python",
   "nbconvert_exporter": "python",
   "pygments_lexer": "ipython3",
   "version": "3.9.12"
  }
 },
 "nbformat": 4,
 "nbformat_minor": 5
}

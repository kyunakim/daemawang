{
 "cells": [
  {
   "cell_type": "markdown",
   "id": "a517d2db-0b75-4f4f-84de-234978177534",
   "metadata": {
    "tags": []
   },
   "source": [
    "# 서울열린데이터광장 지역구별 주민등록인구\n",
    "- 서울시 주민등록인구(월별_구별) 통계\n",
    "    - 서울시 통계정보시스템에서 제공하는 주민등록인구(월별_구별)에 대한 통계정보 입니다. 서울시 주민등록인구(월별_구별)을 자치구별로 제공하는 일반"
   ]
  },
  {
   "cell_type": "code",
   "execution_count": null,
   "id": "b64bbc42-5264-424e-9c4c-28bb3da0ada9",
   "metadata": {},
   "outputs": [],
   "source": [
    "주민등록인구(월별)_20220921154218"
   ]
  },
  {
   "cell_type": "code",
   "execution_count": 11,
   "id": "f802e202-b92e-4dfe-a3f7-2759b041dd42",
   "metadata": {},
   "outputs": [
    {
     "data": {
      "text/html": [
       "<div>\n",
       "<style scoped>\n",
       "    .dataframe tbody tr th:only-of-type {\n",
       "        vertical-align: middle;\n",
       "    }\n",
       "\n",
       "    .dataframe tbody tr th {\n",
       "        vertical-align: top;\n",
       "    }\n",
       "\n",
       "    .dataframe thead th {\n",
       "        text-align: right;\n",
       "    }\n",
       "</style>\n",
       "<table border=\"1\" class=\"dataframe\">\n",
       "  <thead>\n",
       "    <tr style=\"text-align: right;\">\n",
       "      <th></th>\n",
       "      <th>동별(1)</th>\n",
       "      <th>동별(2)</th>\n",
       "      <th>2022. 08</th>\n",
       "      <th>2022. 08.1</th>\n",
       "      <th>2022. 08.2</th>\n",
       "      <th>2022. 08.3</th>\n",
       "      <th>2022. 08.4</th>\n",
       "      <th>2022. 08.5</th>\n",
       "      <th>2022. 08.6</th>\n",
       "      <th>2022. 08.7</th>\n",
       "      <th>2022. 08.8</th>\n",
       "      <th>2022. 08.9</th>\n",
       "    </tr>\n",
       "  </thead>\n",
       "  <tbody>\n",
       "    <tr>\n",
       "      <th>0</th>\n",
       "      <td>동별(1)</td>\n",
       "      <td>동별(2)</td>\n",
       "      <td>세대 (세대)</td>\n",
       "      <td>합계 (명)</td>\n",
       "      <td>합계 (명)</td>\n",
       "      <td>합계 (명)</td>\n",
       "      <td>한국인 (명)</td>\n",
       "      <td>한국인 (명)</td>\n",
       "      <td>한국인 (명)</td>\n",
       "      <td>외국인 (명)</td>\n",
       "      <td>외국인 (명)</td>\n",
       "      <td>외국인 (명)</td>\n",
       "    </tr>\n",
       "    <tr>\n",
       "      <th>1</th>\n",
       "      <td>동별(1)</td>\n",
       "      <td>동별(2)</td>\n",
       "      <td>소계</td>\n",
       "      <td>소계</td>\n",
       "      <td>남자</td>\n",
       "      <td>여자</td>\n",
       "      <td>소계</td>\n",
       "      <td>남자</td>\n",
       "      <td>여자</td>\n",
       "      <td>소계</td>\n",
       "      <td>남자</td>\n",
       "      <td>여자</td>\n",
       "    </tr>\n",
       "    <tr>\n",
       "      <th>2</th>\n",
       "      <td>합계</td>\n",
       "      <td>소계</td>\n",
       "      <td>4472975</td>\n",
       "      <td>9717242</td>\n",
       "      <td>4704309</td>\n",
       "      <td>5012933</td>\n",
       "      <td>9488454</td>\n",
       "      <td>4601295</td>\n",
       "      <td>4887159</td>\n",
       "      <td>228788</td>\n",
       "      <td>103014</td>\n",
       "      <td>125774</td>\n",
       "    </tr>\n",
       "    <tr>\n",
       "      <th>3</th>\n",
       "      <td>합계</td>\n",
       "      <td>종로구</td>\n",
       "      <td>73866</td>\n",
       "      <td>153349</td>\n",
       "      <td>73672</td>\n",
       "      <td>79677</td>\n",
       "      <td>143499</td>\n",
       "      <td>69408</td>\n",
       "      <td>74091</td>\n",
       "      <td>9850</td>\n",
       "      <td>4264</td>\n",
       "      <td>5586</td>\n",
       "    </tr>\n",
       "    <tr>\n",
       "      <th>4</th>\n",
       "      <td>합계</td>\n",
       "      <td>중구</td>\n",
       "      <td>64011</td>\n",
       "      <td>131528</td>\n",
       "      <td>63849</td>\n",
       "      <td>67679</td>\n",
       "      <td>121960</td>\n",
       "      <td>59309</td>\n",
       "      <td>62651</td>\n",
       "      <td>9568</td>\n",
       "      <td>4540</td>\n",
       "      <td>5028</td>\n",
       "    </tr>\n",
       "  </tbody>\n",
       "</table>\n",
       "</div>"
      ],
      "text/plain": [
       "   동별(1)  동별(2) 2022. 08 2022. 08.1 2022. 08.2 2022. 08.3 2022. 08.4  \\\n",
       "0  동별(1)  동별(2)  세대 (세대)     합계 (명)     합계 (명)     합계 (명)    한국인 (명)   \n",
       "1  동별(1)  동별(2)       소계         소계         남자         여자         소계   \n",
       "2     합계     소계  4472975    9717242    4704309    5012933    9488454   \n",
       "3     합계    종로구    73866     153349      73672      79677     143499   \n",
       "4     합계     중구    64011     131528      63849      67679     121960   \n",
       "\n",
       "  2022. 08.5 2022. 08.6 2022. 08.7 2022. 08.8 2022. 08.9  \n",
       "0    한국인 (명)    한국인 (명)    외국인 (명)    외국인 (명)    외국인 (명)  \n",
       "1         남자         여자         소계         남자         여자  \n",
       "2    4601295    4887159     228788     103014     125774  \n",
       "3      69408      74091       9850       4264       5586  \n",
       "4      59309      62651       9568       4540       5028  "
      ]
     },
     "execution_count": 11,
     "metadata": {},
     "output_type": "execute_result"
    }
   ],
   "source": [
    "import pandas as pd\n",
    "\n",
    "df = pd.read_csv('주민등록인구(월별)_20220921154218.csv',\n",
    "                )\n",
    "\n",
    "df.head()"
   ]
  },
  {
   "cell_type": "code",
   "execution_count": 12,
   "id": "911e8ca2-04ae-4aae-a7a6-b766e2888a5a",
   "metadata": {},
   "outputs": [
    {
     "data": {
      "text/plain": [
       "Index(['동별(1)', '동별(2)', '2022. 08', '2022. 08.1', '2022. 08.2', '2022. 08.3',\n",
       "       '2022. 08.4', '2022. 08.5', '2022. 08.6', '2022. 08.7', '2022. 08.8',\n",
       "       '2022. 08.9'],\n",
       "      dtype='object')"
      ]
     },
     "execution_count": 12,
     "metadata": {},
     "output_type": "execute_result"
    }
   ],
   "source": [
    "df.columns"
   ]
  },
  {
   "cell_type": "code",
   "execution_count": 13,
   "id": "670727e3-3d46-408a-8a26-bf9e75daa31c",
   "metadata": {},
   "outputs": [],
   "source": [
    "df = df.drop(['동별(1)', '2022. 08', '2022. 08.2', '2022. 08.3',\n",
    "       '2022. 08.4', '2022. 08.5', '2022. 08.6', '2022. 08.8',\n",
    "       '2022. 08.9'],axis=1)"
   ]
  },
  {
   "cell_type": "code",
   "execution_count": 14,
   "id": "f5fa3114-9585-4f95-8057-cebaae67f6ab",
   "metadata": {},
   "outputs": [
    {
     "data": {
      "text/html": [
       "<div>\n",
       "<style scoped>\n",
       "    .dataframe tbody tr th:only-of-type {\n",
       "        vertical-align: middle;\n",
       "    }\n",
       "\n",
       "    .dataframe tbody tr th {\n",
       "        vertical-align: top;\n",
       "    }\n",
       "\n",
       "    .dataframe thead th {\n",
       "        text-align: right;\n",
       "    }\n",
       "</style>\n",
       "<table border=\"1\" class=\"dataframe\">\n",
       "  <thead>\n",
       "    <tr style=\"text-align: right;\">\n",
       "      <th></th>\n",
       "      <th>동별(2)</th>\n",
       "      <th>2022. 08.1</th>\n",
       "      <th>2022. 08.7</th>\n",
       "    </tr>\n",
       "  </thead>\n",
       "  <tbody>\n",
       "    <tr>\n",
       "      <th>0</th>\n",
       "      <td>동별(2)</td>\n",
       "      <td>합계 (명)</td>\n",
       "      <td>외국인 (명)</td>\n",
       "    </tr>\n",
       "    <tr>\n",
       "      <th>1</th>\n",
       "      <td>동별(2)</td>\n",
       "      <td>소계</td>\n",
       "      <td>소계</td>\n",
       "    </tr>\n",
       "    <tr>\n",
       "      <th>2</th>\n",
       "      <td>소계</td>\n",
       "      <td>9717242</td>\n",
       "      <td>228788</td>\n",
       "    </tr>\n",
       "    <tr>\n",
       "      <th>3</th>\n",
       "      <td>종로구</td>\n",
       "      <td>153349</td>\n",
       "      <td>9850</td>\n",
       "    </tr>\n",
       "    <tr>\n",
       "      <th>4</th>\n",
       "      <td>중구</td>\n",
       "      <td>131528</td>\n",
       "      <td>9568</td>\n",
       "    </tr>\n",
       "  </tbody>\n",
       "</table>\n",
       "</div>"
      ],
      "text/plain": [
       "   동별(2) 2022. 08.1 2022. 08.7\n",
       "0  동별(2)     합계 (명)    외국인 (명)\n",
       "1  동별(2)         소계         소계\n",
       "2     소계    9717242     228788\n",
       "3    종로구     153349       9850\n",
       "4     중구     131528       9568"
      ]
     },
     "execution_count": 14,
     "metadata": {},
     "output_type": "execute_result"
    }
   ],
   "source": [
    "df.head()"
   ]
  },
  {
   "cell_type": "code",
   "execution_count": 15,
   "id": "23c49c9b-78b0-4163-bb99-9c059c7aeb02",
   "metadata": {},
   "outputs": [],
   "source": [
    "df.columns = ['시군구', '합계 (명)', '외국인 (명)']"
   ]
  },
  {
   "cell_type": "code",
   "execution_count": 16,
   "id": "d0c68001-f3a0-4eec-8496-edb6d68b8141",
   "metadata": {},
   "outputs": [],
   "source": [
    "df = df.drop([0,1,2],axis=0)"
   ]
  },
  {
   "cell_type": "code",
   "execution_count": 17,
   "id": "4b66193e-ebbd-4725-a0dc-2a024e1e1cdc",
   "metadata": {},
   "outputs": [],
   "source": [
    "df = df.reset_index(drop=True)"
   ]
  },
  {
   "cell_type": "code",
   "execution_count": 18,
   "id": "7e3cb2fe-1335-4cce-8dc9-2409e4b5c769",
   "metadata": {},
   "outputs": [],
   "source": [
    "country = '대한민국'\n",
    "df['국가'] = country\n",
    "sido = '서울특별시'\n",
    "df['시도'] = sido"
   ]
  },
  {
   "cell_type": "code",
   "execution_count": 19,
   "id": "6f23c2a4-0cf8-4837-85e9-196b29468da4",
   "metadata": {},
   "outputs": [
    {
     "data": {
      "text/html": [
       "<div>\n",
       "<style scoped>\n",
       "    .dataframe tbody tr th:only-of-type {\n",
       "        vertical-align: middle;\n",
       "    }\n",
       "\n",
       "    .dataframe tbody tr th {\n",
       "        vertical-align: top;\n",
       "    }\n",
       "\n",
       "    .dataframe thead th {\n",
       "        text-align: right;\n",
       "    }\n",
       "</style>\n",
       "<table border=\"1\" class=\"dataframe\">\n",
       "  <thead>\n",
       "    <tr style=\"text-align: right;\">\n",
       "      <th></th>\n",
       "      <th>시군구</th>\n",
       "      <th>합계 (명)</th>\n",
       "      <th>외국인 (명)</th>\n",
       "      <th>국가</th>\n",
       "      <th>시도</th>\n",
       "    </tr>\n",
       "  </thead>\n",
       "  <tbody>\n",
       "    <tr>\n",
       "      <th>0</th>\n",
       "      <td>종로구</td>\n",
       "      <td>153349</td>\n",
       "      <td>9850</td>\n",
       "      <td>대한민국</td>\n",
       "      <td>서울특별시</td>\n",
       "    </tr>\n",
       "    <tr>\n",
       "      <th>1</th>\n",
       "      <td>중구</td>\n",
       "      <td>131528</td>\n",
       "      <td>9568</td>\n",
       "      <td>대한민국</td>\n",
       "      <td>서울특별시</td>\n",
       "    </tr>\n",
       "    <tr>\n",
       "      <th>2</th>\n",
       "      <td>용산구</td>\n",
       "      <td>236507</td>\n",
       "      <td>14277</td>\n",
       "      <td>대한민국</td>\n",
       "      <td>서울특별시</td>\n",
       "    </tr>\n",
       "    <tr>\n",
       "      <th>3</th>\n",
       "      <td>성동구</td>\n",
       "      <td>290274</td>\n",
       "      <td>6671</td>\n",
       "      <td>대한민국</td>\n",
       "      <td>서울특별시</td>\n",
       "    </tr>\n",
       "    <tr>\n",
       "      <th>4</th>\n",
       "      <td>광진구</td>\n",
       "      <td>352292</td>\n",
       "      <td>12725</td>\n",
       "      <td>대한민국</td>\n",
       "      <td>서울특별시</td>\n",
       "    </tr>\n",
       "  </tbody>\n",
       "</table>\n",
       "</div>"
      ],
      "text/plain": [
       "   시군구  합계 (명) 외국인 (명)    국가     시도\n",
       "0  종로구  153349    9850  대한민국  서울특별시\n",
       "1   중구  131528    9568  대한민국  서울특별시\n",
       "2  용산구  236507   14277  대한민국  서울특별시\n",
       "3  성동구  290274    6671  대한민국  서울특별시\n",
       "4  광진구  352292   12725  대한민국  서울특별시"
      ]
     },
     "execution_count": 19,
     "metadata": {},
     "output_type": "execute_result"
    }
   ],
   "source": [
    "df.head()"
   ]
  },
  {
   "cell_type": "code",
   "execution_count": 20,
   "id": "3a395273-4779-413d-a893-c64bfe502cf3",
   "metadata": {},
   "outputs": [
    {
     "data": {
      "text/plain": [
       "Index(['시군구', '합계 (명)', '외국인 (명)', '국가', '시도'], dtype='object')"
      ]
     },
     "execution_count": 20,
     "metadata": {},
     "output_type": "execute_result"
    }
   ],
   "source": [
    "df.columns"
   ]
  },
  {
   "cell_type": "code",
   "execution_count": 21,
   "id": "f79fda7c-7244-4b36-883a-9aeb82b52ad1",
   "metadata": {},
   "outputs": [],
   "source": [
    "df = df[['국가', '시도','시군구','합계 (명)','외국인 (명)',]]"
   ]
  },
  {
   "cell_type": "code",
   "execution_count": 22,
   "id": "ba640b58-c467-4577-9200-afc751e9412f",
   "metadata": {},
   "outputs": [
    {
     "data": {
      "text/html": [
       "<div>\n",
       "<style scoped>\n",
       "    .dataframe tbody tr th:only-of-type {\n",
       "        vertical-align: middle;\n",
       "    }\n",
       "\n",
       "    .dataframe tbody tr th {\n",
       "        vertical-align: top;\n",
       "    }\n",
       "\n",
       "    .dataframe thead th {\n",
       "        text-align: right;\n",
       "    }\n",
       "</style>\n",
       "<table border=\"1\" class=\"dataframe\">\n",
       "  <thead>\n",
       "    <tr style=\"text-align: right;\">\n",
       "      <th></th>\n",
       "      <th>국가</th>\n",
       "      <th>시도</th>\n",
       "      <th>시군구</th>\n",
       "      <th>합계 (명)</th>\n",
       "      <th>외국인 (명)</th>\n",
       "    </tr>\n",
       "  </thead>\n",
       "  <tbody>\n",
       "    <tr>\n",
       "      <th>0</th>\n",
       "      <td>대한민국</td>\n",
       "      <td>서울특별시</td>\n",
       "      <td>종로구</td>\n",
       "      <td>153349</td>\n",
       "      <td>9850</td>\n",
       "    </tr>\n",
       "    <tr>\n",
       "      <th>1</th>\n",
       "      <td>대한민국</td>\n",
       "      <td>서울특별시</td>\n",
       "      <td>중구</td>\n",
       "      <td>131528</td>\n",
       "      <td>9568</td>\n",
       "    </tr>\n",
       "    <tr>\n",
       "      <th>2</th>\n",
       "      <td>대한민국</td>\n",
       "      <td>서울특별시</td>\n",
       "      <td>용산구</td>\n",
       "      <td>236507</td>\n",
       "      <td>14277</td>\n",
       "    </tr>\n",
       "    <tr>\n",
       "      <th>3</th>\n",
       "      <td>대한민국</td>\n",
       "      <td>서울특별시</td>\n",
       "      <td>성동구</td>\n",
       "      <td>290274</td>\n",
       "      <td>6671</td>\n",
       "    </tr>\n",
       "    <tr>\n",
       "      <th>4</th>\n",
       "      <td>대한민국</td>\n",
       "      <td>서울특별시</td>\n",
       "      <td>광진구</td>\n",
       "      <td>352292</td>\n",
       "      <td>12725</td>\n",
       "    </tr>\n",
       "  </tbody>\n",
       "</table>\n",
       "</div>"
      ],
      "text/plain": [
       "     국가     시도  시군구  합계 (명) 외국인 (명)\n",
       "0  대한민국  서울특별시  종로구  153349    9850\n",
       "1  대한민국  서울특별시   중구  131528    9568\n",
       "2  대한민국  서울특별시  용산구  236507   14277\n",
       "3  대한민국  서울특별시  성동구  290274    6671\n",
       "4  대한민국  서울특별시  광진구  352292   12725"
      ]
     },
     "execution_count": 22,
     "metadata": {},
     "output_type": "execute_result"
    }
   ],
   "source": [
    "df.head()"
   ]
  },
  {
   "cell_type": "code",
   "execution_count": 23,
   "id": "f12f835f-e528-49a8-9c40-6e4cfdbfffb0",
   "metadata": {},
   "outputs": [
    {
     "name": "stdout",
     "output_type": "stream",
     "text": [
      "<class 'pandas.core.frame.DataFrame'>\n",
      "RangeIndex: 25 entries, 0 to 24\n",
      "Data columns (total 5 columns):\n",
      " #   Column   Non-Null Count  Dtype \n",
      "---  ------   --------------  ----- \n",
      " 0   국가       25 non-null     object\n",
      " 1   시도       25 non-null     object\n",
      " 2   시군구      25 non-null     object\n",
      " 3   합계 (명)   25 non-null     object\n",
      " 4   외국인 (명)  25 non-null     object\n",
      "dtypes: object(5)\n",
      "memory usage: 1.1+ KB\n"
     ]
    }
   ],
   "source": [
    "df.info()"
   ]
  },
  {
   "cell_type": "code",
   "execution_count": 24,
   "id": "e18ff50b-0834-48d4-83d5-704800a2516d",
   "metadata": {},
   "outputs": [],
   "source": [
    "df['외국인 (명)'] = df['외국인 (명)'].astype('int64')"
   ]
  },
  {
   "cell_type": "code",
   "execution_count": 25,
   "id": "817f4944-b13e-445f-a6e4-5de2a436bdb8",
   "metadata": {},
   "outputs": [],
   "source": [
    "df['합계 (명)'] = df['합계 (명)'].astype('int64')"
   ]
  },
  {
   "cell_type": "code",
   "execution_count": 26,
   "id": "ebd50076-265b-4994-809e-12364d3af7e2",
   "metadata": {},
   "outputs": [
    {
     "name": "stdout",
     "output_type": "stream",
     "text": [
      "<class 'pandas.core.frame.DataFrame'>\n",
      "RangeIndex: 25 entries, 0 to 24\n",
      "Data columns (total 5 columns):\n",
      " #   Column   Non-Null Count  Dtype \n",
      "---  ------   --------------  ----- \n",
      " 0   국가       25 non-null     object\n",
      " 1   시도       25 non-null     object\n",
      " 2   시군구      25 non-null     object\n",
      " 3   합계 (명)   25 non-null     int64 \n",
      " 4   외국인 (명)  25 non-null     int64 \n",
      "dtypes: int64(2), object(3)\n",
      "memory usage: 1.1+ KB\n"
     ]
    }
   ],
   "source": [
    "df.info()"
   ]
  },
  {
   "cell_type": "code",
   "execution_count": 27,
   "id": "4ad6806e-afcb-43b9-9596-27c239d39085",
   "metadata": {},
   "outputs": [],
   "source": [
    "df['외국인 비율'] = round((df['외국인 (명)'] / df['합계 (명)'])*100, 2)"
   ]
  },
  {
   "cell_type": "code",
   "execution_count": 28,
   "id": "9e302b44-f611-482f-b84d-cc11b288c1e1",
   "metadata": {},
   "outputs": [
    {
     "data": {
      "text/html": [
       "<div>\n",
       "<style scoped>\n",
       "    .dataframe tbody tr th:only-of-type {\n",
       "        vertical-align: middle;\n",
       "    }\n",
       "\n",
       "    .dataframe tbody tr th {\n",
       "        vertical-align: top;\n",
       "    }\n",
       "\n",
       "    .dataframe thead th {\n",
       "        text-align: right;\n",
       "    }\n",
       "</style>\n",
       "<table border=\"1\" class=\"dataframe\">\n",
       "  <thead>\n",
       "    <tr style=\"text-align: right;\">\n",
       "      <th></th>\n",
       "      <th>국가</th>\n",
       "      <th>시도</th>\n",
       "      <th>시군구</th>\n",
       "      <th>합계 (명)</th>\n",
       "      <th>외국인 (명)</th>\n",
       "      <th>외국인 비율</th>\n",
       "    </tr>\n",
       "  </thead>\n",
       "  <tbody>\n",
       "    <tr>\n",
       "      <th>0</th>\n",
       "      <td>대한민국</td>\n",
       "      <td>서울특별시</td>\n",
       "      <td>종로구</td>\n",
       "      <td>153349</td>\n",
       "      <td>9850</td>\n",
       "      <td>6.42</td>\n",
       "    </tr>\n",
       "    <tr>\n",
       "      <th>1</th>\n",
       "      <td>대한민국</td>\n",
       "      <td>서울특별시</td>\n",
       "      <td>중구</td>\n",
       "      <td>131528</td>\n",
       "      <td>9568</td>\n",
       "      <td>7.27</td>\n",
       "    </tr>\n",
       "    <tr>\n",
       "      <th>2</th>\n",
       "      <td>대한민국</td>\n",
       "      <td>서울특별시</td>\n",
       "      <td>용산구</td>\n",
       "      <td>236507</td>\n",
       "      <td>14277</td>\n",
       "      <td>6.04</td>\n",
       "    </tr>\n",
       "    <tr>\n",
       "      <th>3</th>\n",
       "      <td>대한민국</td>\n",
       "      <td>서울특별시</td>\n",
       "      <td>성동구</td>\n",
       "      <td>290274</td>\n",
       "      <td>6671</td>\n",
       "      <td>2.30</td>\n",
       "    </tr>\n",
       "    <tr>\n",
       "      <th>4</th>\n",
       "      <td>대한민국</td>\n",
       "      <td>서울특별시</td>\n",
       "      <td>광진구</td>\n",
       "      <td>352292</td>\n",
       "      <td>12725</td>\n",
       "      <td>3.61</td>\n",
       "    </tr>\n",
       "  </tbody>\n",
       "</table>\n",
       "</div>"
      ],
      "text/plain": [
       "     국가     시도  시군구  합계 (명)  외국인 (명)  외국인 비율\n",
       "0  대한민국  서울특별시  종로구  153349     9850    6.42\n",
       "1  대한민국  서울특별시   중구  131528     9568    7.27\n",
       "2  대한민국  서울특별시  용산구  236507    14277    6.04\n",
       "3  대한민국  서울특별시  성동구  290274     6671    2.30\n",
       "4  대한민국  서울특별시  광진구  352292    12725    3.61"
      ]
     },
     "execution_count": 28,
     "metadata": {},
     "output_type": "execute_result"
    }
   ],
   "source": [
    "df.head()"
   ]
  },
  {
   "cell_type": "code",
   "execution_count": 29,
   "id": "0a728729-407a-4a25-8924-7ce8e63ebd57",
   "metadata": {},
   "outputs": [
    {
     "data": {
      "text/html": [
       "<div>\n",
       "<style scoped>\n",
       "    .dataframe tbody tr th:only-of-type {\n",
       "        vertical-align: middle;\n",
       "    }\n",
       "\n",
       "    .dataframe tbody tr th {\n",
       "        vertical-align: top;\n",
       "    }\n",
       "\n",
       "    .dataframe thead th {\n",
       "        text-align: right;\n",
       "    }\n",
       "</style>\n",
       "<table border=\"1\" class=\"dataframe\">\n",
       "  <thead>\n",
       "    <tr style=\"text-align: right;\">\n",
       "      <th></th>\n",
       "      <th>국가</th>\n",
       "      <th>시도</th>\n",
       "      <th>시군구</th>\n",
       "      <th>합계 (명)</th>\n",
       "      <th>외국인 (명)</th>\n",
       "      <th>외국인 비율</th>\n",
       "    </tr>\n",
       "  </thead>\n",
       "  <tbody>\n",
       "    <tr>\n",
       "      <th>1</th>\n",
       "      <td>대한민국</td>\n",
       "      <td>서울특별시</td>\n",
       "      <td>중구</td>\n",
       "      <td>131528</td>\n",
       "      <td>9568</td>\n",
       "      <td>7.27</td>\n",
       "    </tr>\n",
       "    <tr>\n",
       "      <th>0</th>\n",
       "      <td>대한민국</td>\n",
       "      <td>서울특별시</td>\n",
       "      <td>종로구</td>\n",
       "      <td>153349</td>\n",
       "      <td>9850</td>\n",
       "      <td>6.42</td>\n",
       "    </tr>\n",
       "    <tr>\n",
       "      <th>2</th>\n",
       "      <td>대한민국</td>\n",
       "      <td>서울특별시</td>\n",
       "      <td>용산구</td>\n",
       "      <td>236507</td>\n",
       "      <td>14277</td>\n",
       "      <td>6.04</td>\n",
       "    </tr>\n",
       "    <tr>\n",
       "      <th>18</th>\n",
       "      <td>대한민국</td>\n",
       "      <td>서울특별시</td>\n",
       "      <td>영등포구</td>\n",
       "      <td>400230</td>\n",
       "      <td>22935</td>\n",
       "      <td>5.73</td>\n",
       "    </tr>\n",
       "    <tr>\n",
       "      <th>16</th>\n",
       "      <td>대한민국</td>\n",
       "      <td>서울특별시</td>\n",
       "      <td>구로구</td>\n",
       "      <td>417796</td>\n",
       "      <td>23550</td>\n",
       "      <td>5.64</td>\n",
       "    </tr>\n",
       "    <tr>\n",
       "      <th>17</th>\n",
       "      <td>대한민국</td>\n",
       "      <td>서울특별시</td>\n",
       "      <td>금천구</td>\n",
       "      <td>244816</td>\n",
       "      <td>13460</td>\n",
       "      <td>5.50</td>\n",
       "    </tr>\n",
       "    <tr>\n",
       "      <th>5</th>\n",
       "      <td>대한민국</td>\n",
       "      <td>서울특별시</td>\n",
       "      <td>동대문구</td>\n",
       "      <td>352676</td>\n",
       "      <td>15443</td>\n",
       "      <td>4.38</td>\n",
       "    </tr>\n",
       "    <tr>\n",
       "      <th>12</th>\n",
       "      <td>대한민국</td>\n",
       "      <td>서울특별시</td>\n",
       "      <td>서대문구</td>\n",
       "      <td>317731</td>\n",
       "      <td>11478</td>\n",
       "      <td>3.61</td>\n",
       "    </tr>\n",
       "    <tr>\n",
       "      <th>4</th>\n",
       "      <td>대한민국</td>\n",
       "      <td>서울특별시</td>\n",
       "      <td>광진구</td>\n",
       "      <td>352292</td>\n",
       "      <td>12725</td>\n",
       "      <td>3.61</td>\n",
       "    </tr>\n",
       "    <tr>\n",
       "      <th>20</th>\n",
       "      <td>대한민국</td>\n",
       "      <td>서울특별시</td>\n",
       "      <td>관악구</td>\n",
       "      <td>501482</td>\n",
       "      <td>13853</td>\n",
       "      <td>2.76</td>\n",
       "    </tr>\n",
       "  </tbody>\n",
       "</table>\n",
       "</div>"
      ],
      "text/plain": [
       "      국가     시도   시군구  합계 (명)  외국인 (명)  외국인 비율\n",
       "1   대한민국  서울특별시    중구  131528     9568    7.27\n",
       "0   대한민국  서울특별시   종로구  153349     9850    6.42\n",
       "2   대한민국  서울특별시   용산구  236507    14277    6.04\n",
       "18  대한민국  서울특별시  영등포구  400230    22935    5.73\n",
       "16  대한민국  서울특별시   구로구  417796    23550    5.64\n",
       "17  대한민국  서울특별시   금천구  244816    13460    5.50\n",
       "5   대한민국  서울특별시  동대문구  352676    15443    4.38\n",
       "12  대한민국  서울특별시  서대문구  317731    11478    3.61\n",
       "4   대한민국  서울특별시   광진구  352292    12725    3.61\n",
       "20  대한민국  서울특별시   관악구  501482    13853    2.76"
      ]
     },
     "execution_count": 29,
     "metadata": {},
     "output_type": "execute_result"
    }
   ],
   "source": [
    "data1 = df.sort_values('외국인 비율', ascending=False)\n",
    "data1[:10]"
   ]
  },
  {
   "cell_type": "code",
   "execution_count": null,
   "id": "e185b770-27c2-4954-a265-ab8bb96c7d93",
   "metadata": {},
   "outputs": [],
   "source": []
  }
 ],
 "metadata": {
  "kernelspec": {
   "display_name": "Python 3 (ipykernel)",
   "language": "python",
   "name": "python3"
  },
  "language_info": {
   "codemirror_mode": {
    "name": "ipython",
    "version": 3
   },
   "file_extension": ".py",
   "mimetype": "text/x-python",
   "name": "python",
   "nbconvert_exporter": "python",
   "pygments_lexer": "ipython3",
   "version": "3.9.12"
  }
 },
 "nbformat": 4,
 "nbformat_minor": 5
}

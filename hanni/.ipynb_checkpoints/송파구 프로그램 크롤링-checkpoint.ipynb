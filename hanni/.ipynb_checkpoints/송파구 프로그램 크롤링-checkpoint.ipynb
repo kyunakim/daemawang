{
 "cells": [
  {
   "cell_type": "markdown",
   "id": "b67ab20b-c39c-46f9-bef2-b7ec240cca71",
   "metadata": {
    "tags": []
   },
   "source": [
    "강동구 \n",
    "강서구\n",
    "서초구\n",
    "송파구\n",
    "양천구\n",
    "은평구\n",
    "중구"
   ]
  },
  {
   "cell_type": "code",
   "execution_count": 6,
   "id": "35f5b62b",
   "metadata": {
    "tags": []
   },
   "outputs": [
    {
     "data": {
      "text/html": [
       "<div>\n",
       "<style scoped>\n",
       "    .dataframe tbody tr th:only-of-type {\n",
       "        vertical-align: middle;\n",
       "    }\n",
       "\n",
       "    .dataframe tbody tr th {\n",
       "        vertical-align: top;\n",
       "    }\n",
       "\n",
       "    .dataframe thead th {\n",
       "        text-align: right;\n",
       "    }\n",
       "</style>\n",
       "<table border=\"1\" class=\"dataframe\">\n",
       "  <thead>\n",
       "    <tr style=\"text-align: right;\">\n",
       "      <th></th>\n",
       "      <th>lib</th>\n",
       "      <th>title</th>\n",
       "      <th>target</th>\n",
       "    </tr>\n",
       "  </thead>\n",
       "  <tbody>\n",
       "  </tbody>\n",
       "</table>\n",
       "</div>"
      ],
      "text/plain": [
       "Empty DataFrame\n",
       "Columns: [lib, title, target]\n",
       "Index: []"
      ]
     },
     "execution_count": 6,
     "metadata": {},
     "output_type": "execute_result"
    }
   ],
   "source": [
    "import pandas as pd\n",
    "sp_df = pd.DataFrame(columns = ['lib','title','target'])\n",
    "sp_df"
   ]
  },
  {
   "cell_type": "code",
   "execution_count": 7,
   "id": "56602dde-3cbf-4679-a094-50eb82aac04a",
   "metadata": {},
   "outputs": [
    {
     "data": {
      "text/html": [
       "<div>\n",
       "<style scoped>\n",
       "    .dataframe tbody tr th:only-of-type {\n",
       "        vertical-align: middle;\n",
       "    }\n",
       "\n",
       "    .dataframe tbody tr th {\n",
       "        vertical-align: top;\n",
       "    }\n",
       "\n",
       "    .dataframe thead th {\n",
       "        text-align: right;\n",
       "    }\n",
       "</style>\n",
       "<table border=\"1\" class=\"dataframe\">\n",
       "  <thead>\n",
       "    <tr style=\"text-align: right;\">\n",
       "      <th></th>\n",
       "      <th>lib</th>\n",
       "      <th>title</th>\n",
       "      <th>target</th>\n",
       "    </tr>\n",
       "  </thead>\n",
       "  <tbody>\n",
       "    <tr>\n",
       "      <th>0</th>\n",
       "      <td>가락몰</td>\n",
       "      <td>\\n가락몰\\r\\n\\t\\t\\t\\t\\t\\t\\t\\t\\t\\t\\t[길 위의 인문학] 후속간담...</td>\n",
       "      <td>대상 :\\r\\n\\t\\t\\t\\t\\t\\t\\t\\t\\t\\t\\t(성인)\\r\\n\\t\\t\\t\\t...</td>\n",
       "    </tr>\n",
       "    <tr>\n",
       "      <th>1</th>\n",
       "      <td>어린이</td>\n",
       "      <td>\\n어린이\\r\\n\\t\\t\\t\\t\\t\\t\\t\\t\\t\\t\\t[한책] 김정희 작가와의 만...</td>\n",
       "      <td>대상 :\\r\\n\\t\\t\\t\\t\\t\\t\\t\\t\\t\\t\\t(아동)\\r\\n\\t\\t\\t\\t...</td>\n",
       "    </tr>\n",
       "    <tr>\n",
       "      <th>2</th>\n",
       "      <td>거마</td>\n",
       "      <td>\\n거마\\r\\n\\t\\t\\t\\t\\t\\t\\t\\t\\t\\t\\t[4분기] 그림책 시민 문화 ...</td>\n",
       "      <td>대상 :\\r\\n\\t\\t\\t\\t\\t\\t\\t\\t\\t\\t\\t(성인)\\r\\n\\t\\t\\t\\t...</td>\n",
       "    </tr>\n",
       "    <tr>\n",
       "      <th>3</th>\n",
       "      <td>거마</td>\n",
       "      <td>\\n거마\\r\\n\\t\\t\\t\\t\\t\\t\\t\\t\\t\\t\\t[4분기]디지털 드로잉(중학생...</td>\n",
       "      <td>대상 :\\r\\n\\t\\t\\t\\t\\t\\t\\t\\t\\t\\t\\t(청소년)\\r\\n\\t\\t\\t\\...</td>\n",
       "    </tr>\n",
       "    <tr>\n",
       "      <th>4</th>\n",
       "      <td>거마</td>\n",
       "      <td>\\n거마\\r\\n\\t\\t\\t\\t\\t\\t\\t\\t\\t\\t\\t[4분기]창의 독서 미술(6~...</td>\n",
       "      <td>대상 :\\r\\n\\t\\t\\t\\t\\t\\t\\t\\t\\t\\t\\t(유아)\\r\\n\\t\\t\\t\\t...</td>\n",
       "    </tr>\n",
       "    <tr>\n",
       "      <th>...</th>\n",
       "      <td>...</td>\n",
       "      <td>...</td>\n",
       "      <td>...</td>\n",
       "    </tr>\n",
       "    <tr>\n",
       "      <th>880</th>\n",
       "      <td>글마루</td>\n",
       "      <td>\\n글마루\\r\\n\\t\\t\\t\\t\\t\\t\\t\\t\\t\\t\\t★김경일 교수 강연\\r\\n\\...</td>\n",
       "      <td>대상 :\\r\\n\\t\\t\\t\\t\\t\\t\\t\\t\\t\\t\\t(성인)\\r\\n\\t\\t\\t\\t...</td>\n",
       "    </tr>\n",
       "    <tr>\n",
       "      <th>881</th>\n",
       "      <td>잠실본동</td>\n",
       "      <td>\\n잠실본동\\r\\n\\t\\t\\t\\t\\t\\t\\t\\t\\t\\t\\t[그림책 시민문화 살롱: ...</td>\n",
       "      <td>대상 :\\r\\n\\t\\t\\t\\t\\t\\t\\t\\t\\t\\t\\t(성인)\\r\\n\\t\\t\\t\\t...</td>\n",
       "    </tr>\n",
       "    <tr>\n",
       "      <th>882</th>\n",
       "      <td>돌마리</td>\n",
       "      <td>\\n돌마리\\r\\n\\t\\t\\t\\t\\t\\t\\t\\t\\t\\t\\t[비대면] 스마트폰으로 뚝딱...</td>\n",
       "      <td>대상 :\\r\\n\\t\\t\\t\\t\\t\\t\\t\\t\\t\\t\\t(아동)\\r\\n\\t\\t\\t\\t...</td>\n",
       "    </tr>\n",
       "    <tr>\n",
       "      <th>883</th>\n",
       "      <td>글마루</td>\n",
       "      <td>\\n글마루\\r\\n\\t\\t\\t\\t\\t\\t\\t\\t\\t\\t\\tWith Dream Catc...</td>\n",
       "      <td>대상 :\\r\\n\\t\\t\\t\\t\\t\\t\\t\\t\\t\\t\\t(아동)\\r\\n\\t\\t\\t\\t...</td>\n",
       "    </tr>\n",
       "    <tr>\n",
       "      <th>884</th>\n",
       "      <td>가락몰</td>\n",
       "      <td>\\n가락몰\\r\\n\\t\\t\\t\\t\\t\\t\\t\\t\\t\\t\\t[독서의 달] 과월호 잡지 ...</td>\n",
       "      <td>대상 :\\r\\n\\t\\t\\t\\t\\t\\t\\t\\t\\t\\t\\t(누구나)\\r\\n\\t\\t\\t\\...</td>\n",
       "    </tr>\n",
       "  </tbody>\n",
       "</table>\n",
       "<p>885 rows × 3 columns</p>\n",
       "</div>"
      ],
      "text/plain": [
       "      lib                                              title  \\\n",
       "0     가락몰  \\n가락몰\\r\\n\\t\\t\\t\\t\\t\\t\\t\\t\\t\\t\\t[길 위의 인문학] 후속간담...   \n",
       "1     어린이  \\n어린이\\r\\n\\t\\t\\t\\t\\t\\t\\t\\t\\t\\t\\t[한책] 김정희 작가와의 만...   \n",
       "2      거마  \\n거마\\r\\n\\t\\t\\t\\t\\t\\t\\t\\t\\t\\t\\t[4분기] 그림책 시민 문화 ...   \n",
       "3      거마  \\n거마\\r\\n\\t\\t\\t\\t\\t\\t\\t\\t\\t\\t\\t[4분기]디지털 드로잉(중학생...   \n",
       "4      거마  \\n거마\\r\\n\\t\\t\\t\\t\\t\\t\\t\\t\\t\\t\\t[4분기]창의 독서 미술(6~...   \n",
       "..    ...                                                ...   \n",
       "880   글마루  \\n글마루\\r\\n\\t\\t\\t\\t\\t\\t\\t\\t\\t\\t\\t★김경일 교수 강연\\r\\n\\...   \n",
       "881  잠실본동  \\n잠실본동\\r\\n\\t\\t\\t\\t\\t\\t\\t\\t\\t\\t\\t[그림책 시민문화 살롱: ...   \n",
       "882   돌마리  \\n돌마리\\r\\n\\t\\t\\t\\t\\t\\t\\t\\t\\t\\t\\t[비대면] 스마트폰으로 뚝딱...   \n",
       "883   글마루  \\n글마루\\r\\n\\t\\t\\t\\t\\t\\t\\t\\t\\t\\t\\tWith Dream Catc...   \n",
       "884   가락몰  \\n가락몰\\r\\n\\t\\t\\t\\t\\t\\t\\t\\t\\t\\t\\t[독서의 달] 과월호 잡지 ...   \n",
       "\n",
       "                                                target  \n",
       "0    대상 :\\r\\n\\t\\t\\t\\t\\t\\t\\t\\t\\t\\t\\t(성인)\\r\\n\\t\\t\\t\\t...  \n",
       "1    대상 :\\r\\n\\t\\t\\t\\t\\t\\t\\t\\t\\t\\t\\t(아동)\\r\\n\\t\\t\\t\\t...  \n",
       "2    대상 :\\r\\n\\t\\t\\t\\t\\t\\t\\t\\t\\t\\t\\t(성인)\\r\\n\\t\\t\\t\\t...  \n",
       "3    대상 :\\r\\n\\t\\t\\t\\t\\t\\t\\t\\t\\t\\t\\t(청소년)\\r\\n\\t\\t\\t\\...  \n",
       "4    대상 :\\r\\n\\t\\t\\t\\t\\t\\t\\t\\t\\t\\t\\t(유아)\\r\\n\\t\\t\\t\\t...  \n",
       "..                                                 ...  \n",
       "880  대상 :\\r\\n\\t\\t\\t\\t\\t\\t\\t\\t\\t\\t\\t(성인)\\r\\n\\t\\t\\t\\t...  \n",
       "881  대상 :\\r\\n\\t\\t\\t\\t\\t\\t\\t\\t\\t\\t\\t(성인)\\r\\n\\t\\t\\t\\t...  \n",
       "882  대상 :\\r\\n\\t\\t\\t\\t\\t\\t\\t\\t\\t\\t\\t(아동)\\r\\n\\t\\t\\t\\t...  \n",
       "883  대상 :\\r\\n\\t\\t\\t\\t\\t\\t\\t\\t\\t\\t\\t(아동)\\r\\n\\t\\t\\t\\t...  \n",
       "884  대상 :\\r\\n\\t\\t\\t\\t\\t\\t\\t\\t\\t\\t\\t(누구나)\\r\\n\\t\\t\\t\\...  \n",
       "\n",
       "[885 rows x 3 columns]"
      ]
     },
     "execution_count": 7,
     "metadata": {},
     "output_type": "execute_result"
    }
   ],
   "source": [
    "from bs4 import BeautifulSoup\n",
    "import requests\n",
    "\n",
    "\n",
    "#main_content > div > ul > li > dl > dt > a\n",
    "\n",
    "\n",
    "ind = 0 #행번호\n",
    "\n",
    "for i in range(1,60): #range안에는 페이지수, 넉넉하게 넣기 #여기는 15페이지까지 가겠네  \n",
    "    url = 'https://www.splib.or.kr/intro/menu/10052/program/30014/eventList.do'\n",
    "    headers = {\"User-Agent\":\"Mozilla/5.0 (Windows NT 10.0; Win64; x64) AppleWebKit/537.36 (KHTML, like Gecko) Chrome/96.0.4664.45 Safari/537.36\"}\n",
    "    sp = requests.get(url, headers = headers)\n",
    "    bs = BeautifulSoup(sp.text, 'html.parser')\n",
    "    \n",
    "    for j in range(1,16):\n",
    "        try:\n",
    "            lib = bs.select_one('#contents > div.articleWrap > div:nth-child('+str(j)+') > div.infoBox > div.title > a > span').text\n",
    "            title = bs.select_one('#contents > div.articleWrap > div:nth-child('+str(j)+') > div.infoBox > div.title > a').text\n",
    "            target = bs.select_one('#contents > div.articleWrap > div:nth-child('+str(j)+') > div.infoBox > div:nth-child(2) > span:nth-child(2)').text\n",
    "            sp_df.loc[ind] = [lib, title, target]\n",
    "            ind += 1\n",
    "        except:\n",
    "            pass\n",
    "\n",
    "\n",
    "sp_df"
   ]
  },
  {
   "cell_type": "code",
   "execution_count": 33,
   "id": "db3bde50-b903-4813-83c1-8f1bcb713ebb",
   "metadata": {},
   "outputs": [],
   "source": [
    "sp = sp_df.copy()"
   ]
  },
  {
   "cell_type": "code",
   "execution_count": 34,
   "id": "eabfa5bf-96e9-4e76-9068-b14cb600f808",
   "metadata": {},
   "outputs": [
    {
     "data": {
      "text/html": [
       "<div>\n",
       "<style scoped>\n",
       "    .dataframe tbody tr th:only-of-type {\n",
       "        vertical-align: middle;\n",
       "    }\n",
       "\n",
       "    .dataframe tbody tr th {\n",
       "        vertical-align: top;\n",
       "    }\n",
       "\n",
       "    .dataframe thead th {\n",
       "        text-align: right;\n",
       "    }\n",
       "</style>\n",
       "<table border=\"1\" class=\"dataframe\">\n",
       "  <thead>\n",
       "    <tr style=\"text-align: right;\">\n",
       "      <th></th>\n",
       "      <th>lib</th>\n",
       "      <th>title</th>\n",
       "      <th>target</th>\n",
       "    </tr>\n",
       "  </thead>\n",
       "  <tbody>\n",
       "    <tr>\n",
       "      <th>0</th>\n",
       "      <td>가락몰</td>\n",
       "      <td>\\n가락몰\\r\\n\\t\\t\\t\\t\\t\\t\\t\\t\\t\\t\\t[길 위의 인문학] 후속간담...</td>\n",
       "      <td>(성인)길 위의 인문학 사업에 관심있는 도서관 이용자</td>\n",
       "    </tr>\n",
       "    <tr>\n",
       "      <th>1</th>\n",
       "      <td>어린이</td>\n",
       "      <td>\\n어린이\\r\\n\\t\\t\\t\\t\\t\\t\\t\\t\\t\\t\\t[한책] 김정희 작가와의 만...</td>\n",
       "      <td>(아동)초등 3~4학년</td>\n",
       "    </tr>\n",
       "    <tr>\n",
       "      <th>2</th>\n",
       "      <td>거마</td>\n",
       "      <td>\\n거마\\r\\n\\t\\t\\t\\t\\t\\t\\t\\t\\t\\t\\t[4분기] 그림책 시민 문화 ...</td>\n",
       "      <td>(성인)성인</td>\n",
       "    </tr>\n",
       "    <tr>\n",
       "      <th>3</th>\n",
       "      <td>거마</td>\n",
       "      <td>\\n거마\\r\\n\\t\\t\\t\\t\\t\\t\\t\\t\\t\\t\\t[4분기]디지털 드로잉(중학생...</td>\n",
       "      <td>(청소년)청소년 이상</td>\n",
       "    </tr>\n",
       "    <tr>\n",
       "      <th>4</th>\n",
       "      <td>거마</td>\n",
       "      <td>\\n거마\\r\\n\\t\\t\\t\\t\\t\\t\\t\\t\\t\\t\\t[4분기]창의 독서 미술(6~...</td>\n",
       "      <td>(유아)6~7세</td>\n",
       "    </tr>\n",
       "    <tr>\n",
       "      <th>...</th>\n",
       "      <td>...</td>\n",
       "      <td>...</td>\n",
       "      <td>...</td>\n",
       "    </tr>\n",
       "    <tr>\n",
       "      <th>880</th>\n",
       "      <td>글마루</td>\n",
       "      <td>\\n글마루\\r\\n\\t\\t\\t\\t\\t\\t\\t\\t\\t\\t\\t★김경일 교수 강연\\r\\n\\...</td>\n",
       "      <td>(성인)성인</td>\n",
       "    </tr>\n",
       "    <tr>\n",
       "      <th>881</th>\n",
       "      <td>잠실본동</td>\n",
       "      <td>\\n잠실본동\\r\\n\\t\\t\\t\\t\\t\\t\\t\\t\\t\\t\\t[그림책 시민문화 살롱: ...</td>\n",
       "      <td>(성인)성인, 시니어</td>\n",
       "    </tr>\n",
       "    <tr>\n",
       "      <th>882</th>\n",
       "      <td>돌마리</td>\n",
       "      <td>\\n돌마리\\r\\n\\t\\t\\t\\t\\t\\t\\t\\t\\t\\t\\t[비대면] 스마트폰으로 뚝딱...</td>\n",
       "      <td>(아동)초등 3~5학년</td>\n",
       "    </tr>\n",
       "    <tr>\n",
       "      <th>883</th>\n",
       "      <td>글마루</td>\n",
       "      <td>\\n글마루\\r\\n\\t\\t\\t\\t\\t\\t\\t\\t\\t\\t\\tWith Dream Catc...</td>\n",
       "      <td>(아동)초등1~3학년(송파구통합도서관 정회원)</td>\n",
       "    </tr>\n",
       "    <tr>\n",
       "      <th>884</th>\n",
       "      <td>가락몰</td>\n",
       "      <td>\\n가락몰\\r\\n\\t\\t\\t\\t\\t\\t\\t\\t\\t\\t\\t[독서의 달] 과월호 잡지 ...</td>\n",
       "      <td>(누구나)</td>\n",
       "    </tr>\n",
       "  </tbody>\n",
       "</table>\n",
       "<p>885 rows × 3 columns</p>\n",
       "</div>"
      ],
      "text/plain": [
       "      lib                                              title  \\\n",
       "0     가락몰  \\n가락몰\\r\\n\\t\\t\\t\\t\\t\\t\\t\\t\\t\\t\\t[길 위의 인문학] 후속간담...   \n",
       "1     어린이  \\n어린이\\r\\n\\t\\t\\t\\t\\t\\t\\t\\t\\t\\t\\t[한책] 김정희 작가와의 만...   \n",
       "2      거마  \\n거마\\r\\n\\t\\t\\t\\t\\t\\t\\t\\t\\t\\t\\t[4분기] 그림책 시민 문화 ...   \n",
       "3      거마  \\n거마\\r\\n\\t\\t\\t\\t\\t\\t\\t\\t\\t\\t\\t[4분기]디지털 드로잉(중학생...   \n",
       "4      거마  \\n거마\\r\\n\\t\\t\\t\\t\\t\\t\\t\\t\\t\\t\\t[4분기]창의 독서 미술(6~...   \n",
       "..    ...                                                ...   \n",
       "880   글마루  \\n글마루\\r\\n\\t\\t\\t\\t\\t\\t\\t\\t\\t\\t\\t★김경일 교수 강연\\r\\n\\...   \n",
       "881  잠실본동  \\n잠실본동\\r\\n\\t\\t\\t\\t\\t\\t\\t\\t\\t\\t\\t[그림책 시민문화 살롱: ...   \n",
       "882   돌마리  \\n돌마리\\r\\n\\t\\t\\t\\t\\t\\t\\t\\t\\t\\t\\t[비대면] 스마트폰으로 뚝딱...   \n",
       "883   글마루  \\n글마루\\r\\n\\t\\t\\t\\t\\t\\t\\t\\t\\t\\t\\tWith Dream Catc...   \n",
       "884   가락몰  \\n가락몰\\r\\n\\t\\t\\t\\t\\t\\t\\t\\t\\t\\t\\t[독서의 달] 과월호 잡지 ...   \n",
       "\n",
       "                            target  \n",
       "0    (성인)길 위의 인문학 사업에 관심있는 도서관 이용자  \n",
       "1                     (아동)초등 3~4학년  \n",
       "2                           (성인)성인  \n",
       "3                      (청소년)청소년 이상  \n",
       "4                         (유아)6~7세  \n",
       "..                             ...  \n",
       "880                         (성인)성인  \n",
       "881                    (성인)성인, 시니어  \n",
       "882                   (아동)초등 3~5학년  \n",
       "883      (아동)초등1~3학년(송파구통합도서관 정회원)  \n",
       "884                          (누구나)  \n",
       "\n",
       "[885 rows x 3 columns]"
      ]
     },
     "execution_count": 34,
     "metadata": {},
     "output_type": "execute_result"
    }
   ],
   "source": [
    "sp['target'] = sp['target'].str.replace('\\t','')\n",
    "sp['target'] = sp['target'].str.replace('\\n','')\n",
    "sp['target'] = sp['target'].str.replace('\\r','')\n",
    "sp['target'] = sp['target'].str.replace('대상 :','')\n",
    "sp"
   ]
  },
  {
   "cell_type": "code",
   "execution_count": 35,
   "id": "da9055c6-009f-409c-a6c2-7c12607b073d",
   "metadata": {},
   "outputs": [
    {
     "data": {
      "text/html": [
       "<div>\n",
       "<style scoped>\n",
       "    .dataframe tbody tr th:only-of-type {\n",
       "        vertical-align: middle;\n",
       "    }\n",
       "\n",
       "    .dataframe tbody tr th {\n",
       "        vertical-align: top;\n",
       "    }\n",
       "\n",
       "    .dataframe thead th {\n",
       "        text-align: right;\n",
       "    }\n",
       "</style>\n",
       "<table border=\"1\" class=\"dataframe\">\n",
       "  <thead>\n",
       "    <tr style=\"text-align: right;\">\n",
       "      <th></th>\n",
       "      <th>lib</th>\n",
       "      <th>title</th>\n",
       "      <th>target</th>\n",
       "    </tr>\n",
       "  </thead>\n",
       "  <tbody>\n",
       "    <tr>\n",
       "      <th>0</th>\n",
       "      <td>가락몰</td>\n",
       "      <td>가락몰[길 위의 인문학] 후속간담회</td>\n",
       "      <td>(성인)길 위의 인문학 사업에 관심있는 도서관 이용자</td>\n",
       "    </tr>\n",
       "    <tr>\n",
       "      <th>1</th>\n",
       "      <td>어린이</td>\n",
       "      <td>어린이[한책] 김정희 작가와의 만남</td>\n",
       "      <td>(아동)초등 3~4학년</td>\n",
       "    </tr>\n",
       "    <tr>\n",
       "      <th>2</th>\n",
       "      <td>거마</td>\n",
       "      <td>거마[4분기] 그림책 시민 문화 살롱(성인)</td>\n",
       "      <td>(성인)성인</td>\n",
       "    </tr>\n",
       "    <tr>\n",
       "      <th>3</th>\n",
       "      <td>거마</td>\n",
       "      <td>거마[4분기]디지털 드로잉(중학생 이상)</td>\n",
       "      <td>(청소년)청소년 이상</td>\n",
       "    </tr>\n",
       "    <tr>\n",
       "      <th>4</th>\n",
       "      <td>거마</td>\n",
       "      <td>거마[4분기]창의 독서 미술(6~7세)</td>\n",
       "      <td>(유아)6~7세</td>\n",
       "    </tr>\n",
       "    <tr>\n",
       "      <th>...</th>\n",
       "      <td>...</td>\n",
       "      <td>...</td>\n",
       "      <td>...</td>\n",
       "    </tr>\n",
       "    <tr>\n",
       "      <th>880</th>\n",
       "      <td>글마루</td>\n",
       "      <td>글마루★김경일 교수 강연</td>\n",
       "      <td>(성인)성인</td>\n",
       "    </tr>\n",
       "    <tr>\n",
       "      <th>881</th>\n",
       "      <td>잠실본동</td>\n",
       "      <td>잠실본동[그림책 시민문화 살롱: 경혜원 작가] 동아리회원 모집</td>\n",
       "      <td>(성인)성인, 시니어</td>\n",
       "    </tr>\n",
       "    <tr>\n",
       "      <th>882</th>\n",
       "      <td>돌마리</td>\n",
       "      <td>돌마리[비대면] 스마트폰으로 뚝딱, 북트레일러</td>\n",
       "      <td>(아동)초등 3~5학년</td>\n",
       "    </tr>\n",
       "    <tr>\n",
       "      <th>883</th>\n",
       "      <td>글마루</td>\n",
       "      <td>글마루With Dream Catcher-영어그림책 놀이터(9월)</td>\n",
       "      <td>(아동)초등1~3학년(송파구통합도서관 정회원)</td>\n",
       "    </tr>\n",
       "    <tr>\n",
       "      <th>884</th>\n",
       "      <td>가락몰</td>\n",
       "      <td>가락몰[독서의 달] 과월호 잡지 나눔</td>\n",
       "      <td>(누구나)</td>\n",
       "    </tr>\n",
       "  </tbody>\n",
       "</table>\n",
       "<p>885 rows × 3 columns</p>\n",
       "</div>"
      ],
      "text/plain": [
       "      lib                                title                         target\n",
       "0     가락몰                  가락몰[길 위의 인문학] 후속간담회  (성인)길 위의 인문학 사업에 관심있는 도서관 이용자\n",
       "1     어린이                  어린이[한책] 김정희 작가와의 만남                   (아동)초등 3~4학년\n",
       "2      거마             거마[4분기] 그림책 시민 문화 살롱(성인)                         (성인)성인\n",
       "3      거마               거마[4분기]디지털 드로잉(중학생 이상)                    (청소년)청소년 이상\n",
       "4      거마                거마[4분기]창의 독서 미술(6~7세)                       (유아)6~7세\n",
       "..    ...                                  ...                            ...\n",
       "880   글마루                        글마루★김경일 교수 강연                         (성인)성인\n",
       "881  잠실본동  잠실본동[그림책 시민문화 살롱: 경혜원 작가] 동아리회원 모집                     (성인)성인, 시니어\n",
       "882   돌마리            돌마리[비대면] 스마트폰으로 뚝딱, 북트레일러                   (아동)초등 3~5학년\n",
       "883   글마루  글마루With Dream Catcher-영어그림책 놀이터(9월)      (아동)초등1~3학년(송파구통합도서관 정회원)\n",
       "884   가락몰                 가락몰[독서의 달] 과월호 잡지 나눔                          (누구나)\n",
       "\n",
       "[885 rows x 3 columns]"
      ]
     },
     "execution_count": 35,
     "metadata": {},
     "output_type": "execute_result"
    }
   ],
   "source": [
    "sp['title'] = sp['title'].str.replace('\\t','')\n",
    "sp['title'] = sp['title'].str.replace('\\n','')\n",
    "sp['title'] = sp['title'].str.replace('\\r','')\n",
    "sp['title'] = sp['title'].str.replace('대상 :','')\n",
    "sp"
   ]
  },
  {
   "cell_type": "code",
   "execution_count": 36,
   "id": "27004dfc-84b4-43e8-bb63-a81ac2eb1734",
   "metadata": {},
   "outputs": [
    {
     "data": {
      "text/plain": [
       "['(성인)길 위의 인문학 사업에 관심있는 도서관 이용자',\n",
       " '(아동)초등 3~4학년',\n",
       " '(성인)성인',\n",
       " '(청소년)청소년 이상',\n",
       " '(유아)6~7세',\n",
       " '(아동)초등1~2',\n",
       " '(아동)초등 3~6학년',\n",
       " '(아동)미디어와 뉴스에 관심을 갖고 있는 초등 3~4학년 10명',\n",
       " '(성인)영어책 읽기에 관심이 있는 성인 10명',\n",
       " '(성인)성인, 시니어',\n",
       " '(아동)초등 3~5학년',\n",
       " '(아동)초등1~3학년(송파구통합도서관 정회원)',\n",
       " '(누구나)']"
      ]
     },
     "execution_count": 36,
     "metadata": {},
     "output_type": "execute_result"
    }
   ],
   "source": [
    "sp.target.unique().tolist()"
   ]
  },
  {
   "cell_type": "code",
   "execution_count": 37,
   "id": "ced7ace8-9e57-4af0-ab13-10936e0f378e",
   "metadata": {},
   "outputs": [],
   "source": [
    "sp = sp.replace('(성인)길 위의 인문학 사업에 관심있는 도서관 이용자', '성인')"
   ]
  },
  {
   "cell_type": "code",
   "execution_count": 38,
   "id": "c58c224f-6107-450b-8327-7e425762078e",
   "metadata": {},
   "outputs": [],
   "source": [
    "sp = sp.replace('(아동)초등 3~4학년', '어린이')"
   ]
  },
  {
   "cell_type": "code",
   "execution_count": 39,
   "id": "c3e9e30a-236a-4b7a-afe3-0a0e446e9c63",
   "metadata": {},
   "outputs": [],
   "source": [
    "sp = sp.replace('(유아)6~7세', '어린이')"
   ]
  },
  {
   "cell_type": "code",
   "execution_count": 40,
   "id": "973dfb7b-9968-4045-8786-4789e3834d46",
   "metadata": {},
   "outputs": [],
   "source": [
    "sp = sp.replace('(아동)초등1~2', '어린이')"
   ]
  },
  {
   "cell_type": "code",
   "execution_count": 41,
   "id": "7bf40d99-d78c-4334-864f-cf718e754709",
   "metadata": {},
   "outputs": [],
   "source": [
    "sp = sp.replace('(아동)초등 3~6학년', '어린이')"
   ]
  },
  {
   "cell_type": "code",
   "execution_count": 42,
   "id": "0c77abf1-6b91-4184-81ec-3e236aced9a2",
   "metadata": {},
   "outputs": [],
   "source": [
    "sp = sp.replace('(아동)미디어와 뉴스에 관심을 갖고 있는 초등 3~4학년 10명', '어린이')"
   ]
  },
  {
   "cell_type": "code",
   "execution_count": 43,
   "id": "ffb11318-43c1-4edf-9a8a-ee54ac8d7da7",
   "metadata": {},
   "outputs": [],
   "source": [
    "sp = sp.replace('(아동)초등 3~5학년', '어린이')"
   ]
  },
  {
   "cell_type": "code",
   "execution_count": 44,
   "id": "414d1300-1607-4374-b8d6-dd93a303220a",
   "metadata": {},
   "outputs": [],
   "source": [
    "sp = sp.replace('(아동)초등1~3학년(송파구통합도서관 정회원)', '어린이')"
   ]
  },
  {
   "cell_type": "code",
   "execution_count": 45,
   "id": "3a55b8f6-2e63-4735-8a0a-b9afd3db6946",
   "metadata": {},
   "outputs": [],
   "source": [
    "sp = sp.replace('(누구나)', '전연령')"
   ]
  },
  {
   "cell_type": "code",
   "execution_count": 46,
   "id": "bba8f764-e334-48ac-927c-133f7417ce57",
   "metadata": {},
   "outputs": [],
   "source": [
    "sp = sp.replace('(성인)영어책 읽기에 관심이 있는 성인 10명', '성인')"
   ]
  },
  {
   "cell_type": "code",
   "execution_count": 47,
   "id": "8de24737-ab0a-4772-af0e-459f51e3679f",
   "metadata": {},
   "outputs": [],
   "source": [
    "sp = sp.replace('(성인)성인', '성인')"
   ]
  },
  {
   "cell_type": "code",
   "execution_count": 48,
   "id": "b80c524c-e10d-4981-918e-f049333abbdc",
   "metadata": {},
   "outputs": [],
   "source": [
    "sp = sp.replace('(성인)성인, 시니어', '중장년')"
   ]
  },
  {
   "cell_type": "code",
   "execution_count": 49,
   "id": "a9e92565-20d3-4932-83d4-e0e37f67f63e",
   "metadata": {},
   "outputs": [],
   "source": [
    "sp = sp.replace('(청소년)청소년 이상', '청소년')"
   ]
  },
  {
   "cell_type": "code",
   "execution_count": 50,
   "id": "9a365885-7f79-42db-b4be-61b4840d9dff",
   "metadata": {},
   "outputs": [
    {
     "data": {
      "text/plain": [
       "['성인', '어린이', '청소년', '중장년', '전연령']"
      ]
     },
     "execution_count": 50,
     "metadata": {},
     "output_type": "execute_result"
    }
   ],
   "source": [
    "sp.target.unique().tolist()"
   ]
  },
  {
   "cell_type": "code",
   "execution_count": 51,
   "id": "d8986618-392d-4343-80f6-a7dcc2d01328",
   "metadata": {},
   "outputs": [
    {
     "data": {
      "text/plain": [
       "어린이    472\n",
       "성인     236\n",
       "청소년     59\n",
       "중장년     59\n",
       "전연령     59\n",
       "Name: target, dtype: int64"
      ]
     },
     "execution_count": 51,
     "metadata": {},
     "output_type": "execute_result"
    }
   ],
   "source": [
    "sp.target.value_counts()"
   ]
  },
  {
   "cell_type": "code",
   "execution_count": 52,
   "id": "56a432e9-beed-4049-b769-bda616d69029",
   "metadata": {},
   "outputs": [],
   "source": [
    "sp.to_csv('sp_all.csv',encoding=\"utf-8-sig\", index=False)"
   ]
  },
  {
   "cell_type": "code",
   "execution_count": null,
   "id": "e5ca4477-ef63-41b7-baca-44c5c853612d",
   "metadata": {},
   "outputs": [],
   "source": []
  }
 ],
 "metadata": {
  "kernelspec": {
   "display_name": "Python 3 (ipykernel)",
   "language": "python",
   "name": "python3"
  },
  "language_info": {
   "codemirror_mode": {
    "name": "ipython",
    "version": 3
   },
   "file_extension": ".py",
   "mimetype": "text/x-python",
   "name": "python",
   "nbconvert_exporter": "python",
   "pygments_lexer": "ipython3",
   "version": "3.9.12"
  },
  "toc": {
   "base_numbering": 1,
   "nav_menu": {},
   "number_sections": true,
   "sideBar": true,
   "skip_h1_title": false,
   "title_cell": "Table of Contents",
   "title_sidebar": "Contents",
   "toc_cell": false,
   "toc_position": {},
   "toc_section_display": true,
   "toc_window_display": false
  }
 },
 "nbformat": 4,
 "nbformat_minor": 5
}

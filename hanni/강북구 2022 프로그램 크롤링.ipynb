{
 "cells": [
  {
   "cell_type": "code",
   "execution_count": 3,
   "id": "17482c6c-8dca-4a6e-83f2-6892a3574f32",
   "metadata": {},
   "outputs": [
    {
     "ename": "SyntaxError",
     "evalue": "invalid syntax (3964230521.py, line 1)",
     "output_type": "error",
     "traceback": [
      "\u001b[0;36m  Input \u001b[0;32mIn [3]\u001b[0;36m\u001b[0m\n\u001b[0;31m    서울특별시 공공도서관 (199)\u001b[0m\n\u001b[0m          ^\u001b[0m\n\u001b[0;31mSyntaxError\u001b[0m\u001b[0;31m:\u001b[0m invalid syntax\n"
     ]
    }
   ],
   "source": [
    "서울특별시 공공도서관 (199)"
   ]
  },
  {
   "cell_type": "code",
   "execution_count": 4,
   "id": "ae907abb",
   "metadata": {},
   "outputs": [],
   "source": [
    "import warnings\n",
    "warnings.filterwarnings('ignore')\n",
    "\n",
    "# https://stackoverflow.com/questions/23013220/max-retries-exceeded-with-url-in-requests"
   ]
  },
  {
   "cell_type": "code",
   "execution_count": null,
   "id": "de0d7ac5-cfbe-4829-8805-671f1e120423",
   "metadata": {
    "tags": []
   },
   "outputs": [],
   "source": [
    "강북구 gangbuk https://www.gblib.or.kr/gangbuk/event/list.do\n",
    "관악구 gwanak https://lib.gwanak.go.kr/galib/menu/10028/program/30006/lectureList.do\n",
    "광진구 gwangjin https://www.gwangjinlib.seoul.kr/intro.do / 프로그램 신청(준비중)...\n",
    "구로구 guro https://grlib.sen.go.kr/grlib/module/teach/index.do?menu_idx=15&searchCate1=16\n",
    "금천구 geumcheon https://geumcheonlib.seoul.kr/cop/bbs/selectBoardList.do?bbsId=BBSMSTR_000000000002&menuId=MNU_0000000000000018\n",
    "노원구 nowon https://connect.nowonlib.kr/function_list\n",
    "동작구 dongjak https://lib.dongjak.go.kr/dj/module/teach/index.do?menu_idx=32&searchCate1=16\n",
    "마포구 mapo https://mplib.mapo.go.kr/mcl/MENU1069/PGM3021/lectureList.do\n",
    "성동구 sd https://www.sdlib.or.kr/SD/edusat/list.do\n",
    "성북구 sb https://www.sblib.seoul.kr/library/menu/10038/bbs/20001/bbsArticleList.do?currentPageNo=1&bbsArticleIdx=0\n",
    "종로구 jongno https://lib.jongno.go.kr/bbs/board.php?bo_table=ReadingPgm\n",
    "중랑구 jungnang https://www.jungnanglib.seoul.kr/library/index.php?g_page=community&m_page=community01"
   ]
  },
  {
   "cell_type": "markdown",
   "id": "0a05b33c",
   "metadata": {},
   "source": [
    "# 강북문화정보도서관"
   ]
  },
  {
   "cell_type": "code",
   "execution_count": 5,
   "id": "35f5b62b",
   "metadata": {
    "tags": []
   },
   "outputs": [
    {
     "data": {
      "text/html": [
       "<div>\n",
       "<style scoped>\n",
       "    .dataframe tbody tr th:only-of-type {\n",
       "        vertical-align: middle;\n",
       "    }\n",
       "\n",
       "    .dataframe tbody tr th {\n",
       "        vertical-align: top;\n",
       "    }\n",
       "\n",
       "    .dataframe thead th {\n",
       "        text-align: right;\n",
       "    }\n",
       "</style>\n",
       "<table border=\"1\" class=\"dataframe\">\n",
       "  <thead>\n",
       "    <tr style=\"text-align: right;\">\n",
       "      <th></th>\n",
       "      <th>행사명</th>\n",
       "      <th>대상</th>\n",
       "      <th>행사일시</th>\n",
       "    </tr>\n",
       "  </thead>\n",
       "  <tbody>\n",
       "  </tbody>\n",
       "</table>\n",
       "</div>"
      ],
      "text/plain": [
       "Empty DataFrame\n",
       "Columns: [행사명, 대상, 행사일시]\n",
       "Index: []"
      ]
     },
     "execution_count": 5,
     "metadata": {},
     "output_type": "execute_result"
    }
   ],
   "source": [
    "import pandas as pd\n",
    "gangbuk_df = pd.DataFrame(columns = ['행사명','대상','행사일시'])\n",
    "gangbuk_df"
   ]
  },
  {
   "cell_type": "code",
   "execution_count": 6,
   "id": "198351a4-4d79-4bce-929f-c5b07a9ef83b",
   "metadata": {},
   "outputs": [
    {
     "name": "stdout",
     "output_type": "stream",
     "text": [
      "cannot set a row with mismatched columns\n",
      "cannot set a row with mismatched columns\n",
      "cannot set a row with mismatched columns\n",
      "cannot set a row with mismatched columns\n",
      "cannot set a row with mismatched columns\n",
      "cannot set a row with mismatched columns\n",
      "cannot set a row with mismatched columns\n",
      "cannot set a row with mismatched columns\n",
      "cannot set a row with mismatched columns\n",
      "cannot set a row with mismatched columns\n",
      "cannot set a row with mismatched columns\n",
      "cannot set a row with mismatched columns\n",
      "cannot set a row with mismatched columns\n",
      "cannot set a row with mismatched columns\n",
      "cannot set a row with mismatched columns\n",
      "cannot set a row with mismatched columns\n",
      "cannot set a row with mismatched columns\n",
      "cannot set a row with mismatched columns\n",
      "cannot set a row with mismatched columns\n",
      "cannot set a row with mismatched columns\n",
      "cannot set a row with mismatched columns\n",
      "cannot set a row with mismatched columns\n",
      "cannot set a row with mismatched columns\n",
      "cannot set a row with mismatched columns\n",
      "cannot set a row with mismatched columns\n",
      "cannot set a row with mismatched columns\n",
      "cannot set a row with mismatched columns\n",
      "cannot set a row with mismatched columns\n",
      "cannot set a row with mismatched columns\n",
      "cannot set a row with mismatched columns\n",
      "cannot set a row with mismatched columns\n",
      "cannot set a row with mismatched columns\n",
      "cannot set a row with mismatched columns\n",
      "cannot set a row with mismatched columns\n",
      "cannot set a row with mismatched columns\n",
      "cannot set a row with mismatched columns\n",
      "cannot set a row with mismatched columns\n",
      "cannot set a row with mismatched columns\n",
      "cannot set a row with mismatched columns\n",
      "cannot set a row with mismatched columns\n",
      "cannot set a row with mismatched columns\n",
      "cannot set a row with mismatched columns\n",
      "cannot set a row with mismatched columns\n",
      "cannot set a row with mismatched columns\n",
      "cannot set a row with mismatched columns\n",
      "cannot set a row with mismatched columns\n",
      "cannot set a row with mismatched columns\n",
      "cannot set a row with mismatched columns\n",
      "cannot set a row with mismatched columns\n",
      "cannot set a row with mismatched columns\n",
      "cannot set a row with mismatched columns\n",
      "cannot set a row with mismatched columns\n",
      "cannot set a row with mismatched columns\n",
      "cannot set a row with mismatched columns\n",
      "cannot set a row with mismatched columns\n",
      "cannot set a row with mismatched columns\n",
      "cannot set a row with mismatched columns\n",
      "cannot set a row with mismatched columns\n",
      "cannot set a row with mismatched columns\n",
      "cannot set a row with mismatched columns\n",
      "cannot set a row with mismatched columns\n",
      "cannot set a row with mismatched columns\n",
      "cannot set a row with mismatched columns\n",
      "cannot set a row with mismatched columns\n",
      "cannot set a row with mismatched columns\n",
      "cannot set a row with mismatched columns\n",
      "cannot set a row with mismatched columns\n",
      "cannot set a row with mismatched columns\n",
      "cannot set a row with mismatched columns\n",
      "cannot set a row with mismatched columns\n",
      "cannot set a row with mismatched columns\n",
      "cannot set a row with mismatched columns\n",
      "cannot set a row with mismatched columns\n",
      "cannot set a row with mismatched columns\n",
      "cannot set a row with mismatched columns\n",
      "cannot set a row with mismatched columns\n",
      "cannot set a row with mismatched columns\n",
      "cannot set a row with mismatched columns\n",
      "cannot set a row with mismatched columns\n",
      "cannot set a row with mismatched columns\n",
      "cannot set a row with mismatched columns\n",
      "cannot set a row with mismatched columns\n",
      "cannot set a row with mismatched columns\n",
      "cannot set a row with mismatched columns\n",
      "cannot set a row with mismatched columns\n",
      "cannot set a row with mismatched columns\n",
      "cannot set a row with mismatched columns\n",
      "cannot set a row with mismatched columns\n",
      "cannot set a row with mismatched columns\n",
      "cannot set a row with mismatched columns\n",
      "cannot set a row with mismatched columns\n",
      "cannot set a row with mismatched columns\n",
      "cannot set a row with mismatched columns\n",
      "cannot set a row with mismatched columns\n",
      "cannot set a row with mismatched columns\n",
      "cannot set a row with mismatched columns\n",
      "cannot set a row with mismatched columns\n",
      "cannot set a row with mismatched columns\n",
      "cannot set a row with mismatched columns\n",
      "cannot set a row with mismatched columns\n",
      "cannot set a row with mismatched columns\n",
      "cannot set a row with mismatched columns\n",
      "cannot set a row with mismatched columns\n",
      "cannot set a row with mismatched columns\n",
      "cannot set a row with mismatched columns\n",
      "cannot set a row with mismatched columns\n",
      "cannot set a row with mismatched columns\n",
      "cannot set a row with mismatched columns\n",
      "cannot set a row with mismatched columns\n",
      "cannot set a row with mismatched columns\n"
     ]
    },
    {
     "data": {
      "text/html": [
       "<div>\n",
       "<style scoped>\n",
       "    .dataframe tbody tr th:only-of-type {\n",
       "        vertical-align: middle;\n",
       "    }\n",
       "\n",
       "    .dataframe tbody tr th {\n",
       "        vertical-align: top;\n",
       "    }\n",
       "\n",
       "    .dataframe thead th {\n",
       "        text-align: right;\n",
       "    }\n",
       "</style>\n",
       "<table border=\"1\" class=\"dataframe\">\n",
       "  <thead>\n",
       "    <tr style=\"text-align: right;\">\n",
       "      <th></th>\n",
       "      <th>행사명</th>\n",
       "      <th>대상</th>\n",
       "      <th>행사일시</th>\n",
       "    </tr>\n",
       "  </thead>\n",
       "  <tbody>\n",
       "  </tbody>\n",
       "</table>\n",
       "</div>"
      ],
      "text/plain": [
       "Empty DataFrame\n",
       "Columns: [행사명, 대상, 행사일시]\n",
       "Index: []"
      ]
     },
     "execution_count": 6,
     "metadata": {},
     "output_type": "execute_result"
    }
   ],
   "source": [
    "from bs4 import BeautifulSoup\n",
    "import requests\n",
    "\n",
    "\n",
    "#main_content > div > ul > li > dl > dt > a\n",
    "\n",
    "\n",
    "ind = 0 #행번호\n",
    "\n",
    "\n",
    "for i in range(1,12): #range안에는 페이지수, 넉넉하게 넣기 #여기는 15페이지까지 가겠네  \n",
    "    url = 'https://www.gblib.or.kr/gangbuk/event/list.do?pageIndex='+str(i)+'&em_idx=&em_choice_meth=&searchCondition=&searchKeyword='\n",
    "    headers = {\"User-Agent\":\"Mozilla/5.0 (Windows NT 10.0; Win64; x64) AppleWebKit/537.36 (KHTML, like Gecko) Chrome/96.0.4664.45 Safari/537.36\"}\n",
    "    gangbuk = requests.get(url, headers = headers, verify=False)\n",
    "    bs = BeautifulSoup(gangbuk.text, 'html.parser')\n",
    "    \n",
    "    for j in range(2,12):\n",
    "        try:\n",
    "            no = bs.select_one('#content > div.culture_list > div > ul > li:nth-child('+str(j) +') > span:nth-child(1)').text\n",
    "            title = bs.select_one('#content > div.culture_list > div > ul > li:nth-child('+str(j) +') > span:nth-child(2) > a').text\n",
    "            target = bs.select_one('#content > div.culture_list > div > ul > li:nth-child('+str(j) +') > span:nth-child(3)').text\n",
    "            library = bs.select_one('#content > div.culture_list > div > ul > li:nth-child('+str(j) +') > span:nth-child(4)').text   \n",
    "            period =bs.select_one('#content > div.culture_list > div > ul > li:nth-child('+str(j) +') > span:nth-child(5)').text\n",
    "            pay = bs.select_one('#content > div.culture_list > div > ul > li:nth-child('+str(j) +') > span:nth-child(6)').text\n",
    "            gangbuk_df.loc[ind] = [no, title, target, library, period, pay]\n",
    "            ind += 1\n",
    "        except Exception as e:\n",
    "            print(e)\n",
    "\n",
    "\n",
    "\n",
    "gangbuk_df"
   ]
  },
  {
   "cell_type": "code",
   "execution_count": 7,
   "id": "5f0d3438",
   "metadata": {},
   "outputs": [
    {
     "ename": "KeyError",
     "evalue": "'장소'",
     "output_type": "error",
     "traceback": [
      "\u001b[0;31m---------------------------------------------------------------------------\u001b[0m",
      "\u001b[0;31mKeyError\u001b[0m                                  Traceback (most recent call last)",
      "File \u001b[0;32m~/opt/anaconda3/lib/python3.9/site-packages/pandas/core/indexes/base.py:3621\u001b[0m, in \u001b[0;36mIndex.get_loc\u001b[0;34m(self, key, method, tolerance)\u001b[0m\n\u001b[1;32m   3620\u001b[0m \u001b[38;5;28;01mtry\u001b[39;00m:\n\u001b[0;32m-> 3621\u001b[0m     \u001b[38;5;28;01mreturn\u001b[39;00m \u001b[38;5;28;43mself\u001b[39;49m\u001b[38;5;241;43m.\u001b[39;49m\u001b[43m_engine\u001b[49m\u001b[38;5;241;43m.\u001b[39;49m\u001b[43mget_loc\u001b[49m\u001b[43m(\u001b[49m\u001b[43mcasted_key\u001b[49m\u001b[43m)\u001b[49m\n\u001b[1;32m   3622\u001b[0m \u001b[38;5;28;01mexcept\u001b[39;00m \u001b[38;5;167;01mKeyError\u001b[39;00m \u001b[38;5;28;01mas\u001b[39;00m err:\n",
      "File \u001b[0;32m~/opt/anaconda3/lib/python3.9/site-packages/pandas/_libs/index.pyx:136\u001b[0m, in \u001b[0;36mpandas._libs.index.IndexEngine.get_loc\u001b[0;34m()\u001b[0m\n",
      "File \u001b[0;32m~/opt/anaconda3/lib/python3.9/site-packages/pandas/_libs/index.pyx:163\u001b[0m, in \u001b[0;36mpandas._libs.index.IndexEngine.get_loc\u001b[0;34m()\u001b[0m\n",
      "File \u001b[0;32mpandas/_libs/hashtable_class_helper.pxi:5198\u001b[0m, in \u001b[0;36mpandas._libs.hashtable.PyObjectHashTable.get_item\u001b[0;34m()\u001b[0m\n",
      "File \u001b[0;32mpandas/_libs/hashtable_class_helper.pxi:5206\u001b[0m, in \u001b[0;36mpandas._libs.hashtable.PyObjectHashTable.get_item\u001b[0;34m()\u001b[0m\n",
      "\u001b[0;31mKeyError\u001b[0m: '장소'",
      "\nThe above exception was the direct cause of the following exception:\n",
      "\u001b[0;31mKeyError\u001b[0m                                  Traceback (most recent call last)",
      "Input \u001b[0;32mIn [7]\u001b[0m, in \u001b[0;36m<cell line: 5>\u001b[0;34m()\u001b[0m\n\u001b[1;32m      2\u001b[0m gangbuk_df[\u001b[38;5;124m'\u001b[39m\u001b[38;5;124m대상\u001b[39m\u001b[38;5;124m'\u001b[39m] \u001b[38;5;241m=\u001b[39m gangbuk_df[\u001b[38;5;124m'\u001b[39m\u001b[38;5;124m대상\u001b[39m\u001b[38;5;124m'\u001b[39m]\u001b[38;5;241m.\u001b[39mstr\u001b[38;5;241m.\u001b[39mreplace(\u001b[38;5;124m'\u001b[39m\u001b[38;5;130;01m\\n\u001b[39;00m\u001b[38;5;124m'\u001b[39m, \u001b[38;5;124m'\u001b[39m\u001b[38;5;124m'\u001b[39m)\n\u001b[1;32m      3\u001b[0m gangbuk_df[\u001b[38;5;124m'\u001b[39m\u001b[38;5;124m대상\u001b[39m\u001b[38;5;124m'\u001b[39m] \u001b[38;5;241m=\u001b[39m gangbuk_df[\u001b[38;5;124m'\u001b[39m\u001b[38;5;124m대상\u001b[39m\u001b[38;5;124m'\u001b[39m]\u001b[38;5;241m.\u001b[39mstr\u001b[38;5;241m.\u001b[39mreplace(\u001b[38;5;124m'\u001b[39m\u001b[38;5;130;01m\\r\u001b[39;00m\u001b[38;5;124m'\u001b[39m, \u001b[38;5;124m'\u001b[39m\u001b[38;5;124m'\u001b[39m)\n\u001b[0;32m----> 5\u001b[0m gangbuk_df[\u001b[38;5;124m'\u001b[39m\u001b[38;5;124m장소\u001b[39m\u001b[38;5;124m'\u001b[39m] \u001b[38;5;241m=\u001b[39m \u001b[43mgangbuk_df\u001b[49m\u001b[43m[\u001b[49m\u001b[38;5;124;43m'\u001b[39;49m\u001b[38;5;124;43m장소\u001b[39;49m\u001b[38;5;124;43m'\u001b[39;49m\u001b[43m]\u001b[49m\u001b[38;5;241m.\u001b[39mstr\u001b[38;5;241m.\u001b[39mreplace(\u001b[38;5;124m'\u001b[39m\u001b[38;5;130;01m\\t\u001b[39;00m\u001b[38;5;124m'\u001b[39m, \u001b[38;5;124m'\u001b[39m\u001b[38;5;124m'\u001b[39m)\n\u001b[1;32m      6\u001b[0m gangbuk_df[\u001b[38;5;124m'\u001b[39m\u001b[38;5;124m장소\u001b[39m\u001b[38;5;124m'\u001b[39m] \u001b[38;5;241m=\u001b[39m gangbuk_df[\u001b[38;5;124m'\u001b[39m\u001b[38;5;124m장소\u001b[39m\u001b[38;5;124m'\u001b[39m]\u001b[38;5;241m.\u001b[39mstr\u001b[38;5;241m.\u001b[39mreplace(\u001b[38;5;124m'\u001b[39m\u001b[38;5;130;01m\\n\u001b[39;00m\u001b[38;5;124m'\u001b[39m, \u001b[38;5;124m'\u001b[39m\u001b[38;5;124m'\u001b[39m)\n\u001b[1;32m      7\u001b[0m gangbuk_df[\u001b[38;5;124m'\u001b[39m\u001b[38;5;124m장소\u001b[39m\u001b[38;5;124m'\u001b[39m] \u001b[38;5;241m=\u001b[39m gangbuk_df[\u001b[38;5;124m'\u001b[39m\u001b[38;5;124m장소\u001b[39m\u001b[38;5;124m'\u001b[39m]\u001b[38;5;241m.\u001b[39mstr\u001b[38;5;241m.\u001b[39mreplace(\u001b[38;5;124m'\u001b[39m\u001b[38;5;130;01m\\r\u001b[39;00m\u001b[38;5;124m'\u001b[39m, \u001b[38;5;124m'\u001b[39m\u001b[38;5;124m'\u001b[39m)\n",
      "File \u001b[0;32m~/opt/anaconda3/lib/python3.9/site-packages/pandas/core/frame.py:3505\u001b[0m, in \u001b[0;36mDataFrame.__getitem__\u001b[0;34m(self, key)\u001b[0m\n\u001b[1;32m   3503\u001b[0m \u001b[38;5;28;01mif\u001b[39;00m \u001b[38;5;28mself\u001b[39m\u001b[38;5;241m.\u001b[39mcolumns\u001b[38;5;241m.\u001b[39mnlevels \u001b[38;5;241m>\u001b[39m \u001b[38;5;241m1\u001b[39m:\n\u001b[1;32m   3504\u001b[0m     \u001b[38;5;28;01mreturn\u001b[39;00m \u001b[38;5;28mself\u001b[39m\u001b[38;5;241m.\u001b[39m_getitem_multilevel(key)\n\u001b[0;32m-> 3505\u001b[0m indexer \u001b[38;5;241m=\u001b[39m \u001b[38;5;28;43mself\u001b[39;49m\u001b[38;5;241;43m.\u001b[39;49m\u001b[43mcolumns\u001b[49m\u001b[38;5;241;43m.\u001b[39;49m\u001b[43mget_loc\u001b[49m\u001b[43m(\u001b[49m\u001b[43mkey\u001b[49m\u001b[43m)\u001b[49m\n\u001b[1;32m   3506\u001b[0m \u001b[38;5;28;01mif\u001b[39;00m is_integer(indexer):\n\u001b[1;32m   3507\u001b[0m     indexer \u001b[38;5;241m=\u001b[39m [indexer]\n",
      "File \u001b[0;32m~/opt/anaconda3/lib/python3.9/site-packages/pandas/core/indexes/base.py:3623\u001b[0m, in \u001b[0;36mIndex.get_loc\u001b[0;34m(self, key, method, tolerance)\u001b[0m\n\u001b[1;32m   3621\u001b[0m     \u001b[38;5;28;01mreturn\u001b[39;00m \u001b[38;5;28mself\u001b[39m\u001b[38;5;241m.\u001b[39m_engine\u001b[38;5;241m.\u001b[39mget_loc(casted_key)\n\u001b[1;32m   3622\u001b[0m \u001b[38;5;28;01mexcept\u001b[39;00m \u001b[38;5;167;01mKeyError\u001b[39;00m \u001b[38;5;28;01mas\u001b[39;00m err:\n\u001b[0;32m-> 3623\u001b[0m     \u001b[38;5;28;01mraise\u001b[39;00m \u001b[38;5;167;01mKeyError\u001b[39;00m(key) \u001b[38;5;28;01mfrom\u001b[39;00m \u001b[38;5;21;01merr\u001b[39;00m\n\u001b[1;32m   3624\u001b[0m \u001b[38;5;28;01mexcept\u001b[39;00m \u001b[38;5;167;01mTypeError\u001b[39;00m:\n\u001b[1;32m   3625\u001b[0m     \u001b[38;5;66;03m# If we have a listlike key, _check_indexing_error will raise\u001b[39;00m\n\u001b[1;32m   3626\u001b[0m     \u001b[38;5;66;03m#  InvalidIndexError. Otherwise we fall through and re-raise\u001b[39;00m\n\u001b[1;32m   3627\u001b[0m     \u001b[38;5;66;03m#  the TypeError.\u001b[39;00m\n\u001b[1;32m   3628\u001b[0m     \u001b[38;5;28mself\u001b[39m\u001b[38;5;241m.\u001b[39m_check_indexing_error(key)\n",
      "\u001b[0;31mKeyError\u001b[0m: '장소'"
     ]
    }
   ],
   "source": [
    "gangbuk_df['대상'] = gangbuk_df['대상'].str.replace('\\t', '')\n",
    "gangbuk_df['대상'] = gangbuk_df['대상'].str.replace('\\n', '')\n",
    "gangbuk_df['대상'] = gangbuk_df['대상'].str.replace('\\r', '')\n",
    "\n",
    "gangbuk_df['장소'] = gangbuk_df['장소'].str.replace('\\t', '')\n",
    "gangbuk_df['장소'] = gangbuk_df['장소'].str.replace('\\n', '')\n",
    "gangbuk_df['장소'] = gangbuk_df['장소'].str.replace('\\r', '')\n",
    "\n",
    "gangbuk_df['유무료'] = gangbuk_df['유무료'].str.replace('\\t', '')\n",
    "gangbuk_df['유무료'] = gangbuk_df['유무료'].str.replace('\\n', '')\n",
    "gangbuk_df['유무료'] = gangbuk_df['유무료'].str.replace('\\r', '')\n",
    "\n",
    "gangbuk_df"
   ]
  },
  {
   "cell_type": "code",
   "execution_count": null,
   "id": "8aa5353a",
   "metadata": {},
   "outputs": [],
   "source": [
    "gangbuk_df['번호'] = gangbuk_df['번호'].astype(int)\n",
    "gangbuk_df.info()"
   ]
  },
  {
   "cell_type": "code",
   "execution_count": 2,
   "id": "99602758",
   "metadata": {},
   "outputs": [
    {
     "ename": "NameError",
     "evalue": "name 'gangbuk_df' is not defined",
     "output_type": "error",
     "traceback": [
      "\u001b[0;31m---------------------------------------------------------------------------\u001b[0m",
      "\u001b[0;31mNameError\u001b[0m                                 Traceback (most recent call last)",
      "Input \u001b[0;32mIn [2]\u001b[0m, in \u001b[0;36m<cell line: 1>\u001b[0;34m()\u001b[0m\n\u001b[0;32m----> 1\u001b[0m gangbuk_df \u001b[38;5;241m=\u001b[39m \u001b[43mgangbuk_df\u001b[49m[gangbuk_df[\u001b[38;5;124m'\u001b[39m\u001b[38;5;124m번호\u001b[39m\u001b[38;5;124m'\u001b[39m] \u001b[38;5;241m>\u001b[39m \u001b[38;5;241m567\u001b[39m]\n\u001b[1;32m      2\u001b[0m gangbuk_df\n",
      "\u001b[0;31mNameError\u001b[0m: name 'gangbuk_df' is not defined"
     ]
    }
   ],
   "source": [
    "gangbuk_df = gangbuk_df[gangbuk_df['번호'] > 567]\n",
    "gangbuk_df\n",
    "# gangbuk_df.reset_index(inplace = True)"
   ]
  },
  {
   "cell_type": "markdown",
   "id": "5fbbac58",
   "metadata": {},
   "source": [
    "# 강북청소년문화정보도서관"
   ]
  },
  {
   "cell_type": "code",
   "execution_count": null,
   "id": "03f09fa6",
   "metadata": {},
   "outputs": [],
   "source": [
    "import pandas as pd\n",
    "gangbuk1_df = pd.DataFrame(columns = ['번호','행사명','대상','장소','행사일시','유무료'])\n",
    "gangbuk1_df"
   ]
  },
  {
   "cell_type": "code",
   "execution_count": null,
   "id": "977af739",
   "metadata": {},
   "outputs": [],
   "source": [
    "from bs4 import BeautifulSoup\n",
    "import requests\n",
    "\n",
    "\n",
    "#main_content > div > ul > li > dl > dt > a\n",
    "\n",
    "\n",
    "ind = 0 #행번호\n",
    "\n",
    "\n",
    "for i in range(1,11): #range안에는 페이지수, 넉넉하게 넣기 #여기는 15페이지까지 가겠네  \n",
    "    \n",
    "    url = 'https://www.gblib.or.kr/youth/event/list.do?pageIndex='+ str(i) +'&em_idx=&em_choice_meth=&searchCondition=&searchKeyword='\n",
    "    headers = {\"User-Agent\":\"Mozilla/5.0 (Windows NT 10.0; Win64; x64) AppleWebKit/537.36 (KHTML, like Gecko) Chrome/96.0.4664.45 Safari/537.36\"}\n",
    "    gangbuk1 = requests.get(url, headers = headers, verify=False)\n",
    "    bs = BeautifulSoup(gangbuk1.text, 'html.parser')\n",
    "    \n",
    "    for j in range(2,12):\n",
    "        try:                    \n",
    "            no = bs.select_one('#content > div.culture_list > div > ul > li:nth-child('+str(j) +') > span:nth-child(1)').text\n",
    "            title = bs.select_one('#content > div.culture_list > div > ul > li:nth-child('+str(j) +') > span:nth-child(2) > a').text\n",
    "            target = bs.select_one('#content > div.culture_list > div > ul > li:nth-child('+str(j) +') > span:nth-child(3)').text\n",
    "            library = bs.select_one('#content > div.culture_list > div > ul > li:nth-child('+str(j) +') > span:nth-child(4)').text   \n",
    "            period =bs.select_one('#content > div.culture_list > div > ul > li:nth-child('+str(j) +') > span:nth-child(5)').text\n",
    "            pay = bs.select_one('#content > div.culture_list > div > ul > li:nth-child('+str(j) +') > span:nth-child(6)').text\n",
    "            gangbuk1_df.loc[ind] = [no, title, target, library, period, pay]\n",
    "            ind += 1\n",
    "        except Exception as e:\n",
    "            print(e)\n",
    "\n",
    "\n",
    "\n",
    "gangbuk1_df"
   ]
  },
  {
   "cell_type": "code",
   "execution_count": null,
   "id": "9b13d33e",
   "metadata": {},
   "outputs": [],
   "source": [
    "gangbuk1_df['대상'] = gangbuk1_df['대상'].str.replace('\\t', '')\n",
    "gangbuk1_df['대상'] = gangbuk1_df['대상'].str.replace('\\n', '')\n",
    "gangbuk1_df['대상'] = gangbuk1_df['대상'].str.replace('\\r', '')\n",
    "\n",
    "gangbuk1_df['장소'] = gangbuk1_df['장소'].str.replace('\\t', '')\n",
    "gangbuk1_df['장소'] = gangbuk1_df['장소'].str.replace('\\n', '')\n",
    "gangbuk1_df['장소'] = gangbuk1_df['장소'].str.replace('\\r', '')\n",
    "\n",
    "gangbuk1_df['유무료'] = gangbuk1_df['유무료'].str.replace('\\t', '')\n",
    "gangbuk1_df['유무료'] = gangbuk1_df['유무료'].str.replace('\\n', '')\n",
    "gangbuk1_df['유무료'] = gangbuk1_df['유무료'].str.replace('\\r', '')\n",
    "\n",
    "gangbuk1_df"
   ]
  },
  {
   "cell_type": "code",
   "execution_count": null,
   "id": "fe2ce373",
   "metadata": {},
   "outputs": [],
   "source": [
    "gangbuk1_df['번호'] = gangbuk1_df['번호'].astype(int)\n",
    "gangbuk1_df.info()"
   ]
  },
  {
   "cell_type": "code",
   "execution_count": null,
   "id": "6e6c5074",
   "metadata": {},
   "outputs": [],
   "source": [
    "gangbuk1_df = gangbuk1_df[gangbuk1_df['번호'] > 132]\n",
    "gangbuk1_df"
   ]
  },
  {
   "cell_type": "code",
   "execution_count": null,
   "id": "db4bd868",
   "metadata": {},
   "outputs": [],
   "source": [
    "gangbuk1_df.loc[97] = ['134', '2022 여름 독서 교실', '초등3~5학년', '솔샘문화정보도서관', '2022-08-10', '무료']\n",
    "gangbuk1_df"
   ]
  },
  {
   "cell_type": "markdown",
   "id": "73c0fea0",
   "metadata": {},
   "source": [
    "# 송중문화정보도서관"
   ]
  },
  {
   "cell_type": "code",
   "execution_count": null,
   "id": "f0238052",
   "metadata": {},
   "outputs": [],
   "source": [
    "import pandas as pd\n",
    "gangbuk2_df = pd.DataFrame(columns = ['번호','행사명','대상','장소','행사일시','유무료'])\n",
    "gangbuk2_df"
   ]
  },
  {
   "cell_type": "code",
   "execution_count": null,
   "id": "debf5132",
   "metadata": {},
   "outputs": [],
   "source": [
    "from bs4 import BeautifulSoup\n",
    "import requests\n",
    "\n",
    "\n",
    "#main_content > div > ul > li > dl > dt > a\n",
    "\n",
    "\n",
    "ind = 0 #행번호\n",
    "\n",
    "\n",
    "for i in range(1,2): #range안에는 페이지수, 넉넉하게 넣기 #여기는 15페이지까지 가겠네  \n",
    "    \n",
    "    url = 'https://www.gblib.or.kr/songjung/event/list.do?pageIndex='+str(i)+'&em_idx=&em_choice_meth=&searchCondition=&searchKeyword='\n",
    "    headers = {\"User-Agent\":\"Mozilla/5.0 (Windows NT 10.0; Win64; x64) AppleWebKit/537.36 (KHTML, like Gecko) Chrome/96.0.4664.45 Safari/537.36\"}\n",
    "    gangbuk2 = requests.get(url, headers = headers, verify=False)\n",
    "    bs = BeautifulSoup(gangbuk2.text, 'html.parser')\n",
    "    \n",
    "    for j in range(2,12):\n",
    "        try:                    \n",
    "            no = bs.select_one('#content > div.culture_list > div > ul > li:nth-child('+str(j) +') > span:nth-child(1)').text\n",
    "            title = bs.select_one('#content > div.culture_list > div > ul > li:nth-child('+str(j) +') > span:nth-child(2) > a').text\n",
    "            target = bs.select_one('#content > div.culture_list > div > ul > li:nth-child('+str(j) +') > span:nth-child(3)').text\n",
    "            library = bs.select_one('#content > div.culture_list > div > ul > li:nth-child('+str(j) +') > span:nth-child(4)').text   \n",
    "            period =bs.select_one('#content > div.culture_list > div > ul > li:nth-child('+str(j) +') > span:nth-child(5)').text\n",
    "            pay = bs.select_one('#content > div.culture_list > div > ul > li:nth-child('+str(j) +') > span:nth-child(6)').text\n",
    "            gangbuk2_df.loc[ind] = [no, title, target, library, period, pay]\n",
    "            ind += 1\n",
    "        except Exception as e:\n",
    "            print(e)\n",
    "\n",
    "\n",
    "\n",
    "gangbuk2_df"
   ]
  },
  {
   "cell_type": "code",
   "execution_count": null,
   "id": "65647966",
   "metadata": {},
   "outputs": [],
   "source": [
    "gangbuk2_df['대상'] = gangbuk2_df['대상'].str.replace('\\t', '')\n",
    "gangbuk2_df['대상'] = gangbuk2_df['대상'].str.replace('\\n', '')\n",
    "gangbuk2_df['대상'] = gangbuk2_df['대상'].str.replace('\\r', '')\n",
    "\n",
    "gangbuk2_df['장소'] = gangbuk2_df['장소'].str.replace('\\t', '')\n",
    "gangbuk2_df['장소'] = gangbuk2_df['장소'].str.replace('\\n', '')\n",
    "gangbuk2_df['장소'] = gangbuk2_df['장소'].str.replace('\\r', '')\n",
    "\n",
    "gangbuk2_df['유무료'] = gangbuk2_df['유무료'].str.replace('\\t', '')\n",
    "gangbuk2_df['유무료'] = gangbuk2_df['유무료'].str.replace('\\n', '')\n",
    "gangbuk2_df['유무료'] = gangbuk2_df['유무료'].str.replace('\\r', '')\n",
    "\n",
    "gangbuk2_df"
   ]
  },
  {
   "cell_type": "markdown",
   "id": "153290f4",
   "metadata": {},
   "source": [
    "# 수유문화정보도서관"
   ]
  },
  {
   "cell_type": "code",
   "execution_count": null,
   "id": "77d73156",
   "metadata": {},
   "outputs": [],
   "source": [
    "import pandas as pd\n",
    "gangbuk3_df = pd.DataFrame(columns = ['번호','행사명','대상','장소','행사일시','유무료'])\n",
    "gangbuk3_df\n",
    "\n",
    "from bs4 import BeautifulSoup\n",
    "import requests\n",
    "\n",
    "\n",
    "#main_content > div > ul > li > dl > dt > a\n",
    "\n",
    "\n",
    "ind = 0 #행번호\n",
    "\n",
    "\n",
    "for i in range(1,2): #range안에는 페이지수, 넉넉하게 넣기 #여기는 15페이지까지 가겠네  \n",
    "    \n",
    "    url = 'https://www.gblib.or.kr/suyu/event/list.do?pageIndex='+str(i)+'&em_idx=&em_choice_meth=&searchCondition=&searchKeyword='\n",
    "    headers = {\"User-Agent\":\"Mozilla/5.0 (Windows NT 10.0; Win64; x64) AppleWebKit/537.36 (KHTML, like Gecko) Chrome/96.0.4664.45 Safari/537.36\"}\n",
    "    gangbuk3 = requests.get(url, headers = headers, verify=False)\n",
    "    bs = BeautifulSoup(gangbuk3.text, 'html.parser')\n",
    "    \n",
    "    for j in range(2,12):\n",
    "        try:                    \n",
    "            no = bs.select_one('#content > div.culture_list > div > ul > li:nth-child('+str(j) +') > span:nth-child(1)').text\n",
    "            title = bs.select_one('#content > div.culture_list > div > ul > li:nth-child('+str(j) +') > span:nth-child(2) > a').text\n",
    "            target = bs.select_one('#content > div.culture_list > div > ul > li:nth-child('+str(j) +') > span:nth-child(3)').text\n",
    "            library = bs.select_one('#content > div.culture_list > div > ul > li:nth-child('+str(j) +') > span:nth-child(4)').text   \n",
    "            period =bs.select_one('#content > div.culture_list > div > ul > li:nth-child('+str(j) +') > span:nth-child(5)').text\n",
    "            pay = bs.select_one('#content > div.culture_list > div > ul > li:nth-child('+str(j) +') > span:nth-child(6)').text\n",
    "            gangbuk3_df.loc[ind] = [no, title, target, library, period, pay]\n",
    "            ind += 1\n",
    "        except Exception as e:\n",
    "            print(e)\n",
    "\n",
    "\n",
    "\n",
    "gangbuk3_df\n",
    "\n",
    "gangbuk3_df['대상'] = gangbuk3_df['대상'].str.replace('\\t', '')\n",
    "gangbuk3_df['대상'] = gangbuk3_df['대상'].str.replace('\\n', '')\n",
    "gangbuk3_df['대상'] = gangbuk3_df['대상'].str.replace('\\r', '')\n",
    "\n",
    "gangbuk3_df['장소'] = gangbuk3_df['장소'].str.replace('\\t', '')\n",
    "gangbuk3_df['장소'] = gangbuk3_df['장소'].str.replace('\\n', '')\n",
    "gangbuk3_df['장소'] = gangbuk3_df['장소'].str.replace('\\r', '')\n",
    "\n",
    "gangbuk3_df['유무료'] = gangbuk3_df['유무료'].str.replace('\\t', '')\n",
    "gangbuk3_df['유무료'] = gangbuk3_df['유무료'].str.replace('\\n', '')\n",
    "gangbuk3_df['유무료'] = gangbuk3_df['유무료'].str.replace('\\r', '')\n",
    "\n",
    "gangbuk3_df"
   ]
  },
  {
   "cell_type": "code",
   "execution_count": null,
   "id": "7165ce4c",
   "metadata": {},
   "outputs": [],
   "source": [
    "gangbuk3_df['번호'] = gangbuk3_df['번호'].astype(int)\n",
    "\n",
    "gangbuk3_df = gangbuk3_df[gangbuk3_df['번호'] > 204]\n",
    "gangbuk3_df"
   ]
  },
  {
   "cell_type": "markdown",
   "id": "452ff55f",
   "metadata": {},
   "source": [
    "# 미아문화정보도서관"
   ]
  },
  {
   "cell_type": "code",
   "execution_count": null,
   "id": "ff5f7191",
   "metadata": {},
   "outputs": [],
   "source": [
    "import pandas as pd\n",
    "gangbuk4_df = pd.DataFrame(columns = ['번호','행사명','대상','장소','행사일시','유무료'])\n",
    "gangbuk4_df\n",
    "\n",
    "from bs4 import BeautifulSoup\n",
    "import requests\n",
    "\n",
    "\n",
    "#main_content > div > ul > li > dl > dt > a\n",
    "\n",
    "\n",
    "ind = 0 #행번호\n",
    "\n",
    "\n",
    "for i in range(1,2): #range안에는 페이지수, 넉넉하게 넣기 #여기는 15페이지까지 가겠네  \n",
    "    \n",
    "    url = 'https://www.gblib.or.kr/mia/event/list.do?pageIndex='+str(i)+'&em_idx=&em_choice_meth=&searchCondition=&searchKeyword='\n",
    "    headers = {\"User-Agent\":\"Mozilla/5.0 (Windows NT 10.0; Win64; x64) AppleWebKit/537.36 (KHTML, like Gecko) Chrome/96.0.4664.45 Safari/537.36\"}\n",
    "    gangbuk4 = requests.get(url, headers = headers, verify=False)\n",
    "    bs = BeautifulSoup(gangbuk4.text, 'html.parser')\n",
    "    \n",
    "    for j in range(2,12):\n",
    "        try:                    \n",
    "            no = bs.select_one('#content > div.culture_list > div > ul > li:nth-child('+str(j) +') > span:nth-child(1)').text\n",
    "            title = bs.select_one('#content > div.culture_list > div > ul > li:nth-child('+str(j) +') > span:nth-child(2) > a').text\n",
    "            target = bs.select_one('#content > div.culture_list > div > ul > li:nth-child('+str(j) +') > span:nth-child(3)').text\n",
    "            library = bs.select_one('#content > div.culture_list > div > ul > li:nth-child('+str(j) +') > span:nth-child(4)').text   \n",
    "            period =bs.select_one('#content > div.culture_list > div > ul > li:nth-child('+str(j) +') > span:nth-child(5)').text\n",
    "            pay = bs.select_one('#content > div.culture_list > div > ul > li:nth-child('+str(j) +') > span:nth-child(6)').text\n",
    "            gangbuk4_df.loc[ind] = [no, title, target, library, period, pay]\n",
    "            ind += 1\n",
    "        except Exception as e:\n",
    "            print(e)\n",
    "\n",
    "\n",
    "\n",
    "gangbuk4_df\n",
    "\n",
    "gangbuk4_df['대상'] = gangbuk4_df['대상'].str.replace('\\t', '')\n",
    "gangbuk4_df['대상'] = gangbuk4_df['대상'].str.replace('\\n', '')\n",
    "gangbuk4_df['대상'] = gangbuk4_df['대상'].str.replace('\\r', '')\n",
    "\n",
    "gangbuk4_df['장소'] = gangbuk4_df['장소'].str.replace('\\t', '')\n",
    "gangbuk4_df['장소'] = gangbuk4_df['장소'].str.replace('\\n', '')\n",
    "gangbuk4_df['장소'] = gangbuk4_df['장소'].str.replace('\\r', '')\n",
    "\n",
    "gangbuk4_df['유무료'] = gangbuk4_df['유무료'].str.replace('\\t', '')\n",
    "gangbuk4_df['유무료'] = gangbuk4_df['유무료'].str.replace('\\n', '')\n",
    "gangbuk4_df['유무료'] = gangbuk4_df['유무료'].str.replace('\\r', '')\n",
    "\n",
    "gangbuk4_df"
   ]
  },
  {
   "cell_type": "markdown",
   "id": "96d8cfad",
   "metadata": {},
   "source": [
    "# 삼각산어린이도서관"
   ]
  },
  {
   "cell_type": "code",
   "execution_count": null,
   "id": "c1a70651",
   "metadata": {},
   "outputs": [],
   "source": [
    "import pandas as pd\n",
    "gangbuk5_df = pd.DataFrame(columns = ['번호','행사명','대상','장소','행사일시','유무료'])\n",
    "gangbuk5_df\n",
    "\n",
    "from bs4 import BeautifulSoup\n",
    "import requests\n",
    "\n",
    "\n",
    "#main_content > div > ul > li > dl > dt > a\n",
    "\n",
    "\n",
    "ind = 0 #행번호\n",
    "\n",
    "\n",
    "for i in range(1,3): #range안에는 페이지수, 넉넉하게 넣기 #여기는 15페이지까지 가겠네  \n",
    "    \n",
    "    url = 'https://www.gblib.or.kr/kids/event/list.do?pageIndex='+str(i)+'&em_idx=&em_choice_meth=&searchCondition=&searchKeyword='\n",
    "    headers = {\"User-Agent\":\"Mozilla/5.0 (Windows NT 10.0; Win64; x64) AppleWebKit/537.36 (KHTML, like Gecko) Chrome/96.0.4664.45 Safari/537.36\"}\n",
    "    gangbuk5 = requests.get(url, headers = headers, verify=False)\n",
    "    bs = BeautifulSoup(gangbuk5.text, 'html.parser')\n",
    "    \n",
    "    for j in range(2,12):\n",
    "        try:                    \n",
    "            no = bs.select_one('#content > div.culture_list > div > ul > li:nth-child('+str(j) +') > span:nth-child(1)').text\n",
    "            title = bs.select_one('#content > div.culture_list > div > ul > li:nth-child('+str(j) +') > span:nth-child(2) > a').text\n",
    "            target = bs.select_one('#content > div.culture_list > div > ul > li:nth-child('+str(j) +') > span:nth-child(3)').text\n",
    "            library = bs.select_one('#content > div.culture_list > div > ul > li:nth-child('+str(j) +') > span:nth-child(4)').text   \n",
    "            period =bs.select_one('#content > div.culture_list > div > ul > li:nth-child('+str(j) +') > span:nth-child(5)').text\n",
    "            pay = bs.select_one('#content > div.culture_list > div > ul > li:nth-child('+str(j) +') > span:nth-child(6)').text\n",
    "            gangbuk5_df.loc[ind] = [no, title, target, library, period, pay]\n",
    "            ind += 1\n",
    "        except Exception as e:\n",
    "            print(e)\n",
    "\n",
    "\n",
    "\n",
    "gangbuk5_df\n",
    "\n",
    "gangbuk5_df['대상'] = gangbuk5_df['대상'].str.replace('\\t', '')\n",
    "gangbuk5_df['대상'] = gangbuk5_df['대상'].str.replace('\\n', '')\n",
    "gangbuk5_df['대상'] = gangbuk5_df['대상'].str.replace('\\r', '')\n",
    "\n",
    "gangbuk5_df['장소'] = gangbuk5_df['장소'].str.replace('\\t', '')\n",
    "gangbuk5_df['장소'] = gangbuk5_df['장소'].str.replace('\\n', '')\n",
    "gangbuk5_df['장소'] = gangbuk5_df['장소'].str.replace('\\r', '')\n",
    "\n",
    "gangbuk5_df['유무료'] = gangbuk5_df['유무료'].str.replace('\\t', '')\n",
    "gangbuk5_df['유무료'] = gangbuk5_df['유무료'].str.replace('\\n', '')\n",
    "gangbuk5_df['유무료'] = gangbuk5_df['유무료'].str.replace('\\r', '')\n",
    "\n",
    "gangbuk5_df"
   ]
  },
  {
   "cell_type": "code",
   "execution_count": null,
   "id": "f24cb650",
   "metadata": {},
   "outputs": [],
   "source": [
    "gangbuk_df = pd.concat([gangbuk_df, gangbuk1_df, gangbuk2_df, gangbuk3_df, gangbuk4_df, gangbuk5_df] , axis=0)\n",
    "gangbuk_df.reset_index(inplace = True)"
   ]
  },
  {
   "cell_type": "code",
   "execution_count": null,
   "id": "c51b8069",
   "metadata": {},
   "outputs": [],
   "source": [
    "gangbuk_df.drop(columns ='index', axis = 1 , inplace = True)"
   ]
  },
  {
   "cell_type": "code",
   "execution_count": null,
   "id": "70aa7b1e",
   "metadata": {},
   "outputs": [],
   "source": [
    "gangbuk_df"
   ]
  },
  {
   "cell_type": "code",
   "execution_count": null,
   "id": "6f25da5d",
   "metadata": {},
   "outputs": [],
   "source": [
    "gangbuk_df.to_csv('강북구도서관2022.csv', encoding=\"utf-8-sig\", index=False)"
   ]
  }
 ],
 "metadata": {
  "kernelspec": {
   "display_name": "Python 3 (ipykernel)",
   "language": "python",
   "name": "python3"
  },
  "language_info": {
   "codemirror_mode": {
    "name": "ipython",
    "version": 3
   },
   "file_extension": ".py",
   "mimetype": "text/x-python",
   "name": "python",
   "nbconvert_exporter": "python",
   "pygments_lexer": "ipython3",
   "version": "3.9.12"
  },
  "toc": {
   "base_numbering": 1,
   "nav_menu": {},
   "number_sections": true,
   "sideBar": true,
   "skip_h1_title": false,
   "title_cell": "Table of Contents",
   "title_sidebar": "Contents",
   "toc_cell": false,
   "toc_position": {},
   "toc_section_display": true,
   "toc_window_display": false
  }
 },
 "nbformat": 4,
 "nbformat_minor": 5
}
